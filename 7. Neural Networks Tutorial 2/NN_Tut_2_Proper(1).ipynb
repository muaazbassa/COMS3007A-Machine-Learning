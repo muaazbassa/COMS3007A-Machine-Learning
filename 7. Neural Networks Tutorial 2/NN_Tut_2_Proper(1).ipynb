{
 "cells": [
  {
   "cell_type": "code",
   "execution_count": 1,
   "metadata": {},
   "outputs": [],
   "source": [
    "import numpy as np\n",
    "import pandas as pd\n",
    "import math\n",
    "from PIL import Image\n",
    "import operator\n",
    "import matplotlib.pyplot as plt\n",
    "import random\n",
    "from collections import OrderedDict"
   ]
  },
  {
   "cell_type": "code",
   "execution_count": 2,
   "metadata": {},
   "outputs": [],
   "source": [
    "def func_x(x):\n",
    "    ans = ((x**2)*math.sin(2*math.pi*x)) + 0.7\n",
    "    return ans"
   ]
  },
  {
   "cell_type": "code",
   "execution_count": 3,
   "metadata": {},
   "outputs": [],
   "source": [
    "def data_generator(n):\n",
    "    \n",
    "    data = np.zeros((100,3))\n",
    "   \n",
    "    x_c0 = []\n",
    "    y_c0 = []\n",
    "    x_c1 = []\n",
    "    y_c1 = []\n",
    "    for i in range(n):\n",
    "        x = random.uniform(0,1)\n",
    "        y = random.uniform(0,1)\n",
    "        data[i][0] = x\n",
    "        data[i][1] = y\n",
    "        if(func_x(x) > y):\n",
    "            x_c0.append(x)\n",
    "            y_c0.append(y)\n",
    "            data[i][2] = 0\n",
    "        else:\n",
    "            x_c1.append(x)\n",
    "            y_c1.append(y)\n",
    "            data[i][2] = 1\n",
    "    \n",
    "    return x_c0,y_c0,x_c1,y_c1,data"
   ]
  },
  {
   "cell_type": "code",
   "execution_count": 4,
   "metadata": {},
   "outputs": [],
   "source": [
    "def data_generator_v(n):\n",
    "    \n",
    "    data = np.zeros((n,3))\n",
    "   \n",
    "    for i in range(n):\n",
    "        x = random.uniform(0,1)\n",
    "        y = random.uniform(0,1)\n",
    "        data[i][0] = x\n",
    "        data[i][1] = y\n",
    "        if(func_x(x) > y):\n",
    "            data[i][2] = 0\n",
    "        else:\n",
    "            data[i][2] = 1\n",
    "    \n",
    "    return data"
   ]
  },
  {
   "cell_type": "code",
   "execution_count": 5,
   "metadata": {},
   "outputs": [],
   "source": [
    "def sigmoid(z):\n",
    "    ans = 1/(1 + (np.exp(-z)))\n",
    "    return ans"
   ]
  },
  {
   "cell_type": "code",
   "execution_count": 6,
   "metadata": {},
   "outputs": [],
   "source": [
    "def weight(curr, next_nodes):\n",
    "    #np.random.uniform(low = -0.3, high = 0.3, size=(next_nodes, curr))\n",
    "    #\n",
    "    return np.random.rand(next_nodes,curr)"
   ]
  },
  {
   "cell_type": "code",
   "execution_count": 7,
   "metadata": {},
   "outputs": [],
   "source": [
    "def delta_matrix(w):\n",
    "    d = []\n",
    "    for i in range(len(w)):\n",
    "        temp_w = w[i]\n",
    "        row = len(temp_w)\n",
    "        col = len(temp_w[0])\n",
    "        d.append(np.zeros((row,col)))\n",
    "    return d"
   ]
  },
  {
   "cell_type": "code",
   "execution_count": 8,
   "metadata": {},
   "outputs": [],
   "source": [
    "def lamda_matrix(w, lam):\n",
    "    l = []\n",
    "    for i in range(len(w)):\n",
    "        temp_w = w[i]\n",
    "        row = len(temp_w)\n",
    "        col = len(temp_w[0])\n",
    "        lamda = lam * np.ones((row,col))\n",
    "        for i in range(row):\n",
    "            lamda[i][0] = 0\n",
    "        l.append(lamda)\n",
    "    return l"
   ]
  },
  {
   "cell_type": "code",
   "execution_count": 9,
   "metadata": {},
   "outputs": [],
   "source": [
    "def forward_prop(x,w):\n",
    "    z = w @ x\n",
    "    a = sigmoid(z)\n",
    "    return a"
   ]
  },
  {
   "cell_type": "code",
   "execution_count": 10,
   "metadata": {},
   "outputs": [],
   "source": [
    "def weights_list(l_nodes):\n",
    "    W = []\n",
    "    for i in range(len(l_nodes) - 1):\n",
    "        temp = weight(l_nodes[i] + 1, l_nodes[i+1])\n",
    "        W.append(temp)\n",
    "    return W"
   ]
  },
  {
   "cell_type": "code",
   "execution_count": 11,
   "metadata": {},
   "outputs": [],
   "source": [
    "def full_forward_prop(w, x1, x2):\n",
    "    a = []\n",
    "    a_t = []\n",
    "    l1 = np.array([1,x1, x2])\n",
    "    \n",
    "    a.append(l1)\n",
    "    for i in range(len(w)):\n",
    "        a_temp = forward_prop(a[i], w[i])\n",
    "        if( i != (len(w) - 1)):\n",
    "            a_temp = np.insert(a_temp, 0, 1)\n",
    "        a.append(a_temp)\n",
    "        \n",
    "    return a"
   ]
  },
  {
   "cell_type": "code",
   "execution_count": 12,
   "metadata": {},
   "outputs": [],
   "source": [
    "def output(x1,x2,w):\n",
    "    a = full_forward_prop(w, x1, x2)\n",
    "    \n",
    "    return a[len(a)-1]"
   ]
  },
  {
   "cell_type": "code",
   "execution_count": 13,
   "metadata": {},
   "outputs": [],
   "source": [
    "def prediction(h):\n",
    "    if( h >= 0.5):\n",
    "        return 1\n",
    "    else:\n",
    "        return 0"
   ]
  },
  {
   "cell_type": "code",
   "execution_count": 14,
   "metadata": {},
   "outputs": [],
   "source": [
    "def error_calc(w, a, prev_e):\n",
    "    e = np. delete((np.transpose(w) * (prev_e) * ((a) @ (1-a))),0,0)\n",
    "    return e "
   ]
  },
  {
   "cell_type": "code",
   "execution_count": 15,
   "metadata": {},
   "outputs": [],
   "source": [
    "def errors(a,w,y,p):\n",
    "    e = [] \n",
    "    f_e = p-y\n",
    "    e.append(f_e)\n",
    "    for i in range(len(w)-1):\n",
    "        curr_w = w[len(w)-1-i]\n",
    "        curr_a = a[i+1]\n",
    "        pre_e = e[i]\n",
    "        temp_e = error_calc(curr_w, curr_a, pre_e)\n",
    "        e.append(temp_e)\n",
    "    return e\n",
    "    "
   ]
  },
  {
   "cell_type": "code",
   "execution_count": 16,
   "metadata": {},
   "outputs": [],
   "source": [
    "def small_delta(d, a, e):\n",
    "    d = d + (e * np.transpose(a))\n",
    "    return d"
   ]
  },
  {
   "cell_type": "code",
   "execution_count": 17,
   "metadata": {},
   "outputs": [],
   "source": [
    "def s_gradient(delt ,act ,er):\n",
    "    s_g = []\n",
    "    for i in range(len(er)):\n",
    "        t_d = delt[i]\n",
    "        t_a = act[i]\n",
    "        t_e = er[len(er)-1-i]\n",
    "        t2_d = small_delta(t_d, t_a, t_e)\n",
    "        s_g.append(t2_d)\n",
    "    return s_g"
   ]
  },
  {
   "cell_type": "code",
   "execution_count": 18,
   "metadata": {},
   "outputs": [],
   "source": [
    "def reg_gradient(d, w , n, l):\n",
    "    r_g = []\n",
    "    for i in range(len(w)):\n",
    "        t_r_g = ((1/n) * d[i]) + (l[i] * w[i])\n",
    "        r_g.append(t_r_g)\n",
    "    return r_g"
   ]
  },
  {
   "cell_type": "code",
   "execution_count": 19,
   "metadata": {},
   "outputs": [],
   "source": [
    "def update_weight(w,grad, alpha):\n",
    "    new_w = []\n",
    "    for i in range(len(w)):\n",
    "        temp_w = w[i]\n",
    "        temp_grad = grad[i]\n",
    "        n_w = temp_w - (alpha * temp_grad)\n",
    "        new_w.append(n_w)\n",
    "        \n",
    "    return new_w\n",
    "    "
   ]
  },
  {
   "cell_type": "code",
   "execution_count": 51,
   "metadata": {},
   "outputs": [],
   "source": [
    "def StepCheck(arr):\n",
    "    norms = []\n",
    "    for w in arr:\n",
    "        x = np.linalg.norm(w)\n",
    "        norms.append(x)\n",
    "    return sum(norms) / len(arr)"
   ]
  },
  {
   "cell_type": "code",
   "execution_count": 52,
   "metadata": {},
   "outputs": [],
   "source": [
    "def GD(data,w, alpha, epoch, lamda, max_iter):\n",
    "    prev_step_size = StepCheck(w)\n",
    "    curr_iter = 0\n",
    "    next_w = w\n",
    "    r = len(data)\n",
    "    \n",
    "    while prev_step_size > epoch and curr_iter < max_iter:\n",
    "        for i in range(r):\n",
    "            #w = next_w\n",
    "            \n",
    "            #activations\n",
    "            activations = full_forward_prop(w, data[i][0], data[i][1])\n",
    "            \n",
    "            #prediction\n",
    "            pred = prediction(activations[len(activations)-1])\n",
    "            \n",
    "            #calculate errors (list starts from final error)\n",
    "            err = errors(activations, w, data[i][2], pred)\n",
    "            \n",
    "            #initialise deltas\n",
    "            delta_g = delta_matrix(w)\n",
    "            \n",
    "            #calculate deltas\n",
    "            d_g = s_gradient(delta_g, activations, err)\n",
    "            \n",
    "            \n",
    "        #initialise lamda matrix\n",
    "        l = lamda_matrix(w, lamda)\n",
    "            \n",
    "        #calculate regularised gradient\n",
    "        reg_g = reg_gradient(d_g, w , r, l)\n",
    "        \n",
    "        #update weights\n",
    "        next_w = update_weight(w, reg_g, alpha)\n",
    "        \n",
    "        prev_step_size = StepCheck(next_w)\n",
    "        \n",
    "        w = next_w\n",
    "        curr_iter += 1\n",
    "        \n",
    "    return w\n",
    "                 "
   ]
  },
  {
   "cell_type": "code",
   "execution_count": 53,
   "metadata": {},
   "outputs": [],
   "source": [
    "def cost_funct(data, w, lamda):\n",
    "    sum = 0 \n",
    "    n = len(data)\n",
    "    matrix =np.zeros((2,2))\n",
    "    \n",
    "    for i in range(n):\n",
    "        \n",
    "        #actual output\n",
    "        y = data[i][2]\n",
    "        \n",
    "        #predicted output\n",
    "        h = output(data[i][0],data[i][1],w)\n",
    "        \n",
    "        pred = prediction(h)\n",
    "        \n",
    "        #add to confusion matrix\n",
    "        if(y == 0):\n",
    "            if (pred == y):\n",
    "                pred_c = matrix[0][0] + 1\n",
    "                matrix[0][0] = pred_c\n",
    "            else:\n",
    "                pred_c2 = matrix[1][0] + 1\n",
    "                matrix[1][0] = pred_c2\n",
    "        else:\n",
    "            if (pred == y):\n",
    "                pred_c = matrix[1][1] + 1\n",
    "                matrix[1][1] = pred_c\n",
    "            else:\n",
    "                pred_c2 = matrix[0][1] + 1\n",
    "                matrix[0][1] = pred_c2\n",
    "                \n",
    "        #add to sum\n",
    "        sum = sum + (y * math.log(h)) + ((1 - y) * math.log(1-h))\n",
    "        \n",
    "    sum = (sum / n) * -1\n",
    "    \n",
    "    return sum, matrix"
   ]
  },
  {
   "cell_type": "code",
   "execution_count": 23,
   "metadata": {},
   "outputs": [
    {
     "data": {
      "text/plain": [
       "[array([1, 2, 1]),\n",
       " array([1.        , 0.87707807, 0.93778439, 0.93327106]),\n",
       " array([0.85930747])]"
      ]
     },
     "execution_count": 23,
     "metadata": {},
     "output_type": "execute_result"
    }
   ],
   "source": [
    "activations = full_forward_prop(weights, 2, 1)\n",
    "activations"
   ]
  },
  {
   "cell_type": "code",
   "execution_count": 24,
   "metadata": {},
   "outputs": [
    {
     "data": {
      "text/plain": [
       "1"
      ]
     },
     "execution_count": 24,
     "metadata": {},
     "output_type": "execute_result"
    }
   ],
   "source": [
    "pred = prediction(activations[len(activations)-1])\n",
    "pred"
   ]
  },
  {
   "cell_type": "code",
   "execution_count": 25,
   "metadata": {},
   "outputs": [
    {
     "data": {
      "text/plain": [
       "[1,\n",
       " array([[0.17788524],\n",
       "        [0.05027575],\n",
       "        [0.18318889]])]"
      ]
     },
     "execution_count": 25,
     "metadata": {},
     "output_type": "execute_result"
    }
   ],
   "source": [
    "#error stored as final error in 1st position\n",
    "err = errors(activations, weights, 0, pred)\n",
    "err\n"
   ]
  },
  {
   "cell_type": "code",
   "execution_count": 26,
   "metadata": {},
   "outputs": [
    {
     "data": {
      "text/plain": [
       "[array([[0., 0., 0.],\n",
       "        [0., 0., 0.],\n",
       "        [0., 0., 0.]]),\n",
       " array([[0., 0., 0., 0.]])]"
      ]
     },
     "execution_count": 26,
     "metadata": {},
     "output_type": "execute_result"
    }
   ],
   "source": [
    "delta_g = delta_matrix(weights)\n",
    "delta_g"
   ]
  },
  {
   "cell_type": "code",
   "execution_count": 27,
   "metadata": {},
   "outputs": [
    {
     "data": {
      "text/plain": [
       "[array([[0.17788524, 0.35577047, 0.17788524],\n",
       "        [0.05027575, 0.10055149, 0.05027575],\n",
       "        [0.18318889, 0.36637777, 0.18318889]]),\n",
       " array([[1.        , 0.87707807, 0.93778439, 0.93327106]])]"
      ]
     },
     "execution_count": 27,
     "metadata": {},
     "output_type": "execute_result"
    }
   ],
   "source": [
    "d_g = s_gradient(delta_g, activations, err)\n",
    "d_g"
   ]
  },
  {
   "cell_type": "code",
   "execution_count": 28,
   "metadata": {},
   "outputs": [
    {
     "data": {
      "text/plain": [
       "[array([[0., 2., 2.],\n",
       "        [0., 2., 2.],\n",
       "        [0., 2., 2.]]),\n",
       " array([[0., 2., 2., 2.]])]"
      ]
     },
     "execution_count": 28,
     "metadata": {},
     "output_type": "execute_result"
    }
   ],
   "source": [
    "lam = lamda_matrix(weights, 2)\n",
    "lam"
   ]
  },
  {
   "cell_type": "code",
   "execution_count": 29,
   "metadata": {},
   "outputs": [
    {
     "data": {
      "text/plain": [
       "[array([[0.17788524, 1.53949433, 0.6880572 ],\n",
       "        [0.05027575, 1.54871354, 1.11407088],\n",
       "        [0.18318889, 2.28623779, 1.19850564]]),\n",
       " array([[1.        , 2.43451611, 1.37796348, 2.53714413]])]"
      ]
     },
     "execution_count": 29,
     "metadata": {},
     "output_type": "execute_result"
    }
   ],
   "source": [
    "reg_g = reg_gradient(d_g, weights , 1, lam)\n",
    "reg_g"
   ]
  },
  {
   "cell_type": "code",
   "execution_count": 30,
   "metadata": {},
   "outputs": [
    {
     "data": {
      "text/plain": [
       "[array([[0.5084482 , 0.4379125 , 0.18628026],\n",
       "        [0.72782689, 0.56920967, 0.42049048],\n",
       "        [0.19221968, 0.73130623, 0.38780781]]),\n",
       " array([[0.07173189, 0.53526741, 0.0822932 , 0.54822212]])]"
      ]
     },
     "execution_count": 30,
     "metadata": {},
     "output_type": "execute_result"
    }
   ],
   "source": [
    "new_weights = update_weight(weights, reg_g, 0.1)\n",
    "new_weights"
   ]
  },
  {
   "cell_type": "code",
   "execution_count": 31,
   "metadata": {},
   "outputs": [
    {
     "data": {
      "text/plain": [
       "[array([1, 2, 1]),\n",
       " array([1.        , 0.82786249, 0.90777261, 0.88520181]),\n",
       " array([0.74551824])]"
      ]
     },
     "execution_count": 31,
     "metadata": {},
     "output_type": "execute_result"
    }
   ],
   "source": [
    "n_activations = full_forward_prop(new_weights, 2, 1)\n",
    "n_activations"
   ]
  },
  {
   "cell_type": "code",
   "execution_count": 54,
   "metadata": {
    "scrolled": true
   },
   "outputs": [
    {
     "data": {
      "text/plain": [
       "<matplotlib.legend.Legend at 0x1d54fd1b790>"
      ]
     },
     "execution_count": 54,
     "metadata": {},
     "output_type": "execute_result"
    },
    {
     "data": {
      "image/png": "[encoded data removed]",
      "text/plain": [
       "<Figure size 432x288 with 1 Axes>"
      ]
     },
     "metadata": {
      "needs_background": "light"
     },
     "output_type": "display_data"
    }
   ],
   "source": [
    "#c0_x,c0_y,c1_x,c1_y,data= data_generator(100)\n",
    "\n",
    "l1 = plt.scatter(c0_x,c0_y, c=\"red\", marker = 'o')\n",
    "l2 = plt.scatter(c1_x,c1_y, c=\"blue\", marker = 'x')\n",
    "plt.legend((l1, l2), ('Class 0', 'Class 1'), scatterpoints=1,loc='upper right')"
   ]
  },
  {
   "cell_type": "code",
   "execution_count": 56,
   "metadata": {},
   "outputs": [
    {
     "data": {
      "text/plain": [
       "[array([[0.10605841, 0.21180992, 0.92393515],\n",
       "        [0.51284122, 0.0708185 , 0.38965788],\n",
       "        [0.79177777, 0.2198471 , 0.28658233]]),\n",
       " array([[0.51546287, 0.13278529, 0.37403565, 0.85688324]])]"
      ]
     },
     "execution_count": 56,
     "metadata": {},
     "output_type": "execute_result"
    }
   ],
   "source": [
    "\n",
    "nodes = [2, 3,1]\n",
    "weights = weights_list(nodes)\n",
    "weights\n"
   ]
  },
  {
   "cell_type": "code",
   "execution_count": 57,
   "metadata": {},
   "outputs": [
    {
     "data": {
      "text/plain": [
       "[array([[1.06534461e-01, 5.66105928e-53, 1.67689939e-53],\n",
       "        [5.12659776e-01, 6.72339357e-53, 1.99158038e-53],\n",
       "        [7.90041396e-01, 7.39431036e-53, 2.19031703e-53]]),\n",
       " array([[-5.37132636e-04, -3.07112120e-49, -3.64743612e-49,\n",
       "         -4.01140687e-49]])]"
      ]
     },
     "execution_count": 57,
     "metadata": {},
     "output_type": "execute_result"
    }
   ],
   "source": [
    "new_w = GD(data,weights, 0.1, 0.05, 2, 1000)\n",
    "new_w"
   ]
  },
  {
   "cell_type": "code",
   "execution_count": 58,
   "metadata": {},
   "outputs": [
    {
     "name": "stdout",
     "output_type": "stream",
     "text": [
      "Error on training data: \n",
      " 0.9060390450104738 \n",
      "\n",
      "Error Confusion matrix: \n",
      " [[ 0.  0.]\n",
      " [48. 52.]]\n"
     ]
    }
   ],
   "source": [
    "train_e, train_matrix = cost_funct(data, weights, 1)\n",
    "print('Error on training data:', '\\n', train_e, '\\n')\n",
    "print('Error Confusion matrix:', '\\n',train_matrix)"
   ]
  },
  {
   "cell_type": "code",
   "execution_count": 59,
   "metadata": {},
   "outputs": [
    {
     "name": "stdout",
     "output_type": "stream",
     "text": [
      "Error on training data: \n",
      " 0.6931579592765996 \n",
      "\n",
      "Error Confusion matrix: \n",
      " [[48. 52.]\n",
      " [ 0.  0.]]\n"
     ]
    }
   ],
   "source": [
    "training_e, training_matrix = cost_funct(data,new_w, 1)\n",
    "print('Error on training data:', '\\n', training_e, '\\n')\n",
    "print('Error Confusion matrix:', '\\n',training_matrix)"
   ]
  },
  {
   "cell_type": "code",
   "execution_count": 64,
   "metadata": {},
   "outputs": [],
   "source": [
    "validation_data= data_generator_v(100)"
   ]
  },
  {
   "cell_type": "code",
   "execution_count": 65,
   "metadata": {},
   "outputs": [
    {
     "name": "stdout",
     "output_type": "stream",
     "text": [
      "validation error: 0.6930935033602728 \n",
      "\n",
      "validation confusion matrix: \n",
      " [[60. 40.]\n",
      " [ 0.  0.]]\n"
     ]
    }
   ],
   "source": [
    "error_validation, validation_matrix = cost_funct(validation_data, new_w,1)\n",
    "print('validation error:', error_validation,'\\n')\n",
    "print('validation confusion matrix:','\\n', validation_matrix)"
   ]
  },
  {
   "cell_type": "code",
   "execution_count": null,
   "metadata": {},
   "outputs": [],
   "source": []
  }
 ],
 "metadata": {
  "kernelspec": {
   "display_name": "Python 3",
   "language": "python",
   "name": "python3"
  },
  "language_info": {
   "codemirror_mode": {
    "name": "ipython",
    "version": 3
   },
   "file_extension": ".py",
   "mimetype": "text/x-python",
   "name": "python",
   "nbconvert_exporter": "python",
   "pygments_lexer": "ipython3",
   "version": "3.8.3"
  }
 },
 "nbformat": 4,
 "nbformat_minor": 4
}
