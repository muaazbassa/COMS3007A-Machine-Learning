{
 "cells": [
  {
   "cell_type": "code",
   "execution_count": null,
   "metadata": {},
   "outputs": [],
   "source": []
  },
  {
   "cell_type": "code",
   "execution_count": 1,
   "metadata": {},
   "outputs": [
    {
     "name": "stdout",
     "output_type": "stream",
     "text": [
      "Output for input (0, 3 - 1): [0.83653594]\n",
      "Output for input (1, 2, 1): [0.8164761]\n",
      "Output for input (-1, 1, 2): [0.87331584]\n"
     ]
    }
   ],
   "source": [
    "import numpy as np\n",
    "\n",
    "def sigmoid(x):\n",
    "    return 1 / (1 + np.exp(-x))\n",
    "\n",
    "# Define the weights\n",
    "Theta1 = np.array([[1, -1, 0.5, 1], [2, -2, 1, -1]])\n",
    "Theta2 = np.array([[-1, 2, 1]])\n",
    "\n",
    "# Define the input data\n",
    "X1 = np.array([1, 0, 3, -1])  # i. (0, 3 − 1)\n",
    "X2 = np.array([1, 1, 2, 1])  # ii. (1, 2, 1)\n",
    "X3 = np.array([1, -1, 1, 2]) # iii. (-1, 1, 2)\n",
    "\n",
    "# Perform forward propagation\n",
    "A1 = sigmoid(np.dot(X1, Theta1.T))\n",
    "A2 = sigmoid(np.dot(np.insert(A1, 0, 1), Theta2.T))\n",
    "\n",
    "print(\"Output for input (0, 3 - 1):\", A2)  # Output for i.\n",
    "\n",
    "A1 = sigmoid(np.dot(X2, Theta1.T))\n",
    "A2 = sigmoid(np.dot(np.insert(A1, 0, 1), Theta2.T))\n",
    "\n",
    "print(\"Output for input (1, 2, 1):\", A2)  # Output for ii.\n",
    "\n",
    "A1 = sigmoid(np.dot(X3, Theta1.T))\n",
    "A2 = sigmoid(np.dot(np.insert(A1, 0, 1), Theta2.T))\n",
    "\n",
    "print(\"Output for input (-1, 1, 2):\", A2)  # Output for iii."
   ]
  },
  {
   "cell_type": "code",
   "execution_count": 2,
   "metadata": {},
   "outputs": [
    {
     "name": "stdout",
     "output_type": "stream",
     "text": [
      "Final weights: [array([[ 0.9407633 , -0.95792579,  0.37885989,  0.97897811],\n",
      "       [ 1.97215758, -1.97941383,  0.94383033, -1.01089152]]), array([[-1.14617615,  1.86678996,  0.85156159]])]\n"
     ]
    }
   ],
   "source": [
    "import numpy as np\n",
    "\n",
    "def sigmoid(x):\n",
    "    return 1 / (1 + np.exp(-x))\n",
    "\n",
    "def sigmoid_derivative(x):\n",
    "    return sigmoid(x) * (1 - sigmoid(x))\n",
    "\n",
    "def forward_propagation(inputs, weights):\n",
    "    # Add bias node (x0 = 1) to the inputs\n",
    "    # inputs = np.insert(inputs, 0, 1)\n",
    "    \n",
    "    # Calculate the activations of the hidden layer\n",
    "    hidden_activations = sigmoid(np.dot(weights[0], inputs))\n",
    "    \n",
    "    # Add bias node (x0 = 1) to the hidden activations\n",
    "    hidden_activations = np.insert(hidden_activations, 0, 1)\n",
    "    \n",
    "    # Calculate the output of the neural network\n",
    "    output = sigmoid(np.dot(weights[1], hidden_activations))\n",
    "    \n",
    "    return hidden_activations, output\n",
    "\n",
    "def backpropagation(inputs, targets, weights, learning_rate):\n",
    "    # Perform forward propagation to get the hidden activations and output\n",
    "    hidden_activations, output = forward_propagation(inputs, weights)\n",
    "    \n",
    "    # Calculate the error at the output layer\n",
    "    output_error = output - targets\n",
    "    \n",
    "    # Calculate the error at the hidden layer\n",
    "    hidden_error = np.dot(weights[1].T, output_error) * sigmoid_derivative(hidden_activations)\n",
    "    \n",
    "    # Update the weights at the hidden-output layer\n",
    "    weights[1] = weights[1].astype('float64')\n",
    "    weights[1] -= learning_rate * np.outer(output_error, hidden_activations)\n",
    "    \n",
    "    # Update the weights at the input-hidden layer\n",
    "    weights[0] = weights[0].astype('float64')\n",
    "    weights[0] -= learning_rate * np.outer(hidden_error[1:], inputs)\n",
    "    \n",
    "    \n",
    "    return weights\n",
    "\n",
    "# Define the initial weights\n",
    "weights = [\n",
    "    np.array([[1, -1, 0.5, 1], [2, -2, 1, -1]]),  # Θ(1)\n",
    "    np.array([[-1, 2, 1]])  # Θ(2)\n",
    "]\n",
    "\n",
    "# Define the input data and targets\n",
    "training_data = [\n",
    "    (np.array([1, 0, 3, -1]), 0),   # (0, 3, -1) with target 0\n",
    "    (np.array([1, 1, 2, 1]), 1),    # (1, 2, 1) with target 1\n",
    "    (np.array([1, -1, 1, 2]), 0)    # (-1, 1, 2) with target 0\n",
    "]\n",
    "\n",
    "# Set the learning rate\n",
    "learning_rate = 0.1\n",
    "\n",
    "# Perform backpropagation for each training data point\n",
    "for inputs, target in training_data:\n",
    "    weights = backpropagation(inputs, target, weights, learning_rate)\n",
    "\n",
    "print(\"Final weights:\", weights)"
   ]
  },
  {
   "cell_type": "code",
   "execution_count": 3,
   "metadata": {},
   "outputs": [],
   "source": [
    "import numpy as np\n",
    "import pandas as pd\n",
    "import math\n",
    "from PIL import Image\n",
    "import operator\n",
    "import matplotlib.pyplot as plt\n",
    "import random\n",
    "from collections import OrderedDict"
   ]
  },
  {
   "cell_type": "code",
   "execution_count": 4,
   "metadata": {},
   "outputs": [],
   "source": [
    "# a)\n",
    "def func_x(x):\n",
    "    ans = ((x**2)*math.sin(2*math.pi*x)) + 0.7\n",
    "    return ans"
   ]
  },
  {
   "cell_type": "code",
   "execution_count": 5,
   "metadata": {},
   "outputs": [
    {
     "name": "stdout",
     "output_type": "stream",
     "text": [
      "x1:  0.47732460383250075\n",
      "x2:  0.6981601382665383\n",
      "f(x1):  0.7323513288831351\n",
      "Class:  0\n"
     ]
    }
   ],
   "source": [
    "# b)\n",
    "x1 = random.uniform(0,1)\n",
    "x2 = random.uniform(0,1)\n",
    "\n",
    "if (func_x(x1)>x2):\n",
    "    Class=0\n",
    "else:\n",
    "    Class=1\n",
    "\n",
    "print(\"x1: \",x1)\n",
    "print(\"x2: \",x2)\n",
    "print(\"f(x1): \",func_x(x1))\n",
    "print(\"Class: \",Class)\n"
   ]
  },
  {
   "cell_type": "code",
   "execution_count": 6,
   "metadata": {},
   "outputs": [
    {
     "data": {
      "image/png": "[encoded data removed]",
      "text/plain": [
       "<Figure size 432x288 with 1 Axes>"
      ]
     },
     "metadata": {
      "needs_background": "light"
     },
     "output_type": "display_data"
    }
   ],
   "source": [
    "# c)\n",
    "import math\n",
    "import random\n",
    "import matplotlib.pyplot as plt\n",
    "\n",
    "\n",
    "points = []\n",
    "for i in range(100):\n",
    "    x1 = random.uniform(0,1)\n",
    "    x2 = random.uniform(0,1)\n",
    "    if func_x(x1) > x2:\n",
    "        points.append((x1, x2, 0))\n",
    "    else:\n",
    "        points.append((x1, x2, 1))\n",
    "\n",
    "# Combine points into a single array of tuples\n",
    "points_arr = np.array(points)\n",
    "\n",
    "class_0_points = [(x, y) for x, y, c in points if c == 0]\n",
    "class_1_points = [(x, y) for x, y, c in points if c == 1]\n",
    "\n",
    "plt.scatter(*zip(*class_0_points), marker='o', label='Class 0')\n",
    "plt.scatter(*zip(*class_1_points), marker='x', label='Class 1')\n",
    "plt.xlabel('x1')\n",
    "plt.ylabel('x2')\n",
    "plt.legend()\n",
    "plt.show()"
   ]
  },
  {
   "attachments": {},
   "cell_type": "markdown",
   "metadata": {},
   "source": [
    "Q3"
   ]
  },
  {
   "cell_type": "code",
   "execution_count": 7,
   "metadata": {},
   "outputs": [
    {
     "data": {
      "text/plain": [
       "[array([[0.57859956, 0.00705677, 0.48087507],\n",
       "        [0.75005344, 0.87041335, 0.02493619],\n",
       "        [0.34563388, 0.53475555, 0.56641049]]),\n",
       " array([[0.76541207, 0.5122076 , 0.66871399, 0.77527058]])]"
      ]
     },
     "execution_count": 7,
     "metadata": {},
     "output_type": "execute_result"
    }
   ],
   "source": [
    "# a)\n",
    "def weight(curr, next_nodes):\n",
    "    #np.random.uniform(low = -0.3, high = 0.3, size=(next_nodes, curr))\n",
    "    return np.random.rand(next_nodes,curr)\n",
    "\n",
    "def weights_list(l_nodes):\n",
    "    W = []\n",
    "    for i in range(len(l_nodes) - 1):\n",
    "        temp = weight(l_nodes[i] + 1, l_nodes[i+1])\n",
    "        W.append(temp)\n",
    "    return W\n",
    "\n",
    "def sigmoid(z):\n",
    "    return 1 / (1 + np.exp(-z))\n",
    "\n",
    "\n",
    "nodes = [2,3,1]\n",
    "weights = weights_list(nodes)\n",
    "weights"
   ]
  },
  {
   "cell_type": "code",
   "execution_count": 8,
   "metadata": {},
   "outputs": [
    {
     "data": {
      "text/plain": [
       "[array([1.        , 0.56203019, 0.49010063]),\n",
       " array([1.        , 0.69386322, 0.77755479, 0.71581184]),\n",
       " array([0.89986484])]"
      ]
     },
     "execution_count": 8,
     "metadata": {},
     "output_type": "execute_result"
    }
   ],
   "source": [
    "#b)\n",
    "def forward_prop(x,w):\n",
    "    z=w @ x\n",
    "    a=sigmoid(z)\n",
    "    return a\n",
    "\n",
    "def full_forward_prop(w,x1,x2):\n",
    "    a=[]\n",
    "    a_t=[]\n",
    "    l1=np.array([1,x1,x2])\n",
    "    a.append(l1)\n",
    "    for i in range(len(w)):\n",
    "        a_temp=(forward_prop(a[i],w[i]))\n",
    "        if (i !=(len(w)-1)):\n",
    "            a_temp=np.insert(a_temp,0,1)\n",
    "        a.append(a_temp)\n",
    "    return a\n",
    "\n",
    "activation=full_forward_prop(weights,points_arr[1][0],points_arr[1][1])\n",
    "\n",
    "activation"
   ]
  },
  {
   "cell_type": "code",
   "execution_count": 9,
   "metadata": {},
   "outputs": [
    {
     "name": "stdout",
     "output_type": "stream",
     "text": [
      "Error delta at the final layer: 0.8998648404359956\n"
     ]
    }
   ],
   "source": [
    "# # Get input values for the point we want to compute the activation for\n",
    "x1, x2, target = points_arr[1]\n",
    "\n",
    "# Compute final activation for the point\n",
    "final_activation = full_forward_prop(weights, x1, x2)[-1][-1]\n",
    "\n",
    "# Compute error delta at the final layer\n",
    "error_delta = final_activation - target\n",
    "\n",
    "print(\"Error delta at the final layer:\", error_delta)\n"
   ]
  }
 ],
 "metadata": {
  "kernelspec": {
   "display_name": "Python 3",
   "language": "python",
   "name": "python3"
  },
  "language_info": {
   "codemirror_mode": {
    "name": "ipython",
    "version": 3
   },
   "file_extension": ".py",
   "mimetype": "text/x-python",
   "name": "python",
   "nbconvert_exporter": "python",
   "pygments_lexer": "ipython3",
   "version": "3.10.5"
  },
  "orig_nbformat": 4
 },
 "nbformat": 4,
 "nbformat_minor": 2
}
