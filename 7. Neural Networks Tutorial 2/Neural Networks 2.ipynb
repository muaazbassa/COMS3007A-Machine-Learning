{
 "cells": [
  {
   "cell_type": "code",
   "execution_count": null,
   "metadata": {},
   "outputs": [],
   "source": []
  },
  {
   "cell_type": "code",
   "execution_count": 159,
   "metadata": {},
   "outputs": [
    {
     "name": "stdout",
     "output_type": "stream",
     "text": [
      "Output for input (0, 3 - 1): [0.83653594]\n",
      "Output for input (1, 2, 1): [0.8164761]\n",
      "Output for input (-1, 1, 2): [0.87331584]\n"
     ]
    }
   ],
   "source": [
    "import numpy as np\n",
    "\n",
    "def sigmoid(x):\n",
    "    return 1 / (1 + np.exp(-x))\n",
    "\n",
    "# Define the weights\n",
    "Theta1 = np.array([[1, -1, 0.5, 1], [2, -2, 1, -1]])\n",
    "Theta2 = np.array([[-1, 2, 1]])\n",
    "\n",
    "# Define the input data\n",
    "X1 = np.array([1, 0, 3, -1])  # i. (0, 3 − 1)\n",
    "X2 = np.array([1, 1, 2, 1])  # ii. (1, 2, 1)\n",
    "X3 = np.array([1, -1, 1, 2]) # iii. (-1, 1, 2)\n",
    "\n",
    "# Perform forward propagation\n",
    "A1 = sigmoid(np.dot(X1, Theta1.T))\n",
    "A2 = sigmoid(np.dot(np.insert(A1, 0, 1), Theta2.T))\n",
    "\n",
    "print(\"Output for input (0, 3 - 1):\", A2)  # Output for i.\n",
    "\n",
    "A1 = sigmoid(np.dot(X2, Theta1.T))\n",
    "A2 = sigmoid(np.dot(np.insert(A1, 0, 1), Theta2.T))\n",
    "\n",
    "print(\"Output for input (1, 2, 1):\", A2)  # Output for ii.\n",
    "\n",
    "A1 = sigmoid(np.dot(X3, Theta1.T))\n",
    "A2 = sigmoid(np.dot(np.insert(A1, 0, 1), Theta2.T))\n",
    "\n",
    "print(\"Output for input (-1, 1, 2):\", A2)  # Output for iii."
   ]
  },
  {
   "cell_type": "code",
   "execution_count": 160,
   "metadata": {},
   "outputs": [
    {
     "name": "stdout",
     "output_type": "stream",
     "text": [
      "Final weights: [array([[ 0.9407633 , -0.95792579,  0.37885989,  0.97897811],\n",
      "       [ 1.97215758, -1.97941383,  0.94383033, -1.01089152]]), array([[-1.14617615,  1.86678996,  0.85156159]])]\n"
     ]
    }
   ],
   "source": [
    "import numpy as np\n",
    "\n",
    "def sigmoid(x):\n",
    "    return 1 / (1 + np.exp(-x))\n",
    "\n",
    "def sigmoid_derivative(x):\n",
    "    return sigmoid(x) * (1 - sigmoid(x))\n",
    "\n",
    "def forward_propagation(inputs, weights):\n",
    "    # Add bias node (x0 = 1) to the inputs\n",
    "    # inputs = np.insert(inputs, 0, 1)\n",
    "    \n",
    "    # Calculate the activations of the hidden layer\n",
    "    hidden_activations = sigmoid(np.dot(weights[0], inputs))\n",
    "    \n",
    "    # Add bias node (x0 = 1) to the hidden activations\n",
    "    hidden_activations = np.insert(hidden_activations, 0, 1)\n",
    "    \n",
    "    # Calculate the output of the neural network\n",
    "    output = sigmoid(np.dot(weights[1], hidden_activations))\n",
    "    \n",
    "    return hidden_activations, output\n",
    "\n",
    "def backpropagation(inputs, targets, weights, learning_rate):\n",
    "    # Perform forward propagation to get the hidden activations and output\n",
    "    hidden_activations, output = forward_propagation(inputs, weights)\n",
    "    \n",
    "    # Calculate the error at the output layer\n",
    "    output_error = output - targets\n",
    "    \n",
    "    # Calculate the error at the hidden layer\n",
    "    hidden_error = np.dot(weights[1].T, output_error) * sigmoid_derivative(hidden_activations)\n",
    "    \n",
    "    # Update the weights at the hidden-output layer\n",
    "    weights[1] = weights[1].astype('float64')\n",
    "    weights[1] -= learning_rate * np.outer(output_error, hidden_activations)\n",
    "    \n",
    "    # Update the weights at the input-hidden layer\n",
    "    weights[0] = weights[0].astype('float64')\n",
    "    weights[0] -= learning_rate * np.outer(hidden_error[1:], inputs)\n",
    "    \n",
    "    \n",
    "    return weights\n",
    "\n",
    "# Define the initial weights\n",
    "weights = [\n",
    "    np.array([[1, -1, 0.5, 1], [2, -2, 1, -1]]),  # Θ(1)\n",
    "    np.array([[-1, 2, 1]])  # Θ(2)\n",
    "]\n",
    "\n",
    "# Define the input data and targets\n",
    "training_data = [\n",
    "    (np.array([1, 0, 3, -1]), 0),   # (0, 3, -1) with target 0\n",
    "    (np.array([1, 1, 2, 1]), 1),    # (1, 2, 1) with target 1\n",
    "    (np.array([1, -1, 1, 2]), 0)    # (-1, 1, 2) with target 0\n",
    "]\n",
    "\n",
    "# Set the learning rate\n",
    "learning_rate = 0.1\n",
    "\n",
    "# Perform backpropagation for each training data point\n",
    "for inputs, target in training_data:\n",
    "    weights = backpropagation(inputs, target, weights, learning_rate)\n",
    "\n",
    "print(\"Final weights:\", weights)"
   ]
  },
  {
   "cell_type": "code",
   "execution_count": 161,
   "metadata": {},
   "outputs": [],
   "source": [
    "import numpy as np\n",
    "import pandas as pd\n",
    "import math\n",
    "from PIL import Image\n",
    "import operator\n",
    "import matplotlib.pyplot as plt\n",
    "import random\n",
    "from collections import OrderedDict"
   ]
  },
  {
   "cell_type": "code",
   "execution_count": 162,
   "metadata": {},
   "outputs": [],
   "source": [
    "# a)\n",
    "def func_x(x):\n",
    "    ans = ((x**2)*math.sin(2*math.pi*x)) + 0.7\n",
    "    return ans"
   ]
  },
  {
   "cell_type": "code",
   "execution_count": 163,
   "metadata": {},
   "outputs": [
    {
     "name": "stdout",
     "output_type": "stream",
     "text": [
      "x1:  0.709488291286666\n",
      "x2:  0.5011037621748257\n",
      "f(x1):  0.21284577869859256\n",
      "Class:  1\n"
     ]
    }
   ],
   "source": [
    "# b)\n",
    "x1 = random.uniform(0,1)\n",
    "x2 = random.uniform(0,1)\n",
    "\n",
    "if (func_x(x1)>x2):\n",
    "    Class=0\n",
    "else:\n",
    "    Class=1\n",
    "\n",
    "print(\"x1: \",x1)\n",
    "print(\"x2: \",x2)\n",
    "print(\"f(x1): \",func_x(x1))\n",
    "print(\"Class: \",Class)\n"
   ]
  },
  {
   "cell_type": "code",
   "execution_count": 164,
   "metadata": {},
   "outputs": [
    {
     "data": {
      "image/png": "[encoded data removed]",
      "text/plain": [
       "<Figure size 640x480 with 1 Axes>"
      ]
     },
     "metadata": {},
     "output_type": "display_data"
    }
   ],
   "source": [
    "# c)\n",
    "import math\n",
    "import random\n",
    "import matplotlib.pyplot as plt\n",
    "\n",
    "\n",
    "points = []\n",
    "for i in range(100):\n",
    "    x1 = random.uniform(0,1)\n",
    "    x2 = random.uniform(0,1)\n",
    "    if func_x(x1) > x2:\n",
    "        points.append((x1, x2, 0))\n",
    "    else:\n",
    "        points.append((x1, x2, 1))\n",
    "\n",
    "# Combine points into a single array of tuples\n",
    "points_arr = np.array(points)\n",
    "\n",
    "class_0_points = [(x, y) for x, y, c in points if c == 0]\n",
    "class_1_points = [(x, y) for x, y, c in points if c == 1]\n",
    "\n",
    "plt.scatter(*zip(*class_0_points), marker='o', label='Class 0')\n",
    "plt.scatter(*zip(*class_1_points), marker='x', label='Class 1')\n",
    "plt.xlabel('x1')\n",
    "plt.ylabel('x2')\n",
    "plt.legend()\n",
    "plt.show()"
   ]
  },
  {
   "attachments": {},
   "cell_type": "markdown",
   "metadata": {},
   "source": [
    "Q3"
   ]
  },
  {
   "cell_type": "code",
   "execution_count": 165,
   "metadata": {},
   "outputs": [
    {
     "data": {
      "text/plain": [
       "[array([[ 0.9407633 , -0.95792579,  0.37885989,  0.97897811],\n",
       "        [ 1.97215758, -1.97941383,  0.94383033, -1.01089152]]),\n",
       " array([[-1.14617615,  1.86678996,  0.85156159]])]"
      ]
     },
     "execution_count": 165,
     "metadata": {},
     "output_type": "execute_result"
    }
   ],
   "source": [
    "# a)\n",
    "def weight(curr, next_nodes):\n",
    "    #np.random.uniform(low = -0.3, high = 0.3, size=(next_nodes, curr))\n",
    "    return np.random.rand(next_nodes,curr)\n",
    "\n",
    "def weights_list(l_nodes):\n",
    "    W = []\n",
    "    for i in range(len(l_nodes) - 1):\n",
    "        temp = weight(l_nodes[i] + 1, l_nodes[i+1])\n",
    "        W.append(temp)\n",
    "    return W\n",
    "\n",
    "def sigmoid(z):\n",
    "    return 1 / (1 + np.exp(-z))\n",
    "\n",
    "\n",
    "# nodes = [2,3,1]\n",
    "# weights = weights_list(nodes)\n",
    "weights"
   ]
  },
  {
   "cell_type": "code",
   "execution_count": 166,
   "metadata": {},
   "outputs": [
    {
     "ename": "ValueError",
     "evalue": "matmul: Input operand 1 has a mismatch in its core dimension 0, with gufunc signature (n?,k),(k,m?)->(n?,m?) (size 3 is different from 4)",
     "output_type": "error",
     "traceback": [
      "\u001b[1;31m---------------------------------------------------------------------------\u001b[0m",
      "\u001b[1;31mValueError\u001b[0m                                Traceback (most recent call last)",
      "Cell \u001b[1;32mIn[166], line 19\u001b[0m\n\u001b[0;32m     16\u001b[0m         a\u001b[39m.\u001b[39mappend(a_temp)\n\u001b[0;32m     17\u001b[0m     \u001b[39mreturn\u001b[39;00m a\n\u001b[1;32m---> 19\u001b[0m activation\u001b[39m=\u001b[39mfull_forward_prop(weights,points_arr[\u001b[39m1\u001b[39;49m][\u001b[39m0\u001b[39;49m],points_arr[\u001b[39m1\u001b[39;49m][\u001b[39m1\u001b[39;49m])\n\u001b[0;32m     21\u001b[0m activation\n",
      "Cell \u001b[1;32mIn[166], line 13\u001b[0m, in \u001b[0;36mfull_forward_prop\u001b[1;34m(w, x1, x2)\u001b[0m\n\u001b[0;32m     11\u001b[0m a\u001b[39m.\u001b[39mappend(l1)\n\u001b[0;32m     12\u001b[0m \u001b[39mfor\u001b[39;00m i \u001b[39min\u001b[39;00m \u001b[39mrange\u001b[39m(\u001b[39mlen\u001b[39m(w)):\n\u001b[1;32m---> 13\u001b[0m     a_temp\u001b[39m=\u001b[39m(forward_prop(a[i],w[i]))\n\u001b[0;32m     14\u001b[0m     \u001b[39mif\u001b[39;00m (i \u001b[39m!=\u001b[39m(\u001b[39mlen\u001b[39m(w)\u001b[39m-\u001b[39m\u001b[39m1\u001b[39m)):\n\u001b[0;32m     15\u001b[0m         a_temp\u001b[39m=\u001b[39mnp\u001b[39m.\u001b[39minsert(a_temp,\u001b[39m0\u001b[39m,\u001b[39m1\u001b[39m)\n",
      "Cell \u001b[1;32mIn[166], line 3\u001b[0m, in \u001b[0;36mforward_prop\u001b[1;34m(x, w)\u001b[0m\n\u001b[0;32m      2\u001b[0m \u001b[39mdef\u001b[39;00m \u001b[39mforward_prop\u001b[39m(x,w):\n\u001b[1;32m----> 3\u001b[0m     z\u001b[39m=\u001b[39mw \u001b[39m@\u001b[39;49m x\n\u001b[0;32m      4\u001b[0m     a\u001b[39m=\u001b[39msigmoid(z)\n\u001b[0;32m      5\u001b[0m     \u001b[39mreturn\u001b[39;00m a\n",
      "\u001b[1;31mValueError\u001b[0m: matmul: Input operand 1 has a mismatch in its core dimension 0, with gufunc signature (n?,k),(k,m?)->(n?,m?) (size 3 is different from 4)"
     ]
    }
   ],
   "source": [
    "#b)\n",
    "def forward_prop(x,w):\n",
    "    z=w @ x\n",
    "    a=sigmoid(z)\n",
    "    return a\n",
    "\n",
    "def full_forward_prop(w,x1,x2):\n",
    "    a=[]\n",
    "    a_t=[]\n",
    "    l1=np.array([1,x1,x2])\n",
    "    a.append(l1)\n",
    "    for i in range(len(w)):\n",
    "        a_temp=(forward_prop(a[i],w[i]))\n",
    "        if (i !=(len(w)-1)):\n",
    "            a_temp=np.insert(a_temp,0,1)\n",
    "        a.append(a_temp)\n",
    "    return a\n",
    "\n",
    "activation=full_forward_prop(weights,points_arr[1][0],points_arr[1][1])\n",
    "\n",
    "activation"
   ]
  },
  {
   "cell_type": "code",
   "execution_count": null,
   "metadata": {},
   "outputs": [
    {
     "name": "stdout",
     "output_type": "stream",
     "text": [
      "Error delta at the final layer: 0.8660913899409646\n"
     ]
    }
   ],
   "source": [
    "# # Get input values for the point we want to compute the activation for\n",
    "#c)\n",
    "x1, x2, target = points_arr[1]\n",
    "\n",
    "# Compute final activation for the point\n",
    "final_activation = full_forward_prop(weights, x1, x2)[-1][-1]\n",
    "\n",
    "# Compute error delta at the final layer\n",
    "error_delta = final_activation - target\n",
    "\n",
    "print(\"Error delta at the final layer:\", error_delta)\n"
   ]
  },
  {
   "cell_type": "code",
   "execution_count": null,
   "metadata": {},
   "outputs": [
    {
     "data": {
      "text/plain": [
       "[0.8660913899409646,\n",
       " array([[0.25904538],\n",
       "        [0.5395654 ],\n",
       "        [0.51296777]])]"
      ]
     },
     "execution_count": 115,
     "metadata": {},
     "output_type": "execute_result"
    }
   ],
   "source": [
    "#d)\n",
    "def error_calc(w, a, prev_e):\n",
    "    e = np. delete((np.transpose(w) * (prev_e) * ((a) @ (1-a))),0,0)\n",
    "    return e \n",
    "\n",
    "def errors(a,w,y,p):\n",
    "    e = [] \n",
    "    f_e = p-y\n",
    "    e.append(f_e)\n",
    "    for i in range(len(w)-1):\n",
    "        curr_w = w[len(w)-1-i]\n",
    "        curr_a = a[i+1]\n",
    "        pre_e = e[i]\n",
    "        temp_e = error_calc(curr_w, curr_a, pre_e)\n",
    "        e.append(temp_e)\n",
    "    return e\n",
    "\n",
    "err = errors(activation, weights, 0, final_activation)\n",
    "err\n",
    "\n"
   ]
  },
  {
   "cell_type": "code",
   "execution_count": null,
   "metadata": {},
   "outputs": [
    {
     "data": {
      "text/plain": [
       "[array([[0.25904538, 0.04181755, 0.09236664],\n",
       "        [0.5395654 , 0.08710174, 0.1923904 ],\n",
       "        [0.51296777, 0.0828081 , 0.1829066 ]]),\n",
       " array([[0.86609139, 0.51538873, 0.60507857, 0.5617246 ]])]"
      ]
     },
     "execution_count": 116,
     "metadata": {},
     "output_type": "execute_result"
    }
   ],
   "source": [
    "#e)\n",
    "def small_delta(d, a, e):\n",
    "    d = d + (e * np.transpose(a))\n",
    "    return d\n",
    "\n",
    "def s_gradient(delt ,act ,er):\n",
    "    s_g = []\n",
    "    for i in range(len(er)):\n",
    "        t_d = delt[i]\n",
    "        t_a = act[i]\n",
    "        t_e = er[len(er)-1-i]\n",
    "        t2_d = small_delta(t_d, t_a, t_e)\n",
    "        s_g.append(t2_d)\n",
    "    return s_g\n",
    "\n",
    "def delta_matrix(w):\n",
    "    d = []\n",
    "    for i in range(len(w)):\n",
    "        temp_w = w[i]\n",
    "        row = len(temp_w)\n",
    "        col = len(temp_w[0])\n",
    "        d.append(np.zeros((row,col)))\n",
    "    return d\n",
    "\n",
    "delta_g = delta_matrix(weights)\n",
    "\n",
    "d_g = s_gradient(delta_g, activation, err)\n",
    "d_g"
   ]
  },
  {
   "cell_type": "code",
   "execution_count": null,
   "metadata": {},
   "outputs": [
    {
     "data": {
      "text/plain": [
       "[array([[0.09769906, 0.27703531, 0.59649322],\n",
       "        [0.37574831, 0.67398324, 0.82458112],\n",
       "        [0.36511378, 0.92876663, 0.10819548]]),\n",
       " array([[0.31228977, 0.38867735, 0.85641812, 0.81555407]])]"
      ]
     },
     "execution_count": 117,
     "metadata": {},
     "output_type": "execute_result"
    }
   ],
   "source": [
    "#f)\n",
    "\n",
    "def update_weight(w,grad, alpha):\n",
    "    new_w = []\n",
    "    for i in range(len(w)):\n",
    "        temp_w = w[i]\n",
    "        temp_grad = grad[i]\n",
    "        n_w = temp_w - (alpha * temp_grad)\n",
    "        new_w.append(n_w)\n",
    "        \n",
    "    return new_w\n",
    "\n",
    "new_weights = update_weight(weights, d_g,0.1)\n",
    "new_weights"
   ]
  },
  {
   "cell_type": "code",
   "execution_count": null,
   "metadata": {},
   "outputs": [
    {
     "name": "stdout",
     "output_type": "stream",
     "text": [
      "Error on training data: \n",
      " 1.1504189991600302 \n",
      "\n",
      "Error Confusion matrix: \n",
      " [[ 0.  0.]\n",
      " [58. 42.]]\n"
     ]
    }
   ],
   "source": [
    "#g)\n",
    "\n",
    "def output(x1,x2,w):\n",
    "    a = full_forward_prop(w, x1, x2)\n",
    "    \n",
    "    return a[len(a)-1]\n",
    "\n",
    "def prediction(h):\n",
    "    if( h >= 0.5):\n",
    "        return 1\n",
    "    else:\n",
    "        return 0\n",
    "\n",
    "def cost_funct(data, w, lamda):\n",
    "    sum = 0 \n",
    "    n = len(data)\n",
    "    matrix =np.zeros((2,2))\n",
    "    \n",
    "    for i in range(n):\n",
    "        \n",
    "        #actual output\n",
    "        y = data[i][2]\n",
    "        \n",
    "        #predicted output\n",
    "        h = output(data[i][0],data[i][1],w)\n",
    "        \n",
    "        pred = prediction(h)\n",
    "        \n",
    "        #add to confusion matrix\n",
    "        if(y == 0):\n",
    "            if (pred == y):\n",
    "                pred_c = matrix[0][0] + 1\n",
    "                matrix[0][0] = pred_c\n",
    "            else:\n",
    "                pred_c2 = matrix[1][0] + 1\n",
    "                matrix[1][0] = pred_c2\n",
    "        else:\n",
    "            if (pred == y):\n",
    "                pred_c = matrix[1][1] + 1\n",
    "                matrix[1][1] = pred_c\n",
    "            else:\n",
    "                pred_c2 = matrix[0][1] + 1\n",
    "                matrix[0][1] = pred_c2\n",
    "                \n",
    "        #add to sum\n",
    "        sum = sum + (y * math.log(h)) + ((1 - y) * math.log(1-h))\n",
    "        \n",
    "    sum = (sum / n) * -1\n",
    "    \n",
    "    return sum, matrix\n",
    "\n",
    "training_error, training_matrix = cost_funct(points_arr, new_weights,1)\n",
    "print('Error on training data:', '\\n', training_error, '\\n')\n",
    "print('Error Confusion matrix:', '\\n',training_matrix)"
   ]
  },
  {
   "cell_type": "code",
   "execution_count": null,
   "metadata": {},
   "outputs": [
    {
     "name": "stdout",
     "output_type": "stream",
     "text": [
      "validation error: 1.0311362163723863 \n",
      "\n",
      "validation confusion matrix: \n",
      " [[ 0.  0.]\n",
      " [51. 49.]]\n"
     ]
    }
   ],
   "source": [
    "#h)\n",
    "\n",
    "def data_generator_v(n):\n",
    "    \n",
    "    data = np.zeros((n,3))\n",
    "   \n",
    "    for i in range(n):\n",
    "        x = random.uniform(0,1)\n",
    "        y = random.uniform(0,1)\n",
    "        data[i][0] = x\n",
    "        data[i][1] = y\n",
    "        if(func_x(x) > y):\n",
    "            data[i][2] = 0\n",
    "        else:\n",
    "            data[i][2] = 1\n",
    "    \n",
    "    return data\n",
    "\n",
    "validation_data = data_generator_v(100)\n",
    "\n",
    "error_validation, validation_matrix = cost_funct(validation_data, new_weights,1)\n",
    "print('validation error:', error_validation,'\\n')\n",
    "print('validation confusion matrix:','\\n', validation_matrix)"
   ]
  },
  {
   "cell_type": "code",
   "execution_count": 167,
   "metadata": {},
   "outputs": [
    {
     "name": "stdout",
     "output_type": "stream",
     "text": [
      "Error on training data: \n",
      " 1.0843456686886357 \n",
      "\n",
      "Error Confusion matrix: \n",
      " [[ 0.  0.]\n",
      " [54. 46.]]\n",
      "validation error: 1.0311362163723863 \n",
      "\n",
      "validation confusion matrix: \n",
      " [[ 0.  0.]\n",
      " [51. 49.]]\n"
     ]
    }
   ],
   "source": [
    "#i)\n",
    "#Added one extra node to hidden layer\n",
    "nodes = [2,4,1]\n",
    "weights = weights_list(nodes)\n",
    "\n",
    "training_error, training_matrix = cost_funct(points_arr, new_weights,1)\n",
    "print('Error on training data:', '\\n', training_error, '\\n')\n",
    "print('Error Confusion matrix:', '\\n',training_matrix)\n",
    "\n",
    "error_validation, validation_matrix = cost_funct(validation_data, new_weights,1)\n",
    "print('validation error:', error_validation,'\\n')\n",
    "print('validation confusion matrix:','\\n', validation_matrix)"
   ]
  },
  {
   "cell_type": "code",
   "execution_count": 168,
   "metadata": {},
   "outputs": [
    {
     "name": "stdout",
     "output_type": "stream",
     "text": [
      "Error on training data: \n",
      " 1.0843456686886357 \n",
      "\n",
      "Error Confusion matrix: \n",
      " [[ 0.  0.]\n",
      " [54. 46.]]\n",
      "validation error: 1.0311362163723863 \n",
      "\n",
      "validation confusion matrix: \n",
      " [[ 0.  0.]\n",
      " [51. 49.]]\n"
     ]
    }
   ],
   "source": [
    "\n",
    "#Added two extra node to hidden layer\n",
    "nodes = [2,5,1]\n",
    "weights = weights_list(nodes)\n",
    "\n",
    "training_error, training_matrix = cost_funct(points_arr, new_weights,1)\n",
    "print('Error on training data:', '\\n', training_error, '\\n')\n",
    "print('Error Confusion matrix:', '\\n',training_matrix)\n",
    "\n",
    "error_validation, validation_matrix = cost_funct(validation_data, new_weights,1)\n",
    "print('validation error:', error_validation,'\\n')\n",
    "print('validation confusion matrix:','\\n', validation_matrix)"
   ]
  },
  {
   "cell_type": "code",
   "execution_count": 169,
   "metadata": {},
   "outputs": [
    {
     "name": "stdout",
     "output_type": "stream",
     "text": [
      "Error on training data: \n",
      " 1.0843456686886357 \n",
      "\n",
      "Error Confusion matrix: \n",
      " [[ 0.  0.]\n",
      " [54. 46.]]\n",
      "validation error: 1.0311362163723863 \n",
      "\n",
      "validation confusion matrix: \n",
      " [[ 0.  0.]\n",
      " [51. 49.]]\n"
     ]
    }
   ],
   "source": [
    "#Added one extra node to first hidden layer and added one extra hidden layer\n",
    "nodes = [2,4,2,1]\n",
    "weights = weights_list(nodes)\n",
    "\n",
    "training_error, training_matrix = cost_funct(points_arr, new_weights,1)\n",
    "print('Error on training data:', '\\n', training_error, '\\n')\n",
    "print('Error Confusion matrix:', '\\n',training_matrix)\n",
    "\n",
    "error_validation, validation_matrix = cost_funct(validation_data, new_weights,1)\n",
    "print('validation error:', error_validation,'\\n')\n",
    "print('validation confusion matrix:','\\n', validation_matrix)"
   ]
  },
  {
   "cell_type": "code",
   "execution_count": 170,
   "metadata": {},
   "outputs": [
    {
     "name": "stdout",
     "output_type": "stream",
     "text": [
      "validation error: 1.1050124595639885 \n",
      "\n",
      "validation confusion matrix: \n",
      " [[ 0.  0.]\n",
      " [55. 45.]]\n"
     ]
    }
   ],
   "source": [
    "#j)\n",
    "testing_data = data_generator_v(100)\n",
    "\n",
    "error_testing, testing_matrix = cost_funct(testing_data, new_weights,1)\n",
    "print('validation error:', error_testing,'\\n')\n",
    "print('validation confusion matrix:','\\n', testing_matrix)"
   ]
  }
 ],
 "metadata": {
  "kernelspec": {
   "display_name": "Python 3",
   "language": "python",
   "name": "python3"
  },
  "language_info": {
   "codemirror_mode": {
    "name": "ipython",
    "version": 3
   },
   "file_extension": ".py",
   "mimetype": "text/x-python",
   "name": "python",
   "nbconvert_exporter": "python",
   "pygments_lexer": "ipython3",
   "version": "3.11.3"
  },
  "orig_nbformat": 4
 },
 "nbformat": 4,
 "nbformat_minor": 2
}
