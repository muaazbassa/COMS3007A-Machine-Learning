{
 "cells": [
  {
   "cell_type": "code",
   "execution_count": 3,
   "metadata": {},
   "outputs": [
    {
     "name": "stdout",
     "output_type": "stream",
     "text": [
      "Output for input (0, 3 - 1): [0.83653594]\n",
      "Output for input (1, 2, 1): [0.8164761]\n",
      "Output for input (-1, 1, 2): [0.87331584]\n"
     ]
    }
   ],
   "source": [
    "import numpy as np\n",
    "\n",
    "def sigmoid(x):\n",
    "    return 1 / (1 + np.exp(-x))\n",
    "\n",
    "# Define the weights\n",
    "Theta1 = np.array([[1, -1, 0.5, 1], [2, -2, 1, -1]])\n",
    "Theta2 = np.array([[-1, 2, 1]])\n",
    "\n",
    "# Define the input data\n",
    "X1 = np.array([1, 0, 3, -1])  # i. (0, 3 − 1)\n",
    "X2 = np.array([1, 1, 2, 1])  # ii. (1, 2, 1)\n",
    "X3 = np.array([1, -1, 1, 2]) # iii. (-1, 1, 2)\n",
    "\n",
    "# Perform forward propagation\n",
    "A1 = sigmoid(np.dot(X1, Theta1.T))\n",
    "A2 = sigmoid(np.dot(np.insert(A1, 0, 1), Theta2.T))\n",
    "\n",
    "print(\"Output for input (0, 3 - 1):\", A2)  # Output for i.\n",
    "\n",
    "A1 = sigmoid(np.dot(X2, Theta1.T))\n",
    "A2 = sigmoid(np.dot(np.insert(A1, 0, 1), Theta2.T))\n",
    "\n",
    "print(\"Output for input (1, 2, 1):\", A2)  # Output for ii.\n",
    "\n",
    "A1 = sigmoid(np.dot(X3, Theta1.T))\n",
    "A2 = sigmoid(np.dot(np.insert(A1, 0, 1), Theta2.T))\n",
    "\n",
    "print(\"Output for input (-1, 1, 2):\", A2)  # Output for iii."
   ]
  }
 ],
 "metadata": {
  "kernelspec": {
   "display_name": "Python 3",
   "language": "python",
   "name": "python3"
  },
  "language_info": {
   "codemirror_mode": {
    "name": "ipython",
    "version": 3
   },
   "file_extension": ".py",
   "mimetype": "text/x-python",
   "name": "python",
   "nbconvert_exporter": "python",
   "pygments_lexer": "ipython3",
   "version": "3.10.5"
  },
  "orig_nbformat": 4
 },
 "nbformat": 4,
 "nbformat_minor": 2
}
