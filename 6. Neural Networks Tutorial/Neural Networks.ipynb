{
 "cells": [
  {
   "attachments": {},
   "cell_type": "markdown",
   "metadata": {},
   "source": [
    "Q1b) c)\n"
   ]
  },
  {
   "cell_type": "code",
   "execution_count": 12,
   "metadata": {},
   "outputs": [
    {
     "name": "stdout",
     "output_type": "stream",
     "text": [
      "(0, 0, 0): 0.7370197154934278\n",
      "(3; 2; 1): 0.40007604748015363\n",
      "(-1; 1;-1): 0.7644944485335358\n",
      "y_out = 1 / (1 + exp(-(1 / (1 + exp(-(x0 - x1 + 0.5*x2 + x3)))) + 2*(1 / (1 + exp(-(2*x0 - 2*x1 + x2 - x3))))))\n"
     ]
    }
   ],
   "source": [
    "from math import exp\n",
    "\n",
    "def neural_network(x1, x2, x3):\n",
    "    x0 = 1\n",
    "    h1_in = x0 - x1 + 0.5*x2 + x3\n",
    "    h2_in = 2*x0 - 2*x1 + x2 - x3\n",
    "    h1_out = 1 / (1 + exp(-h1_in))\n",
    "    h2_out = 1 / (1 + exp(-h2_in))\n",
    "    y_in = -h1_out + 2*h2_out\n",
    "    y_out = 1 / (1 + exp(-y_in))\n",
    "    return y_out\n",
    "\n",
    "\n",
    "print(\"(0, 0, 0): \" + str(neural_network(0, 0, 0)))\n",
    "print(\"(3; 2; 1): \" + str(neural_network(3, 2, 1)))\n",
    "print(\"(-1; 1;-1): \" + str(neural_network(-1, 1, -1)))\n",
    "\n",
    "print(\"y_out = 1 / (1 + exp(-(1 / (1 + exp(-(x0 - x1 + 0.5*x2 + x3)))) + 2*(1 / (1 + exp(-(2*x0 - 2*x1 + x2 - x3))))))\")\n",
    "y_out = sigmoid(-(sigmoid(1 - 0 + 0.5*0 + 0)) + 2*sigmoid(2 - 2 + 0 - 0))\n"
   ]
  }
 ],
 "metadata": {
  "kernelspec": {
   "display_name": "Python 3",
   "language": "python",
   "name": "python3"
  },
  "language_info": {
   "codemirror_mode": {
    "name": "ipython",
    "version": 3
   },
   "file_extension": ".py",
   "mimetype": "text/x-python",
   "name": "python",
   "nbconvert_exporter": "python",
   "pygments_lexer": "ipython3",
   "version": "3.11.0"
  },
  "orig_nbformat": 4
 },
 "nbformat": 4,
 "nbformat_minor": 2
}
