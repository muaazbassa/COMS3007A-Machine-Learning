{
 "cells": [
  {
   "attachments": {},
   "cell_type": "markdown",
   "metadata": {},
   "source": [
    "##  QUESTION1"
   ]
  },
  {
   "attachments": {},
   "cell_type": "markdown",
   "metadata": {},
   "source": [
    "Q1a)\n"
   ]
  },
  {
   "cell_type": "code",
   "execution_count": 89,
   "metadata": {},
   "outputs": [
    {
     "name": "stdout",
     "output_type": "stream",
     "text": [
      "y_hat =  1.2\n",
      "error =  0.02\n"
     ]
    }
   ],
   "source": [
    "#The Predicted Value of y_hat(x) for x = 1.\n",
    "y_hat= round(0.4 + 0.8*(1),2)\n",
    "y_true = 1\n",
    "y_hat\n",
    "# The error for when x=1\n",
    "error = round(0.5 * (y_hat - y_true)**2,2)\n",
    "\n",
    "#print the y_hat and error\n",
    "print(\"y_hat = \", y_hat)\n",
    "print(\"error = \", error)"
   ]
  },
  {
   "attachments": {},
   "cell_type": "markdown",
   "metadata": {},
   "source": [
    "Q1b)"
   ]
  },
  {
   "cell_type": "code",
   "execution_count": 90,
   "metadata": {},
   "outputs": [
    {
     "name": "stdout",
     "output_type": "stream",
     "text": [
      "y_hat =  2.0\n",
      "error =  0.5\n"
     ]
    }
   ],
   "source": [
    "#The Predicted Value of y_hat(x) for x = 2.\n",
    "y_hat= 0.4 + 0.8*(2)\n",
    "y_true = 3\n",
    "y_hat\n",
    "\n",
    "# The error for when x=2\n",
    "error = round(0.5 * (y_hat - y_true)**2,2)\n",
    "\n",
    "#print the y_hat and error\n",
    "print(\"y_hat = \", y_hat)\n",
    "print(\"error = \", error)"
   ]
  },
  {
   "attachments": {},
   "cell_type": "markdown",
   "metadata": {},
   "source": [
    "Q1c)"
   ]
  },
  {
   "cell_type": "code",
   "execution_count": 91,
   "metadata": {},
   "outputs": [
    {
     "data": {
      "text/plain": [
       "1.2"
      ]
     },
     "execution_count": 91,
     "metadata": {},
     "output_type": "execute_result"
    }
   ],
   "source": [
    "#sum of squares error for this model\n",
    "\n",
    "def y_hat(x):\n",
    "    y = 0.4 + 0.8*(x)\n",
    "    return y\n",
    "\n",
    "# x values\n",
    "x_values = [1,2,3,4,5]\n",
    "# y avlues\n",
    "y_values = [1,3,2,3,5]\n",
    "y_predicted = []\n",
    "error = 0.0\n",
    "for x in x_values:\n",
    "    y_predicted.append(round(y_hat(x),2))\n",
    "\n",
    "for i in range(len(y_values)):\n",
    "    error += 0.5 * (y_values[i] - y_predicted[i])**2\n",
    "\n",
    "error = round(error, 2)\n",
    "error"
   ]
  },
  {
   "attachments": {},
   "cell_type": "markdown",
   "metadata": {},
   "source": [
    "## QUESTION 4"
   ]
  },
  {
   "attachments": {},
   "cell_type": "markdown",
   "metadata": {},
   "source": [
    "Q4a)"
   ]
  },
  {
   "cell_type": "code",
   "execution_count": 92,
   "metadata": {},
   "outputs": [
    {
     "name": "stdout",
     "output_type": "stream",
     "text": [
      "[[ 1.00000000e+00 -2.69450070e+00  7.26033401e+00]\n",
      " [ 1.00000000e+00  1.70344687e+01  2.90173124e+02]\n",
      " [ 1.00000000e+00  8.73370267e+00  7.62775624e+01]\n",
      " [ 1.00000000e+00 -2.18528209e+00  4.77545781e+00]\n",
      " [ 1.00000000e+00 -2.42934075e+01  5.90169650e+02]\n",
      " [ 1.00000000e+00  2.02575367e+00  4.10367793e+00]\n",
      " [ 1.00000000e+00 -1.32678111e+01  1.76034811e+02]\n",
      " [ 1.00000000e+00  1.47427453e+01  2.17348540e+02]\n",
      " [ 1.00000000e+00  2.02937862e+00  4.11837759e+00]\n",
      " [ 1.00000000e+00 -5.65250100e+00  3.19507676e+01]\n",
      " [ 1.00000000e+00 -1.54946925e-01  2.40085495e-02]\n",
      " [ 1.00000000e+00  9.64304570e+00  9.29883303e+01]\n",
      " [ 1.00000000e+00  1.26713902e+01  1.60564130e+02]\n",
      " [ 1.00000000e+00 -4.22368746e+00  1.78395357e+01]\n",
      " [ 1.00000000e+00  1.87441994e+00  3.51345011e+00]\n",
      " [ 1.00000000e+00  8.50854201e+00  7.23952871e+01]\n",
      " [ 1.00000000e+00 -9.15981855e+00  8.39022758e+01]\n",
      " [ 1.00000000e+00  3.58352603e+00  1.28416588e+01]\n",
      " [ 1.00000000e+00  1.17138083e+01  1.37213305e+02]\n",
      " [ 1.00000000e+00  1.01014377e+01  1.02039044e+02]\n",
      " [ 1.00000000e+00  1.19292516e+01  1.42307044e+02]\n",
      " [ 1.00000000e+00  5.10481031e+00  2.60590883e+01]\n",
      " [ 1.00000000e+00  9.78164677e+00  9.56806136e+01]\n",
      " [ 1.00000000e+00  1.05910948e+01  1.12171290e+02]\n",
      " [ 1.00000000e+00  3.12124496e+00  9.74217008e+00]\n",
      " [ 1.00000000e+00 -9.38210254e+00  8.80238481e+01]\n",
      " [ 1.00000000e+00  3.48125461e+00  1.21191336e+01]\n",
      " [ 1.00000000e+00  1.14924469e+01  1.32076337e+02]\n",
      " [ 1.00000000e+00 -7.31243438e+00  5.34716965e+01]\n",
      " [ 1.00000000e+00  7.99207303e+00  6.38732313e+01]\n",
      " [ 1.00000000e+00  1.17142250e+01  1.37223067e+02]\n",
      " [ 1.00000000e+00 -9.30531934e-01  8.65889680e-01]\n",
      " [ 1.00000000e+00  1.17183658e+01  1.37320097e+02]\n",
      " [ 1.00000000e+00  7.58510503e-01  5.75338183e-01]\n",
      " [ 1.00000000e+00  2.48681096e+00  6.18422873e+00]\n",
      " [ 1.00000000e+00  4.25909484e-01  1.81398889e-01]\n",
      " [ 1.00000000e+00  1.77482786e+01  3.15001394e+02]\n",
      " [ 1.00000000e+00  2.89415939e+01  8.37615859e+02]\n",
      " [ 1.00000000e+00 -9.90796522e+00  9.81677748e+01]\n",
      " [ 1.00000000e+00 -9.10210644e+00  8.28483416e+01]\n",
      " [ 1.00000000e+00  1.80775573e+01  3.26798078e+02]\n",
      " [ 1.00000000e+00 -1.40553595e+00  1.97553131e+00]\n",
      " [ 1.00000000e+00  7.36916986e+00  5.43046645e+01]\n",
      " [ 1.00000000e+00 -5.45606101e+00  2.97686018e+01]\n",
      " [ 1.00000000e+00 -2.52515574e+01  6.37641149e+02]\n",
      " [ 1.00000000e+00 -6.28350705e+00  3.94824608e+01]\n",
      " [ 1.00000000e+00  6.87818743e+00  4.73094623e+01]\n",
      " [ 1.00000000e+00 -1.63017680e+01  2.65747639e+02]\n",
      " [ 1.00000000e+00  9.04248527e-01  8.17665398e-01]\n",
      " [ 1.00000000e+00  1.25656801e+01  1.57896316e+02]\n",
      " [ 1.00000000e+00 -8.35032196e+00  6.97278769e+01]\n",
      " [ 1.00000000e+00  1.64480638e+01  2.70538804e+02]\n",
      " [ 1.00000000e+00  3.34031783e+00  1.11577232e+01]\n",
      " [ 1.00000000e+00  1.64060995e+01  2.69160101e+02]\n",
      " [ 1.00000000e+00 -4.30396091e+00  1.85240795e+01]\n",
      " [ 1.00000000e+00  2.90124600e+00  8.41722836e+00]\n",
      " [ 1.00000000e+00  1.56272653e+01  2.44211422e+02]\n",
      " [ 1.00000000e+00  3.97022943e+00  1.57627217e+01]\n",
      " [ 1.00000000e+00 -8.17190668e+00  6.67800588e+01]\n",
      " [ 1.00000000e+00 -1.94056885e+01  3.76580745e+02]\n",
      " [ 1.00000000e+00 -1.78864869e+01  3.19926415e+02]\n",
      " [ 1.00000000e+00 -1.75381718e+00  3.07587470e+00]\n",
      " [ 1.00000000e+00 -3.55573071e+00  1.26432209e+01]\n",
      " [ 1.00000000e+00 -3.37959157e+00  1.14216391e+01]\n",
      " [ 1.00000000e+00  8.38846583e+00  7.03663590e+01]\n",
      " [ 1.00000000e+00  5.14312725e+00  2.64517579e+01]\n",
      " [ 1.00000000e+00  6.96996893e-01  4.85804669e-01]\n",
      " [ 1.00000000e+00  1.17591884e+01  1.38278511e+02]\n",
      " [ 1.00000000e+00  1.55825902e+00  2.42817116e+00]\n",
      " [ 1.00000000e+00 -6.35670309e+00  4.04076742e+01]\n",
      " [ 1.00000000e+00 -1.20678867e+01  1.45633888e+02]\n",
      " [ 1.00000000e+00 -5.45853860e+00  2.97956437e+01]\n",
      " [ 1.00000000e+00  1.80392179e+00  3.25413384e+00]\n",
      " [ 1.00000000e+00  9.52375741e+00  9.07019551e+01]\n",
      " [ 1.00000000e+00 -8.59728286e+00  7.39132725e+01]\n",
      " [ 1.00000000e+00  1.32579112e+01  1.75772208e+02]\n",
      " [ 1.00000000e+00  3.09481018e+00  9.57785007e+00]\n",
      " [ 1.00000000e+00  7.56347362e-01  5.72061331e-01]\n",
      " [ 1.00000000e+00  4.37993305e+00  1.91838135e+01]\n",
      " [ 1.00000000e+00 -3.26635654e+00  1.06690850e+01]\n",
      " [ 1.00000000e+00 -6.90754130e+00  4.77141268e+01]\n",
      " [ 1.00000000e+00 -1.31521563e+01  1.72979214e+02]\n",
      " [ 1.00000000e+00  3.83480128e+00  1.47057008e+01]\n",
      " [ 1.00000000e+00 -1.91784163e+01  3.67811653e+02]\n",
      " [ 1.00000000e+00 -1.17947596e+01  1.39116354e+02]\n",
      " [ 1.00000000e+00 -1.31047389e+01  1.71734182e+02]\n",
      " [ 1.00000000e+00  1.29914173e+01  1.68776922e+02]\n",
      " [ 1.00000000e+00  1.76017686e+01  3.09822259e+02]\n",
      " [ 1.00000000e+00 -2.56357412e+00  6.57191229e+00]\n",
      " [ 1.00000000e+00 -5.55413528e+00  3.08484187e+01]\n",
      " [ 1.00000000e+00 -6.93835938e+00  4.81408309e+01]\n",
      " [ 1.00000000e+00 -1.10658117e+01  1.22452188e+02]\n",
      " [ 1.00000000e+00 -7.91414902e+00  6.26337548e+01]\n",
      " [ 1.00000000e+00 -1.00691000e+01  1.01386774e+02]\n",
      " [ 1.00000000e+00 -4.71091985e+00  2.21927658e+01]\n",
      " [ 1.00000000e+00 -7.75042364e-01  6.00690667e-01]\n",
      " [ 1.00000000e+00 -1.39266049e+01  1.93950324e+02]\n",
      " [ 1.00000000e+00  1.64303270e+01  2.69955644e+02]\n",
      " [ 1.00000000e+00  7.76861192e+00  6.03513312e+01]\n",
      " [ 1.00000000e+00 -7.34522892e+00  5.39523879e+01]\n",
      " [ 1.00000000e+00 -9.32963269e+00  8.70420460e+01]\n",
      " [ 1.00000000e+00 -1.21139077e+00  1.46746761e+00]\n",
      " [ 1.00000000e+00 -3.64265125e+00  1.32689081e+01]\n",
      " [ 1.00000000e+00 -1.13182176e+01  1.28102049e+02]\n",
      " [ 1.00000000e+00 -8.63968985e+00  7.46442407e+01]\n",
      " [ 1.00000000e+00 -3.05698028e-01  9.34512844e-02]\n",
      " [ 1.00000000e+00  2.73765857e+00  7.49477447e+00]\n",
      " [ 1.00000000e+00  2.09037411e-01  4.36966393e-02]\n",
      " [ 1.00000000e+00  6.86110724e+00  4.70747925e+01]\n",
      " [ 1.00000000e+00 -1.32722507e+00  1.76152640e+00]\n",
      " [ 1.00000000e+00  2.42259664e+00  5.86897449e+00]\n",
      " [ 1.00000000e+00 -5.15348904e-01  2.65584493e-01]\n",
      " [ 1.00000000e+00 -1.04112905e+01  1.08394971e+02]\n",
      " [ 1.00000000e+00  5.54923185e+00  3.07939741e+01]\n",
      " [ 1.00000000e+00  1.00092575e+00  1.00185235e+00]\n",
      " [ 1.00000000e+00  7.06893604e+00  4.99698567e+01]\n",
      " [ 1.00000000e+00 -2.46830820e+00  6.09254539e+00]\n",
      " [ 1.00000000e+00  5.20356262e+00  2.70770640e+01]\n",
      " [ 1.00000000e+00 -6.92334354e+00  4.79326857e+01]\n",
      " [ 1.00000000e+00  2.17291287e+00  4.72155035e+00]\n",
      " [ 1.00000000e+00  2.73922245e+00  7.50333964e+00]\n",
      " [ 1.00000000e+00 -1.49473324e+01  2.23422747e+02]\n",
      " [ 1.00000000e+00  5.04859071e+00  2.54882681e+01]\n",
      " [ 1.00000000e+00  1.98208868e+01  3.92867552e+02]\n",
      " [ 1.00000000e+00 -3.87434852e-01  1.50105764e-01]\n",
      " [ 1.00000000e+00 -1.02198887e+01  1.04446125e+02]\n",
      " [ 1.00000000e+00 -7.45180126e+00  5.55293420e+01]\n",
      " [ 1.00000000e+00  5.46470668e+00  2.98630191e+01]\n",
      " [ 1.00000000e+00 -3.68046284e+00  1.35458067e+01]\n",
      " [ 1.00000000e+00  1.01627180e+01  1.03280837e+02]\n",
      " [ 1.00000000e+00 -1.80750463e+01  3.26707299e+02]\n",
      " [ 1.00000000e+00 -1.70159081e+00  2.89541129e+00]\n",
      " [ 1.00000000e+00 -1.47453792e+01  2.17426209e+02]\n",
      " [ 1.00000000e+00 -3.57844803e+00  1.28052903e+01]\n",
      " [ 1.00000000e+00 -9.99520583e+00  9.99041396e+01]\n",
      " [ 1.00000000e+00  2.52375355e+00  6.36933199e+00]\n",
      " [ 1.00000000e+00  6.44761313e-02  4.15717151e-03]\n",
      " [ 1.00000000e+00  7.68423761e+00  5.90475077e+01]\n",
      " [ 1.00000000e+00  2.42584888e+01  5.88474280e+02]\n",
      " [ 1.00000000e+00 -5.63295741e+00  3.17302092e+01]\n",
      " [ 1.00000000e+00 -1.50995384e+01  2.27996059e+02]\n",
      " [ 1.00000000e+00 -1.44888315e+01  2.09926240e+02]\n",
      " [ 1.00000000e+00 -4.94155967e+00  2.44190120e+01]\n",
      " [ 1.00000000e+00  1.07357530e+01  1.15256392e+02]\n",
      " [ 1.00000000e+00  5.63554752e-01  3.17593958e-01]\n",
      " [ 1.00000000e+00  6.41305629e+00  4.11272909e+01]\n",
      " [ 1.00000000e+00  1.30916991e+01  1.71392586e+02]\n",
      " [ 1.00000000e+00  3.96457797e+00  1.57178784e+01]\n",
      " [ 1.00000000e+00  2.26233265e+00  5.11814901e+00]\n",
      " [ 1.00000000e+00  5.98576527e+00  3.58293858e+01]]\n"
     ]
    }
   ],
   "source": [
    "import numpy as np\n",
    "\n",
    "mean=0\n",
    "std=10\n",
    "\n",
    "#i\n",
    "sample = np.random.normal(0,10,150)\n",
    "\n",
    "#ii\n",
    "def designMatrix(s, rows, cols):\n",
    "    design = np.ones((rows, cols))\n",
    "    for i in range(cols):\n",
    "        design[:,i] = s**i\n",
    "    return design\n",
    "\n",
    "design = designMatrix(sample, 150, 3)\n",
    "print(design)\n",
    "#design\n",
    "      "
   ]
  },
  {
   "cell_type": "code",
   "execution_count": 93,
   "metadata": {},
   "outputs": [],
   "source": [
    "#iii\n",
    "theta = np.random.uniform(0,1,size=3)\n",
    "theta0 = theta[0]\n",
    "theta1 = theta[1]\n",
    "theta2 = theta[2]"
   ]
  },
  {
   "cell_type": "code",
   "execution_count": 94,
   "metadata": {},
   "outputs": [
    {
     "name": "stdout",
     "output_type": "stream",
     "text": [
      "[ 6.45427865e+00  2.18730802e+02  5.23577025e+01 -1.18590197e+01\n",
      "  3.82772967e+02  1.21528861e+01  1.13215709e+02  1.58425471e+02\n",
      "  1.52774274e+01  2.48690502e+01 -3.87094660e-01  6.46048518e+01\n",
      "  1.07459612e+02  1.92520898e+01  1.23376682e+01  4.14678618e+01\n",
      "  4.66074840e+01  2.99233150e+01  9.38070251e+01  7.19346791e+01\n",
      "  1.02731586e+02  2.05612225e+01  7.01247797e+01  8.69464383e+01\n",
      "  3.28259532e-01  4.67340981e+01  1.23157055e+01  1.01564898e+02\n",
      "  3.06057700e+01  5.05003527e+01  8.99448868e+01  2.45156483e+00\n",
      "  1.09397930e+02  5.98018567e+00 -4.54180099e+00 -2.08602701e+01\n",
      "  2.31493531e+02  5.95909324e+02  6.43056500e+01  5.61252892e+01\n",
      "  2.44665913e+02 -2.65113784e+00  4.68400673e+01  2.51487198e+01\n",
      "  4.23858304e+02  2.92612488e+01  5.63949111e+01  1.78295339e+02\n",
      " -7.33683164e-01  1.14930756e+02  4.11804861e+01  1.97013946e+02\n",
      "  1.77681270e+01  2.06450649e+02  7.89264771e+00  1.71180152e+01\n",
      "  1.89521042e+02  1.07853189e+01  5.49032056e+01  2.46739105e+02\n",
      "  2.08603895e+02 -2.72843033e+00  3.44378531e+00  5.97464762e+00\n",
      "  5.24680448e+01  2.65838004e+01 -4.49226739e+00  1.05338171e+02\n",
      "  6.89945003e+00  1.67082387e+01  1.02071569e+02  9.47769342e+00\n",
      "  2.35940715e+01  6.52504948e+01  4.00634744e+01  1.37186312e+02\n",
      "  1.40460180e+01 -3.59415523e-01  1.87368784e+01  4.28329435e+00\n",
      "  1.14793165e+01  1.03018814e+02  1.81308799e+01  2.48300655e+02\n",
      "  9.11317412e+01  1.12977812e+02  1.29008147e+02  2.26957127e+02\n",
      "  1.05137721e+01  2.01072246e+01  3.17773616e+01  6.10504210e+01\n",
      "  3.51290038e+01  6.42560886e+01  1.65991055e+01 -8.86282028e+00\n",
      "  1.25948279e+02  2.04735400e+02  4.38767647e+01  3.48757304e+01\n",
      "  5.58659777e+01 -3.38440806e+00  1.29163266e+01  7.80169493e+01\n",
      "  4.00973250e+01 -7.74480697e+00  1.91500207e+00  6.65129595e+00\n",
      "  3.84115991e+01  8.00711104e+00 -9.47230303e+00 -9.78147294e+00\n",
      "  7.10458830e+01  2.22269217e+01 -1.04337868e+01  4.80979747e+01\n",
      "  7.75560126e+00  3.04514588e+01  5.40687071e+01 -1.00089584e+01\n",
      " -1.27828278e+00  1.44555288e+02  2.28386678e+01  2.85137284e+02\n",
      "  3.73385725e-01  7.51993132e+01  2.05045998e+01  2.10139609e+01\n",
      "  1.51837385e+01  7.93803027e+01  2.00106027e+02 -4.49815267e+00\n",
      "  1.40078074e+02  1.43723940e+00  7.61079334e+01 -3.52002231e+00\n",
      " -1.68062359e+01  5.59924437e+01  4.24424771e+02  1.13330131e+01\n",
      "  1.51250229e+02  1.43513179e+02  1.54418248e+01  7.72693044e+01\n",
      "  6.23611313e+00  2.67629083e+01  1.16791135e+02  6.90158084e-02\n",
      "  4.76956012e+00  3.17102946e+01]\n"
     ]
    }
   ],
   "source": [
    "y = np.empty(150)\n",
    "for i in range(150):\n",
    "    x = design[i][1]\n",
    "    model = theta0 + theta1 * x + theta2 * x**2\n",
    "    y[i] = model\n",
    "\n",
    "\n",
    "std=8\n",
    "mean=0\n",
    "\n",
    "noise = np.random.normal(mean,std,150)\n",
    "y = y + noise\n",
    "\n",
    "print(y)"
   ]
  },
  {
   "cell_type": "code",
   "execution_count": 95,
   "metadata": {},
   "outputs": [
    {
     "data": {
      "image/png": "[encoded data removed]",
      "text/plain": [
       "<Figure size 640x480 with 1 Axes>"
      ]
     },
     "metadata": {},
     "output_type": "display_data"
    }
   ],
   "source": [
    "#v\n",
    "import matplotlib.pyplot as plt\n",
    "plt.scatter(sample, y)\n",
    "plt.show()"
   ]
  },
  {
   "cell_type": "code",
   "execution_count": 96,
   "metadata": {},
   "outputs": [],
   "source": [
    "#vi\n",
    "#90 of 150 for training (60%)\n",
    "#30 of 150 for testing (20%)\n",
    "#30 of 150 for validation (20%)\n",
    "\n",
    "#Training\n",
    "training_x_values = sample[:90]\n",
    "training_y_values = y[:90]\n",
    "trainX = design[:90]\n",
    "\n",
    "#Testing\n",
    "testing_x_values = sample[120:150]\n",
    "testing_y_values = y[120:150]\n",
    "\n",
    "#Validation\n",
    "validation_x_values = sample[90:120]\n",
    "validation_y_values = y[90:120]\n"
   ]
  },
  {
   "cell_type": "code",
   "execution_count": 97,
   "metadata": {},
   "outputs": [],
   "source": [
    "def moore_penrose(xValues, yValues):\n",
    "    np.dot()"
   ]
  },
  {
   "cell_type": "code",
   "execution_count": 100,
   "metadata": {},
   "outputs": [],
   "source": [
    "#MU'AAZ DISCORD BROKEN\n",
    "#Y'all speaking???"
   ]
  },
  {
   "cell_type": "code",
   "execution_count": null,
   "metadata": {},
   "outputs": [],
   "source": []
  },
  {
   "cell_type": "code",
   "execution_count": null,
   "metadata": {},
   "outputs": [],
   "source": []
  }
 ],
 "metadata": {
  "kernelspec": {
   "display_name": "Python 3",
   "language": "python",
   "name": "python3"
  },
  "language_info": {
   "codemirror_mode": {
    "name": "ipython",
    "version": 3
   },
   "file_extension": ".py",
   "mimetype": "text/x-python",
   "name": "python",
   "nbconvert_exporter": "python",
   "pygments_lexer": "ipython3",
   "version": "3.11.0"
  },
  "orig_nbformat": 4
 },
 "nbformat": 4,
 "nbformat_minor": 2
}
