{
 "cells": [
  {
   "attachments": {},
   "cell_type": "markdown",
   "metadata": {},
   "source": [
    "##  QUESTION1"
   ]
  },
  {
   "attachments": {},
   "cell_type": "markdown",
   "metadata": {},
   "source": [
    "Q1a)\n"
   ]
  },
  {
   "cell_type": "code",
   "execution_count": 34,
   "metadata": {},
   "outputs": [
    {
     "name": "stdout",
     "output_type": "stream",
     "text": [
      "y_hat =  1.2\n",
      "error =  0.02\n"
     ]
    }
   ],
   "source": [
    "#The Predicted Value of y_hat(x) for x = 1.\n",
    "y_hat= round(0.4 + 0.8*(1),2)\n",
    "y_true = 1\n",
    "y_hat\n",
    "# The error for when x=1\n",
    "error = round(0.5 * (y_hat - y_true)**2,2)\n",
    "\n",
    "#print the y_hat and error\n",
    "print(\"y_hat = \", y_hat)\n",
    "print(\"error = \", error)"
   ]
  },
  {
   "attachments": {},
   "cell_type": "markdown",
   "metadata": {},
   "source": [
    "Q1b)"
   ]
  },
  {
   "cell_type": "code",
   "execution_count": 35,
   "metadata": {},
   "outputs": [
    {
     "name": "stdout",
     "output_type": "stream",
     "text": [
      "y_hat =  2.0\n",
      "error =  0.5\n"
     ]
    }
   ],
   "source": [
    "#The Predicted Value of y_hat(x) for x = 2.\n",
    "y_hat= 0.4 + 0.8*(2)\n",
    "y_true = 3\n",
    "y_hat\n",
    "\n",
    "# The error for when x=2\n",
    "error = round(0.5 * (y_hat - y_true)**2,2)\n",
    "\n",
    "#print the y_hat and error\n",
    "print(\"y_hat = \", y_hat)\n",
    "print(\"error = \", error)"
   ]
  },
  {
   "attachments": {},
   "cell_type": "markdown",
   "metadata": {},
   "source": [
    "Q1c)"
   ]
  },
  {
   "cell_type": "code",
   "execution_count": 36,
   "metadata": {},
   "outputs": [
    {
     "data": {
      "text/plain": [
       "1.2"
      ]
     },
     "execution_count": 36,
     "metadata": {},
     "output_type": "execute_result"
    }
   ],
   "source": [
    "#sum of squares error for this model\n",
    "\n",
    "def y_hat(x):\n",
    "    y = 0.4 + 0.8*(x)\n",
    "    return y\n",
    "\n",
    "# x values\n",
    "x_values = [1,2,3,4,5]\n",
    "# y avlues\n",
    "y_values = [1,3,2,3,5]\n",
    "y_predicted = []\n",
    "error = 0.0\n",
    "for x in x_values:\n",
    "    y_predicted.append(round(y_hat(x),2))\n",
    "\n",
    "for i in range(len(y_values)):\n",
    "    error += 0.5 * (y_values[i] - y_predicted[i])**2\n",
    "\n",
    "error = round(error, 2)\n",
    "error"
   ]
  },
  {
   "attachments": {},
   "cell_type": "markdown",
   "metadata": {},
   "source": [
    "## QUESTION 4"
   ]
  },
  {
   "attachments": {},
   "cell_type": "markdown",
   "metadata": {},
   "source": [
    "# a)"
   ]
  },
  {
   "attachments": {},
   "cell_type": "markdown",
   "metadata": {},
   "source": [
    "i. Generating random sample data"
   ]
  },
  {
   "cell_type": "code",
   "execution_count": 37,
   "metadata": {},
   "outputs": [],
   "source": [
    "import numpy as np\n",
    "\n",
    "mean = 0\n",
    "std = 10\n",
    "size = 150\n",
    "\n",
    "sample = np.random.normal(mean, std, size)\n"
   ]
  },
  {
   "attachments": {},
   "cell_type": "markdown",
   "metadata": {},
   "source": [
    "ii. Constructing design matrix from sample data"
   ]
  },
  {
   "cell_type": "code",
   "execution_count": 38,
   "metadata": {},
   "outputs": [
    {
     "name": "stdout",
     "output_type": "stream",
     "text": [
      "[[ 1.00000000e+00  2.08485047e+00  4.34660150e+00]\n",
      " [ 1.00000000e+00 -6.59822466e+00  4.35365686e+01]\n",
      " [ 1.00000000e+00 -2.22602651e+00  4.95519402e+00]\n",
      " [ 1.00000000e+00  1.45823099e+01  2.12643763e+02]\n",
      " [ 1.00000000e+00 -2.23258133e+00  4.98441938e+00]\n",
      " [ 1.00000000e+00  1.56812016e+01  2.45900083e+02]\n",
      " [ 1.00000000e+00  2.10613484e+01  4.43580395e+02]\n",
      " [ 1.00000000e+00  6.57614259e+00  4.32456514e+01]\n",
      " [ 1.00000000e+00  5.53778484e+00  3.06670609e+01]\n",
      " [ 1.00000000e+00 -1.04885236e+01  1.10009126e+02]\n",
      " [ 1.00000000e+00  2.03075644e+00  4.12397172e+00]\n",
      " [ 1.00000000e+00 -1.74226425e+00  3.03548473e+00]\n",
      " [ 1.00000000e+00 -1.73727621e+01  3.01812862e+02]\n",
      " [ 1.00000000e+00 -4.75694107e+00  2.26284884e+01]\n",
      " [ 1.00000000e+00 -7.23321641e+00  5.23194197e+01]\n",
      " [ 1.00000000e+00 -1.23921696e+01  1.53565868e+02]\n",
      " [ 1.00000000e+00  4.79773631e+00  2.30182737e+01]\n",
      " [ 1.00000000e+00 -1.56889250e+01  2.46142366e+02]\n",
      " [ 1.00000000e+00 -4.36459976e-01  1.90497310e-01]\n",
      " [ 1.00000000e+00  3.15805985e+00  9.97334204e+00]\n",
      " [ 1.00000000e+00 -9.49357415e+00  9.01279501e+01]\n",
      " [ 1.00000000e+00 -1.32946826e+00  1.76748586e+00]\n",
      " [ 1.00000000e+00 -1.05518289e+01  1.11341094e+02]\n",
      " [ 1.00000000e+00 -4.59518553e+00  2.11157301e+01]\n",
      " [ 1.00000000e+00 -9.68016336e-01  9.37055626e-01]\n",
      " [ 1.00000000e+00 -5.60722491e+00  3.14409712e+01]\n",
      " [ 1.00000000e+00 -1.06476751e+01  1.13372984e+02]\n",
      " [ 1.00000000e+00  8.25528211e+00  6.81496827e+01]\n",
      " [ 1.00000000e+00 -3.61820240e+00  1.30913886e+01]\n",
      " [ 1.00000000e+00 -7.18307133e+00  5.15965137e+01]\n",
      " [ 1.00000000e+00 -8.73796526e+00  7.63520368e+01]\n",
      " [ 1.00000000e+00  5.51294407e+00  3.03925523e+01]\n",
      " [ 1.00000000e+00 -4.94606349e-01  2.44635440e-01]\n",
      " [ 1.00000000e+00  8.17175738e+00  6.67776186e+01]\n",
      " [ 1.00000000e+00  9.28673377e+00  8.62434240e+01]\n",
      " [ 1.00000000e+00  1.36416618e+01  1.86094937e+02]\n",
      " [ 1.00000000e+00  4.30895383e+00  1.85670831e+01]\n",
      " [ 1.00000000e+00  8.28293188e+00  6.86069605e+01]\n",
      " [ 1.00000000e+00  6.30771597e+00  3.97872808e+01]\n",
      " [ 1.00000000e+00  1.84289174e+01  3.39624997e+02]\n",
      " [ 1.00000000e+00 -5.68033006e+00  3.22661495e+01]\n",
      " [ 1.00000000e+00 -2.23307329e+00  4.98661631e+00]\n",
      " [ 1.00000000e+00  1.24854765e+01  1.55887125e+02]\n",
      " [ 1.00000000e+00  4.63086495e+00  2.14449102e+01]\n",
      " [ 1.00000000e+00  1.34303287e+01  1.80373729e+02]\n",
      " [ 1.00000000e+00  5.20818799e-01  2.71252221e-01]\n",
      " [ 1.00000000e+00 -5.42615627e+00  2.94431718e+01]\n",
      " [ 1.00000000e+00  3.84292554e+00  1.47680767e+01]\n",
      " [ 1.00000000e+00 -1.14129643e+00  1.30255753e+00]\n",
      " [ 1.00000000e+00 -1.47753256e+01  2.18310247e+02]\n",
      " [ 1.00000000e+00 -9.65184152e+00  9.31580448e+01]\n",
      " [ 1.00000000e+00 -1.27027691e+00  1.61360343e+00]\n",
      " [ 1.00000000e+00 -1.67594455e+01  2.80879012e+02]\n",
      " [ 1.00000000e+00  9.88104554e+00  9.76350609e+01]\n",
      " [ 1.00000000e+00 -1.17511509e+01  1.38089546e+02]\n",
      " [ 1.00000000e+00  1.52961045e+01  2.33970814e+02]\n",
      " [ 1.00000000e+00  2.17839238e+00  4.74539334e+00]\n",
      " [ 1.00000000e+00 -6.05450365e+00  3.66570145e+01]\n",
      " [ 1.00000000e+00 -1.62880048e+01  2.65299100e+02]\n",
      " [ 1.00000000e+00  8.50659112e-01  7.23620925e-01]\n",
      " [ 1.00000000e+00 -4.81522919e+00  2.31864322e+01]\n",
      " [ 1.00000000e+00 -1.45693337e+00  2.12265485e+00]\n",
      " [ 1.00000000e+00 -6.21383027e-01  3.86116866e-01]\n",
      " [ 1.00000000e+00 -5.28102255e+00  2.78891992e+01]\n",
      " [ 1.00000000e+00 -1.24559006e+00  1.55149460e+00]\n",
      " [ 1.00000000e+00  6.33262513e+00  4.01021411e+01]\n",
      " [ 1.00000000e+00 -1.08400772e+01  1.17507274e+02]\n",
      " [ 1.00000000e+00 -3.55414927e+00  1.26319771e+01]\n",
      " [ 1.00000000e+00 -1.75096964e+01  3.06589467e+02]\n",
      " [ 1.00000000e+00  2.75265026e+00  7.57708347e+00]\n",
      " [ 1.00000000e+00 -1.44226954e+01  2.08014141e+02]\n",
      " [ 1.00000000e+00  2.32947633e+00  5.42645997e+00]\n",
      " [ 1.00000000e+00 -4.06035314e+00  1.64864676e+01]\n",
      " [ 1.00000000e+00  2.21302619e+00  4.89748494e+00]\n",
      " [ 1.00000000e+00 -6.74054703e+00  4.54349743e+01]\n",
      " [ 1.00000000e+00 -3.01011051e+00  9.06076529e+00]\n",
      " [ 1.00000000e+00  1.10656726e+00  1.22449111e+00]\n",
      " [ 1.00000000e+00  1.22986561e+01  1.51256941e+02]\n",
      " [ 1.00000000e+00 -1.61099980e+00  2.59532037e+00]\n",
      " [ 1.00000000e+00 -1.64533147e+01  2.70711564e+02]\n",
      " [ 1.00000000e+00  2.45659954e+00  6.03488132e+00]\n",
      " [ 1.00000000e+00 -3.07123495e+00  9.43248410e+00]\n",
      " [ 1.00000000e+00  7.26770273e+00  5.28195029e+01]\n",
      " [ 1.00000000e+00  1.58213580e+01  2.50315368e+02]\n",
      " [ 1.00000000e+00 -1.63222104e+00  2.66414552e+00]\n",
      " [ 1.00000000e+00 -1.44472755e+00  2.08723769e+00]\n",
      " [ 1.00000000e+00 -2.37548836e+01  5.64294495e+02]\n",
      " [ 1.00000000e+00 -4.61773758e+00  2.13235004e+01]\n",
      " [ 1.00000000e+00  2.87497960e+01  8.26550769e+02]\n",
      " [ 1.00000000e+00  1.71165905e+01  2.92977672e+02]\n",
      " [ 1.00000000e+00  3.00382700e+00  9.02297662e+00]\n",
      " [ 1.00000000e+00 -7.71011140e+00  5.94458178e+01]\n",
      " [ 1.00000000e+00  1.06557908e+00  1.13545878e+00]\n",
      " [ 1.00000000e+00 -2.04326783e+01  4.17494342e+02]\n",
      " [ 1.00000000e+00  3.29011811e+00  1.08248772e+01]\n",
      " [ 1.00000000e+00  2.19714776e+01  4.82745827e+02]\n",
      " [ 1.00000000e+00  1.67793250e+01  2.81545746e+02]\n",
      " [ 1.00000000e+00  6.50763841e-01  4.23493577e-01]\n",
      " [ 1.00000000e+00 -8.87473737e+00  7.87609633e+01]\n",
      " [ 1.00000000e+00 -8.66168477e+00  7.50247831e+01]\n",
      " [ 1.00000000e+00 -1.31159636e+01  1.72028502e+02]\n",
      " [ 1.00000000e+00  1.57361980e+01  2.47627927e+02]\n",
      " [ 1.00000000e+00  3.63200197e+00  1.31914383e+01]\n",
      " [ 1.00000000e+00  3.27430745e+00  1.07210892e+01]\n",
      " [ 1.00000000e+00 -1.04155506e+00  1.08483694e+00]\n",
      " [ 1.00000000e+00  1.27880682e+01  1.63534688e+02]\n",
      " [ 1.00000000e+00 -6.62886823e+00  4.39418940e+01]\n",
      " [ 1.00000000e+00 -6.53774414e+00  4.27420984e+01]\n",
      " [ 1.00000000e+00  1.17541193e+01  1.38159320e+02]\n",
      " [ 1.00000000e+00 -9.85379956e-01  9.70973658e-01]\n",
      " [ 1.00000000e+00  1.76702332e+01  3.12237142e+02]\n",
      " [ 1.00000000e+00  4.42330918e+00  1.95656641e+01]\n",
      " [ 1.00000000e+00 -6.72666862e+00  4.52480707e+01]\n",
      " [ 1.00000000e+00  5.48860446e+00  3.01247789e+01]\n",
      " [ 1.00000000e+00 -1.42298543e+01  2.02488754e+02]\n",
      " [ 1.00000000e+00  1.31186448e+01  1.72098842e+02]\n",
      " [ 1.00000000e+00  2.66579486e+01  7.10646222e+02]\n",
      " [ 1.00000000e+00 -1.03816255e+01  1.07778148e+02]\n",
      " [ 1.00000000e+00 -5.72100433e+00  3.27298905e+01]\n",
      " [ 1.00000000e+00 -2.83694288e+00  8.04824489e+00]\n",
      " [ 1.00000000e+00 -3.59228540e+00  1.29045144e+01]\n",
      " [ 1.00000000e+00  1.80598724e+01  3.26158992e+02]\n",
      " [ 1.00000000e+00 -2.84712683e+01  8.10613121e+02]\n",
      " [ 1.00000000e+00 -2.47431775e+00  6.12224831e+00]\n",
      " [ 1.00000000e+00 -2.42243722e+00  5.86820211e+00]\n",
      " [ 1.00000000e+00 -1.62024892e+01  2.62520656e+02]\n",
      " [ 1.00000000e+00  6.58548464e+00  4.33686080e+01]\n",
      " [ 1.00000000e+00 -4.87017463e+00  2.37186009e+01]\n",
      " [ 1.00000000e+00  1.86326785e+00  3.47176709e+00]\n",
      " [ 1.00000000e+00  2.51492295e-01  6.32483745e-02]\n",
      " [ 1.00000000e+00 -1.02123355e+01  1.04291797e+02]\n",
      " [ 1.00000000e+00  3.44178303e+00  1.18458704e+01]\n",
      " [ 1.00000000e+00 -1.58027738e+01  2.49727660e+02]\n",
      " [ 1.00000000e+00 -5.88141357e+00  3.45910256e+01]\n",
      " [ 1.00000000e+00  3.62826597e+00  1.31643139e+01]\n",
      " [ 1.00000000e+00  2.03715166e+01  4.14998688e+02]\n",
      " [ 1.00000000e+00 -1.35463052e+00  1.83502384e+00]\n",
      " [ 1.00000000e+00  8.99618255e+00  8.09313005e+01]\n",
      " [ 1.00000000e+00  8.63606097e+00  7.45815490e+01]\n",
      " [ 1.00000000e+00 -4.52092026e+00  2.04387200e+01]\n",
      " [ 1.00000000e+00  1.57803315e+00  2.49018862e+00]\n",
      " [ 1.00000000e+00 -2.04722919e+01  4.19114737e+02]\n",
      " [ 1.00000000e+00 -1.18435982e+01  1.40270819e+02]\n",
      " [ 1.00000000e+00 -8.44171349e+00  7.12625266e+01]\n",
      " [ 1.00000000e+00 -3.72837513e+00  1.39007811e+01]\n",
      " [ 1.00000000e+00 -1.92750150e+01  3.71526204e+02]\n",
      " [ 1.00000000e+00 -8.62619318e-01  7.44112088e-01]\n",
      " [ 1.00000000e+00  1.25258673e+01  1.56897351e+02]\n",
      " [ 1.00000000e+00 -5.49362867e+00  3.01799560e+01]\n",
      " [ 1.00000000e+00  3.95937203e-01  1.56766269e-01]]\n"
     ]
    }
   ],
   "source": [
    "def designMatrix(s, rows, cols):\n",
    "    design = np.ones((rows, cols))\n",
    "    for i in range(cols):\n",
    "        design[:,i] = s**i\n",
    "    return design\n",
    "\n",
    "design = designMatrix(sample, 150, 3)\n",
    "\n",
    "print(design)\n"
   ]
  },
  {
   "attachments": {},
   "cell_type": "markdown",
   "metadata": {},
   "source": [
    "iii. Sample true values for theta, (3 values - corresponds to features)"
   ]
  },
  {
   "cell_type": "code",
   "execution_count": 39,
   "metadata": {},
   "outputs": [
    {
     "name": "stdout",
     "output_type": "stream",
     "text": [
      "[0.1601851  0.60695845 0.64785934]\n"
     ]
    }
   ],
   "source": [
    "theta = np.random.uniform(0, 1, 3)\n",
    "\n",
    "theta0 = theta[0]\n",
    "theta1 = theta[1]\n",
    "theta2 = theta[2]\n",
    "\n",
    "print(theta)"
   ]
  },
  {
   "attachments": {},
   "cell_type": "markdown",
   "metadata": {},
   "source": [
    "iv. Generate y values using design matrix and true parameter. Also add noise to make data more realistic"
   ]
  },
  {
   "cell_type": "code",
   "execution_count": 40,
   "metadata": {},
   "outputs": [
    {
     "name": "stdout",
     "output_type": "stream",
     "text": [
      "[-1.21931740e+01  1.07860102e+01  1.18865676e+01  1.51253042e+02\n",
      " -1.09987591e+01  1.87348854e+02  2.93636013e+02  4.05205342e+01\n",
      "  4.66326637e+01  5.45253606e+01 -2.86253156e-01 -4.64988806e+00\n",
      "  1.93490052e+02  2.84718391e+01  2.77459230e+01  8.82558556e+01\n",
      "  1.25493825e+01  1.52417851e+02  5.72929257e+00 -1.00920061e+01\n",
      "  5.58119641e+01  1.20490917e+01  5.15853219e+01  3.35575164e+01\n",
      "  3.61015770e+00  5.66470477e+00  7.88260698e+01  5.72750962e+01\n",
      "  1.40567321e+01  3.43726298e+01  4.63074445e+01  3.88395588e+01\n",
      " -5.53284831e+00  5.17548839e+01  6.90832918e+01  1.39425719e+02\n",
      "  5.96324758e+00  5.06462914e+01  2.06379795e+01  2.35855472e+02\n",
      "  5.86482941e+00  3.27521554e+00  1.14002767e+02  2.55375632e+01\n",
      "  1.24849338e+02 -5.70059294e+00  2.40056776e+01  2.90138674e+00\n",
      " -6.47398028e-01  1.35416401e+02  5.94826060e+01 -8.62542976e+00\n",
      "  1.71415216e+02  6.95386934e+01  8.25616084e+01  1.60806284e+02\n",
      "  1.66459417e-02  1.40617781e+01  1.78547510e+02  7.58774412e+00\n",
      "  9.27688424e+00  9.10822268e-01  6.94132795e+00  1.01762154e+01\n",
      " -5.26747791e-01  2.75555922e+01  6.18514680e+01  1.82585344e+00\n",
      "  1.82379118e+02  2.27615278e+01  1.26294809e+02  1.52012849e+01\n",
      "  1.11187067e+01 -2.75793754e-01  3.10079045e+01 -2.83013350e+00\n",
      "  3.19756354e+00  1.14375828e+02  6.16525053e-01  1.59637601e+02\n",
      "  2.58754429e+00  8.12066285e+00  4.29842696e+01  1.72712030e+02\n",
      " -7.63432469e+00 -3.27089778e+00  3.47584604e+02  9.24588934e+00\n",
      "  5.43846883e+02  2.04727628e+02 -3.93633804e+00  2.71236726e+01\n",
      "  1.28339228e+00  2.60989166e+02  2.22014842e+01  3.26949550e+02\n",
      "  1.89929941e+02 -1.28118205e+00  5.00853837e+01  5.52491304e+01\n",
      "  1.06314254e+02  1.72078504e+02  2.00985139e+00  4.96935725e+00\n",
      " -9.08035228e+00  1.02362620e+02  2.22999013e+01  3.58380838e+01\n",
      "  1.07173509e+02 -4.69172811e+00  2.30911350e+02  2.25676134e+01\n",
      "  1.93332671e+01  2.31726225e+01  1.18220272e+02  1.11275418e+02\n",
      "  4.80895285e+02  6.86830008e+01  2.50581502e+01 -5.68736641e+00\n",
      " -8.88942725e+00  2.07894229e+02  5.15727362e+02 -1.81167457e+01\n",
      " -1.05647342e+01  1.68897571e+02  3.98496147e+01 -4.32203788e+00\n",
      " -2.04592545e+01 -7.06946094e-01  5.25488660e+01  3.63355115e+00\n",
      "  1.55858851e+02  6.12047890e+00  9.18116185e+00  2.63801443e+02\n",
      "  3.77950117e+00  5.91454784e+01  5.12926747e+01  8.38266554e+00\n",
      " -7.43739665e+00  2.68611174e+02  9.20428339e+01  2.73830206e+01\n",
      "  7.59226823e-02  2.32095676e+02 -8.30363635e+00  1.07545757e+02\n",
      "  2.68017744e+01 -5.97566097e+00]\n"
     ]
    }
   ],
   "source": [
    "mean = 0\n",
    "std = 8\n",
    "size = 150\n",
    "\n",
    "noise = np.random.normal(mean, std, size)\n",
    "\n",
    "y = np.dot(design, theta) + noise\n",
    "\n",
    "print(y)"
   ]
  },
  {
   "attachments": {},
   "cell_type": "markdown",
   "metadata": {},
   "source": [
    "v. Plot sample data with generated y values"
   ]
  },
  {
   "cell_type": "code",
   "execution_count": 41,
   "metadata": {},
   "outputs": [
    {
     "data": {
      "image/png": "[encoded data removed]",
      "text/plain": [
       "<Figure size 640x480 with 1 Axes>"
      ]
     },
     "metadata": {},
     "output_type": "display_data"
    }
   ],
   "source": [
    "import matplotlib.pyplot as plt\n",
    "\n",
    "plt.scatter(sample, y)\n",
    "plt.show()"
   ]
  },
  {
   "attachments": {},
   "cell_type": "markdown",
   "metadata": {},
   "source": [
    "vi. Split sample data into training, testing and validation data"
   ]
  },
  {
   "cell_type": "code",
   "execution_count": 42,
   "metadata": {},
   "outputs": [],
   "source": [
    "#90 of 150 for training (60%)\n",
    "#30 of 150 for testing (20%)\n",
    "#30 of 150 for validation (20%)\n",
    "\n",
    "#Training\n",
    "training_x_values = sample[:90]\n",
    "training_y_values = y[:90]\n",
    "trainX = design[:90]\n",
    "\n",
    "#Testing\n",
    "testing_x_values = sample[120:150]\n",
    "testing_y_values = y[120:150]\n",
    "\n",
    "#Validation\n",
    "validation_x_values = sample[90:120]\n",
    "validation_y_values = y[90:120]\n",
    "\n",
    "# print(training_x_values)\n"
   ]
  },
  {
   "attachments": {},
   "cell_type": "markdown",
   "metadata": {},
   "source": [
    "# b)"
   ]
  },
  {
   "attachments": {},
   "cell_type": "markdown",
   "metadata": {},
   "source": [
    "i. Use Moore-Penrose pseudo-inverse to calculate the closed form solution"
   ]
  },
  {
   "cell_type": "code",
   "execution_count": 43,
   "metadata": {},
   "outputs": [
    {
     "name": "stdout",
     "output_type": "stream",
     "text": [
      "[0.97899035 0.69811811 0.64636436]\n",
      "[0.1601851  0.60695845 0.64785934]\n"
     ]
    }
   ],
   "source": [
    "def moore_penrose(DMatrix, y_values):\n",
    "    dmTranspose = np.transpose(DMatrix)\n",
    "    firstPart = np.linalg.inv(np.dot(dmTranspose, DMatrix))\n",
    "    secondPart = np.dot(dmTranspose, y_values)\n",
    "    finalMoore = np.dot(firstPart, secondPart)\n",
    "    return finalMoore\n",
    "\n",
    "moore_penrose1 = moore_penrose(trainX, training_y_values)\n",
    "\n",
    "print(moore_penrose1)\n",
    "print(theta)\n"
   ]
  },
  {
   "attachments": {},
   "cell_type": "markdown",
   "metadata": {},
   "source": [
    "ii. How close are the learned parameter values to the true parameters?"
   ]
  },
  {
   "cell_type": "code",
   "execution_count": 44,
   "metadata": {},
   "outputs": [],
   "source": [
    "# The learned parameter values, with the exception of theta0, which is off from the true value by a significant value.\n",
    "# While theta1 is off by approx. 0.004 and theta2 is off by approx 0.005, which is relatively close to the true parameters  "
   ]
  },
  {
   "attachments": {},
   "cell_type": "markdown",
   "metadata": {},
   "source": [
    "iii. Compute the training and validation error of the model"
   ]
  },
  {
   "cell_type": "code",
   "execution_count": 45,
   "metadata": {},
   "outputs": [
    {
     "name": "stdout",
     "output_type": "stream",
     "text": [
      "3218.7186421532588\n",
      "925.692514842899\n"
     ]
    }
   ],
   "source": [
    "import math\n",
    "\n",
    "def Error(x_values, y_values):\n",
    "    sum = 0\n",
    "    index = 0\n",
    "\n",
    "    for x in x_values:\n",
    "        y_predicted = moore_penrose1[0] + moore_penrose1[1] * x + moore_penrose1[2] * x**2\n",
    "        error = y_values[index] - y_predicted\n",
    "        sum += math.pow(error,2)\n",
    "        index += 1\n",
    "\n",
    "    totalError = 0.5 * sum\n",
    "    return totalError, y_predicted\n",
    "\n",
    "trainingError, training_y = Error(training_x_values, training_y_values)\n",
    "validationError, validated_y = Error(validation_x_values, validation_y_values)\n",
    "\n",
    "print(trainingError)\n",
    "print(validationError)"
   ]
  },
  {
   "attachments": {},
   "cell_type": "markdown",
   "metadata": {},
   "source": [
    "iv. Plot of the data and the regression model"
   ]
  },
  {
   "cell_type": "code",
   "execution_count": 46,
   "metadata": {},
   "outputs": [
    {
     "data": {
      "image/png": "[encoded data removed]",
      "text/plain": [
       "<Figure size 640x480 with 1 Axes>"
      ]
     },
     "metadata": {},
     "output_type": "display_data"
    }
   ],
   "source": [
    "import matplotlib.pyplot as plt\n",
    "\n",
    "sorted_trainX = trainX[trainX[:,1].argsort()]\n",
    "yValues = np.dot(sorted_trainX, moore_penrose1)\n",
    "\n",
    "\n",
    "plt.scatter(sample, y)\n",
    "plt.plot(sorted_trainX[:,1], yValues, \"r\")\n",
    "plt.show()"
   ]
  },
  {
   "attachments": {},
   "cell_type": "markdown",
   "metadata": {},
   "source": [
    "v. Repeat the above process using Gradient Descent to train your model. In addition, plot the\n",
    "training error of your regression model over time (observe or capture the training error every 20\n",
    "parameter updates/time steps). Your plot should look like Figure 2c."
   ]
  },
  {
   "cell_type": "code",
   "execution_count": 47,
   "metadata": {},
   "outputs": [
    {
     "name": "stderr",
     "output_type": "stream",
     "text": [
      "C:\\Users\\muaaz\\AppData\\Local\\Temp\\ipykernel_25780\\346220665.py:16: RuntimeWarning: overflow encountered in square\n",
      "  errors.append(np.mean(error**2))\n",
      "C:\\Users\\muaaz\\AppData\\Local\\Temp\\ipykernel_25780\\346220665.py:22: RuntimeWarning: invalid value encountered in subtract\n",
      "  theta = theta - learning_rate * grad\n"
     ]
    },
    {
     "data": {
      "text/plain": [
       "[<matplotlib.lines.Line2D at 0x26f00031710>]"
      ]
     },
     "execution_count": 47,
     "metadata": {},
     "output_type": "execute_result"
    },
    {
     "data": {
      "image/png": "[encoded data removed]",
      "text/plain": [
       "<Figure size 640x480 with 1 Axes>"
      ]
     },
     "metadata": {},
     "output_type": "display_data"
    }
   ],
   "source": [
    "import numpy as np\n",
    "\n",
    "def gradient_descent(X, y, learning_rate=0.01, num_iterations=1000):\n",
    "    # Initialize parameters\n",
    "    m, n = X.shape\n",
    "    theta = np.zeros((n, 1))\n",
    "    errors = []\n",
    "\n",
    "    # Perform gradient descent\n",
    "    for i in range(num_iterations):\n",
    "        # Compute predictions\n",
    "        y_pred = X.dot(theta)\n",
    "\n",
    "        # Compute errors\n",
    "        error = y_pred - y\n",
    "        errors.append(np.mean(error**2))\n",
    "\n",
    "        # Compute gradients\n",
    "        grad = (2/m) * X.T.dot(error)\n",
    "\n",
    "        # Update parameters\n",
    "        theta = theta - learning_rate * grad\n",
    "\n",
    "    return theta, errors\n",
    "\n",
    "\n",
    "theta,error = gradient_descent(trainX,training_y)\n",
    "\n",
    "plt.plot(error,color=\"orange\")\n"
   ]
  }
 ],
 "metadata": {
  "kernelspec": {
   "display_name": "Python 3",
   "language": "python",
   "name": "python3"
  },
  "language_info": {
   "codemirror_mode": {
    "name": "ipython",
    "version": 3
   },
   "file_extension": ".py",
   "mimetype": "text/x-python",
   "name": "python",
   "nbconvert_exporter": "python",
   "pygments_lexer": "ipython3",
   "version": "3.11.0"
  },
  "orig_nbformat": 4
 },
 "nbformat": 4,
 "nbformat_minor": 2
}
