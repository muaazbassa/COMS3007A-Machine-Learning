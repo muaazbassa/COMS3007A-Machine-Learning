{
 "cells": [
  {
   "attachments": {},
   "cell_type": "markdown",
   "metadata": {},
   "source": [
    "##  QUESTION1"
   ]
  },
  {
   "attachments": {},
   "cell_type": "markdown",
   "metadata": {},
   "source": [
    "Q1a)\n"
   ]
  },
  {
   "cell_type": "code",
   "execution_count": 45,
   "metadata": {},
   "outputs": [
    {
     "name": "stdout",
     "output_type": "stream",
     "text": [
      "y_hat =  1.2\n",
      "error =  0.02\n"
     ]
    }
   ],
   "source": [
    "#The Predicted Value of y_hat(x) for x = 1.\n",
    "y_hat= round(0.4 + 0.8*(1),2)\n",
    "y_true = 1\n",
    "y_hat\n",
    "# The error for when x=1\n",
    "error = round(0.5 * (y_hat - y_true)**2,2)\n",
    "\n",
    "#print the y_hat and error\n",
    "print(\"y_hat = \", y_hat)\n",
    "print(\"error = \", error)"
   ]
  },
  {
   "attachments": {},
   "cell_type": "markdown",
   "metadata": {},
   "source": [
    "Q1b)"
   ]
  },
  {
   "cell_type": "code",
   "execution_count": 46,
   "metadata": {},
   "outputs": [
    {
     "name": "stdout",
     "output_type": "stream",
     "text": [
      "y_hat =  2.0\n",
      "error =  0.5\n"
     ]
    }
   ],
   "source": [
    "#The Predicted Value of y_hat(x) for x = 2.\n",
    "y_hat= 0.4 + 0.8*(2)\n",
    "y_true = 3\n",
    "y_hat\n",
    "\n",
    "# The error for when x=2\n",
    "error = round(0.5 * (y_hat - y_true)**2,2)\n",
    "\n",
    "#print the y_hat and error\n",
    "print(\"y_hat = \", y_hat)\n",
    "print(\"error = \", error)"
   ]
  },
  {
   "attachments": {},
   "cell_type": "markdown",
   "metadata": {},
   "source": [
    "Q1c)"
   ]
  },
  {
   "cell_type": "code",
   "execution_count": 47,
   "metadata": {},
   "outputs": [
    {
     "data": {
      "text/plain": [
       "1.2"
      ]
     },
     "execution_count": 47,
     "metadata": {},
     "output_type": "execute_result"
    }
   ],
   "source": [
    "#sum of squares error for this model\n",
    "\n",
    "def y_hat(x):\n",
    "    y = 0.4 + 0.8*(x)\n",
    "    return y\n",
    "\n",
    "# x values\n",
    "x_values = [1,2,3,4,5]\n",
    "# y avlues\n",
    "y_values = [1,3,2,3,5]\n",
    "y_predicted = []\n",
    "error = 0.0\n",
    "for x in x_values:\n",
    "    y_predicted.append(round(y_hat(x),2))\n",
    "\n",
    "for i in range(len(y_values)):\n",
    "    error += 0.5 * (y_values[i] - y_predicted[i])**2\n",
    "\n",
    "error = round(error, 2)\n",
    "error"
   ]
  },
  {
   "attachments": {},
   "cell_type": "markdown",
   "metadata": {},
   "source": [
    "## QUESTION 4"
   ]
  },
  {
   "attachments": {},
   "cell_type": "markdown",
   "metadata": {},
   "source": [
    "# a)"
   ]
  },
  {
   "attachments": {},
   "cell_type": "markdown",
   "metadata": {},
   "source": [
    "i. Generating random sample data"
   ]
  },
  {
   "cell_type": "code",
   "execution_count": 48,
   "metadata": {},
   "outputs": [
    {
     "name": "stdout",
     "output_type": "stream",
     "text": [
      "[[ 1.00000000e+00 -1.13652338e+01  1.29168539e+02]\n",
      " [ 1.00000000e+00  1.34725704e+01  1.81510154e+02]\n",
      " [ 1.00000000e+00 -1.97098834e+00  3.88479504e+00]\n",
      " [ 1.00000000e+00  7.90493120e+00  6.24879373e+01]\n",
      " [ 1.00000000e+00 -1.17998717e+01  1.39236973e+02]\n",
      " [ 1.00000000e+00 -1.69397998e+01  2.86956817e+02]\n",
      " [ 1.00000000e+00 -8.52745856e+00  7.27175494e+01]\n",
      " [ 1.00000000e+00 -1.09840111e+01  1.20648500e+02]\n",
      " [ 1.00000000e+00  6.60171197e-01  4.35826009e-01]\n",
      " [ 1.00000000e+00 -5.91671946e+00  3.50075692e+01]\n",
      " [ 1.00000000e+00  1.06084320e+01  1.12538829e+02]\n",
      " [ 1.00000000e+00 -2.46176240e+00  6.06027411e+00]\n",
      " [ 1.00000000e+00 -1.28146663e+01  1.64215672e+02]\n",
      " [ 1.00000000e+00  1.81763167e+00  3.30378487e+00]\n",
      " [ 1.00000000e+00 -1.37141552e+01  1.88078052e+02]\n",
      " [ 1.00000000e+00 -9.37940508e+00  8.79732396e+01]\n",
      " [ 1.00000000e+00 -2.04573285e+01  4.18502291e+02]\n",
      " [ 1.00000000e+00  5.83361765e+00  3.40310949e+01]\n",
      " [ 1.00000000e+00  2.83046306e+00  8.01152113e+00]\n",
      " [ 1.00000000e+00 -9.28933017e+00  8.62916551e+01]\n",
      " [ 1.00000000e+00  6.07383701e+00  3.68914960e+01]\n",
      " [ 1.00000000e+00 -3.00479821e+00  9.02881230e+00]\n",
      " [ 1.00000000e+00  1.41981803e+01  2.01588325e+02]\n",
      " [ 1.00000000e+00  1.04332516e+01  1.08852740e+02]\n",
      " [ 1.00000000e+00 -9.75299069e+00  9.51208274e+01]\n",
      " [ 1.00000000e+00 -3.86259155e+00  1.49196134e+01]\n",
      " [ 1.00000000e+00  1.93678779e+00  3.75114694e+00]\n",
      " [ 1.00000000e+00  1.16673612e+01  1.36127317e+02]\n",
      " [ 1.00000000e+00  9.99463017e+00  9.98926323e+01]\n",
      " [ 1.00000000e+00 -5.38612771e+00  2.90103717e+01]\n",
      " [ 1.00000000e+00 -1.41591866e+01  2.00482565e+02]\n",
      " [ 1.00000000e+00  1.02605773e+01  1.05279446e+02]\n",
      " [ 1.00000000e+00 -4.17743571e+00  1.74509691e+01]\n",
      " [ 1.00000000e+00  2.95317814e+00  8.72126115e+00]\n",
      " [ 1.00000000e+00  2.18953728e+00  4.79407352e+00]\n",
      " [ 1.00000000e+00 -1.80805104e+01  3.26904857e+02]\n",
      " [ 1.00000000e+00  4.32550971e+00  1.87100342e+01]\n",
      " [ 1.00000000e+00  9.64854951e-01  9.30945076e-01]\n",
      " [ 1.00000000e+00 -8.09807219e+00  6.55787732e+01]\n",
      " [ 1.00000000e+00 -1.41821748e+01  2.01134082e+02]\n",
      " [ 1.00000000e+00  3.12332484e-01  9.75515809e-02]\n",
      " [ 1.00000000e+00  4.99910522e+00  2.49910530e+01]\n",
      " [ 1.00000000e+00  6.07091715e+00  3.68560350e+01]\n",
      " [ 1.00000000e+00  3.86676536e+00  1.49518743e+01]\n",
      " [ 1.00000000e+00  6.25615136e+00  3.91394299e+01]\n",
      " [ 1.00000000e+00 -8.60265867e+00  7.40057362e+01]\n",
      " [ 1.00000000e+00  5.88077161e+00  3.45834747e+01]\n",
      " [ 1.00000000e+00 -2.75939022e+01  7.61423437e+02]\n",
      " [ 1.00000000e+00 -8.13506448e+00  6.61792741e+01]\n",
      " [ 1.00000000e+00 -2.59615520e+01  6.74002180e+02]\n",
      " [ 1.00000000e+00  4.85599131e+00  2.35806516e+01]\n",
      " [ 1.00000000e+00 -6.77556445e+00  4.59082736e+01]\n",
      " [ 1.00000000e+00  1.44963873e+00  2.10145245e+00]\n",
      " [ 1.00000000e+00 -1.20738441e+01  1.45777712e+02]\n",
      " [ 1.00000000e+00 -3.32513586e+00  1.10565285e+01]\n",
      " [ 1.00000000e+00  1.91533068e+00  3.66849162e+00]\n",
      " [ 1.00000000e+00  1.43725524e+01  2.06570263e+02]\n",
      " [ 1.00000000e+00  2.39434176e+00  5.73287249e+00]\n",
      " [ 1.00000000e+00  1.03886323e+01  1.07923681e+02]\n",
      " [ 1.00000000e+00 -3.11329385e+00  9.69259860e+00]\n",
      " [ 1.00000000e+00 -5.90728490e-02  3.48960149e-03]\n",
      " [ 1.00000000e+00 -9.32386098e+00  8.69343837e+01]\n",
      " [ 1.00000000e+00  1.47848019e+01  2.18590368e+02]\n",
      " [ 1.00000000e+00  1.87826621e+01  3.52788397e+02]\n",
      " [ 1.00000000e+00  3.94285068e-01  1.55460715e-01]\n",
      " [ 1.00000000e+00  1.41573340e+01  2.00430105e+02]\n",
      " [ 1.00000000e+00 -1.20889100e+01  1.46141746e+02]\n",
      " [ 1.00000000e+00  7.22174570e+00  5.21536109e+01]\n",
      " [ 1.00000000e+00 -3.58102760e+00  1.28237587e+01]\n",
      " [ 1.00000000e+00 -4.41200125e+00  1.94657551e+01]\n",
      " [ 1.00000000e+00  1.34759081e+01  1.81600100e+02]\n",
      " [ 1.00000000e+00  9.62023046e+00  9.25488341e+01]\n",
      " [ 1.00000000e+00 -1.48470994e+01  2.20436361e+02]\n",
      " [ 1.00000000e+00 -1.20936488e+00  1.46256342e+00]\n",
      " [ 1.00000000e+00  1.50090691e+01  2.25272155e+02]\n",
      " [ 1.00000000e+00 -5.15745517e+00  2.65993438e+01]\n",
      " [ 1.00000000e+00 -2.24974862e+00  5.06136885e+00]\n",
      " [ 1.00000000e+00  1.35283664e+01  1.83016697e+02]\n",
      " [ 1.00000000e+00 -6.17374124e+00  3.81150809e+01]\n",
      " [ 1.00000000e+00  5.61167800e-01  3.14909299e-01]\n",
      " [ 1.00000000e+00 -7.78244239e+00  6.05664095e+01]\n",
      " [ 1.00000000e+00  3.45766417e+00  1.19554415e+01]\n",
      " [ 1.00000000e+00  8.06317912e-02  6.50148575e-03]\n",
      " [ 1.00000000e+00  2.55952463e+00  6.55116634e+00]\n",
      " [ 1.00000000e+00  9.21384703e+00  8.48949771e+01]\n",
      " [ 1.00000000e+00  1.73348102e+00  3.00495644e+00]\n",
      " [ 1.00000000e+00  1.15330339e+01  1.33010870e+02]\n",
      " [ 1.00000000e+00 -9.50806920e+00  9.04033800e+01]\n",
      " [ 1.00000000e+00 -1.45032647e+01  2.10344687e+02]\n",
      " [ 1.00000000e+00  4.24733883e+00  1.80398871e+01]\n",
      " [ 1.00000000e+00 -2.57929805e-01  6.65277845e-02]\n",
      " [ 1.00000000e+00  4.80804130e+00  2.31172611e+01]\n",
      " [ 1.00000000e+00  1.86363261e+01  3.47312652e+02]\n",
      " [ 1.00000000e+00 -7.50249360e+00  5.62874102e+01]\n",
      " [ 1.00000000e+00  1.03757352e+01  1.07655880e+02]\n",
      " [ 1.00000000e+00  6.50283921e+00  4.22869177e+01]\n",
      " [ 1.00000000e+00 -8.69889224e-01  7.56707262e-01]\n",
      " [ 1.00000000e+00  6.42233072e-01  4.12463318e-01]\n",
      " [ 1.00000000e+00 -1.47903732e+01  2.18755141e+02]\n",
      " [ 1.00000000e+00  1.00060857e+01  1.00121752e+02]\n",
      " [ 1.00000000e+00  2.68228279e+00  7.19464095e+00]\n",
      " [ 1.00000000e+00 -7.99488800e-01  6.39182342e-01]\n",
      " [ 1.00000000e+00 -2.76835309e+00  7.66377881e+00]\n",
      " [ 1.00000000e+00 -4.25274985e+00  1.80858813e+01]\n",
      " [ 1.00000000e+00 -1.06349084e+01  1.13101277e+02]\n",
      " [ 1.00000000e+00 -2.19203454e+01  4.80501543e+02]\n",
      " [ 1.00000000e+00  1.07373458e+01  1.15290595e+02]\n",
      " [ 1.00000000e+00 -2.15696199e+00  4.65248502e+00]\n",
      " [ 1.00000000e+00 -1.92417812e+01  3.70246144e+02]\n",
      " [ 1.00000000e+00  1.56851927e+00  2.46025271e+00]\n",
      " [ 1.00000000e+00  1.14128374e+01  1.30252858e+02]\n",
      " [ 1.00000000e+00  5.67955814e+00  3.22573807e+01]\n",
      " [ 1.00000000e+00  7.53496214e+00  5.67756544e+01]\n",
      " [ 1.00000000e+00  9.69622225e-01  9.40167259e-01]\n",
      " [ 1.00000000e+00  1.26121365e+01  1.59065987e+02]\n",
      " [ 1.00000000e+00 -8.69073518e+00  7.55288780e+01]\n",
      " [ 1.00000000e+00 -9.10418520e+00  8.28861882e+01]\n",
      " [ 1.00000000e+00 -2.15916175e+01  4.66197944e+02]\n",
      " [ 1.00000000e+00  9.99309639e+00  9.98619754e+01]\n",
      " [ 1.00000000e+00  4.31957365e+00  1.86587165e+01]\n",
      " [ 1.00000000e+00  7.09515597e+00  5.03412383e+01]\n",
      " [ 1.00000000e+00  1.01356804e+01  1.02732018e+02]\n",
      " [ 1.00000000e+00 -9.85993867e+00  9.72183905e+01]\n",
      " [ 1.00000000e+00  1.54387189e+01  2.38354042e+02]\n",
      " [ 1.00000000e+00  1.92049844e+00  3.68831425e+00]\n",
      " [ 1.00000000e+00 -1.60754375e+01  2.58419691e+02]\n",
      " [ 1.00000000e+00 -1.23542952e+01  1.52628609e+02]\n",
      " [ 1.00000000e+00 -1.49730125e+01  2.24191104e+02]\n",
      " [ 1.00000000e+00 -1.30002663e+01  1.69006923e+02]\n",
      " [ 1.00000000e+00  6.39512633e+00  4.08976407e+01]\n",
      " [ 1.00000000e+00 -7.23055104e-01  5.22808684e-01]\n",
      " [ 1.00000000e+00  1.47545970e+01  2.17698134e+02]\n",
      " [ 1.00000000e+00  1.32885379e+01  1.76585241e+02]\n",
      " [ 1.00000000e+00  7.99075185e+00  6.38521152e+01]\n",
      " [ 1.00000000e+00  9.95668286e+00  9.91355337e+01]\n",
      " [ 1.00000000e+00 -2.32499103e+00  5.40558329e+00]\n",
      " [ 1.00000000e+00 -6.64502354e+00  4.41563379e+01]\n",
      " [ 1.00000000e+00  3.37386093e-01  1.13829376e-01]\n",
      " [ 1.00000000e+00 -1.26596992e+01  1.60267983e+02]\n",
      " [ 1.00000000e+00 -4.32301275e+00  1.86884392e+01]\n",
      " [ 1.00000000e+00  4.12903394e+00  1.70489213e+01]\n",
      " [ 1.00000000e+00 -1.06087037e+01  1.12544593e+02]\n",
      " [ 1.00000000e+00  6.09836446e-01  3.71900490e-01]\n",
      " [ 1.00000000e+00 -1.86659390e+01  3.48417279e+02]\n",
      " [ 1.00000000e+00  7.60113612e+00  5.77772703e+01]\n",
      " [ 1.00000000e+00 -3.27999200e-03  1.07583475e-05]\n",
      " [ 1.00000000e+00 -2.59773647e+00  6.74823476e+00]\n",
      " [ 1.00000000e+00  9.41751469e+00  8.86895829e+01]\n",
      " [ 1.00000000e+00  9.47505562e+00  8.97766790e+01]\n",
      " [ 1.00000000e+00  2.01719228e+00  4.06906469e+00]]\n"
     ]
    }
   ],
   "source": [
    "import numpy as np\n",
    "\n",
    "mean = 0\n",
    "std = 10\n",
    "size = 150\n",
    "\n",
    "sample = np.random.normal(mean, std, size)\n"
   ]
  },
  {
   "attachments": {},
   "cell_type": "markdown",
   "metadata": {},
   "source": [
    "ii. Constructing design matrix from sample data"
   ]
  },
  {
   "cell_type": "code",
   "execution_count": 91,
   "metadata": {},
   "outputs": [
    {
     "name": "stdout",
     "output_type": "stream",
     "text": [
      "[[ 1.00000000e+00 -1.13652338e+01  1.29168539e+02]\n",
      " [ 1.00000000e+00  1.34725704e+01  1.81510154e+02]\n",
      " [ 1.00000000e+00 -1.97098834e+00  3.88479504e+00]\n",
      " [ 1.00000000e+00  7.90493120e+00  6.24879373e+01]\n",
      " [ 1.00000000e+00 -1.17998717e+01  1.39236973e+02]\n",
      " [ 1.00000000e+00 -1.69397998e+01  2.86956817e+02]\n",
      " [ 1.00000000e+00 -8.52745856e+00  7.27175494e+01]\n",
      " [ 1.00000000e+00 -1.09840111e+01  1.20648500e+02]\n",
      " [ 1.00000000e+00  6.60171197e-01  4.35826009e-01]\n",
      " [ 1.00000000e+00 -5.91671946e+00  3.50075692e+01]\n",
      " [ 1.00000000e+00  1.06084320e+01  1.12538829e+02]\n",
      " [ 1.00000000e+00 -2.46176240e+00  6.06027411e+00]\n",
      " [ 1.00000000e+00 -1.28146663e+01  1.64215672e+02]\n",
      " [ 1.00000000e+00  1.81763167e+00  3.30378487e+00]\n",
      " [ 1.00000000e+00 -1.37141552e+01  1.88078052e+02]\n",
      " [ 1.00000000e+00 -9.37940508e+00  8.79732396e+01]\n",
      " [ 1.00000000e+00 -2.04573285e+01  4.18502291e+02]\n",
      " [ 1.00000000e+00  5.83361765e+00  3.40310949e+01]\n",
      " [ 1.00000000e+00  2.83046306e+00  8.01152113e+00]\n",
      " [ 1.00000000e+00 -9.28933017e+00  8.62916551e+01]\n",
      " [ 1.00000000e+00  6.07383701e+00  3.68914960e+01]\n",
      " [ 1.00000000e+00 -3.00479821e+00  9.02881230e+00]\n",
      " [ 1.00000000e+00  1.41981803e+01  2.01588325e+02]\n",
      " [ 1.00000000e+00  1.04332516e+01  1.08852740e+02]\n",
      " [ 1.00000000e+00 -9.75299069e+00  9.51208274e+01]\n",
      " [ 1.00000000e+00 -3.86259155e+00  1.49196134e+01]\n",
      " [ 1.00000000e+00  1.93678779e+00  3.75114694e+00]\n",
      " [ 1.00000000e+00  1.16673612e+01  1.36127317e+02]\n",
      " [ 1.00000000e+00  9.99463017e+00  9.98926323e+01]\n",
      " [ 1.00000000e+00 -5.38612771e+00  2.90103717e+01]\n",
      " [ 1.00000000e+00 -1.41591866e+01  2.00482565e+02]\n",
      " [ 1.00000000e+00  1.02605773e+01  1.05279446e+02]\n",
      " [ 1.00000000e+00 -4.17743571e+00  1.74509691e+01]\n",
      " [ 1.00000000e+00  2.95317814e+00  8.72126115e+00]\n",
      " [ 1.00000000e+00  2.18953728e+00  4.79407352e+00]\n",
      " [ 1.00000000e+00 -1.80805104e+01  3.26904857e+02]\n",
      " [ 1.00000000e+00  4.32550971e+00  1.87100342e+01]\n",
      " [ 1.00000000e+00  9.64854951e-01  9.30945076e-01]\n",
      " [ 1.00000000e+00 -8.09807219e+00  6.55787732e+01]\n",
      " [ 1.00000000e+00 -1.41821748e+01  2.01134082e+02]\n",
      " [ 1.00000000e+00  3.12332484e-01  9.75515809e-02]\n",
      " [ 1.00000000e+00  4.99910522e+00  2.49910530e+01]\n",
      " [ 1.00000000e+00  6.07091715e+00  3.68560350e+01]\n",
      " [ 1.00000000e+00  3.86676536e+00  1.49518743e+01]\n",
      " [ 1.00000000e+00  6.25615136e+00  3.91394299e+01]\n",
      " [ 1.00000000e+00 -8.60265867e+00  7.40057362e+01]\n",
      " [ 1.00000000e+00  5.88077161e+00  3.45834747e+01]\n",
      " [ 1.00000000e+00 -2.75939022e+01  7.61423437e+02]\n",
      " [ 1.00000000e+00 -8.13506448e+00  6.61792741e+01]\n",
      " [ 1.00000000e+00 -2.59615520e+01  6.74002180e+02]\n",
      " [ 1.00000000e+00  4.85599131e+00  2.35806516e+01]\n",
      " [ 1.00000000e+00 -6.77556445e+00  4.59082736e+01]\n",
      " [ 1.00000000e+00  1.44963873e+00  2.10145245e+00]\n",
      " [ 1.00000000e+00 -1.20738441e+01  1.45777712e+02]\n",
      " [ 1.00000000e+00 -3.32513586e+00  1.10565285e+01]\n",
      " [ 1.00000000e+00  1.91533068e+00  3.66849162e+00]\n",
      " [ 1.00000000e+00  1.43725524e+01  2.06570263e+02]\n",
      " [ 1.00000000e+00  2.39434176e+00  5.73287249e+00]\n",
      " [ 1.00000000e+00  1.03886323e+01  1.07923681e+02]\n",
      " [ 1.00000000e+00 -3.11329385e+00  9.69259860e+00]\n",
      " [ 1.00000000e+00 -5.90728490e-02  3.48960149e-03]\n",
      " [ 1.00000000e+00 -9.32386098e+00  8.69343837e+01]\n",
      " [ 1.00000000e+00  1.47848019e+01  2.18590368e+02]\n",
      " [ 1.00000000e+00  1.87826621e+01  3.52788397e+02]\n",
      " [ 1.00000000e+00  3.94285068e-01  1.55460715e-01]\n",
      " [ 1.00000000e+00  1.41573340e+01  2.00430105e+02]\n",
      " [ 1.00000000e+00 -1.20889100e+01  1.46141746e+02]\n",
      " [ 1.00000000e+00  7.22174570e+00  5.21536109e+01]\n",
      " [ 1.00000000e+00 -3.58102760e+00  1.28237587e+01]\n",
      " [ 1.00000000e+00 -4.41200125e+00  1.94657551e+01]\n",
      " [ 1.00000000e+00  1.34759081e+01  1.81600100e+02]\n",
      " [ 1.00000000e+00  9.62023046e+00  9.25488341e+01]\n",
      " [ 1.00000000e+00 -1.48470994e+01  2.20436361e+02]\n",
      " [ 1.00000000e+00 -1.20936488e+00  1.46256342e+00]\n",
      " [ 1.00000000e+00  1.50090691e+01  2.25272155e+02]\n",
      " [ 1.00000000e+00 -5.15745517e+00  2.65993438e+01]\n",
      " [ 1.00000000e+00 -2.24974862e+00  5.06136885e+00]\n",
      " [ 1.00000000e+00  1.35283664e+01  1.83016697e+02]\n",
      " [ 1.00000000e+00 -6.17374124e+00  3.81150809e+01]\n",
      " [ 1.00000000e+00  5.61167800e-01  3.14909299e-01]\n",
      " [ 1.00000000e+00 -7.78244239e+00  6.05664095e+01]\n",
      " [ 1.00000000e+00  3.45766417e+00  1.19554415e+01]\n",
      " [ 1.00000000e+00  8.06317912e-02  6.50148575e-03]\n",
      " [ 1.00000000e+00  2.55952463e+00  6.55116634e+00]\n",
      " [ 1.00000000e+00  9.21384703e+00  8.48949771e+01]\n",
      " [ 1.00000000e+00  1.73348102e+00  3.00495644e+00]\n",
      " [ 1.00000000e+00  1.15330339e+01  1.33010870e+02]\n",
      " [ 1.00000000e+00 -9.50806920e+00  9.04033800e+01]\n",
      " [ 1.00000000e+00 -1.45032647e+01  2.10344687e+02]\n",
      " [ 1.00000000e+00  4.24733883e+00  1.80398871e+01]\n",
      " [ 1.00000000e+00 -2.57929805e-01  6.65277845e-02]\n",
      " [ 1.00000000e+00  4.80804130e+00  2.31172611e+01]\n",
      " [ 1.00000000e+00  1.86363261e+01  3.47312652e+02]\n",
      " [ 1.00000000e+00 -7.50249360e+00  5.62874102e+01]\n",
      " [ 1.00000000e+00  1.03757352e+01  1.07655880e+02]\n",
      " [ 1.00000000e+00  6.50283921e+00  4.22869177e+01]\n",
      " [ 1.00000000e+00 -8.69889224e-01  7.56707262e-01]\n",
      " [ 1.00000000e+00  6.42233072e-01  4.12463318e-01]\n",
      " [ 1.00000000e+00 -1.47903732e+01  2.18755141e+02]\n",
      " [ 1.00000000e+00  1.00060857e+01  1.00121752e+02]\n",
      " [ 1.00000000e+00  2.68228279e+00  7.19464095e+00]\n",
      " [ 1.00000000e+00 -7.99488800e-01  6.39182342e-01]\n",
      " [ 1.00000000e+00 -2.76835309e+00  7.66377881e+00]\n",
      " [ 1.00000000e+00 -4.25274985e+00  1.80858813e+01]\n",
      " [ 1.00000000e+00 -1.06349084e+01  1.13101277e+02]\n",
      " [ 1.00000000e+00 -2.19203454e+01  4.80501543e+02]\n",
      " [ 1.00000000e+00  1.07373458e+01  1.15290595e+02]\n",
      " [ 1.00000000e+00 -2.15696199e+00  4.65248502e+00]\n",
      " [ 1.00000000e+00 -1.92417812e+01  3.70246144e+02]\n",
      " [ 1.00000000e+00  1.56851927e+00  2.46025271e+00]\n",
      " [ 1.00000000e+00  1.14128374e+01  1.30252858e+02]\n",
      " [ 1.00000000e+00  5.67955814e+00  3.22573807e+01]\n",
      " [ 1.00000000e+00  7.53496214e+00  5.67756544e+01]\n",
      " [ 1.00000000e+00  9.69622225e-01  9.40167259e-01]\n",
      " [ 1.00000000e+00  1.26121365e+01  1.59065987e+02]\n",
      " [ 1.00000000e+00 -8.69073518e+00  7.55288780e+01]\n",
      " [ 1.00000000e+00 -9.10418520e+00  8.28861882e+01]\n",
      " [ 1.00000000e+00 -2.15916175e+01  4.66197944e+02]\n",
      " [ 1.00000000e+00  9.99309639e+00  9.98619754e+01]\n",
      " [ 1.00000000e+00  4.31957365e+00  1.86587165e+01]\n",
      " [ 1.00000000e+00  7.09515597e+00  5.03412383e+01]\n",
      " [ 1.00000000e+00  1.01356804e+01  1.02732018e+02]\n",
      " [ 1.00000000e+00 -9.85993867e+00  9.72183905e+01]\n",
      " [ 1.00000000e+00  1.54387189e+01  2.38354042e+02]\n",
      " [ 1.00000000e+00  1.92049844e+00  3.68831425e+00]\n",
      " [ 1.00000000e+00 -1.60754375e+01  2.58419691e+02]\n",
      " [ 1.00000000e+00 -1.23542952e+01  1.52628609e+02]\n",
      " [ 1.00000000e+00 -1.49730125e+01  2.24191104e+02]\n",
      " [ 1.00000000e+00 -1.30002663e+01  1.69006923e+02]\n",
      " [ 1.00000000e+00  6.39512633e+00  4.08976407e+01]\n",
      " [ 1.00000000e+00 -7.23055104e-01  5.22808684e-01]\n",
      " [ 1.00000000e+00  1.47545970e+01  2.17698134e+02]\n",
      " [ 1.00000000e+00  1.32885379e+01  1.76585241e+02]\n",
      " [ 1.00000000e+00  7.99075185e+00  6.38521152e+01]\n",
      " [ 1.00000000e+00  9.95668286e+00  9.91355337e+01]\n",
      " [ 1.00000000e+00 -2.32499103e+00  5.40558329e+00]\n",
      " [ 1.00000000e+00 -6.64502354e+00  4.41563379e+01]\n",
      " [ 1.00000000e+00  3.37386093e-01  1.13829376e-01]\n",
      " [ 1.00000000e+00 -1.26596992e+01  1.60267983e+02]\n",
      " [ 1.00000000e+00 -4.32301275e+00  1.86884392e+01]\n",
      " [ 1.00000000e+00  4.12903394e+00  1.70489213e+01]\n",
      " [ 1.00000000e+00 -1.06087037e+01  1.12544593e+02]\n",
      " [ 1.00000000e+00  6.09836446e-01  3.71900490e-01]\n",
      " [ 1.00000000e+00 -1.86659390e+01  3.48417279e+02]\n",
      " [ 1.00000000e+00  7.60113612e+00  5.77772703e+01]\n",
      " [ 1.00000000e+00 -3.27999200e-03  1.07583475e-05]\n",
      " [ 1.00000000e+00 -2.59773647e+00  6.74823476e+00]\n",
      " [ 1.00000000e+00  9.41751469e+00  8.86895829e+01]\n",
      " [ 1.00000000e+00  9.47505562e+00  8.97766790e+01]\n",
      " [ 1.00000000e+00  2.01719228e+00  4.06906469e+00]]\n"
     ]
    }
   ],
   "source": [
    "def designMatrix(s, rows, cols):\n",
    "    design = np.ones((rows, cols))\n",
    "    for i in range(cols):\n",
    "        design[:,i] = s**i\n",
    "    return design\n",
    "\n",
    "design = designMatrix(sample, 150, 3)\n",
    "\n",
    "print(design)\n"
   ]
  },
  {
   "attachments": {},
   "cell_type": "markdown",
   "metadata": {},
   "source": [
    "iii. Sample true values for theta, (3 values - corresponds to features)"
   ]
  },
  {
   "cell_type": "code",
   "execution_count": 49,
   "metadata": {},
   "outputs": [
    {
     "name": "stdout",
     "output_type": "stream",
     "text": [
      "[0.81039419 0.7961076  0.53047158]\n"
     ]
    }
   ],
   "source": [
    "theta = np.random.uniform(0, 1, 3)\n",
    "\n",
    "theta0 = theta[0]\n",
    "theta1 = theta[1]\n",
    "theta2 = theta[2]\n",
    "\n",
    "print(theta)"
   ]
  },
  {
   "attachments": {},
   "cell_type": "markdown",
   "metadata": {},
   "source": [
    "iv. Generate y values using design matrix and true parameter. Also add noise to make data more realistic"
   ]
  },
  {
   "cell_type": "code",
   "execution_count": 81,
   "metadata": {},
   "outputs": [
    {
     "name": "stdout",
     "output_type": "stream",
     "text": [
      "[ 6.17277030e+01  1.11258173e+02 -5.43546043e+00  4.74702582e+01\n",
      "  6.06868442e+01  1.52546179e+02  2.44507855e+01  6.43182523e+01\n",
      "  5.27242885e+00  1.83767217e+01  7.08794813e+01  7.46851995e+00\n",
      "  9.19847042e+01 -1.36758954e+00  9.13215993e+01  4.07361635e+01\n",
      "  2.05109167e+02 -4.92210516e-02  7.43644525e+00  2.78059013e+01\n",
      "  1.06512065e+01 -1.63086826e+00  1.08567683e+02  6.62619951e+01\n",
      "  2.79155618e+01  2.14199017e+01 -4.43272896e+00  8.46813375e+01\n",
      "  6.27737507e+01  1.02857936e+01  9.62295031e+01  7.40777872e+01\n",
      "  1.62844416e+01  4.19774061e+00 -3.45535972e+00  1.55688516e+02\n",
      "  7.84963826e+00 -7.38843157e+00  3.33291177e+01  1.03013618e+02\n",
      " -8.81724987e+00  1.46567895e+01  2.02586147e+01  8.57990313e+00\n",
      "  2.17535923e+01  2.03843738e+01  2.43689198e+01  3.76114592e+02\n",
      "  3.84976733e+01  3.38466305e+02  1.16606281e+01  1.40271452e+01\n",
      "  1.26977694e+01  6.01494523e+01  6.36976738e+00  1.42964638e+01\n",
      "  1.27550531e+02  1.45295749e+01  6.49758402e+01  5.49187633e+00\n",
      " -8.62196171e+00  4.32216379e+01  1.38771596e+02  1.93048977e+02\n",
      " -9.86456987e+00  1.17467538e+02  6.62800886e+01  3.65683090e+01\n",
      " -7.67511828e+00 -6.06446210e+00  9.87775686e+01  5.75571377e+01\n",
      "  1.06889666e+02 -4.28067402e+00  1.23929952e+02  5.97268757e+00\n",
      "  4.05125573e-01  1.18017546e+02  2.21316639e+00 -2.86544844e+00\n",
      "  1.39506770e+01  1.20767021e+01 -1.67493676e+00  7.46355199e+00\n",
      "  5.40815303e+01  1.91935740e+00  8.24065693e+01  3.81106649e+01\n",
      "  1.12540397e+02  1.37930983e+01 -2.00026928e+00  1.29532878e+01\n",
      "  2.12394049e+02  1.45188514e+01  8.02448670e+01  2.49317965e+01\n",
      "  2.74160167e+00  3.85635484e+00  1.09099233e+02  7.32429607e+01\n",
      "  1.04454969e+01  2.75556859e+00 -1.01649171e+01  1.55410182e+01\n",
      "  4.31628315e+01  2.47662261e+02  6.01288722e+01  1.93562341e+00\n",
      "  1.77921888e+02  1.24913820e+01  8.65524557e+01  1.76068679e+01\n",
      "  4.52866217e+01  7.94194806e-01  7.25142245e+01  3.75908278e+01\n",
      "  5.04670574e+01  2.32245886e+02  5.99220790e+01  3.43205945e+01\n",
      "  2.78999148e+01  6.64405360e+01  2.97553757e+01  1.41015286e+02\n",
      "  4.80377937e+00  1.21219420e+02  8.11680713e+01  1.19762345e+02\n",
      "  7.48431396e+01  2.26716031e+01 -3.32736207e+00  1.25783384e+02\n",
      "  9.46914863e+01  3.93344926e+01  6.66413568e+01  2.71773722e+00\n",
      "  2.21058040e+01  6.37196471e+00  7.66726861e+01 -3.66064333e+00\n",
      "  1.01949897e+01  4.07234458e+01 -1.68247783e+00  1.73959894e+02\n",
      "  3.54483153e+01 -1.17560723e+01 -6.97679330e+00  6.82998463e+01\n",
      "  5.06486468e+01  5.80226086e-01]\n"
     ]
    }
   ],
   "source": [
    "mean = 0\n",
    "std = 8\n",
    "size = 150\n",
    "\n",
    "noise = np.random.normal(mean, std, size)\n",
    "\n",
    "y = np.dot(design, theta) + noise\n",
    "\n",
    "print(y)"
   ]
  },
  {
   "attachments": {},
   "cell_type": "markdown",
   "metadata": {},
   "source": [
    "v. Plot sample data with generated y values"
   ]
  },
  {
   "cell_type": "code",
   "execution_count": 82,
   "metadata": {},
   "outputs": [
    {
     "data": {
      "image/png": "[encoded data removed]",
      "text/plain": [
       "<Figure size 432x288 with 1 Axes>"
      ]
     },
     "metadata": {
      "needs_background": "light"
     },
     "output_type": "display_data"
    }
   ],
   "source": [
    "import matplotlib.pyplot as plt\n",
    "\n",
    "plt.scatter(sample, y)\n",
    "plt.show()"
   ]
  },
  {
   "attachments": {},
   "cell_type": "markdown",
   "metadata": {},
   "source": [
    "vi. Split sample data into training, testing and validation data"
   ]
  },
  {
   "cell_type": "code",
   "execution_count": 84,
   "metadata": {},
   "outputs": [],
   "source": [
    "#90 of 150 for training (60%)\n",
    "#30 of 150 for testing (20%)\n",
    "#30 of 150 for validation (20%)\n",
    "\n",
    "#Training\n",
    "training_x_values = sample[:90]\n",
    "training_y_values = y[:90]\n",
    "trainX = design[:90]\n",
    "\n",
    "#Testing\n",
    "testing_x_values = sample[120:150]\n",
    "testing_y_values = y[120:150]\n",
    "\n",
    "#Validation\n",
    "validation_x_values = sample[90:120]\n",
    "validation_y_values = y[90:120]\n",
    "\n",
    "# print(training_x_values)\n"
   ]
  },
  {
   "attachments": {},
   "cell_type": "markdown",
   "metadata": {},
   "source": [
    "# b)"
   ]
  },
  {
   "attachments": {},
   "cell_type": "markdown",
   "metadata": {},
   "source": [
    "i. Use Moore-Penrose pseudo-inverse to calculate the closed form solution"
   ]
  },
  {
   "cell_type": "code",
   "execution_count": 90,
   "metadata": {},
   "outputs": [
    {
     "name": "stdout",
     "output_type": "stream",
     "text": [
      "[-1.22941928  0.79253094  0.5358574 ]\n",
      "[0.81039419 0.7961076  0.53047158]\n"
     ]
    }
   ],
   "source": [
    "def moore_penrose(DMatrix, y_values):\n",
    "    dmTranspose = np.transpose(DMatrix)\n",
    "    firstPart = np.linalg.inv(np.dot(dmTranspose, DMatrix))\n",
    "    secondPart = np.dot(dmTranspose, y_values)\n",
    "    finalMoore = np.dot(firstPart, secondPart)\n",
    "    return finalMoore\n",
    "\n",
    "moore_penrose1 = moore_penrose(trainX, training_y_values)\n",
    "\n",
    "print(moore_penrose1)\n",
    "print(theta)\n"
   ]
  },
  {
   "attachments": {},
   "cell_type": "markdown",
   "metadata": {},
   "source": [
    "ii. How close are the learned parameter values to the true parameters?"
   ]
  },
  {
   "cell_type": "code",
   "execution_count": 54,
   "metadata": {},
   "outputs": [],
   "source": [
    "# The learned parameter values, with the exception of theta0, which is off from the true value by a significant value.\n",
    "# While theta1 is off by approx. 0.004 and theta2 is off by approx 0.005, which is relatively close to the true parameters  "
   ]
  },
  {
   "attachments": {},
   "cell_type": "markdown",
   "metadata": {},
   "source": [
    "iii. Compute the training and validation error of the model"
   ]
  },
  {
   "cell_type": "code",
   "execution_count": 96,
   "metadata": {},
   "outputs": [
    {
     "name": "stdout",
     "output_type": "stream",
     "text": [
      "2542.189737865642\n",
      "1366.3023187799943\n"
     ]
    }
   ],
   "source": [
    "import math\n",
    "\n",
    "def Error(x_values, y_values):\n",
    "    sum = 0\n",
    "    index = 0\n",
    "\n",
    "    for x in x_values:\n",
    "        y_predicted = moore_penrose1[0] + moore_penrose1[1] * x + moore_penrose1[2] * x**2\n",
    "        error = y_values[index] - y_predicted\n",
    "        sum += math.pow(error,2)\n",
    "        index += 1\n",
    "\n",
    "    totalError = 0.5 * sum\n",
    "    return totalError\n",
    "\n",
    "trainingError = Error(training_x_values, training_y_values)\n",
    "validationError = Error(validation_x_values, validation_y_values)\n",
    "\n",
    "print(trainingError)\n",
    "print(validationError)"
   ]
  },
  {
   "attachments": {},
   "cell_type": "markdown",
   "metadata": {},
   "source": [
    "iv. Plot of the data and the regression model"
   ]
  },
  {
   "cell_type": "code",
   "execution_count": 101,
   "metadata": {},
   "outputs": [
    {
     "data": {
      "image/png": "[encoded data removed]",
      "text/plain": [
       "<Figure size 432x288 with 1 Axes>"
      ]
     },
     "metadata": {
      "needs_background": "light"
     },
     "output_type": "display_data"
    }
   ],
   "source": [
    "import matplotlib.pyplot as plt\n",
    "\n",
    "sorted_trainX = trainX[trainX[:,1].argsort()]\n",
    "yValues = np.dot(sorted_trainX, moore_penrose1)\n",
    "\n",
    "\n",
    "plt.scatter(sample, y)\n",
    "plt.plot(sorted_trainX[:,1], yValues, \"r\")\n",
    "plt.show()"
   ]
  }
 ],
 "metadata": {
  "kernelspec": {
   "display_name": "Python 3",
   "language": "python",
   "name": "python3"
  },
  "language_info": {
   "codemirror_mode": {
    "name": "ipython",
    "version": 3
   },
   "file_extension": ".py",
   "mimetype": "text/x-python",
   "name": "python",
   "nbconvert_exporter": "python",
   "pygments_lexer": "ipython3",
   "version": "3.10.5"
  },
  "orig_nbformat": 4
 },
 "nbformat": 4,
 "nbformat_minor": 2
}
