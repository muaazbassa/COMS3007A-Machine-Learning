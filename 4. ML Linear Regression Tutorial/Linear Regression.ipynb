{
 "cells": [
  {
   "attachments": {},
   "cell_type": "markdown",
   "metadata": {},
   "source": [
    "##  QUESTION1"
   ]
  },
  {
   "attachments": {},
   "cell_type": "markdown",
   "metadata": {},
   "source": [
    "Q1a)\n"
   ]
  },
  {
   "cell_type": "code",
   "execution_count": 1216,
   "metadata": {},
   "outputs": [
    {
     "name": "stdout",
     "output_type": "stream",
     "text": [
      "y_hat =  1.2\n",
      "error =  0.02\n"
     ]
    }
   ],
   "source": [
    "#The Predicted Value of y_hat(x) for x = 1.\n",
    "y_hat= round(0.4 + 0.8*(1),2)\n",
    "y_true = 1\n",
    "y_hat\n",
    "# The error for when x=1\n",
    "error = round(0.5 * (y_hat - y_true)**2,2)\n",
    "\n",
    "#print the y_hat and error\n",
    "print(\"y_hat = \", y_hat)\n",
    "print(\"error = \", error)"
   ]
  },
  {
   "attachments": {},
   "cell_type": "markdown",
   "metadata": {},
   "source": [
    "Q1b)"
   ]
  },
  {
   "cell_type": "code",
   "execution_count": 1217,
   "metadata": {},
   "outputs": [
    {
     "name": "stdout",
     "output_type": "stream",
     "text": [
      "y_hat =  2.0\n",
      "error =  0.5\n"
     ]
    }
   ],
   "source": [
    "#The Predicted Value of y_hat(x) for x = 2.\n",
    "y_hat= 0.4 + 0.8*(2)\n",
    "y_true = 3\n",
    "y_hat\n",
    "\n",
    "# The error for when x=2\n",
    "error = round(0.5 * (y_hat - y_true)**2,2)\n",
    "\n",
    "#print the y_hat and error\n",
    "print(\"y_hat = \", y_hat)\n",
    "print(\"error = \", error)"
   ]
  },
  {
   "attachments": {},
   "cell_type": "markdown",
   "metadata": {},
   "source": [
    "Q1c)"
   ]
  },
  {
   "cell_type": "code",
   "execution_count": 1218,
   "metadata": {},
   "outputs": [
    {
     "data": {
      "text/plain": [
       "1.2"
      ]
     },
     "execution_count": 1218,
     "metadata": {},
     "output_type": "execute_result"
    }
   ],
   "source": [
    "#sum of squares error for this model\n",
    "\n",
    "def y_hat(x):\n",
    "    y = 0.4 + 0.8*(x)\n",
    "    return y\n",
    "\n",
    "# x values\n",
    "x_values = [1,2,3,4,5]\n",
    "# y avlues\n",
    "y_values = [1,3,2,3,5]\n",
    "y_predicted = []\n",
    "error = 0.0\n",
    "for x in x_values:\n",
    "    y_predicted.append(round(y_hat(x),2))\n",
    "\n",
    "for i in range(len(y_values)):\n",
    "    error += 0.5 * (y_values[i] - y_predicted[i])**2\n",
    "\n",
    "error = round(error, 2)\n",
    "error"
   ]
  },
  {
   "attachments": {},
   "cell_type": "markdown",
   "metadata": {},
   "source": [
    "## QUESTION 4"
   ]
  },
  {
   "attachments": {},
   "cell_type": "markdown",
   "metadata": {},
   "source": [
    "# a)"
   ]
  },
  {
   "attachments": {},
   "cell_type": "markdown",
   "metadata": {},
   "source": [
    "i. Generating random sample data"
   ]
  },
  {
   "cell_type": "code",
   "execution_count": 1219,
   "metadata": {},
   "outputs": [],
   "source": [
    "import numpy as np\n",
    "\n",
    "mean = 0\n",
    "std = 10\n",
    "size = 150\n",
    "\n",
    "sample = np.random.normal(mean, std, size)\n"
   ]
  },
  {
   "attachments": {},
   "cell_type": "markdown",
   "metadata": {},
   "source": [
    "ii. Constructing design matrix from sample data"
   ]
  },
  {
   "cell_type": "code",
   "execution_count": 1220,
   "metadata": {},
   "outputs": [
    {
     "name": "stdout",
     "output_type": "stream",
     "text": [
      "[[ 1.00000000e+00  9.33140720e+00  8.70751603e+01]\n",
      " [ 1.00000000e+00  1.37806188e+00  1.89905454e+00]\n",
      " [ 1.00000000e+00 -8.36389269e+00  6.99547010e+01]\n",
      " [ 1.00000000e+00  1.17262813e+01  1.37505673e+02]\n",
      " [ 1.00000000e+00 -6.08992566e+00  3.70871946e+01]\n",
      " [ 1.00000000e+00  1.48240061e+01  2.19751156e+02]\n",
      " [ 1.00000000e+00 -4.81121788e+00  2.31478175e+01]\n",
      " [ 1.00000000e+00  1.80784502e+01  3.26830362e+02]\n",
      " [ 1.00000000e+00 -1.16412144e+01  1.35517873e+02]\n",
      " [ 1.00000000e+00  7.07146055e+00  5.00055543e+01]\n",
      " [ 1.00000000e+00 -6.84338328e+00  4.68318947e+01]\n",
      " [ 1.00000000e+00 -1.17223772e+00  1.37414127e+00]\n",
      " [ 1.00000000e+00  5.80286264e+00  3.36732148e+01]\n",
      " [ 1.00000000e+00  1.31578480e+00  1.73128963e+00]\n",
      " [ 1.00000000e+00  9.03455797e-02  8.16232377e-03]\n",
      " [ 1.00000000e+00 -3.55459468e+00  1.26351434e+01]\n",
      " [ 1.00000000e+00 -1.40436306e+01  1.97223561e+02]\n",
      " [ 1.00000000e+00  7.39369545e+00  5.46667324e+01]\n",
      " [ 1.00000000e+00 -1.86195764e+01  3.46688624e+02]\n",
      " [ 1.00000000e+00  1.90573591e+01  3.63182935e+02]\n",
      " [ 1.00000000e+00  5.74076981e+00  3.29564381e+01]\n",
      " [ 1.00000000e+00  4.53837313e+00  2.05968307e+01]\n",
      " [ 1.00000000e+00  7.86620590e+00  6.18771953e+01]\n",
      " [ 1.00000000e+00 -1.52971679e+01  2.34003345e+02]\n",
      " [ 1.00000000e+00  5.96802392e-01  3.56173095e-01]\n",
      " [ 1.00000000e+00 -4.17512752e+00  1.74316898e+01]\n",
      " [ 1.00000000e+00 -2.77706778e+00  7.71210544e+00]\n",
      " [ 1.00000000e+00  2.03850172e+01  4.15548927e+02]\n",
      " [ 1.00000000e+00  3.21928186e+00  1.03637757e+01]\n",
      " [ 1.00000000e+00 -1.04546820e+01  1.09300376e+02]\n",
      " [ 1.00000000e+00 -2.19424778e+01  4.81472333e+02]\n",
      " [ 1.00000000e+00 -1.88698054e+00  3.56069555e+00]\n",
      " [ 1.00000000e+00  3.17803334e+00  1.00998959e+01]\n",
      " [ 1.00000000e+00 -1.83595459e+00  3.37072927e+00]\n",
      " [ 1.00000000e+00 -7.78519632e+00  6.06092818e+01]\n",
      " [ 1.00000000e+00  2.62049318e+00  6.86698451e+00]\n",
      " [ 1.00000000e+00 -3.15593401e+00  9.95991950e+00]\n",
      " [ 1.00000000e+00  2.09862792e+01  4.40423915e+02]\n",
      " [ 1.00000000e+00  9.50133839e+00  9.02754313e+01]\n",
      " [ 1.00000000e+00  1.04631520e+01  1.09477551e+02]\n",
      " [ 1.00000000e+00 -8.16818597e+00  6.67192621e+01]\n",
      " [ 1.00000000e+00  6.24586387e+00  3.90108155e+01]\n",
      " [ 1.00000000e+00 -7.30671464e+00  5.33880789e+01]\n",
      " [ 1.00000000e+00 -1.00055272e+00  1.00110575e+00]\n",
      " [ 1.00000000e+00 -4.15931828e+00  1.72999286e+01]\n",
      " [ 1.00000000e+00 -2.89867715e+00  8.40232924e+00]\n",
      " [ 1.00000000e+00 -1.58945552e+01  2.52636884e+02]\n",
      " [ 1.00000000e+00 -7.09109744e+00  5.02836628e+01]\n",
      " [ 1.00000000e+00 -1.57719381e+01  2.48754030e+02]\n",
      " [ 1.00000000e+00  9.72031858e-02  9.44845934e-03]\n",
      " [ 1.00000000e+00  8.46498523e+00  7.16559750e+01]\n",
      " [ 1.00000000e+00 -6.44951257e+00  4.15962124e+01]\n",
      " [ 1.00000000e+00 -7.72774312e+00  5.97180137e+01]\n",
      " [ 1.00000000e+00  6.33670060e+00  4.01537745e+01]\n",
      " [ 1.00000000e+00  9.55418386e+00  9.12824292e+01]\n",
      " [ 1.00000000e+00 -3.42720607e-01  1.17457415e-01]\n",
      " [ 1.00000000e+00  6.07869343e+00  3.69505138e+01]\n",
      " [ 1.00000000e+00 -7.82550766e+00  6.12385701e+01]\n",
      " [ 1.00000000e+00  1.21829726e+01  1.48424821e+02]\n",
      " [ 1.00000000e+00  1.52634350e+01  2.32972447e+02]\n",
      " [ 1.00000000e+00 -8.39093214e+00  7.04077421e+01]\n",
      " [ 1.00000000e+00 -5.90830696e+00  3.49080911e+01]\n",
      " [ 1.00000000e+00 -8.79070184e+00  7.72764388e+01]\n",
      " [ 1.00000000e+00  1.11179918e+01  1.23609741e+02]\n",
      " [ 1.00000000e+00 -2.83836736e+01  8.05632928e+02]\n",
      " [ 1.00000000e+00 -8.61070543e-01  7.41442480e-01]\n",
      " [ 1.00000000e+00 -9.90726740e+00  9.81539473e+01]\n",
      " [ 1.00000000e+00  5.13097515e+00  2.63269060e+01]\n",
      " [ 1.00000000e+00  5.00471039e+00  2.50471261e+01]\n",
      " [ 1.00000000e+00 -1.63005674e+01  2.65708497e+02]\n",
      " [ 1.00000000e+00  1.06992901e+01  1.14474810e+02]\n",
      " [ 1.00000000e+00 -8.81696125e+00  7.77388057e+01]\n",
      " [ 1.00000000e+00 -1.77999891e+01  3.16839612e+02]\n",
      " [ 1.00000000e+00 -6.68472407e+00  4.46855359e+01]\n",
      " [ 1.00000000e+00  2.78435038e+00  7.75260705e+00]\n",
      " [ 1.00000000e+00  1.88307579e+01  3.54597443e+02]\n",
      " [ 1.00000000e+00 -3.69289204e+00  1.36374516e+01]\n",
      " [ 1.00000000e+00 -1.30692574e+00  1.70805490e+00]\n",
      " [ 1.00000000e+00 -4.89976822e-02  2.40077287e-03]\n",
      " [ 1.00000000e+00  8.56912583e+00  7.34299176e+01]\n",
      " [ 1.00000000e+00 -6.68837777e+00  4.47343972e+01]\n",
      " [ 1.00000000e+00  1.53503656e+01  2.35633725e+02]\n",
      " [ 1.00000000e+00 -4.95079959e+00  2.45104166e+01]\n",
      " [ 1.00000000e+00 -2.15206679e+01  4.63139146e+02]\n",
      " [ 1.00000000e+00  3.81835163e+00  1.45798092e+01]\n",
      " [ 1.00000000e+00  1.72268012e+01  2.96762679e+02]\n",
      " [ 1.00000000e+00  7.68790185e+00  5.91038349e+01]\n",
      " [ 1.00000000e+00 -6.55539239e+00  4.29731694e+01]\n",
      " [ 1.00000000e+00  1.77488779e+01  3.15022665e+02]\n",
      " [ 1.00000000e+00 -7.26321274e+00  5.27542592e+01]\n",
      " [ 1.00000000e+00 -1.10377321e+01  1.21831530e+02]\n",
      " [ 1.00000000e+00  8.83181518e-01  7.80009595e-01]\n",
      " [ 1.00000000e+00  6.87623295e+00  4.72825796e+01]\n",
      " [ 1.00000000e+00  2.48749166e+01  6.18761475e+02]\n",
      " [ 1.00000000e+00  3.10134495e-01  9.61834051e-02]\n",
      " [ 1.00000000e+00 -3.16215826e-01  9.99924484e-02]\n",
      " [ 1.00000000e+00 -1.09057127e+01  1.18934569e+02]\n",
      " [ 1.00000000e+00  9.11132972e+00  8.30163293e+01]\n",
      " [ 1.00000000e+00  3.97260787e+00  1.57816133e+01]\n",
      " [ 1.00000000e+00 -1.37755128e+01  1.89764752e+02]\n",
      " [ 1.00000000e+00  7.42550432e+00  5.51381145e+01]\n",
      " [ 1.00000000e+00  1.02835303e+01  1.05750996e+02]\n",
      " [ 1.00000000e+00  5.85904970e+00  3.43284634e+01]\n",
      " [ 1.00000000e+00 -3.41790264e+00  1.16820585e+01]\n",
      " [ 1.00000000e+00  1.15503123e+01  1.33409715e+02]\n",
      " [ 1.00000000e+00 -6.47118662e+00  4.18762563e+01]\n",
      " [ 1.00000000e+00 -5.85330195e+00  3.42611438e+01]\n",
      " [ 1.00000000e+00 -6.45908756e+00  4.17198121e+01]\n",
      " [ 1.00000000e+00  1.08627948e+01  1.18000311e+02]\n",
      " [ 1.00000000e+00  3.13276841e+00  9.81423790e+00]\n",
      " [ 1.00000000e+00  1.61574420e+01  2.61062933e+02]\n",
      " [ 1.00000000e+00  7.63162436e+00  5.82416904e+01]\n",
      " [ 1.00000000e+00 -1.15621949e+01  1.33684350e+02]\n",
      " [ 1.00000000e+00  9.10075162e+00  8.28236800e+01]\n",
      " [ 1.00000000e+00 -4.82115900e+00  2.32435741e+01]\n",
      " [ 1.00000000e+00  2.10883654e+01  4.44719156e+02]\n",
      " [ 1.00000000e+00  1.11304613e+01  1.23887169e+02]\n",
      " [ 1.00000000e+00 -6.98385086e+00  4.87741729e+01]\n",
      " [ 1.00000000e+00  1.31815924e+01  1.73754379e+02]\n",
      " [ 1.00000000e+00 -1.79017161e+01  3.20471440e+02]\n",
      " [ 1.00000000e+00 -3.59925461e+00  1.29546338e+01]\n",
      " [ 1.00000000e+00 -5.55929292e+00  3.09057378e+01]\n",
      " [ 1.00000000e+00 -6.93057408e+00  4.80328571e+01]\n",
      " [ 1.00000000e+00 -9.69281813e+00  9.39507233e+01]\n",
      " [ 1.00000000e+00  9.43471739e-01  8.90138922e-01]\n",
      " [ 1.00000000e+00 -1.54158234e+00  2.37647610e+00]\n",
      " [ 1.00000000e+00  1.76391622e+00  3.11140042e+00]\n",
      " [ 1.00000000e+00 -1.56584466e+01  2.45186951e+02]\n",
      " [ 1.00000000e+00  7.00867666e+00  4.91215485e+01]\n",
      " [ 1.00000000e+00  1.63370274e+01  2.66898464e+02]\n",
      " [ 1.00000000e+00 -5.44178774e+00  2.96130538e+01]\n",
      " [ 1.00000000e+00 -1.14104165e+00  1.30197605e+00]\n",
      " [ 1.00000000e+00  7.38851924e-01  5.45902166e-01]\n",
      " [ 1.00000000e+00  8.38327545e+00  7.02793073e+01]\n",
      " [ 1.00000000e+00  4.68873100e+00  2.19841984e+01]\n",
      " [ 1.00000000e+00 -1.90263757e+01  3.62002971e+02]\n",
      " [ 1.00000000e+00 -1.44786487e+01  2.09631268e+02]\n",
      " [ 1.00000000e+00 -1.19348542e+01  1.42440744e+02]\n",
      " [ 1.00000000e+00  9.45265126e+00  8.93526159e+01]\n",
      " [ 1.00000000e+00  7.70891009e-01  5.94272947e-01]\n",
      " [ 1.00000000e+00  8.09262255e+00  6.54905397e+01]\n",
      " [ 1.00000000e+00  2.01813456e+01  4.07286711e+02]\n",
      " [ 1.00000000e+00 -8.06553260e+00  6.50528161e+01]\n",
      " [ 1.00000000e+00  2.79470646e+00  7.81038418e+00]\n",
      " [ 1.00000000e+00 -2.97237215e+01  8.83499622e+02]\n",
      " [ 1.00000000e+00  1.90494649e+01  3.62882114e+02]\n",
      " [ 1.00000000e+00  2.30997092e+01  5.33596564e+02]\n",
      " [ 1.00000000e+00  3.19661380e+00  1.02183398e+01]\n",
      " [ 1.00000000e+00 -2.38421146e+00  5.68446427e+00]\n",
      " [ 1.00000000e+00  1.01487699e+01  1.02997530e+02]]\n"
     ]
    }
   ],
   "source": [
    "def designMatrix(s, rows, cols):\n",
    "    design = np.ones((rows, cols))\n",
    "    for i in range(cols):\n",
    "        design[:,i] = s**i\n",
    "    return design\n",
    "\n",
    "design = designMatrix(sample, 150, 3)\n",
    "\n",
    "print(design)\n"
   ]
  },
  {
   "attachments": {},
   "cell_type": "markdown",
   "metadata": {},
   "source": [
    "iii. Sample true values for theta, (3 values - corresponds to features)"
   ]
  },
  {
   "cell_type": "code",
   "execution_count": 1221,
   "metadata": {},
   "outputs": [
    {
     "name": "stdout",
     "output_type": "stream",
     "text": [
      "[0.12070692 0.03209851 0.76317624]\n"
     ]
    }
   ],
   "source": [
    "theta = np.random.uniform(0, 1, 3)\n",
    "\n",
    "theta0 = theta[0]\n",
    "theta1 = theta[1]\n",
    "theta2 = theta[2]\n",
    "\n",
    "print(theta)"
   ]
  },
  {
   "attachments": {},
   "cell_type": "markdown",
   "metadata": {},
   "source": [
    "iv. Generate y values using design matrix and true parameter. Also add noise to make data more realistic"
   ]
  },
  {
   "cell_type": "code",
   "execution_count": 1222,
   "metadata": {},
   "outputs": [
    {
     "name": "stdout",
     "output_type": "stream",
     "text": [
      "[ 6.01995280e+01 -2.71303263e-01  5.02565127e+01  1.09043612e+02\n",
      "  3.39136094e+01  1.75217619e+02  2.80376706e+00  2.41291820e+02\n",
      "  1.06739386e+02  3.61698493e+01  4.59683669e+01 -9.16416629e-01\n",
      "  1.10898584e+01  1.45688428e+00 -7.63580178e-01  1.22810221e+01\n",
      "  1.40745123e+02  4.87963897e+01  2.79765039e+02  2.65361598e+02\n",
      "  4.19013463e+01  2.13605357e+01  5.05568061e+01  1.62055682e+02\n",
      "  9.23390634e+00  8.08765002e+00 -1.62367208e+00  3.26154968e+02\n",
      " -1.32141477e+00  7.51934294e+01  3.54202944e+02  4.88907507e+00\n",
      "  1.52457052e+01 -7.76852539e-01  4.25668002e+01  1.12770435e+01\n",
      "  1.10973480e+01  3.47032173e+02  6.66897920e+01  8.63248622e+01\n",
      "  4.95277444e+01  3.29710138e+01  3.24228254e+01 -2.56217906e+00\n",
      "  1.00705209e+01  7.62321806e+00  1.91963575e+02  4.96698602e+01\n",
      "  1.96290515e+02  5.58304448e+00  4.82154270e+01  3.69678421e+01\n",
      "  5.66028276e+01  2.96377625e+01  8.15011576e+01 -6.86528910e-02\n",
      "  2.91010223e+01  4.05509641e+01  1.12358824e+02  1.68622864e+02\n",
      "  4.80185176e+01  2.35530773e+01  5.53389333e+01  8.95000870e+01\n",
      "  6.17776774e+02 -8.03095258e-02  7.80984108e+01  7.34406860e+00\n",
      "  2.06424852e+01  1.88055438e+02  8.54506234e+01  5.44158367e+01\n",
      "  2.40905869e+02  3.64426324e+01 -7.34641287e+00  2.73437503e+02\n",
      "  1.49392156e+01 -1.39970259e+00 -2.37897953e+00  6.77437427e+01\n",
      "  1.63648763e+01  1.77296104e+02  1.14169048e+01  3.74365474e+02\n",
      "  1.55318682e+01  2.25313817e+02  4.00630396e+01  1.09365931e+01\n",
      "  2.46027976e+02  4.79105131e+01  8.48807832e+01 -1.10327144e+01\n",
      "  3.96335982e+01  4.86936838e+02 -7.41660842e+00 -7.61166438e+00\n",
      "  8.36723699e+01  6.42571613e+01  1.84936969e+01  1.57454219e+02\n",
      "  5.17704771e+01  8.82883493e+01  2.36721154e+01  3.01790255e-01\n",
      "  9.21525819e+01  4.21535171e+01  2.87721410e+01  3.51406354e+01\n",
      "  8.81198240e+01  8.01206518e+00  1.97235990e+02  4.81462094e+01\n",
      "  1.12600649e+02  6.12317476e+01  2.43693322e+01  3.44233623e+02\n",
      "  1.08815947e+02  3.18476433e+01  1.30637118e+02  2.26974440e+02\n",
      "  2.06434180e+01  1.92894905e+01  1.92762414e+01  6.45795594e+01\n",
      "  1.31552793e+01  5.25390932e+00 -1.07354315e+01  1.96430732e+02\n",
      "  4.52453352e+01  1.96857008e+02  2.40329211e+01 -3.36590638e+00\n",
      " -3.63192963e+00  5.00669566e+01  1.88274303e+01  2.68252408e+02\n",
      "  1.57576279e+02  1.13526108e+02  5.32825058e+01  3.71289203e+00\n",
      "  6.96010153e+01  3.13425497e+02  4.77085869e+01  1.38333978e+01\n",
      "  6.90732175e+02  2.77732991e+02  4.03378378e+02  1.60526831e+01\n",
      "  4.15424841e+00  6.77970500e+01]\n"
     ]
    }
   ],
   "source": [
    "mean = 0\n",
    "std = 8\n",
    "size = 150\n",
    "\n",
    "noise = np.random.normal(mean, std, size)\n",
    "\n",
    "y = np.dot(design, theta) + noise\n",
    "\n",
    "print(y)"
   ]
  },
  {
   "attachments": {},
   "cell_type": "markdown",
   "metadata": {},
   "source": [
    "v. Plot sample data with generated y values"
   ]
  },
  {
   "cell_type": "code",
   "execution_count": 1223,
   "metadata": {},
   "outputs": [
    {
     "data": {
      "image/png": "[encoded data removed]",
      "text/plain": [
       "<Figure size 432x288 with 1 Axes>"
      ]
     },
     "metadata": {
      "needs_background": "light"
     },
     "output_type": "display_data"
    }
   ],
   "source": [
    "import matplotlib.pyplot as plt\n",
    "\n",
    "plt.scatter(sample, y)\n",
    "plt.show()"
   ]
  },
  {
   "attachments": {},
   "cell_type": "markdown",
   "metadata": {},
   "source": [
    "vi. Split sample data into training, testing and validation data"
   ]
  },
  {
   "cell_type": "code",
   "execution_count": 1224,
   "metadata": {},
   "outputs": [],
   "source": [
    "#90 of 150 for training (60%)\n",
    "#30 of 150 for testing (20%)\n",
    "#30 of 150 for validation (20%)\n",
    "\n",
    "#Training\n",
    "training_x_values = sample[:90]\n",
    "training_y_values = y[:90]\n",
    "trainDMB = design[:90]\n",
    "\n",
    "#Testing\n",
    "testing_x_values = sample[120:150]\n",
    "testing_y_values = y[120:150]\n",
    "testDMB = design[120:150]\n",
    "\n",
    "#Validation\n",
    "validation_x_values = sample[90:120]\n",
    "validation_y_values = y[90:120]\n",
    "validDMB = design[90:120]\n",
    "\n",
    "# print(training_x_values)\n"
   ]
  },
  {
   "attachments": {},
   "cell_type": "markdown",
   "metadata": {},
   "source": [
    "# b)"
   ]
  },
  {
   "attachments": {},
   "cell_type": "markdown",
   "metadata": {},
   "source": [
    "i. Use Moore-Penrose pseudo-inverse to calculate the closed form solution"
   ]
  },
  {
   "cell_type": "code",
   "execution_count": 1225,
   "metadata": {},
   "outputs": [
    {
     "name": "stdout",
     "output_type": "stream",
     "text": [
      "[-1.23273457  0.06415847  0.76891479]\n"
     ]
    }
   ],
   "source": [
    "def moorePenrose(DMatrix, y_values):\n",
    "    dmTranspose = np.transpose(DMatrix)\n",
    "    firstPart = np.linalg.inv(np.dot(dmTranspose, DMatrix))\n",
    "    secondPart = np.dot(dmTranspose, y_values)\n",
    "    finalMoore = np.dot(firstPart, secondPart)\n",
    "    return finalMoore\n",
    "\n",
    "moore_penrose = moorePenrose(trainDMB, training_y_values)\n",
    "\n",
    "print(moore_penrose)\n",
    "# print(theta)\n"
   ]
  },
  {
   "attachments": {},
   "cell_type": "markdown",
   "metadata": {},
   "source": [
    "ii. How close are the learned parameter values to the true parameters?"
   ]
  },
  {
   "cell_type": "code",
   "execution_count": 1226,
   "metadata": {},
   "outputs": [],
   "source": [
    "# The learned parameter values, with the exception of theta0, which is off from the true value by a significant value.\n",
    "# While theta1 is off by approx. 0.004 and theta2 is off by approx 0.005, which is relatively close to the true parameters  "
   ]
  },
  {
   "attachments": {},
   "cell_type": "markdown",
   "metadata": {},
   "source": [
    "iii. Compute the training and validation error of the model"
   ]
  },
  {
   "cell_type": "code",
   "execution_count": 1227,
   "metadata": {},
   "outputs": [
    {
     "name": "stdout",
     "output_type": "stream",
     "text": [
      "18.89607199771052\n",
      "6.301679735101095\n"
     ]
    }
   ],
   "source": [
    "import math\n",
    "\n",
    "def mooreError(x_values, y_values):\n",
    "    sum = 0\n",
    "    index = 0\n",
    "\n",
    "    for x in x_values:\n",
    "        y_predicted = moore_penrose[0] + moore_penrose[1] * x + moore_penrose[2] * math.pow(x, 2)\n",
    "        error = y_values[index] - y_predicted\n",
    "        sum += math.pow(error,2)\n",
    "        index += 1\n",
    "\n",
    "    totalError = (1 / (2 * 150)) * sum # Since the fraction is valid as long as its a constant (slides)\n",
    "    return totalError\n",
    "\n",
    "trainingError = mooreError(training_x_values, training_y_values)\n",
    "validationError = mooreError(validation_x_values, validation_y_values)\n",
    "\n",
    "print(trainingError)\n",
    "print(validationError)"
   ]
  },
  {
   "attachments": {},
   "cell_type": "markdown",
   "metadata": {},
   "source": [
    "iv. Plot of the data and the regression model"
   ]
  },
  {
   "cell_type": "code",
   "execution_count": 1228,
   "metadata": {},
   "outputs": [
    {
     "data": {
      "image/png": "[encoded data removed]",
      "text/plain": [
       "<Figure size 432x288 with 1 Axes>"
      ]
     },
     "metadata": {
      "needs_background": "light"
     },
     "output_type": "display_data"
    }
   ],
   "source": [
    "import matplotlib.pyplot as plt\n",
    "\n",
    "sorted_trainX = trainDMB[trainDMB[:,1].argsort()]\n",
    "sorted_trainY = np.dot(sorted_trainX, moore_penrose)\n",
    "\n",
    "plt.scatter(training_x_values, training_y_values)\n",
    "plt.plot(sorted_trainX[:,1], sorted_trainY, \"r\")\n",
    "plt.show()"
   ]
  },
  {
   "attachments": {},
   "cell_type": "markdown",
   "metadata": {},
   "source": [
    "v. Repeat the above process using Gradient Descent to train your model. In addition, plot the\n",
    "training error of your regression model over time (observe or capture the training error every 20\n",
    "parameter updates/time steps). Your plot should look like Figure 2c."
   ]
  },
  {
   "cell_type": "code",
   "execution_count": 1229,
   "metadata": {},
   "outputs": [
    {
     "data": {
      "image/png": "[encoded data removed]",
      "text/plain": [
       "<Figure size 432x288 with 1 Axes>"
      ]
     },
     "metadata": {
      "needs_background": "light"
     },
     "output_type": "display_data"
    },
    {
     "name": "stdout",
     "output_type": "stream",
     "text": [
      "[ 0.00240938 -0.00265297  0.73479421]\n"
     ]
    }
   ],
   "source": [
    "import numpy as np\n",
    "\n",
    "def gradient_descent(X, y, learning_rate=0.0000001, num_iterations=1000):\n",
    "    # Initialize parameters\n",
    "    m, n = X.shape\n",
    "    theta = np.zeros(n)\n",
    "    errors = []\n",
    "\n",
    "    # Perform gradient descent\n",
    "    for i in range(num_iterations):\n",
    "        # Compute predictions\n",
    "        y_pred = X.dot(theta)\n",
    "\n",
    "        # Compute errors\n",
    "        error = y_pred - y\n",
    "        \n",
    "        if (i % 20):\n",
    "            errors.append(np.mean(error**2))\n",
    "\n",
    "        # Compute gradients\n",
    "        grad = np.dot(X.T, error) / m\n",
    "\n",
    "        # Update parameters\n",
    "        theta = theta - learning_rate * grad\n",
    "\n",
    "    return theta, errors\n",
    "\n",
    "\n",
    "thetaB, errorB = gradient_descent(trainDMB, training_y_values)\n",
    "\n",
    "plt.plot(errorB, color=\"orange\")\n",
    "plt.show()\n",
    "\n",
    "print(thetaB)\n"
   ]
  },
  {
   "attachments": {},
   "cell_type": "markdown",
   "metadata": {},
   "source": [
    "# C)"
   ]
  },
  {
   "attachments": {},
   "cell_type": "markdown",
   "metadata": {},
   "source": [
    "i. Begin by appending a third feature to your design matrix for x3"
   ]
  },
  {
   "cell_type": "code",
   "execution_count": 1230,
   "metadata": {},
   "outputs": [
    {
     "name": "stdout",
     "output_type": "stream",
     "text": [
      "[[ 1.00000000e+00  9.33140720e+00  8.70751603e+01  8.12533777e+02]\n",
      " [ 1.00000000e+00  1.37806188e+00  1.89905454e+00  2.61701466e+00]\n",
      " [ 1.00000000e+00 -8.36389269e+00  6.99547010e+01 -5.85093613e+02]\n",
      " [ 1.00000000e+00  1.17262813e+01  1.37505673e+02  1.61243020e+03]\n",
      " [ 1.00000000e+00 -6.08992566e+00  3.70871946e+01 -2.25858258e+02]\n",
      " [ 1.00000000e+00  1.48240061e+01  2.19751156e+02  3.25759247e+03]\n",
      " [ 1.00000000e+00 -4.81121788e+00  2.31478175e+01 -1.11369194e+02]\n",
      " [ 1.00000000e+00  1.80784502e+01  3.26830362e+02  5.90858644e+03]\n",
      " [ 1.00000000e+00 -1.16412144e+01  1.35517873e+02 -1.57759262e+03]\n",
      " [ 1.00000000e+00  7.07146055e+00  5.00055543e+01  3.53612304e+02]\n",
      " [ 1.00000000e+00 -6.84338328e+00  4.68318947e+01 -3.20488605e+02]\n",
      " [ 1.00000000e+00 -1.17223772e+00  1.37414127e+00 -1.61082023e+00]\n",
      " [ 1.00000000e+00  5.80286264e+00  3.36732148e+01  1.95401040e+02]\n",
      " [ 1.00000000e+00  1.31578480e+00  1.73128963e+00  2.27800458e+00]\n",
      " [ 1.00000000e+00  9.03455797e-02  8.16232377e-03  7.37429873e-04]\n",
      " [ 1.00000000e+00 -3.55459468e+00  1.26351434e+01 -4.49128135e+01]\n",
      " [ 1.00000000e+00 -1.40436306e+01  1.97223561e+02 -2.76973484e+03]\n",
      " [ 1.00000000e+00  7.39369545e+00  5.46667324e+01  4.04189170e+02]\n",
      " [ 1.00000000e+00 -1.86195764e+01  3.46688624e+02 -6.45519530e+03]\n",
      " [ 1.00000000e+00  1.90573591e+01  3.63182935e+02  6.92130760e+03]\n",
      " [ 1.00000000e+00  5.74076981e+00  3.29564381e+01  1.89195325e+02]\n",
      " [ 1.00000000e+00  4.53837313e+00  2.05968307e+01  9.34761027e+01]\n",
      " [ 1.00000000e+00  7.86620590e+00  6.18771953e+01  4.86738759e+02]\n",
      " [ 1.00000000e+00 -1.52971679e+01  2.34003345e+02 -3.57958845e+03]\n",
      " [ 1.00000000e+00  5.96802392e-01  3.56173095e-01  2.12564955e-01]\n",
      " [ 1.00000000e+00 -4.17512752e+00  1.74316898e+01 -7.27795277e+01]\n",
      " [ 1.00000000e+00 -2.77706778e+00  7.71210544e+00 -2.14170395e+01]\n",
      " [ 1.00000000e+00  2.03850172e+01  4.15548927e+02  8.47097205e+03]\n",
      " [ 1.00000000e+00  3.21928186e+00  1.03637757e+01  3.33639152e+01]\n",
      " [ 1.00000000e+00 -1.04546820e+01  1.09300376e+02 -1.14270067e+03]\n",
      " [ 1.00000000e+00 -2.19424778e+01  4.81472333e+02 -1.05646960e+04]\n",
      " [ 1.00000000e+00 -1.88698054e+00  3.56069555e+00 -6.71896319e+00]\n",
      " [ 1.00000000e+00  3.17803334e+00  1.00998959e+01  3.20978061e+01]\n",
      " [ 1.00000000e+00 -1.83595459e+00  3.37072927e+00 -6.18850589e+00]\n",
      " [ 1.00000000e+00 -7.78519632e+00  6.06092818e+01 -4.71855157e+02]\n",
      " [ 1.00000000e+00  2.62049318e+00  6.86698451e+00  1.79948861e+01]\n",
      " [ 1.00000000e+00 -3.15593401e+00  9.95991950e+00 -3.14328487e+01]\n",
      " [ 1.00000000e+00  2.09862792e+01  4.40423915e+02  9.24285925e+03]\n",
      " [ 1.00000000e+00  9.50133839e+00  9.02754313e+01  8.57737421e+02]\n",
      " [ 1.00000000e+00  1.04631520e+01  1.09477551e+02  1.14548026e+03]\n",
      " [ 1.00000000e+00 -8.16818597e+00  6.67192621e+01 -5.44975341e+02]\n",
      " [ 1.00000000e+00  6.24586387e+00  3.90108155e+01  2.43656243e+02]\n",
      " [ 1.00000000e+00 -7.30671464e+00  5.33880789e+01 -3.90091458e+02]\n",
      " [ 1.00000000e+00 -1.00055272e+00  1.00110575e+00 -1.00165909e+00]\n",
      " [ 1.00000000e+00 -4.15931828e+00  1.72999286e+01 -7.19559093e+01]\n",
      " [ 1.00000000e+00 -2.89867715e+00  8.40232924e+00 -2.43556398e+01]\n",
      " [ 1.00000000e+00 -1.58945552e+01  2.52636884e+02 -4.01555090e+03]\n",
      " [ 1.00000000e+00 -7.09109744e+00  5.02836628e+01 -3.56566353e+02]\n",
      " [ 1.00000000e+00 -1.57719381e+01  2.48754030e+02 -3.92333315e+03]\n",
      " [ 1.00000000e+00  9.72031858e-02  9.44845934e-03  9.18420349e-04]\n",
      " [ 1.00000000e+00  8.46498523e+00  7.16559750e+01  6.06566770e+02]\n",
      " [ 1.00000000e+00 -6.44951257e+00  4.15962124e+01 -2.68275295e+02]\n",
      " [ 1.00000000e+00 -7.72774312e+00  5.97180137e+01 -4.61485470e+02]\n",
      " [ 1.00000000e+00  6.33670060e+00  4.01537745e+01  2.54442447e+02]\n",
      " [ 1.00000000e+00  9.55418386e+00  9.12824292e+01  8.72129111e+02]\n",
      " [ 1.00000000e+00 -3.42720607e-01  1.17457415e-01 -4.02550765e-02]\n",
      " [ 1.00000000e+00  6.07869343e+00  3.69505138e+01  2.24610846e+02]\n",
      " [ 1.00000000e+00 -7.82550766e+00  6.12385701e+01 -4.79222899e+02]\n",
      " [ 1.00000000e+00  1.21829726e+01  1.48424821e+02  1.80825552e+03]\n",
      " [ 1.00000000e+00  1.52634350e+01  2.32972447e+02  3.55595980e+03]\n",
      " [ 1.00000000e+00 -8.39093214e+00  7.04077421e+01 -5.90786586e+02]\n",
      " [ 1.00000000e+00 -5.90830696e+00  3.49080911e+01 -2.06247717e+02]\n",
      " [ 1.00000000e+00 -8.79070184e+00  7.72764388e+01 -6.79314133e+02]\n",
      " [ 1.00000000e+00  1.11179918e+01  1.23609741e+02  1.37429208e+03]\n",
      " [ 1.00000000e+00 -2.83836736e+01  8.05632928e+02 -2.28668221e+04]\n",
      " [ 1.00000000e+00 -8.61070543e-01  7.41442480e-01 -6.38434279e-01]\n",
      " [ 1.00000000e+00 -9.90726740e+00  9.81539473e+01 -9.72437402e+02]\n",
      " [ 1.00000000e+00  5.13097515e+00  2.63269060e+01  1.35082700e+02]\n",
      " [ 1.00000000e+00  5.00471039e+00  2.50471261e+01  1.25353612e+02]\n",
      " [ 1.00000000e+00 -1.63005674e+01  2.65708497e+02 -4.33119926e+03]\n",
      " [ 1.00000000e+00  1.06992901e+01  1.14474810e+02  1.22479920e+03]\n",
      " [ 1.00000000e+00 -8.81696125e+00  7.77388057e+01 -6.85420037e+02]\n",
      " [ 1.00000000e+00 -1.77999891e+01  3.16839612e+02 -5.63974164e+03]\n",
      " [ 1.00000000e+00 -6.68472407e+00  4.46855359e+01 -2.98710477e+02]\n",
      " [ 1.00000000e+00  2.78435038e+00  7.75260705e+00  2.15859744e+01]\n",
      " [ 1.00000000e+00  1.88307579e+01  3.54597443e+02  6.67733860e+03]\n",
      " [ 1.00000000e+00 -3.69289204e+00  1.36374516e+01 -5.03616367e+01]\n",
      " [ 1.00000000e+00 -1.30692574e+00  1.70805490e+00 -2.23230092e+00]\n",
      " [ 1.00000000e+00 -4.89976822e-02  2.40077287e-03 -1.17632306e-04]\n",
      " [ 1.00000000e+00  8.56912583e+00  7.34299176e+01  6.29230204e+02]\n",
      " [ 1.00000000e+00 -6.68837777e+00  4.47343972e+01 -2.99200547e+02]\n",
      " [ 1.00000000e+00  1.53503656e+01  2.35633725e+02  3.61706384e+03]\n",
      " [ 1.00000000e+00 -4.95079959e+00  2.45104166e+01 -1.21346160e+02]\n",
      " [ 1.00000000e+00 -2.15206679e+01  4.63139146e+02 -9.96706374e+03]\n",
      " [ 1.00000000e+00  3.81835163e+00  1.45798092e+01  5.56708380e+01]\n",
      " [ 1.00000000e+00  1.72268012e+01  2.96762679e+02  5.11227166e+03]\n",
      " [ 1.00000000e+00  7.68790185e+00  5.91038349e+01  4.54384482e+02]\n",
      " [ 1.00000000e+00 -6.55539239e+00  4.29731694e+01 -2.81705987e+02]\n",
      " [ 1.00000000e+00  1.77488779e+01  3.15022665e+02  5.59129881e+03]\n",
      " [ 1.00000000e+00 -7.26321274e+00  5.27542592e+01 -3.83165408e+02]\n",
      " [ 1.00000000e+00 -1.10377321e+01  1.21831530e+02 -1.34474379e+03]\n",
      " [ 1.00000000e+00  8.83181518e-01  7.80009595e-01  6.88890058e-01]\n",
      " [ 1.00000000e+00  6.87623295e+00  4.72825796e+01  3.25126032e+02]\n",
      " [ 1.00000000e+00  2.48749166e+01  6.18761475e+02  1.53916401e+04]\n",
      " [ 1.00000000e+00  3.10134495e-01  9.61834051e-02  2.98297918e-02]\n",
      " [ 1.00000000e+00 -3.16215826e-01  9.99924484e-02 -3.16191946e-02]\n",
      " [ 1.00000000e+00 -1.09057127e+01  1.18934569e+02 -1.29706623e+03]\n",
      " [ 1.00000000e+00  9.11132972e+00  8.30163293e+01  7.56389148e+02]\n",
      " [ 1.00000000e+00  3.97260787e+00  1.57816133e+01  6.26941610e+01]\n",
      " [ 1.00000000e+00 -1.37755128e+01  1.89764752e+02 -2.61410677e+03]\n",
      " [ 1.00000000e+00  7.42550432e+00  5.51381145e+01  4.09428307e+02]\n",
      " [ 1.00000000e+00  1.02835303e+01  1.05750996e+02  1.08749358e+03]\n",
      " [ 1.00000000e+00  5.85904970e+00  3.43284634e+01  2.01132173e+02]\n",
      " [ 1.00000000e+00 -3.41790264e+00  1.16820585e+01 -3.99281384e+01]\n",
      " [ 1.00000000e+00  1.15503123e+01  1.33409715e+02  1.54092388e+03]\n",
      " [ 1.00000000e+00 -6.47118662e+00  4.18762563e+01 -2.70989069e+02]\n",
      " [ 1.00000000e+00 -5.85330195e+00  3.42611438e+01 -2.00540820e+02]\n",
      " [ 1.00000000e+00 -6.45908756e+00  4.17198121e+01 -2.69471919e+02]\n",
      " [ 1.00000000e+00  1.08627948e+01  1.18000311e+02  1.28181316e+03]\n",
      " [ 1.00000000e+00  3.13276841e+00  9.81423790e+00  3.07457344e+01]\n",
      " [ 1.00000000e+00  1.61574420e+01  2.61062933e+02  4.21810921e+03]\n",
      " [ 1.00000000e+00  7.63162436e+00  5.82416904e+01  4.44478703e+02]\n",
      " [ 1.00000000e+00 -1.15621949e+01  1.33684350e+02 -1.54568451e+03]\n",
      " [ 1.00000000e+00  9.10075162e+00  8.28236800e+01  7.53757739e+02]\n",
      " [ 1.00000000e+00 -4.82115900e+00  2.32435741e+01 -1.12060966e+02]\n",
      " [ 1.00000000e+00  2.10883654e+01  4.44719156e+02  9.37840007e+03]\n",
      " [ 1.00000000e+00  1.11304613e+01  1.23887169e+02  1.37892135e+03]\n",
      " [ 1.00000000e+00 -6.98385086e+00  4.87741729e+01 -3.40631549e+02]\n",
      " [ 1.00000000e+00  1.31815924e+01  1.73754379e+02  2.29035940e+03]\n",
      " [ 1.00000000e+00 -1.79017161e+01  3.20471440e+02 -5.73698873e+03]\n",
      " [ 1.00000000e+00 -3.59925461e+00  1.29546338e+01 -4.66270254e+01]\n",
      " [ 1.00000000e+00 -5.55929292e+00  3.09057378e+01 -1.71814049e+02]\n",
      " [ 1.00000000e+00 -6.93057408e+00  4.80328571e+01 -3.32895275e+02]\n",
      " [ 1.00000000e+00 -9.69281813e+00  9.39507233e+01 -9.10647275e+02]\n",
      " [ 1.00000000e+00  9.43471739e-01  8.90138922e-01  8.39820916e-01]\n",
      " [ 1.00000000e+00 -1.54158234e+00  2.37647610e+00 -3.66353359e+00]\n",
      " [ 1.00000000e+00  1.76391622e+00  3.11140042e+00  5.48824966e+00]\n",
      " [ 1.00000000e+00 -1.56584466e+01  2.45186951e+02 -3.83924679e+03]\n",
      " [ 1.00000000e+00  7.00867666e+00  4.91215485e+01  3.44277051e+02]\n",
      " [ 1.00000000e+00  1.63370274e+01  2.66898464e+02  4.36032751e+03]\n",
      " [ 1.00000000e+00 -5.44178774e+00  2.96130538e+01 -1.61147953e+02]\n",
      " [ 1.00000000e+00 -1.14104165e+00  1.30197605e+00 -1.48560890e+00]\n",
      " [ 1.00000000e+00  7.38851924e-01  5.45902166e-01  4.03340865e-01]\n",
      " [ 1.00000000e+00  8.38327545e+00  7.02793073e+01  5.89170791e+02]\n",
      " [ 1.00000000e+00  4.68873100e+00  2.19841984e+01  1.03077992e+02]\n",
      " [ 1.00000000e+00 -1.90263757e+01  3.62002971e+02 -6.88760452e+03]\n",
      " [ 1.00000000e+00 -1.44786487e+01  2.09631268e+02 -3.03517748e+03]\n",
      " [ 1.00000000e+00 -1.19348542e+01  1.42440744e+02 -1.70000951e+03]\n",
      " [ 1.00000000e+00  9.45265126e+00  8.93526159e+01  8.44619118e+02]\n",
      " [ 1.00000000e+00  7.70891009e-01  5.94272947e-01  4.58119672e-01]\n",
      " [ 1.00000000e+00  8.09262255e+00  6.54905397e+01  5.29990218e+02]\n",
      " [ 1.00000000e+00  2.01813456e+01  4.07286711e+02  8.21959388e+03]\n",
      " [ 1.00000000e+00 -8.06553260e+00  6.50528161e+01 -5.24685609e+02]\n",
      " [ 1.00000000e+00  2.79470646e+00  7.81038418e+00  2.18277311e+01]\n",
      " [ 1.00000000e+00 -2.97237215e+01  8.83499622e+02 -2.62608968e+04]\n",
      " [ 1.00000000e+00  1.90494649e+01  3.62882114e+02  6.91271010e+03]\n",
      " [ 1.00000000e+00  2.30997092e+01  5.33596564e+02  1.23259254e+04]\n",
      " [ 1.00000000e+00  3.19661380e+00  1.02183398e+01  3.26640859e+01]\n",
      " [ 1.00000000e+00 -2.38421146e+00  5.68446427e+00 -1.35529648e+01]\n",
      " [ 1.00000000e+00  1.01487699e+01  1.02997530e+02  1.04529822e+03]]\n"
     ]
    }
   ],
   "source": [
    "# Adding x^3 column\n",
    "def designMatrix(s, rows, cols):\n",
    "    design = np.ones((rows, cols))\n",
    "    for i in range(cols):\n",
    "        design[:,i] = s**i\n",
    "    return design\n",
    "\n",
    "designX3 = designMatrix(sample, 150, 4)\n",
    "\n",
    "print(designX3)"
   ]
  },
  {
   "attachments": {},
   "cell_type": "markdown",
   "metadata": {},
   "source": [
    "ii. Train a model using Gradient Descent with the new design matrix. Repeat the process used above\n",
    "    in Question 4b. Note, we are now using a third-order polynomial to fit data which was generated\n",
    "    using a second-order polynomial. Our function is, thus, more complicated than is necessary to\n",
    "    fit the data and as a result will overfit."
   ]
  },
  {
   "cell_type": "code",
   "execution_count": 1231,
   "metadata": {},
   "outputs": [
    {
     "name": "stdout",
     "output_type": "stream",
     "text": [
      "[0.24634473 0.36080624 0.95921345 0.22924918]\n"
     ]
    }
   ],
   "source": [
    "# This is from 4 a) \n",
    "thetaX3 = np.random.uniform(0, 1, 4)\n",
    "\n",
    "theta0 = thetaX3[0]\n",
    "theta1 = thetaX3[1]\n",
    "theta2 = thetaX3[2]\n",
    "theta3 = thetaX3[3]\n",
    "\n",
    "print(thetaX3)\n"
   ]
  },
  {
   "attachments": {},
   "cell_type": "markdown",
   "metadata": {},
   "source": [
    "Spliting data into training, test and validation"
   ]
  },
  {
   "cell_type": "code",
   "execution_count": 1232,
   "metadata": {},
   "outputs": [],
   "source": [
    "# #Training\n",
    "training_x_values = sample[:90]\n",
    "training_y_values = y[:90]\n",
    "trainDMC = designX3[:90]\n",
    "\n",
    "#Testing\n",
    "testing_x_values = sample[120:150]\n",
    "testing_y_values = y[120:150]\n",
    "testDMC = designX3[120:150]\n",
    "\n",
    "#Validation\n",
    "validation_x_valuesX3 = sample[90:120]\n",
    "validation_y_valuesX3 = y[90:120]\n",
    "validDMC = designX3[90:120]"
   ]
  },
  {
   "attachments": {},
   "cell_type": "markdown",
   "metadata": {},
   "source": [
    "Use Moore Penrose to generate closed form solution to the model parameter values (NOT NEEDED)"
   ]
  },
  {
   "cell_type": "code",
   "execution_count": 1233,
   "metadata": {},
   "outputs": [
    {
     "name": "stdout",
     "output_type": "stream",
     "text": [
      "[-1.03651152e+00  1.58749408e-01  7.66873626e-01 -3.27880535e-04]\n"
     ]
    },
    {
     "data": {
      "image/png": "[encoded data removed]",
      "text/plain": [
       "<Figure size 432x288 with 1 Axes>"
      ]
     },
     "metadata": {
      "needs_background": "light"
     },
     "output_type": "display_data"
    }
   ],
   "source": [
    "import matplotlib.pyplot as plt\n",
    "\n",
    "moore_penrose = moorePenrose(trainDMC, training_y_values)\n",
    "print(moore_penrose)\n",
    "\n",
    "sorted_trainX = trainDMC[trainDMC[:,1].argsort()]\n",
    "sorted_trainY = np.dot(sorted_trainX, moore_penrose)\n",
    "\n",
    "plt.scatter(training_x_values, training_y_values)\n",
    "plt.plot(sorted_trainX[:,1], sorted_trainY, \"r\")\n",
    "plt.show()"
   ]
  },
  {
   "attachments": {},
   "cell_type": "markdown",
   "metadata": {},
   "source": [
    "Gradient Descent Method"
   ]
  },
  {
   "cell_type": "code",
   "execution_count": 1234,
   "metadata": {},
   "outputs": [
    {
     "data": {
      "image/png": "[encoded data removed]",
      "text/plain": [
       "<Figure size 432x288 with 1 Axes>"
      ]
     },
     "metadata": {
      "needs_background": "light"
     },
     "output_type": "display_data"
    }
   ],
   "source": [
    "def gradient_descent(X, y, learning_rate=0.0000001, num_iterations=10000):\n",
    "    # Initialize parameters\n",
    "    m, n = X.shape\n",
    "    theta = np.zeros(n)\n",
    "    errors = []\n",
    "    \n",
    "    # Perform gradient descent\n",
    "    for i in range(num_iterations):\n",
    "        # Compute the hypothesis (predicted values)\n",
    "        y_pred = np.dot(X, theta)\n",
    "        \n",
    "        error = y_pred - y\n",
    "        \n",
    "        if (i % 20):\n",
    "            errors.append(np.mean(error**2))\n",
    "\n",
    "        # Compute the gradient of the cost function\n",
    "        gradient = np.dot(X.T, error) / m\n",
    "\n",
    "        # Update the parameters\n",
    "        theta -= learning_rate * gradient\n",
    "\n",
    "    return theta, errors\n",
    "\n",
    "thetaC1, errorC1 = gradient_descent(trainDMC, training_y_values)\n",
    "\n",
    "plt.plot(errorC1, color=\"orange\")\n",
    "plt.show()"
   ]
  },
  {
   "cell_type": "code",
   "execution_count": 1235,
   "metadata": {},
   "outputs": [
    {
     "data": {
      "image/png": "[encoded data removed]",
      "text/plain": [
       "<Figure size 432x288 with 1 Axes>"
      ]
     },
     "metadata": {
      "needs_background": "light"
     },
     "output_type": "display_data"
    }
   ],
   "source": [
    "sorted_trainX = trainDMC[trainDMC[:,1].argsort()]\n",
    "sorted_trainY = np.dot(sorted_trainX, thetaC1)\n",
    "\n",
    "\n",
    "plt.scatter(training_x_values, training_y_values)\n",
    "plt.plot(sorted_trainX[:,1], sorted_trainY, \"r\")\n",
    "plt.show()"
   ]
  },
  {
   "attachments": {},
   "cell_type": "markdown",
   "metadata": {},
   "source": [
    "iii. Repeat the training process one final time, this time use regularization when training the third-\n",
    "order polynomial model."
   ]
  },
  {
   "cell_type": "code",
   "execution_count": 1236,
   "metadata": {},
   "outputs": [
    {
     "name": "stdout",
     "output_type": "stream",
     "text": [
      "[0.         0.         0.09707918 0.        ]\n"
     ]
    }
   ],
   "source": [
    "# import math\n",
    "\n",
    "# def summation(z, x_values,y_values):\n",
    "#   total1 = 0\n",
    "#   total2 = 0\n",
    "#   total3 = 0\n",
    "#   total4 = 0\n",
    "\n",
    "#   for i in range(1, len(x_values)):\n",
    "#     y_pred = z(x_values[i])\n",
    "    \n",
    "#     total1 += y_pred - y_values[i]\n",
    "#     total2 += (y_pred - y_values[i]) * x_values[i]\n",
    "#     total3 += (y_pred - y_values[i]) * math.pow(x_values[i], 2)\n",
    "#     total4 += (y_pred - y_values[i]) * math.pow(x_values[i], 3)\n",
    "    \n",
    "#   return total1/ len(x_values), total2/len(x_values), total3/len(x_values), total4/len(x_values)\n",
    "\n",
    "# learning_rate = 0.0000001\n",
    "# constant = 0\n",
    "# degreeOneCoef = 0\n",
    "# degreeTwoCoef = 0\n",
    "# degreeThreeCoef = 0\n",
    "# polynomial = lambda x: constant + degreeOneCoef * x + (degreeTwoCoef * math.pow(x, 2)) + (degreeThreeCoef * math.pow(x, 3))\n",
    "\n",
    "  \n",
    "# thetas = np.zeros((1,4))\n",
    "# lam = 0.8\n",
    "\n",
    "# for i in range(45):\n",
    "#     s1, s2, s3, s4 = summation(polynomial, training_x_values, training_y_values)\n",
    "#     cnstant = constant - learning_rate * s1\n",
    "#     degreeOneCoef = degreeOneCoef - learning_rate * (s2 + degreeOneCoef * lam)\n",
    "#     degreeTwoCoef = degreeTwoCoef - learning_rate * (s3 + degreeTwoCoef * lam)\n",
    "#     degreeThreeCoef = degreeThreeCoef - learning_rate * (s4 + degreeThreeCoef * lam)\n",
    "    \n",
    "   \n",
    "# thetas = np.append(thetas, degreeOneCoef)  \n",
    "# thetas = np.append(thetas, degreeTwoCoef)\n",
    "# thetas = np.append(thetas, degreeThreeCoef)\n",
    "# thetas = np.append(thetas, constant)\n",
    "\n",
    "# for x in range(4):\n",
    "#  thetas = np.delete(thetas, x)\n",
    " \n",
    "# print(thetas)\n",
    "\n",
    "\n",
    "# sorted_trainX = trainDM[trainDM[:,1].argsort()]\n",
    "# sorted_trainY = np.dot(sorted_trainX, thetas)\n",
    "\n",
    "# plt.title('Regularization')\n",
    "# plt.scatter(training_x_values,training_y_values)\n",
    "# # plt.axvline(x=0)\n",
    "# plt.plot(sorted_trainX[:,1], sorted_trainY,'r') \n",
    "# plt.show()\n"
   ]
  },
  {
   "attachments": {},
   "cell_type": "markdown",
   "metadata": {},
   "source": [
    "Regularised Gradient Descent - Seems to be working funny though..."
   ]
  },
  {
   "cell_type": "code",
   "execution_count": 1237,
   "metadata": {},
   "outputs": [
    {
     "name": "stderr",
     "output_type": "stream",
     "text": [
      "C:\\Users\\Abdullah Karolia\\AppData\\Local\\Temp\\ipykernel_19988\\4155949720.py:15: RuntimeWarning: overflow encountered in square\n",
      "  np.append(errors, np.mean(error**2))\n"
     ]
    },
    {
     "data": {
      "image/png": "[encoded data removed]",
      "text/plain": [
       "<Figure size 432x288 with 1 Axes>"
      ]
     },
     "metadata": {
      "needs_background": "light"
     },
     "output_type": "display_data"
    },
    {
     "name": "stdout",
     "output_type": "stream",
     "text": [
      "[-3.61336522e+145  7.87363935e+147 -4.35039449e+148  3.44950657e+150]\n"
     ]
    },
    {
     "data": {
      "image/png": "[encoded data removed]",
      "text/plain": [
       "<Figure size 432x288 with 1 Axes>"
      ]
     },
     "metadata": {
      "needs_background": "light"
     },
     "output_type": "display_data"
    }
   ],
   "source": [
    "def Reg_gradient_descent(X, y, learning_rate=0.0000001, num_iterations=1000, l=1):\n",
    "    # Initialize parameters\n",
    "    m, n = X.shape\n",
    "    theta = np.zeros(n, dtype=float)\n",
    "    errors = np.empty(m ,dtype=float)\n",
    "    \n",
    "    # Perform gradient descent\n",
    "    for i in range(num_iterations):\n",
    "        # Compute the hypothesis (predicted values)\n",
    "        y_pred = np.dot(X, theta)\n",
    "        \n",
    "        error = y_pred - y\n",
    "        \n",
    "        if (i % 20):\n",
    "            np.append(errors, np.mean(error**2))\n",
    "\n",
    "        # Compute the gradient of the cost function\n",
    "        gradient = np.dot(X.T, error) / m\n",
    "\n",
    "        # Update the parameters\n",
    "        theta -= (learning_rate * gradient + (l * theta))\n",
    "\n",
    "    return theta, error\n",
    "\n",
    "thetaC2, errorC2 = Reg_gradient_descent(trainDMC, training_y_values)\n",
    "\n",
    "plt.plot(errorC2, color=\"orange\")\n",
    "plt.show()\n",
    "\n",
    "print(thetaC2)\n",
    "\n",
    "sorted_trainX = trainDMC[trainDMC[:,1].argsort()]\n",
    "sorted_trainY = np.dot(sorted_trainX, thetaC2)\n",
    "\n",
    "plt.title('Regularization')\n",
    "plt.scatter(sample, y)\n",
    "plt.plot(sorted_trainX[:,1], sorted_trainY,'r') \n",
    "plt.show()"
   ]
  },
  {
   "attachments": {},
   "cell_type": "markdown",
   "metadata": {},
   "source": [
    "iv. Results"
   ]
  },
  {
   "cell_type": "code",
   "execution_count": 1238,
   "metadata": {},
   "outputs": [
    {
     "data": {
      "image/png": "[encoded data removed]",
      "text/plain": [
       "<Figure size 432x288 with 1 Axes>"
      ]
     },
     "metadata": {
      "needs_background": "light"
     },
     "output_type": "display_data"
    },
    {
     "data": {
      "image/png": "[encoded data removed]",
      "text/plain": [
       "<Figure size 432x288 with 1 Axes>"
      ]
     },
     "metadata": {
      "needs_background": "light"
     },
     "output_type": "display_data"
    }
   ],
   "source": [
    "# ERRORS\n",
    "# TODO: Calculate error for test and validation\n",
    "# TODO: Print gradient error for training, test and validation\n",
    "plt.plot(errorB, color=\"orange\")\n",
    "plt.plot(errorC1, color=\"blue\")\n",
    "plt.show()\n",
    "\n",
    "plt.plot(errorC2, color=\"green\")\n",
    "plt.show()\n"
   ]
  },
  {
   "cell_type": "code",
   "execution_count": 1239,
   "metadata": {},
   "outputs": [
    {
     "data": {
      "image/png": "[encoded data removed]",
      "text/plain": [
       "<Figure size 432x288 with 1 Axes>"
      ]
     },
     "metadata": {
      "needs_background": "light"
     },
     "output_type": "display_data"
    },
    {
     "data": {
      "image/png": "[encoded data removed]",
      "text/plain": [
       "<Figure size 432x288 with 1 Axes>"
      ]
     },
     "metadata": {
      "needs_background": "light"
     },
     "output_type": "display_data"
    }
   ],
   "source": [
    "#PLOTS\n",
    "sorted_trainX = trainDMB[trainDMB[:,1].argsort()]\n",
    "sorted_trainYB = np.dot(sorted_trainX, thetaB)\n",
    "\n",
    "sorted_trainX = trainDMC[trainDMC[:,1].argsort()]\n",
    "sorted_trainYC1 = np.dot(sorted_trainX, thetaC1)\n",
    "sorted_trainYC2 = np.dot(sorted_trainX, thetaC2)\n",
    "\n",
    "plt.title('Normal')\n",
    "plt.scatter(sample, y)\n",
    "plt.plot(sorted_trainX[:,1], sorted_trainYB,'r')\n",
    "plt.plot(sorted_trainX[:,1], sorted_trainYC1,'b')\n",
    "\n",
    "plt.show()\n",
    "\n",
    "plt.title('Regularised')\n",
    "plt.scatter(sample, y)\n",
    "plt.plot(sorted_trainX[:,1], sorted_trainYC2,'g')\n",
    "plt.show()\n"
   ]
  }
 ],
 "metadata": {
  "kernelspec": {
   "display_name": "Python 3",
   "language": "python",
   "name": "python3"
  },
  "language_info": {
   "codemirror_mode": {
    "name": "ipython",
    "version": 3
   },
   "file_extension": ".py",
   "mimetype": "text/x-python",
   "name": "python",
   "nbconvert_exporter": "python",
   "pygments_lexer": "ipython3",
   "version": "3.10.5"
  },
  "orig_nbformat": 4
 },
 "nbformat": 4,
 "nbformat_minor": 2
}
