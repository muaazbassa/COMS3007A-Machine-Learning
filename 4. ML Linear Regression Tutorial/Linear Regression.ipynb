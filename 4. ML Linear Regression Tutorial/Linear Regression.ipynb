{
 "cells": [
  {
   "attachments": {},
   "cell_type": "markdown",
   "metadata": {},
   "source": [
    "##  QUESTION1"
   ]
  },
  {
   "attachments": {},
   "cell_type": "markdown",
   "metadata": {},
   "source": [
    "Q1a)\n"
   ]
  },
  {
   "cell_type": "code",
   "execution_count": 1291,
   "metadata": {},
   "outputs": [
    {
     "name": "stdout",
     "output_type": "stream",
     "text": [
      "y_hat =  1.2\n",
      "error =  0.02\n"
     ]
    }
   ],
   "source": [
    "#The Predicted Value of y_hat(x) for x = 1.\n",
    "y_hat= round(0.4 + 0.8*(1),2)\n",
    "y_true = 1\n",
    "y_hat\n",
    "# The error for when x=1\n",
    "error = round(0.5 * (y_hat - y_true)**2,2)\n",
    "\n",
    "#print the y_hat and error\n",
    "print(\"y_hat = \", y_hat)\n",
    "print(\"error = \", error)"
   ]
  },
  {
   "attachments": {},
   "cell_type": "markdown",
   "metadata": {},
   "source": [
    "Q1b)"
   ]
  },
  {
   "cell_type": "code",
   "execution_count": 1292,
   "metadata": {},
   "outputs": [
    {
     "name": "stdout",
     "output_type": "stream",
     "text": [
      "y_hat =  2.0\n",
      "error =  0.5\n"
     ]
    }
   ],
   "source": [
    "#The Predicted Value of y_hat(x) for x = 2.\n",
    "y_hat= 0.4 + 0.8*(2)\n",
    "y_true = 3\n",
    "y_hat\n",
    "\n",
    "# The error for when x=2\n",
    "error = round(0.5 * (y_hat - y_true)**2,2)\n",
    "\n",
    "#print the y_hat and error\n",
    "print(\"y_hat = \", y_hat)\n",
    "print(\"error = \", error)"
   ]
  },
  {
   "attachments": {},
   "cell_type": "markdown",
   "metadata": {},
   "source": [
    "Q1c)"
   ]
  },
  {
   "cell_type": "code",
   "execution_count": 1293,
   "metadata": {},
   "outputs": [
    {
     "data": {
      "text/plain": [
       "1.2"
      ]
     },
     "execution_count": 1293,
     "metadata": {},
     "output_type": "execute_result"
    }
   ],
   "source": [
    "#sum of squares error for this model\n",
    "\n",
    "def y_hat(x):\n",
    "    y = 0.4 + 0.8*(x)\n",
    "    return y\n",
    "\n",
    "# x values\n",
    "x_values = [1,2,3,4,5]\n",
    "# y avlues\n",
    "y_values = [1,3,2,3,5]\n",
    "y_predicted = []\n",
    "error = 0.0\n",
    "for x in x_values:\n",
    "    y_predicted.append(round(y_hat(x),2))\n",
    "\n",
    "for i in range(len(y_values)):\n",
    "    error += 0.5 * (y_values[i] - y_predicted[i])**2\n",
    "\n",
    "error = round(error, 2)\n",
    "error"
   ]
  },
  {
   "attachments": {},
   "cell_type": "markdown",
   "metadata": {},
   "source": [
    "## QUESTION 4"
   ]
  },
  {
   "attachments": {},
   "cell_type": "markdown",
   "metadata": {},
   "source": [
    "# a)"
   ]
  },
  {
   "attachments": {},
   "cell_type": "markdown",
   "metadata": {},
   "source": [
    "i. Generating random sample data"
   ]
  },
  {
   "cell_type": "code",
   "execution_count": 1294,
   "metadata": {},
   "outputs": [],
   "source": [
    "import numpy as np\n",
    "\n",
    "mean = 0\n",
    "std = 10\n",
    "size = 150\n",
    "\n",
    "sample = np.random.normal(mean, std, size)\n"
   ]
  },
  {
   "attachments": {},
   "cell_type": "markdown",
   "metadata": {},
   "source": [
    "ii. Constructing design matrix from sample data"
   ]
  },
  {
   "cell_type": "code",
   "execution_count": 1295,
   "metadata": {},
   "outputs": [
    {
     "name": "stdout",
     "output_type": "stream",
     "text": [
      "[[ 1.00000000e+00  2.64586907e-01  7.00062315e-02]\n",
      " [ 1.00000000e+00  1.58829651e+00  2.52268580e+00]\n",
      " [ 1.00000000e+00  5.87607052e+00  3.45282048e+01]\n",
      " [ 1.00000000e+00  2.67909441e+00  7.17754686e+00]\n",
      " [ 1.00000000e+00  6.66846812e+00  4.44684671e+01]\n",
      " [ 1.00000000e+00 -1.60677189e+01  2.58171592e+02]\n",
      " [ 1.00000000e+00 -1.54372963e+01  2.38310116e+02]\n",
      " [ 1.00000000e+00  8.25981318e-02  6.82245139e-03]\n",
      " [ 1.00000000e+00 -9.86219965e+00  9.72629820e+01]\n",
      " [ 1.00000000e+00  5.19405161e-01  2.69781721e-01]\n",
      " [ 1.00000000e+00 -6.67977377e+00  4.46193776e+01]\n",
      " [ 1.00000000e+00  2.54144492e+01  6.45894226e+02]\n",
      " [ 1.00000000e+00 -3.00557404e+00  9.03347534e+00]\n",
      " [ 1.00000000e+00  8.96308804e+00  8.03369472e+01]\n",
      " [ 1.00000000e+00  6.54152884e-01  4.27915996e-01]\n",
      " [ 1.00000000e+00  2.38313226e+01  5.67931937e+02]\n",
      " [ 1.00000000e+00 -7.03619742e+00  4.95080741e+01]\n",
      " [ 1.00000000e+00 -1.01945328e+00  1.03928499e+00]\n",
      " [ 1.00000000e+00 -1.92475428e+01  3.70467904e+02]\n",
      " [ 1.00000000e+00 -2.10004719e+00  4.41019820e+00]\n",
      " [ 1.00000000e+00  2.60557231e+01  6.78900707e+02]\n",
      " [ 1.00000000e+00  2.19044772e+01  4.79806119e+02]\n",
      " [ 1.00000000e+00  8.47586926e+00  7.18403597e+01]\n",
      " [ 1.00000000e+00 -9.56926356e+00  9.15708050e+01]\n",
      " [ 1.00000000e+00 -1.02439926e+01  1.04939385e+02]\n",
      " [ 1.00000000e+00  3.17173888e+00  1.00599275e+01]\n",
      " [ 1.00000000e+00  4.67235982e+00  2.18309463e+01]\n",
      " [ 1.00000000e+00  3.22034269e+00  1.03706070e+01]\n",
      " [ 1.00000000e+00 -1.86542330e+00  3.47980410e+00]\n",
      " [ 1.00000000e+00  1.27921897e+01  1.63640117e+02]\n",
      " [ 1.00000000e+00  1.81559616e+00  3.29638942e+00]\n",
      " [ 1.00000000e+00  1.88870259e+01  3.56719747e+02]\n",
      " [ 1.00000000e+00  3.43890671e+00  1.18260794e+01]\n",
      " [ 1.00000000e+00 -3.38432220e+00  1.14536367e+01]\n",
      " [ 1.00000000e+00 -1.22715437e+01  1.50590785e+02]\n",
      " [ 1.00000000e+00  1.44102291e+01  2.07654703e+02]\n",
      " [ 1.00000000e+00 -8.63208444e+00  7.45128817e+01]\n",
      " [ 1.00000000e+00 -1.29154883e+00  1.66809839e+00]\n",
      " [ 1.00000000e+00 -5.25999295e+00  2.76675258e+01]\n",
      " [ 1.00000000e+00  6.65304478e+00  4.42630048e+01]\n",
      " [ 1.00000000e+00 -2.54916971e+00  6.49826619e+00]\n",
      " [ 1.00000000e+00 -2.67616300e+00  7.16184842e+00]\n",
      " [ 1.00000000e+00 -7.09521791e+00  5.03421172e+01]\n",
      " [ 1.00000000e+00  1.32437349e+01  1.75396513e+02]\n",
      " [ 1.00000000e+00  1.23384363e+01  1.52237011e+02]\n",
      " [ 1.00000000e+00 -3.19454051e+00  1.02050891e+01]\n",
      " [ 1.00000000e+00  4.60946059e+00  2.12471269e+01]\n",
      " [ 1.00000000e+00 -6.65762718e-01  4.43239996e-01]\n",
      " [ 1.00000000e+00  7.70608443e+00  5.93837372e+01]\n",
      " [ 1.00000000e+00 -1.26466586e+01  1.59937974e+02]\n",
      " [ 1.00000000e+00  2.51315935e+00  6.31596990e+00]\n",
      " [ 1.00000000e+00 -7.05693246e+00  4.98002957e+01]\n",
      " [ 1.00000000e+00  2.45618233e+01  6.03283166e+02]\n",
      " [ 1.00000000e+00 -1.44054388e+01  2.07516668e+02]\n",
      " [ 1.00000000e+00 -1.83834254e-01  3.37950331e-02]\n",
      " [ 1.00000000e+00  5.18479890e+00  2.68821396e+01]\n",
      " [ 1.00000000e+00  8.71110478e+00  7.58833464e+01]\n",
      " [ 1.00000000e+00  7.62592289e+00  5.81546999e+01]\n",
      " [ 1.00000000e+00 -1.50064253e+01  2.25192800e+02]\n",
      " [ 1.00000000e+00 -2.54289138e+00  6.46629656e+00]\n",
      " [ 1.00000000e+00  1.13522195e+01  1.28872888e+02]\n",
      " [ 1.00000000e+00 -1.52363669e+01  2.32146878e+02]\n",
      " [ 1.00000000e+00 -2.39167111e+01  5.72009071e+02]\n",
      " [ 1.00000000e+00 -1.13684521e+01  1.29241703e+02]\n",
      " [ 1.00000000e+00  1.06746474e+01  1.13948098e+02]\n",
      " [ 1.00000000e+00  2.64976240e+00  7.02124077e+00]\n",
      " [ 1.00000000e+00 -1.14148389e+00  1.30298547e+00]\n",
      " [ 1.00000000e+00  1.36107690e+01  1.85253033e+02]\n",
      " [ 1.00000000e+00  7.00691433e+00  4.90968484e+01]\n",
      " [ 1.00000000e+00  2.19935138e+00  4.83714648e+00]\n",
      " [ 1.00000000e+00  1.18341339e+01  1.40046726e+02]\n",
      " [ 1.00000000e+00 -4.73847055e+00  2.24531032e+01]\n",
      " [ 1.00000000e+00 -7.02414833e+00  4.93386598e+01]\n",
      " [ 1.00000000e+00  4.42847242e+00  1.96113679e+01]\n",
      " [ 1.00000000e+00 -1.28132110e+01  1.64178375e+02]\n",
      " [ 1.00000000e+00 -5.88224063e+00  3.46007548e+01]\n",
      " [ 1.00000000e+00  2.96612683e-01  8.79790835e-02]\n",
      " [ 1.00000000e+00 -1.21358071e+01  1.47277813e+02]\n",
      " [ 1.00000000e+00  6.60285123e+00  4.35976444e+01]\n",
      " [ 1.00000000e+00 -5.18199715e+00  2.68530944e+01]\n",
      " [ 1.00000000e+00 -2.33852336e+00  5.46869150e+00]\n",
      " [ 1.00000000e+00  9.35286749e+00  8.74761304e+01]\n",
      " [ 1.00000000e+00 -1.73361745e+01  3.00542946e+02]\n",
      " [ 1.00000000e+00  4.47171972e+00  1.99962772e+01]\n",
      " [ 1.00000000e+00 -3.22237240e+00  1.03836839e+01]\n",
      " [ 1.00000000e+00 -4.38325492e+00  1.92129237e+01]\n",
      " [ 1.00000000e+00 -1.05604935e+01  1.11524022e+02]\n",
      " [ 1.00000000e+00  1.10883627e+01  1.22951787e+02]\n",
      " [ 1.00000000e+00  1.37884902e+00  1.90122463e+00]\n",
      " [ 1.00000000e+00 -1.26472099e+01  1.59951917e+02]\n",
      " [ 1.00000000e+00  8.83556577e+00  7.80672226e+01]\n",
      " [ 1.00000000e+00 -8.30620193e+00  6.89929905e+01]\n",
      " [ 1.00000000e+00  1.39025489e+01  1.93280867e+02]\n",
      " [ 1.00000000e+00  1.17243953e+01  1.37461446e+02]\n",
      " [ 1.00000000e+00 -4.54264900e+00  2.06356600e+01]\n",
      " [ 1.00000000e+00 -8.14121319e+00  6.62793521e+01]\n",
      " [ 1.00000000e+00 -6.71211259e-02  4.50524554e-03]\n",
      " [ 1.00000000e+00  6.08979771e+00  3.70856362e+01]\n",
      " [ 1.00000000e+00  2.75122251e+00  7.56922530e+00]\n",
      " [ 1.00000000e+00 -7.97462644e+00  6.35946669e+01]\n",
      " [ 1.00000000e+00 -9.22960056e+00  8.51855266e+01]\n",
      " [ 1.00000000e+00  6.85784461e+00  4.70300327e+01]\n",
      " [ 1.00000000e+00 -1.90749952e+01  3.63855442e+02]\n",
      " [ 1.00000000e+00  1.07926968e+01  1.16482305e+02]\n",
      " [ 1.00000000e+00  1.57383550e+01  2.47695817e+02]\n",
      " [ 1.00000000e+00 -5.21612436e+00  2.72079533e+01]\n",
      " [ 1.00000000e+00  1.59052070e+00  2.52975608e+00]\n",
      " [ 1.00000000e+00  1.50777537e+01  2.27338657e+02]\n",
      " [ 1.00000000e+00  1.36032203e+01  1.85047603e+02]\n",
      " [ 1.00000000e+00  1.40904745e+01  1.98541473e+02]\n",
      " [ 1.00000000e+00 -3.01442002e+00  9.08672808e+00]\n",
      " [ 1.00000000e+00 -1.31562894e+00  1.73087952e+00]\n",
      " [ 1.00000000e+00  5.87358351e+00  3.44989832e+01]\n",
      " [ 1.00000000e+00  9.86950417e+00  9.74071125e+01]\n",
      " [ 1.00000000e+00 -1.38786239e+01  1.92616200e+02]\n",
      " [ 1.00000000e+00  9.63782276e-01  9.28876276e-01]\n",
      " [ 1.00000000e+00 -9.81413511e+00  9.63172480e+01]\n",
      " [ 1.00000000e+00  2.21992576e+00  4.92807039e+00]\n",
      " [ 1.00000000e+00  4.42335490e+00  1.95660686e+01]\n",
      " [ 1.00000000e+00 -2.17699049e+00  4.73928758e+00]\n",
      " [ 1.00000000e+00  1.95688507e+01  3.82939920e+02]\n",
      " [ 1.00000000e+00  1.33977036e+00  1.79498463e+00]\n",
      " [ 1.00000000e+00  1.07309983e+01  1.15154324e+02]\n",
      " [ 1.00000000e+00 -1.01904643e+01  1.03845564e+02]\n",
      " [ 1.00000000e+00  1.06666674e+01  1.13777793e+02]\n",
      " [ 1.00000000e+00  1.20646114e+01  1.45554847e+02]\n",
      " [ 1.00000000e+00  1.14842364e+00  1.31887687e+00]\n",
      " [ 1.00000000e+00 -5.65363502e+00  3.19635889e+01]\n",
      " [ 1.00000000e+00  2.06014623e+01  4.24420247e+02]\n",
      " [ 1.00000000e+00 -1.37058900e+00  1.87851419e+00]\n",
      " [ 1.00000000e+00 -8.74755383e-01  7.65196981e-01]\n",
      " [ 1.00000000e+00 -2.71958567e+00  7.39614624e+00]\n",
      " [ 1.00000000e+00 -3.82569491e+00  1.46359415e+01]\n",
      " [ 1.00000000e+00 -2.08498132e+01  4.34714711e+02]\n",
      " [ 1.00000000e+00 -7.70730026e+00  5.94024773e+01]\n",
      " [ 1.00000000e+00 -3.72864924e+00  1.39028252e+01]\n",
      " [ 1.00000000e+00 -2.20541602e+00  4.86385983e+00]\n",
      " [ 1.00000000e+00  7.08558236e+00  5.02054774e+01]\n",
      " [ 1.00000000e+00 -9.83688215e+00  9.67642504e+01]\n",
      " [ 1.00000000e+00 -9.69990440e-01  9.40881454e-01]\n",
      " [ 1.00000000e+00  9.14462466e+00  8.36241602e+01]\n",
      " [ 1.00000000e+00 -2.74527810e+00  7.53655185e+00]\n",
      " [ 1.00000000e+00  2.73096053e+00  7.45814543e+00]\n",
      " [ 1.00000000e+00 -8.13676863e+00  6.62070038e+01]\n",
      " [ 1.00000000e+00  1.01099496e+01  1.02211081e+02]\n",
      " [ 1.00000000e+00 -6.43192761e+00  4.13696928e+01]\n",
      " [ 1.00000000e+00  5.72804276e+00  3.28104739e+01]\n",
      " [ 1.00000000e+00  3.87392974e+00  1.50073317e+01]\n",
      " [ 1.00000000e+00 -9.74609983e+00  9.49864620e+01]\n",
      " [ 1.00000000e+00 -8.87804544e+00  7.88196908e+01]]\n"
     ]
    }
   ],
   "source": [
    "def designMatrix(s, rows, cols):\n",
    "    design = np.ones((rows, cols))\n",
    "    for i in range(cols):\n",
    "        design[:,i] = s**i\n",
    "    return design\n",
    "\n",
    "design = designMatrix(sample, 150, 3)\n",
    "\n",
    "print(design)\n"
   ]
  },
  {
   "attachments": {},
   "cell_type": "markdown",
   "metadata": {},
   "source": [
    "iii. Sample true values for theta, (3 values - corresponds to features)"
   ]
  },
  {
   "cell_type": "code",
   "execution_count": 1296,
   "metadata": {},
   "outputs": [
    {
     "name": "stdout",
     "output_type": "stream",
     "text": [
      "[0.95821383 0.54468947 0.12116762]\n"
     ]
    }
   ],
   "source": [
    "theta = np.random.uniform(0, 1, 3)\n",
    "\n",
    "theta0 = theta[0]\n",
    "theta1 = theta[1]\n",
    "theta2 = theta[2]\n",
    "\n",
    "print(theta)"
   ]
  },
  {
   "attachments": {},
   "cell_type": "markdown",
   "metadata": {},
   "source": [
    "iv. Generate y values using design matrix and true parameter. Also add noise to make data more realistic"
   ]
  },
  {
   "cell_type": "code",
   "execution_count": 1297,
   "metadata": {},
   "outputs": [
    {
     "name": "stdout",
     "output_type": "stream",
     "text": [
      "[-1.91646822e+00 -2.89682623e+00  1.20902721e+01  1.92407893e+01\n",
      "  2.49481925e+00  1.78177922e+01  1.62051726e+01  1.81339832e+00\n",
      "  9.11534704e-01  2.94997919e+00  5.74584736e+00  9.64583214e+01\n",
      "  2.68019403e+00  1.42826466e+01  1.01574950e+01  8.84224195e+01\n",
      "  1.24244824e+01  1.55433296e+01  3.67544274e+01 -8.91030911e+00\n",
      "  9.71205408e+01  7.03208371e+01  7.39452395e+00 -9.42579377e+00\n",
      " -9.46736880e+00  1.60109824e+01 -5.57669281e+00 -5.08383881e+00\n",
      " -9.28409376e+00  2.28154041e+01 -3.13531111e+00  4.86456304e+01\n",
      "  6.42983074e-01 -5.13097027e-01  2.03156299e+01  4.04967741e+01\n",
      "  9.07456458e+00 -5.80048222e+00  7.38685144e+00  1.48929523e+01\n",
      "  4.91432483e+00 -4.30643382e+00  6.68139565e+00  1.84599995e+01\n",
      "  3.90240306e+01  1.07315807e+01  4.21169198e+00  4.00297052e+00\n",
      "  1.39121108e+01  1.16917003e+01  4.28317391e+00  1.23817259e+01\n",
      "  8.48013964e+01  9.95314543e+00  3.00487677e+00  2.09434615e+01\n",
      "  5.65245971e+00  1.57938397e+01  2.35416471e+01 -1.92137854e+00\n",
      "  1.60359308e+01  1.38213466e+01  5.85964941e+01  2.00323699e+01\n",
      "  2.54743356e+01 -6.79273129e+00  7.30457981e+00  3.17389747e+01\n",
      "  2.78859048e+01  6.93505388e+00  1.88266381e+01  3.73914479e+00\n",
      " -3.06408400e-01 -6.88268859e+00  3.07482564e+01 -3.08904517e+00\n",
      "  4.93688916e+00  2.69768776e+00  3.25378972e+00  3.20117641e+00\n",
      "  3.71752282e+00  1.05877673e+01  3.13450983e+01  1.00549852e+01\n",
      " -8.34861096e-02  1.97132899e+00  9.25412272e-02  3.49776755e+01\n",
      "  1.25475772e+01  2.17790728e+01  2.06443216e+01 -5.90238395e+00\n",
      "  3.77337168e+01  3.24539432e+01  6.88043519e+00  2.43998867e+00\n",
      " -1.43104481e+00  1.03222437e+01  9.92968027e+00  3.25773911e-01\n",
      " -9.21941634e+00  2.77922873e+00  3.66275842e+01  1.89091950e+01\n",
      "  3.85492523e+01  3.42448954e+00  3.22896497e+00  2.69530196e+01\n",
      "  3.72920173e+01  3.38044826e+01  2.07833893e+00 -2.19379172e+01\n",
      "  5.18311957e+00  1.68121858e+01  2.75763255e+01  5.90519879e-01\n",
      "  9.40960976e+00  8.13376100e+00  3.27892646e+00 -5.11781384e+00\n",
      "  5.10144142e+01 -6.73145004e+00  3.33091591e+01  1.68353305e+01\n",
      "  1.60961205e+01  4.21044937e+01  6.14428509e+00  4.19715920e+00\n",
      "  6.73854915e+01 -2.34145665e+00 -2.39776382e+00 -6.25686884e-01\n",
      " -1.03597486e+01  4.06968089e+01 -6.81934391e+00 -2.61451857e+00\n",
      " -9.32720737e+00  1.52972176e+01 -3.55913171e+00 -9.18753015e+00\n",
      "  2.02956216e+01 -3.13599432e+00 -6.57468048e-01  5.99751842e+00\n",
      "  1.61481120e+01  6.85070584e+00  8.63781401e-03  2.69089692e+01\n",
      "  7.51609072e+00 -3.14275217e-01]\n"
     ]
    }
   ],
   "source": [
    "mean = 0\n",
    "std = 8\n",
    "size = 150\n",
    "\n",
    "noise = np.random.normal(mean, std, size)\n",
    "\n",
    "y = np.dot(design, theta) + noise\n",
    "\n",
    "print(y)"
   ]
  },
  {
   "attachments": {},
   "cell_type": "markdown",
   "metadata": {},
   "source": [
    "v. Plot sample data with generated y values"
   ]
  },
  {
   "cell_type": "code",
   "execution_count": 1298,
   "metadata": {},
   "outputs": [
    {
     "data": {
      "image/png": "[encoded data removed]",
      "text/plain": [
       "<Figure size 432x288 with 1 Axes>"
      ]
     },
     "metadata": {
      "needs_background": "light"
     },
     "output_type": "display_data"
    }
   ],
   "source": [
    "import matplotlib.pyplot as plt\n",
    "\n",
    "plt.scatter(sample, y)\n",
    "plt.show()"
   ]
  },
  {
   "attachments": {},
   "cell_type": "markdown",
   "metadata": {},
   "source": [
    "vi. Split sample data into training, testing and validation data"
   ]
  },
  {
   "cell_type": "code",
   "execution_count": 1299,
   "metadata": {},
   "outputs": [],
   "source": [
    "#90 of 150 for training (60%)\n",
    "#30 of 150 for testing (20%)\n",
    "#30 of 150 for validation (20%)\n",
    "\n",
    "#Training\n",
    "training_x_values = sample[:90]\n",
    "training_y_values = y[:90]\n",
    "trainDMB = design[:90]\n",
    "\n",
    "#Testing\n",
    "testing_x_values = sample[120:150]\n",
    "testing_y_values = y[120:150]\n",
    "testDMB = design[120:150]\n",
    "\n",
    "#Validation\n",
    "validation_x_values = sample[90:120]\n",
    "validation_y_values = y[90:120]\n",
    "validDMB = design[90:120]\n",
    "\n",
    "# print(training_x_values)\n"
   ]
  },
  {
   "attachments": {},
   "cell_type": "markdown",
   "metadata": {},
   "source": [
    "# b)"
   ]
  },
  {
   "attachments": {},
   "cell_type": "markdown",
   "metadata": {},
   "source": [
    "i. Use Moore-Penrose pseudo-inverse to calculate the closed form solution"
   ]
  },
  {
   "cell_type": "code",
   "execution_count": 1300,
   "metadata": {},
   "outputs": [
    {
     "name": "stdout",
     "output_type": "stream",
     "text": [
      "[1.48911414 0.5661619  0.11927386]\n"
     ]
    }
   ],
   "source": [
    "def moorePenrose(DMatrix, y_values):\n",
    "    dmTranspose = np.transpose(DMatrix)\n",
    "    firstPart = np.linalg.inv(np.dot(dmTranspose, DMatrix))\n",
    "    secondPart = np.dot(dmTranspose, y_values)\n",
    "    finalMoore = np.dot(firstPart, secondPart)\n",
    "    return finalMoore\n",
    "\n",
    "moore_penrose = moorePenrose(trainDMB, training_y_values)\n",
    "\n",
    "print(moore_penrose)\n",
    "# print(theta)\n"
   ]
  },
  {
   "attachments": {},
   "cell_type": "markdown",
   "metadata": {},
   "source": [
    "ii. How close are the learned parameter values to the true parameters?"
   ]
  },
  {
   "cell_type": "code",
   "execution_count": 1301,
   "metadata": {},
   "outputs": [],
   "source": [
    "# The learned parameter values, with the exception of theta0, which is off from the true value by a significant value.\n",
    "# While theta1 is off by approx. 0.004 and theta2 is off by approx 0.005, which is relatively close to the true parameters  "
   ]
  },
  {
   "attachments": {},
   "cell_type": "markdown",
   "metadata": {},
   "source": [
    "iii. Compute the training and validation error of the model"
   ]
  },
  {
   "cell_type": "code",
   "execution_count": 1302,
   "metadata": {},
   "outputs": [
    {
     "name": "stdout",
     "output_type": "stream",
     "text": [
      "17.242124549725194\n",
      "5.134862025628937\n"
     ]
    }
   ],
   "source": [
    "import math\n",
    "\n",
    "def mooreError(x_values, y_values):\n",
    "    sum = 0\n",
    "    index = 0\n",
    "\n",
    "    for x in x_values:\n",
    "        y_predicted = moore_penrose[0] + moore_penrose[1] * x + moore_penrose[2] * math.pow(x, 2)\n",
    "        error = y_values[index] - y_predicted\n",
    "        sum += math.pow(error,2)\n",
    "        index += 1\n",
    "\n",
    "    totalError = (1 / (2 * 150)) * sum # Since the fraction is valid as long as its a constant (slides)\n",
    "    return totalError\n",
    "\n",
    "trainingError = mooreError(training_x_values, training_y_values)\n",
    "validationError = mooreError(validation_x_values, validation_y_values)\n",
    "\n",
    "print(trainingError)\n",
    "print(validationError)"
   ]
  },
  {
   "attachments": {},
   "cell_type": "markdown",
   "metadata": {},
   "source": [
    "iv. Plot of the data and the regression model"
   ]
  },
  {
   "cell_type": "code",
   "execution_count": 1303,
   "metadata": {},
   "outputs": [
    {
     "data": {
      "image/png": "[encoded data removed]",
      "text/plain": [
       "<Figure size 432x288 with 1 Axes>"
      ]
     },
     "metadata": {
      "needs_background": "light"
     },
     "output_type": "display_data"
    }
   ],
   "source": [
    "import matplotlib.pyplot as plt\n",
    "\n",
    "sorted_trainX = trainDMB[trainDMB[:,1].argsort()]\n",
    "sorted_trainY = np.dot(sorted_trainX, moore_penrose)\n",
    "\n",
    "plt.scatter(training_x_values, training_y_values)\n",
    "plt.plot(sorted_trainX[:,1], sorted_trainY, \"r\")\n",
    "plt.show()"
   ]
  },
  {
   "attachments": {},
   "cell_type": "markdown",
   "metadata": {},
   "source": [
    "v. Repeat the above process using Gradient Descent to train your model. In addition, plot the\n",
    "training error of your regression model over time (observe or capture the training error every 20\n",
    "parameter updates/time steps). Your plot should look like Figure 2c."
   ]
  },
  {
   "cell_type": "code",
   "execution_count": 1304,
   "metadata": {},
   "outputs": [
    {
     "data": {
      "image/png": "[encoded data removed]",
      "text/plain": [
       "<Figure size 432x288 with 1 Axes>"
      ]
     },
     "metadata": {
      "needs_background": "light"
     },
     "output_type": "display_data"
    },
    {
     "name": "stdout",
     "output_type": "stream",
     "text": [
      "[0.0004312  0.00725922 0.12725322]\n"
     ]
    }
   ],
   "source": [
    "import numpy as np\n",
    "\n",
    "def gradient_descent(X, y, learning_rate=0.0000001, num_iterations=1000):\n",
    "    # Initialize parameters\n",
    "    m, n = X.shape\n",
    "    theta = np.zeros(n)\n",
    "    errors = []\n",
    "\n",
    "    # Perform gradient descent\n",
    "    for i in range(num_iterations):\n",
    "        # Compute predictions\n",
    "        y_pred = X.dot(theta)\n",
    "\n",
    "        # Compute errors\n",
    "        error = y_pred - y\n",
    "        \n",
    "        if (i % 20):\n",
    "            errors.append(np.mean(error**2))\n",
    "\n",
    "        # Compute gradients\n",
    "        grad = np.dot(X.T, error) / m\n",
    "\n",
    "        # Update parameters\n",
    "        theta = theta - learning_rate * grad\n",
    "\n",
    "    return theta, errors\n",
    "\n",
    "\n",
    "thetaB, errorB = gradient_descent(trainDMB, training_y_values)\n",
    "\n",
    "plt.plot(errorB, color=\"orange\")\n",
    "plt.show()\n",
    "\n",
    "print(thetaB)\n"
   ]
  },
  {
   "attachments": {},
   "cell_type": "markdown",
   "metadata": {},
   "source": [
    "# C)"
   ]
  },
  {
   "attachments": {},
   "cell_type": "markdown",
   "metadata": {},
   "source": [
    "i. Begin by appending a third feature to your design matrix for x3"
   ]
  },
  {
   "cell_type": "code",
   "execution_count": 1305,
   "metadata": {},
   "outputs": [
    {
     "name": "stdout",
     "output_type": "stream",
     "text": [
      "[[ 1.00000000e+00  2.64586907e-01  7.00062315e-02  1.85227323e-02]\n",
      " [ 1.00000000e+00  1.58829651e+00  2.52268580e+00  4.00677304e+00]\n",
      " [ 1.00000000e+00  5.87607052e+00  3.45282048e+01  2.02890166e+02]\n",
      " [ 1.00000000e+00  2.67909441e+00  7.17754686e+00  1.92293257e+01]\n",
      " [ 1.00000000e+00  6.66846812e+00  4.44684671e+01  2.96536555e+02]\n",
      " [ 1.00000000e+00 -1.60677189e+01  2.58171592e+02 -4.14822858e+03]\n",
      " [ 1.00000000e+00 -1.54372963e+01  2.38310116e+02 -3.67886387e+03]\n",
      " [ 1.00000000e+00  8.25981318e-02  6.82245139e-03  5.63521739e-04]\n",
      " [ 1.00000000e+00 -9.86219965e+00  9.72629820e+01 -9.59226948e+02]\n",
      " [ 1.00000000e+00  5.19405161e-01  2.69781721e-01  1.40126018e-01]\n",
      " [ 1.00000000e+00 -6.67977377e+00  4.46193776e+01 -2.98047348e+02]\n",
      " [ 1.00000000e+00  2.54144492e+01  6.45894226e+02  1.64150460e+04]\n",
      " [ 1.00000000e+00 -3.00557404e+00  9.03347534e+00 -2.71507790e+01]\n",
      " [ 1.00000000e+00  8.96308804e+00  8.03369472e+01  7.20067130e+02]\n",
      " [ 1.00000000e+00  6.54152884e-01  4.27915996e-01  2.79922483e-01]\n",
      " [ 1.00000000e+00  2.38313226e+01  5.67931937e+02  1.35345692e+04]\n",
      " [ 1.00000000e+00 -7.03619742e+00  4.95080741e+01 -3.48348584e+02]\n",
      " [ 1.00000000e+00 -1.01945328e+00  1.03928499e+00 -1.05950249e+00]\n",
      " [ 1.00000000e+00 -1.92475428e+01  3.70467904e+02 -7.13059683e+03]\n",
      " [ 1.00000000e+00 -2.10004719e+00  4.41019820e+00 -9.26162433e+00]\n",
      " [ 1.00000000e+00  2.60557231e+01  6.78900707e+02  1.76892489e+04]\n",
      " [ 1.00000000e+00  2.19044772e+01  4.79806119e+02  1.05099022e+04]\n",
      " [ 1.00000000e+00  8.47586926e+00  7.18403597e+01  6.08909496e+02]\n",
      " [ 1.00000000e+00 -9.56926356e+00  9.15708050e+01 -8.76265167e+02]\n",
      " [ 1.00000000e+00 -1.02439926e+01  1.04939385e+02 -1.07499829e+03]\n",
      " [ 1.00000000e+00  3.17173888e+00  1.00599275e+01  3.19074633e+01]\n",
      " [ 1.00000000e+00  4.67235982e+00  2.18309463e+01  1.02002036e+02]\n",
      " [ 1.00000000e+00  3.22034269e+00  1.03706070e+01  3.33969084e+01]\n",
      " [ 1.00000000e+00 -1.86542330e+00  3.47980410e+00 -6.49130765e+00]\n",
      " [ 1.00000000e+00  1.27921897e+01  1.63640117e+02  2.09331542e+03]\n",
      " [ 1.00000000e+00  1.81559616e+00  3.29638942e+00  5.98491198e+00]\n",
      " [ 1.00000000e+00  1.88870259e+01  3.56719747e+02  6.73737511e+03]\n",
      " [ 1.00000000e+00  3.43890671e+00  1.18260794e+01  4.06687838e+01]\n",
      " [ 1.00000000e+00 -3.38432220e+00  1.14536367e+01 -3.87627971e+01]\n",
      " [ 1.00000000e+00 -1.22715437e+01  1.50590785e+02 -1.84798139e+03]\n",
      " [ 1.00000000e+00  1.44102291e+01  2.07654703e+02  2.99235184e+03]\n",
      " [ 1.00000000e+00 -8.63208444e+00  7.45128817e+01 -6.43201487e+02]\n",
      " [ 1.00000000e+00 -1.29154883e+00  1.66809839e+00 -2.15443053e+00]\n",
      " [ 1.00000000e+00 -5.25999295e+00  2.76675258e+01 -1.45530991e+02]\n",
      " [ 1.00000000e+00  6.65304478e+00  4.42630048e+01  2.94483753e+02]\n",
      " [ 1.00000000e+00 -2.54916971e+00  6.49826619e+00 -1.65651833e+01]\n",
      " [ 1.00000000e+00 -2.67616300e+00  7.16184842e+00 -1.91662738e+01]\n",
      " [ 1.00000000e+00 -7.09521791e+00  5.03421172e+01 -3.57188291e+02]\n",
      " [ 1.00000000e+00  1.32437349e+01  1.75396513e+02  2.32290492e+03]\n",
      " [ 1.00000000e+00  1.23384363e+01  1.52237011e+02  1.87836667e+03]\n",
      " [ 1.00000000e+00 -3.19454051e+00  1.02050891e+01 -3.26005706e+01]\n",
      " [ 1.00000000e+00  4.60946059e+00  2.12471269e+01  9.79377943e+01]\n",
      " [ 1.00000000e+00 -6.65762718e-01  4.43239996e-01 -2.95092664e-01]\n",
      " [ 1.00000000e+00  7.70608443e+00  5.93837372e+01  4.57616093e+02]\n",
      " [ 1.00000000e+00 -1.26466586e+01  1.59937974e+02 -2.02268096e+03]\n",
      " [ 1.00000000e+00  2.51315935e+00  6.31596990e+00  1.58730388e+01]\n",
      " [ 1.00000000e+00 -7.05693246e+00  4.98002957e+01 -3.51437323e+02]\n",
      " [ 1.00000000e+00  2.45618233e+01  6.03283166e+02  1.48177345e+04]\n",
      " [ 1.00000000e+00 -1.44054388e+01  2.07516668e+02 -2.98936867e+03]\n",
      " [ 1.00000000e+00 -1.83834254e-01  3.37950331e-02 -6.21268472e-03]\n",
      " [ 1.00000000e+00  5.18479890e+00  2.68821396e+01  1.39378488e+02]\n",
      " [ 1.00000000e+00  8.71110478e+00  7.58833464e+01  6.61027781e+02]\n",
      " [ 1.00000000e+00  7.62592289e+00  5.81546999e+01  4.43483257e+02]\n",
      " [ 1.00000000e+00 -1.50064253e+01  2.25192800e+02 -3.37933893e+03]\n",
      " [ 1.00000000e+00 -2.54289138e+00  6.46629656e+00 -1.64430898e+01]\n",
      " [ 1.00000000e+00  1.13522195e+01  1.28872888e+02  1.46299331e+03]\n",
      " [ 1.00000000e+00 -1.52363669e+01  2.32146878e+02 -3.53707501e+03]\n",
      " [ 1.00000000e+00 -2.39167111e+01  5.72009071e+02 -1.36805757e+04]\n",
      " [ 1.00000000e+00 -1.13684521e+01  1.29241703e+02 -1.46927811e+03]\n",
      " [ 1.00000000e+00  1.06746474e+01  1.13948098e+02  1.21635577e+03]\n",
      " [ 1.00000000e+00  2.64976240e+00  7.02124077e+00  1.86046198e+01]\n",
      " [ 1.00000000e+00 -1.14148389e+00  1.30298547e+00 -1.48733692e+00]\n",
      " [ 1.00000000e+00  1.36107690e+01  1.85253033e+02  2.52143624e+03]\n",
      " [ 1.00000000e+00  7.00691433e+00  4.90968484e+01  3.44017411e+02]\n",
      " [ 1.00000000e+00  2.19935138e+00  4.83714648e+00  1.06385848e+01]\n",
      " [ 1.00000000e+00  1.18341339e+01  1.40046726e+02  1.65733171e+03]\n",
      " [ 1.00000000e+00 -4.73847055e+00  2.24531032e+01 -1.06393368e+02]\n",
      " [ 1.00000000e+00 -7.02414833e+00  4.93386598e+01 -3.46562065e+02]\n",
      " [ 1.00000000e+00  4.42847242e+00  1.96113679e+01  8.68484020e+01]\n",
      " [ 1.00000000e+00 -1.28132110e+01  1.64178375e+02 -2.10365216e+03]\n",
      " [ 1.00000000e+00 -5.88224063e+00  3.46007548e+01 -2.03529966e+02]\n",
      " [ 1.00000000e+00  2.96612683e-01  8.79790835e-02  2.60957120e-02]\n",
      " [ 1.00000000e+00 -1.21358071e+01  1.47277813e+02 -1.78733512e+03]\n",
      " [ 1.00000000e+00  6.60285123e+00  4.35976444e+01  2.87868760e+02]\n",
      " [ 1.00000000e+00 -5.18199715e+00  2.68530944e+01 -1.39152659e+02]\n",
      " [ 1.00000000e+00 -2.33852336e+00  5.46869150e+00 -1.27886628e+01]\n",
      " [ 1.00000000e+00  9.35286749e+00  8.74761304e+01  8.18152656e+02]\n",
      " [ 1.00000000e+00 -1.73361745e+01  3.00542946e+02 -5.21026494e+03]\n",
      " [ 1.00000000e+00  4.47171972e+00  1.99962772e+01  8.94177470e+01]\n",
      " [ 1.00000000e+00 -3.22237240e+00  1.03836839e+01 -3.34600965e+01]\n",
      " [ 1.00000000e+00 -4.38325492e+00  1.92129237e+01 -8.42151421e+01]\n",
      " [ 1.00000000e+00 -1.05604935e+01  1.11524022e+02 -1.17774871e+03]\n",
      " [ 1.00000000e+00  1.10883627e+01  1.22951787e+02  1.36333400e+03]\n",
      " [ 1.00000000e+00  1.37884902e+00  1.90122463e+00  2.62150173e+00]\n",
      " [ 1.00000000e+00 -1.26472099e+01  1.59951917e+02 -2.02294546e+03]\n",
      " [ 1.00000000e+00  8.83556577e+00  7.80672226e+01  6.89768080e+02]\n",
      " [ 1.00000000e+00 -8.30620193e+00  6.89929905e+01 -5.73069711e+02]\n",
      " [ 1.00000000e+00  1.39025489e+01  1.93280867e+02  2.68709671e+03]\n",
      " [ 1.00000000e+00  1.17243953e+01  1.37461446e+02  1.61165233e+03]\n",
      " [ 1.00000000e+00 -4.54264900e+00  2.06356600e+01 -9.37405603e+01]\n",
      " [ 1.00000000e+00 -8.14121319e+00  6.62793521e+01 -5.39594336e+02]\n",
      " [ 1.00000000e+00 -6.71211259e-02  4.50524554e-03 -3.02397153e-04]\n",
      " [ 1.00000000e+00  6.08979771e+00  3.70856362e+01  2.25844022e+02]\n",
      " [ 1.00000000e+00  2.75122251e+00  7.56922530e+00  2.08246230e+01]\n",
      " [ 1.00000000e+00 -7.97462644e+00  6.35946669e+01 -5.07143712e+02]\n",
      " [ 1.00000000e+00 -9.22960056e+00  8.51855266e+01 -7.86228384e+02]\n",
      " [ 1.00000000e+00  6.85784461e+00  4.70300327e+01  3.22524656e+02]\n",
      " [ 1.00000000e+00 -1.90749952e+01  3.63855442e+02 -6.94054080e+03]\n",
      " [ 1.00000000e+00  1.07926968e+01  1.16482305e+02  1.25715820e+03]\n",
      " [ 1.00000000e+00  1.57383550e+01  2.47695817e+02  3.89832468e+03]\n",
      " [ 1.00000000e+00 -5.21612436e+00  2.72079533e+01 -1.41920068e+02]\n",
      " [ 1.00000000e+00  1.59052070e+00  2.52975608e+00  4.02362940e+00]\n",
      " [ 1.00000000e+00  1.50777537e+01  2.27338657e+02  3.42775629e+03]\n",
      " [ 1.00000000e+00  1.36032203e+01  1.85047603e+02  2.51724332e+03]\n",
      " [ 1.00000000e+00  1.40904745e+01  1.98541473e+02  2.79754356e+03]\n",
      " [ 1.00000000e+00 -3.01442002e+00  9.08672808e+00 -2.73912151e+01]\n",
      " [ 1.00000000e+00 -1.31562894e+00  1.73087952e+00 -2.27719519e+00]\n",
      " [ 1.00000000e+00  5.87358351e+00  3.44989832e+01  2.02632659e+02]\n",
      " [ 1.00000000e+00  9.86950417e+00  9.74071125e+01  9.61359903e+02]\n",
      " [ 1.00000000e+00 -1.38786239e+01  1.92616200e+02 -2.67324780e+03]\n",
      " [ 1.00000000e+00  9.63782276e-01  9.28876276e-01  8.95234492e-01]\n",
      " [ 1.00000000e+00 -9.81413511e+00  9.63172480e+01 -9.45270485e+02]\n",
      " [ 1.00000000e+00  2.21992576e+00  4.92807039e+00  1.09399504e+01]\n",
      " [ 1.00000000e+00  4.42335490e+00  1.95660686e+01  8.65476656e+01]\n",
      " [ 1.00000000e+00 -2.17699049e+00  4.73928758e+00 -1.03173840e+01]\n",
      " [ 1.00000000e+00  1.95688507e+01  3.82939920e+02  7.49369413e+03]\n",
      " [ 1.00000000e+00  1.33977036e+00  1.79498463e+00  2.40486721e+00]\n",
      " [ 1.00000000e+00  1.07309983e+01  1.15154324e+02  1.23572085e+03]\n",
      " [ 1.00000000e+00 -1.01904643e+01  1.03845564e+02 -1.05823451e+03]\n",
      " [ 1.00000000e+00  1.06666674e+01  1.13777793e+02  1.21362987e+03]\n",
      " [ 1.00000000e+00  1.20646114e+01  1.45554847e+02  1.75606266e+03]\n",
      " [ 1.00000000e+00  1.14842364e+00  1.31887687e+00  1.51462938e+00]\n",
      " [ 1.00000000e+00 -5.65363502e+00  3.19635889e+01 -1.80710466e+02]\n",
      " [ 1.00000000e+00  2.06014623e+01  4.24420247e+02  8.74367769e+03]\n",
      " [ 1.00000000e+00 -1.37058900e+00  1.87851419e+00 -2.57467088e+00]\n",
      " [ 1.00000000e+00 -8.74755383e-01  7.65196981e-01 -6.69360178e-01]\n",
      " [ 1.00000000e+00 -2.71958567e+00  7.39614624e+00 -2.01144533e+01]\n",
      " [ 1.00000000e+00 -3.82569491e+00  1.46359415e+01 -5.59926470e+01]\n",
      " [ 1.00000000e+00 -2.08498132e+01  4.34714711e+02 -9.06372053e+03]\n",
      " [ 1.00000000e+00 -7.70730026e+00  5.94024773e+01 -4.57832728e+02]\n",
      " [ 1.00000000e+00 -3.72864924e+00  1.39028252e+01 -5.18387585e+01]\n",
      " [ 1.00000000e+00 -2.20541602e+00  4.86385983e+00 -1.07268344e+01]\n",
      " [ 1.00000000e+00  7.08558236e+00  5.02054774e+01  3.55735045e+02]\n",
      " [ 1.00000000e+00 -9.83688215e+00  9.67642504e+01 -9.51858527e+02]\n",
      " [ 1.00000000e+00 -9.69990440e-01  9.40881454e-01 -9.12646016e-01]\n",
      " [ 1.00000000e+00  9.14462466e+00  8.36241602e+01  7.64711558e+02]\n",
      " [ 1.00000000e+00 -2.74527810e+00  7.53655185e+00 -2.06899308e+01]\n",
      " [ 1.00000000e+00  2.73096053e+00  7.45814543e+00  2.03679008e+01]\n",
      " [ 1.00000000e+00 -8.13676863e+00  6.62070038e+01 -5.38711072e+02]\n",
      " [ 1.00000000e+00  1.01099496e+01  1.02211081e+02  1.03334888e+03]\n",
      " [ 1.00000000e+00 -6.43192761e+00  4.13696928e+01 -2.66086869e+02]\n",
      " [ 1.00000000e+00  5.72804276e+00  3.28104739e+01  1.87939798e+02]\n",
      " [ 1.00000000e+00  3.87392974e+00  1.50073317e+01  5.81373485e+01]\n",
      " [ 1.00000000e+00 -9.74609983e+00  9.49864620e+01 -9.25747541e+02]\n",
      " [ 1.00000000e+00 -8.87804544e+00  7.88196908e+01 -6.99764796e+02]]\n"
     ]
    }
   ],
   "source": [
    "# Adding x^3 column\n",
    "def designMatrix(s, rows, cols):\n",
    "    design = np.ones((rows, cols))\n",
    "    for i in range(cols):\n",
    "        design[:,i] = s**i\n",
    "    return design\n",
    "\n",
    "designX3 = designMatrix(sample, 150, 4)\n",
    "\n",
    "print(designX3)"
   ]
  },
  {
   "attachments": {},
   "cell_type": "markdown",
   "metadata": {},
   "source": [
    "ii. Train a model using Gradient Descent with the new design matrix. Repeat the process used above\n",
    "    in Question 4b. Note, we are now using a third-order polynomial to fit data which was generated\n",
    "    using a second-order polynomial. Our function is, thus, more complicated than is necessary to\n",
    "    fit the data and as a result will overfit."
   ]
  },
  {
   "cell_type": "code",
   "execution_count": 1306,
   "metadata": {},
   "outputs": [
    {
     "name": "stdout",
     "output_type": "stream",
     "text": [
      "[0.69952624 0.89885726 0.57706514 0.93276   ]\n"
     ]
    }
   ],
   "source": [
    "# This is from 4 a) \n",
    "thetaX3 = np.random.uniform(0, 1, 4)\n",
    "\n",
    "theta0 = thetaX3[0]\n",
    "theta1 = thetaX3[1]\n",
    "theta2 = thetaX3[2]\n",
    "theta3 = thetaX3[3]\n",
    "\n",
    "print(thetaX3)\n"
   ]
  },
  {
   "attachments": {},
   "cell_type": "markdown",
   "metadata": {},
   "source": [
    "Spliting data into training, test and validation"
   ]
  },
  {
   "cell_type": "code",
   "execution_count": 1307,
   "metadata": {},
   "outputs": [],
   "source": [
    "# #Training\n",
    "training_x_values = sample[:90]\n",
    "training_y_values = y[:90]\n",
    "trainDMC = designX3[:90]\n",
    "\n",
    "#Testing\n",
    "testing_x_values = sample[120:150]\n",
    "testing_y_values = y[120:150]\n",
    "testDMC = designX3[120:150]\n",
    "\n",
    "#Validation\n",
    "validation_x_valuesX3 = sample[90:120]\n",
    "validation_y_valuesX3 = y[90:120]\n",
    "validDMC = designX3[90:120]"
   ]
  },
  {
   "attachments": {},
   "cell_type": "markdown",
   "metadata": {},
   "source": [
    "Use Moore Penrose to generate closed form solution to the model parameter values (NOT NEEDED)"
   ]
  },
  {
   "cell_type": "code",
   "execution_count": 1308,
   "metadata": {},
   "outputs": [
    {
     "name": "stdout",
     "output_type": "stream",
     "text": [
      "[1.52602542e+00 5.42582321e-01 1.18690500e-01 7.87912699e-05]\n"
     ]
    },
    {
     "data": {
      "image/png": "[encoded data removed]",
      "text/plain": [
       "<Figure size 432x288 with 1 Axes>"
      ]
     },
     "metadata": {
      "needs_background": "light"
     },
     "output_type": "display_data"
    }
   ],
   "source": [
    "import matplotlib.pyplot as plt\n",
    "\n",
    "moore_penrose = moorePenrose(trainDMC, training_y_values)\n",
    "print(moore_penrose)\n",
    "\n",
    "sorted_trainX = trainDMC[trainDMC[:,1].argsort()]\n",
    "sorted_trainY = np.dot(sorted_trainX, moore_penrose)\n",
    "\n",
    "plt.scatter(training_x_values, training_y_values)\n",
    "plt.plot(sorted_trainX[:,1], sorted_trainY, \"r\")\n",
    "plt.show()"
   ]
  },
  {
   "attachments": {},
   "cell_type": "markdown",
   "metadata": {},
   "source": [
    "Gradient Descent Method"
   ]
  },
  {
   "cell_type": "code",
   "execution_count": 1309,
   "metadata": {},
   "outputs": [
    {
     "data": {
      "image/png": "[encoded data removed]",
      "text/plain": [
       "<Figure size 432x288 with 1 Axes>"
      ]
     },
     "metadata": {
      "needs_background": "light"
     },
     "output_type": "display_data"
    }
   ],
   "source": [
    "def gradient_descent(X, y, learning_rate=0.0000001, num_iterations=10000):\n",
    "    # Initialize parameters\n",
    "    m, n = X.shape\n",
    "    theta = np.zeros(n)\n",
    "    errors = []\n",
    "    \n",
    "    # Perform gradient descent\n",
    "    for i in range(num_iterations):\n",
    "        # Compute the hypothesis (predicted values)\n",
    "        y_pred = np.dot(X, theta)\n",
    "        \n",
    "        error = y_pred - y\n",
    "        \n",
    "        if (i % 20):\n",
    "            errors.append(np.mean(error**2))\n",
    "\n",
    "        # Compute the gradient of the cost function\n",
    "        gradient = np.dot(X.T, error) / m\n",
    "\n",
    "        # Update the parameters\n",
    "        theta -= learning_rate * gradient\n",
    "\n",
    "    return theta, errors\n",
    "\n",
    "thetaC1, errorC1 = gradient_descent(trainDMC, training_y_values)\n",
    "\n",
    "plt.plot(errorC1, color=\"orange\")\n",
    "plt.show()"
   ]
  },
  {
   "cell_type": "code",
   "execution_count": 1310,
   "metadata": {},
   "outputs": [
    {
     "data": {
      "image/png": "[encoded data removed]",
      "text/plain": [
       "<Figure size 432x288 with 1 Axes>"
      ]
     },
     "metadata": {
      "needs_background": "light"
     },
     "output_type": "display_data"
    }
   ],
   "source": [
    "sorted_trainX = trainDMC[trainDMC[:,1].argsort()]\n",
    "sorted_trainY = np.dot(sorted_trainX, thetaC1)\n",
    "\n",
    "\n",
    "plt.scatter(training_x_values, training_y_values)\n",
    "plt.plot(sorted_trainX[:,1], sorted_trainY, \"r\")\n",
    "plt.show()"
   ]
  },
  {
   "attachments": {},
   "cell_type": "markdown",
   "metadata": {},
   "source": [
    "iii. Repeat the training process one final time, this time use regularization when training the third-\n",
    "order polynomial model."
   ]
  },
  {
   "cell_type": "code",
   "execution_count": 1311,
   "metadata": {},
   "outputs": [],
   "source": [
    "# import math\n",
    "\n",
    "# def summation(z, x_values,y_values):\n",
    "#   total1 = 0\n",
    "#   total2 = 0\n",
    "#   total3 = 0\n",
    "#   total4 = 0\n",
    "\n",
    "#   for i in range(1, len(x_values)):\n",
    "#     y_pred = z(x_values[i])\n",
    "    \n",
    "#     total1 += y_pred - y_values[i]\n",
    "#     total2 += (y_pred - y_values[i]) * x_values[i]\n",
    "#     total3 += (y_pred - y_values[i]) * math.pow(x_values[i], 2)\n",
    "#     total4 += (y_pred - y_values[i]) * math.pow(x_values[i], 3)\n",
    "    \n",
    "#   return total1/ len(x_values), total2/len(x_values), total3/len(x_values), total4/len(x_values)\n",
    "\n",
    "# learning_rate = 0.0000001\n",
    "# constant = 0\n",
    "# degreeOneCoef = 0\n",
    "# degreeTwoCoef = 0\n",
    "# degreeThreeCoef = 0\n",
    "# polynomial = lambda x: constant + degreeOneCoef * x + (degreeTwoCoef * math.pow(x, 2)) + (degreeThreeCoef * math.pow(x, 3))\n",
    "\n",
    "  \n",
    "# thetas = np.zeros((1,4))\n",
    "# lam = 0.8\n",
    "\n",
    "# for i in range(45):\n",
    "#     s1, s2, s3, s4 = summation(polynomial, training_x_values, training_y_values)\n",
    "#     cnstant = constant - learning_rate * s1\n",
    "#     degreeOneCoef = degreeOneCoef - learning_rate * (s2 + degreeOneCoef * lam)\n",
    "#     degreeTwoCoef = degreeTwoCoef - learning_rate * (s3 + degreeTwoCoef * lam)\n",
    "#     degreeThreeCoef = degreeThreeCoef - learning_rate * (s4 + degreeThreeCoef * lam)\n",
    "    \n",
    "   \n",
    "# thetas = np.append(thetas, degreeOneCoef)  \n",
    "# thetas = np.append(thetas, degreeTwoCoef)\n",
    "# thetas = np.append(thetas, degreeThreeCoef)\n",
    "# thetas = np.append(thetas, constant)\n",
    "\n",
    "# for x in range(4):\n",
    "#  thetas = np.delete(thetas, x)\n",
    " \n",
    "# print(thetas)\n",
    "\n",
    "\n",
    "# sorted_trainX = trainDM[trainDM[:,1].argsort()]\n",
    "# sorted_trainY = np.dot(sorted_trainX, thetas)\n",
    "\n",
    "# plt.title('Regularization')\n",
    "# plt.scatter(training_x_values,training_y_values)\n",
    "# # plt.axvline(x=0)\n",
    "# plt.plot(sorted_trainX[:,1], sorted_trainY,'r') \n",
    "# plt.show()\n"
   ]
  },
  {
   "attachments": {},
   "cell_type": "markdown",
   "metadata": {},
   "source": [
    "Regularised Gradient Descent - Seems to be working funny though..."
   ]
  },
  {
   "cell_type": "code",
   "execution_count": 1312,
   "metadata": {},
   "outputs": [
    {
     "data": {
      "image/png": "[encoded data removed]",
      "text/plain": [
       "<Figure size 432x288 with 1 Axes>"
      ]
     },
     "metadata": {
      "needs_background": "light"
     },
     "output_type": "display_data"
    },
    {
     "name": "stdout",
     "output_type": "stream",
     "text": [
      "[-6.14762722e+74 -4.83540730e+76 -4.73014271e+77 -2.30942550e+79]\n"
     ]
    },
    {
     "data": {
      "image/png": "[encoded data removed]",
      "text/plain": [
       "<Figure size 432x288 with 1 Axes>"
      ]
     },
     "metadata": {
      "needs_background": "light"
     },
     "output_type": "display_data"
    }
   ],
   "source": [
    "def Reg_gradient_descent(X, y, learning_rate=0.0000001, num_iterations=1000, l=0.5):\n",
    "    # Initialize parameters\n",
    "    m, n = X.shape\n",
    "    theta = np.zeros(n, dtype=float)\n",
    "    errors = np.empty(m ,dtype=float)\n",
    "    \n",
    "    # Perform gradient descent\n",
    "    for i in range(num_iterations):\n",
    "        # Compute the hypothesis (predicted values)\n",
    "        y_pred = np.dot(X, theta)\n",
    "        \n",
    "        error = y_pred - y\n",
    "        \n",
    "        if (i % 20):\n",
    "            np.append(errors, np.mean(error**2))\n",
    "\n",
    "        # Compute the gradient of the cost function\n",
    "        gradient = np.dot(X.T, error) / m\n",
    "\n",
    "        # Update the parameters\n",
    "        theta -= (learning_rate * gradient + (l * theta))\n",
    "\n",
    "    return theta, error\n",
    "\n",
    "thetaC2, errorC2 = Reg_gradient_descent(trainDMC, training_y_values)\n",
    "\n",
    "plt.plot(errorC2, color=\"orange\")\n",
    "plt.show()\n",
    "\n",
    "print(thetaC2)\n",
    "\n",
    "sorted_trainX = trainDMC[trainDMC[:,1].argsort()]\n",
    "sorted_trainY = np.dot(sorted_trainX, thetaC2)\n",
    "\n",
    "plt.title('Regularization')\n",
    "plt.scatter(sample, y)\n",
    "plt.plot(sorted_trainX[:,1], sorted_trainY,'r') \n",
    "plt.show()"
   ]
  },
  {
   "attachments": {},
   "cell_type": "markdown",
   "metadata": {},
   "source": [
    "iv. Results"
   ]
  },
  {
   "cell_type": "code",
   "execution_count": 1313,
   "metadata": {},
   "outputs": [
    {
     "data": {
      "image/png": "[encoded data removed]",
      "text/plain": [
       "<Figure size 432x288 with 1 Axes>"
      ]
     },
     "metadata": {
      "needs_background": "light"
     },
     "output_type": "display_data"
    },
    {
     "data": {
      "image/png": "[encoded data removed]",
      "text/plain": [
       "<Figure size 432x288 with 1 Axes>"
      ]
     },
     "metadata": {
      "needs_background": "light"
     },
     "output_type": "display_data"
    }
   ],
   "source": [
    "# ERRORS\n",
    "# TODO: Calculate error for test and validation\n",
    "# TODO: Print gradient error for training, test and validation\n",
    "plt.plot(errorB, color=\"orange\")\n",
    "plt.plot(errorC1, color=\"blue\")\n",
    "plt.show()\n",
    "\n",
    "plt.plot(errorC2, color=\"green\")\n",
    "plt.show()\n"
   ]
  },
  {
   "cell_type": "code",
   "execution_count": 1314,
   "metadata": {},
   "outputs": [
    {
     "data": {
      "image/png": "[encoded data removed]",
      "text/plain": [
       "<Figure size 432x288 with 1 Axes>"
      ]
     },
     "metadata": {
      "needs_background": "light"
     },
     "output_type": "display_data"
    },
    {
     "data": {
      "image/png": "[encoded data removed]",
      "text/plain": [
       "<Figure size 432x288 with 1 Axes>"
      ]
     },
     "metadata": {
      "needs_background": "light"
     },
     "output_type": "display_data"
    }
   ],
   "source": [
    "#PLOTS\n",
    "sorted_trainX = trainDMB[trainDMB[:,1].argsort()]\n",
    "sorted_trainYB = np.dot(sorted_trainX, thetaB)\n",
    "\n",
    "sorted_trainX = trainDMC[trainDMC[:,1].argsort()]\n",
    "sorted_trainYC1 = np.dot(sorted_trainX, thetaC1)\n",
    "sorted_trainYC2 = np.dot(sorted_trainX, thetaC2)\n",
    "\n",
    "plt.title('Normal')\n",
    "plt.scatter(sample, y)\n",
    "plt.plot(sorted_trainX[:,1], sorted_trainYB,'r')\n",
    "plt.plot(sorted_trainX[:,1], sorted_trainYC1,'b')\n",
    "\n",
    "plt.show()\n",
    "\n",
    "plt.title('Regularised')\n",
    "plt.scatter(sample, y)\n",
    "plt.plot(sorted_trainX[:,1], sorted_trainYC2,'g')\n",
    "plt.show()\n"
   ]
  }
 ],
 "metadata": {
  "kernelspec": {
   "display_name": "Python 3",
   "language": "python",
   "name": "python3"
  },
  "language_info": {
   "codemirror_mode": {
    "name": "ipython",
    "version": 3
   },
   "file_extension": ".py",
   "mimetype": "text/x-python",
   "name": "python",
   "nbconvert_exporter": "python",
   "pygments_lexer": "ipython3",
   "version": "3.10.5"
  },
  "orig_nbformat": 4
 },
 "nbformat": 4,
 "nbformat_minor": 2
}
