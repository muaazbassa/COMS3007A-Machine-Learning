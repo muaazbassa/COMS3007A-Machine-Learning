{
 "cells": [
  {
   "attachments": {},
   "cell_type": "markdown",
   "metadata": {},
   "source": [
    "##  QUESTION1"
   ]
  },
  {
   "attachments": {},
   "cell_type": "markdown",
   "metadata": {},
   "source": [
    "Q1a)\n"
   ]
  },
  {
   "cell_type": "code",
   "execution_count": 16,
   "metadata": {},
   "outputs": [
    {
     "name": "stdout",
     "output_type": "stream",
     "text": [
      "y_hat =  1.2\n",
      "error =  0.02\n"
     ]
    }
   ],
   "source": [
    "#The Predicted Value of y_hat(x) for x = 1.\n",
    "y_hat= round(0.4 + 0.8*(1),2)\n",
    "y_true = 1\n",
    "y_hat\n",
    "# The error for when x=1\n",
    "error = round(0.5 * (y_hat - y_true)**2,2)\n",
    "\n",
    "#print the y_hat and error\n",
    "print(\"y_hat = \", y_hat)\n",
    "print(\"error = \", error)"
   ]
  },
  {
   "attachments": {},
   "cell_type": "markdown",
   "metadata": {},
   "source": [
    "Q1b)"
   ]
  },
  {
   "cell_type": "code",
   "execution_count": 17,
   "metadata": {},
   "outputs": [
    {
     "name": "stdout",
     "output_type": "stream",
     "text": [
      "y_hat =  2.0\n",
      "error =  0.5\n"
     ]
    }
   ],
   "source": [
    "#The Predicted Value of y_hat(x) for x = 2.\n",
    "y_hat= 0.4 + 0.8*(2)\n",
    "y_true = 3\n",
    "y_hat\n",
    "\n",
    "# The error for when x=2\n",
    "error = round(0.5 * (y_hat - y_true)**2,2)\n",
    "\n",
    "#print the y_hat and error\n",
    "print(\"y_hat = \", y_hat)\n",
    "print(\"error = \", error)"
   ]
  },
  {
   "attachments": {},
   "cell_type": "markdown",
   "metadata": {},
   "source": [
    "Q1c)"
   ]
  },
  {
   "cell_type": "code",
   "execution_count": 18,
   "metadata": {},
   "outputs": [
    {
     "data": {
      "text/plain": [
       "1.2"
      ]
     },
     "execution_count": 18,
     "metadata": {},
     "output_type": "execute_result"
    }
   ],
   "source": [
    "#sum of squares error for this model\n",
    "\n",
    "def y_hat(x):\n",
    "    y = 0.4 + 0.8*(x)\n",
    "    return y\n",
    "\n",
    "# x values\n",
    "x_values = [1,2,3,4,5]\n",
    "# y avlues\n",
    "y_values = [1,3,2,3,5]\n",
    "y_predicted = []\n",
    "error = 0.0\n",
    "for x in x_values:\n",
    "    y_predicted.append(round(y_hat(x),2))\n",
    "\n",
    "for i in range(len(y_values)):\n",
    "    error += 0.5 * (y_values[i] - y_predicted[i])**2\n",
    "\n",
    "error = round(error, 2)\n",
    "error"
   ]
  },
  {
   "attachments": {},
   "cell_type": "markdown",
   "metadata": {},
   "source": [
    "## QUESTION 4"
   ]
  },
  {
   "attachments": {},
   "cell_type": "markdown",
   "metadata": {},
   "source": [
    "# a)"
   ]
  },
  {
   "attachments": {},
   "cell_type": "markdown",
   "metadata": {},
   "source": [
    "i. Generating random sample data"
   ]
  },
  {
   "cell_type": "code",
   "execution_count": 19,
   "metadata": {},
   "outputs": [],
   "source": [
    "import numpy as np\n",
    "\n",
    "mean = 0\n",
    "std = 10\n",
    "size = 150\n",
    "\n",
    "sample = np.random.normal(mean, std, size)\n"
   ]
  },
  {
   "attachments": {},
   "cell_type": "markdown",
   "metadata": {},
   "source": [
    "ii. Constructing design matrix from sample data"
   ]
  },
  {
   "cell_type": "code",
   "execution_count": 20,
   "metadata": {},
   "outputs": [
    {
     "name": "stdout",
     "output_type": "stream",
     "text": [
      "[[ 1.00000000e+00 -6.93414219e+00  4.80823280e+01]\n",
      " [ 1.00000000e+00  1.23847976e+01  1.53383212e+02]\n",
      " [ 1.00000000e+00 -1.42523368e+01  2.03129105e+02]\n",
      " [ 1.00000000e+00 -5.90301781e+00  3.48456193e+01]\n",
      " [ 1.00000000e+00  1.72197998e+01  2.96521504e+02]\n",
      " [ 1.00000000e+00  1.77376915e+01  3.14625700e+02]\n",
      " [ 1.00000000e+00  2.08142920e+01  4.33234752e+02]\n",
      " [ 1.00000000e+00  1.41362884e+01  1.99834651e+02]\n",
      " [ 1.00000000e+00 -8.82238321e+00  7.78344455e+01]\n",
      " [ 1.00000000e+00  1.00950633e+01  1.01910304e+02]\n",
      " [ 1.00000000e+00 -2.49211671e+01  6.21064569e+02]\n",
      " [ 1.00000000e+00 -4.85796078e+00  2.35997830e+01]\n",
      " [ 1.00000000e+00 -1.93632727e+00  3.74936329e+00]\n",
      " [ 1.00000000e+00 -1.65647003e+00  2.74389297e+00]\n",
      " [ 1.00000000e+00 -2.42170994e+01  5.86467903e+02]\n",
      " [ 1.00000000e+00 -5.37979661e+00  2.89422116e+01]\n",
      " [ 1.00000000e+00 -1.41956955e+00  2.01517772e+00]\n",
      " [ 1.00000000e+00  1.65636090e+01  2.74353142e+02]\n",
      " [ 1.00000000e+00 -5.41012253e+00  2.92694258e+01]\n",
      " [ 1.00000000e+00 -4.57023204e+00  2.08870209e+01]\n",
      " [ 1.00000000e+00  1.06493549e+01  1.13408759e+02]\n",
      " [ 1.00000000e+00 -2.18047324e+01  4.75446355e+02]\n",
      " [ 1.00000000e+00 -6.33557114e+00  4.01394617e+01]\n",
      " [ 1.00000000e+00 -6.83008856e+00  4.66501097e+01]\n",
      " [ 1.00000000e+00  1.04433885e+01  1.09064363e+02]\n",
      " [ 1.00000000e+00 -9.70121168e+00  9.41135081e+01]\n",
      " [ 1.00000000e+00 -4.25802392e+00  1.81307677e+01]\n",
      " [ 1.00000000e+00 -2.23860571e+00  5.01135553e+00]\n",
      " [ 1.00000000e+00 -4.34091851e-02  1.88435735e-03]\n",
      " [ 1.00000000e+00  2.21892747e+01  4.92363913e+02]\n",
      " [ 1.00000000e+00 -9.13891243e-01  8.35197204e-01]\n",
      " [ 1.00000000e+00  2.20100284e+01  4.84441350e+02]\n",
      " [ 1.00000000e+00 -4.79761366e+00  2.30170969e+01]\n",
      " [ 1.00000000e+00  1.62743604e+00  2.64854806e+00]\n",
      " [ 1.00000000e+00  5.32813213e+00  2.83889920e+01]\n",
      " [ 1.00000000e+00 -3.22576175e+00  1.04055389e+01]\n",
      " [ 1.00000000e+00  5.35847046e+00  2.87132057e+01]\n",
      " [ 1.00000000e+00 -1.13308525e+01  1.28388219e+02]\n",
      " [ 1.00000000e+00 -4.23418047e+00  1.79282843e+01]\n",
      " [ 1.00000000e+00  1.32139164e+00  1.74607586e+00]\n",
      " [ 1.00000000e+00 -7.22730893e+00  5.22339943e+01]\n",
      " [ 1.00000000e+00 -1.36097956e+01  1.85226537e+02]\n",
      " [ 1.00000000e+00 -2.96429359e-01  8.78703651e-02]\n",
      " [ 1.00000000e+00 -1.22516321e+00  1.50102489e+00]\n",
      " [ 1.00000000e+00 -1.76810548e-01  3.12619697e-02]\n",
      " [ 1.00000000e+00  2.29102195e+01  5.24878157e+02]\n",
      " [ 1.00000000e+00  6.43110736e-01  4.13591419e-01]\n",
      " [ 1.00000000e+00  7.54664648e+00  5.69518730e+01]\n",
      " [ 1.00000000e+00  1.92399672e+01  3.70176336e+02]\n",
      " [ 1.00000000e+00 -7.82466044e+00  6.12253109e+01]\n",
      " [ 1.00000000e+00 -1.40069925e+00  1.96195838e+00]\n",
      " [ 1.00000000e+00 -1.97626314e+01  3.90561599e+02]\n",
      " [ 1.00000000e+00  5.21328007e+00  2.71782891e+01]\n",
      " [ 1.00000000e+00  2.05598143e+01  4.22705963e+02]\n",
      " [ 1.00000000e+00 -8.69375778e+00  7.55814244e+01]\n",
      " [ 1.00000000e+00  1.71977739e+01  2.95763427e+02]\n",
      " [ 1.00000000e+00 -3.51577916e+00  1.23607031e+01]\n",
      " [ 1.00000000e+00  5.61842352e+00  3.15666828e+01]\n",
      " [ 1.00000000e+00 -2.54495451e+00  6.47679345e+00]\n",
      " [ 1.00000000e+00  3.61020786e+00  1.30336008e+01]\n",
      " [ 1.00000000e+00  4.53505188e+00  2.05666956e+01]\n",
      " [ 1.00000000e+00 -1.81081892e+01  3.27906516e+02]\n",
      " [ 1.00000000e+00 -1.11102581e+01  1.23437835e+02]\n",
      " [ 1.00000000e+00  4.76568219e+00  2.27117267e+01]\n",
      " [ 1.00000000e+00 -5.15715814e+00  2.65962800e+01]\n",
      " [ 1.00000000e+00 -4.84848956e+00  2.35078510e+01]\n",
      " [ 1.00000000e+00 -4.54237954e+00  2.06332119e+01]\n",
      " [ 1.00000000e+00 -1.49606857e+01  2.23822116e+02]\n",
      " [ 1.00000000e+00  2.46826166e+00  6.09231563e+00]\n",
      " [ 1.00000000e+00 -5.30713886e+00  2.81657228e+01]\n",
      " [ 1.00000000e+00 -1.52138562e+00  2.31461422e+00]\n",
      " [ 1.00000000e+00 -3.89782535e+00  1.51930424e+01]\n",
      " [ 1.00000000e+00  1.53889790e+01  2.36820675e+02]\n",
      " [ 1.00000000e+00 -4.82251658e+00  2.32566661e+01]\n",
      " [ 1.00000000e+00  1.26599129e+00  1.60273394e+00]\n",
      " [ 1.00000000e+00  3.26072175e+00  1.06323063e+01]\n",
      " [ 1.00000000e+00  1.10366842e+00  1.21808397e+00]\n",
      " [ 1.00000000e+00  1.47902015e+01  2.18750061e+02]\n",
      " [ 1.00000000e+00  7.77438445e+00  6.04410536e+01]\n",
      " [ 1.00000000e+00  7.82548469e+00  6.12382106e+01]\n",
      " [ 1.00000000e+00  1.61110249e+01  2.59565123e+02]\n",
      " [ 1.00000000e+00 -1.87222360e+01  3.50522121e+02]\n",
      " [ 1.00000000e+00  1.40109938e+01  1.96307947e+02]\n",
      " [ 1.00000000e+00 -5.51451028e+00  3.04098236e+01]\n",
      " [ 1.00000000e+00  6.43516675e+00  4.14113711e+01]\n",
      " [ 1.00000000e+00 -4.38515981e+00  1.92296266e+01]\n",
      " [ 1.00000000e+00 -1.04268252e+01  1.08718683e+02]\n",
      " [ 1.00000000e+00 -2.04125719e+01  4.16673090e+02]\n",
      " [ 1.00000000e+00 -2.13349545e+01  4.55180286e+02]\n",
      " [ 1.00000000e+00  3.60283375e+00  1.29804110e+01]\n",
      " [ 1.00000000e+00  5.69235701e+00  3.24029284e+01]\n",
      " [ 1.00000000e+00  1.94918020e+01  3.79930345e+02]\n",
      " [ 1.00000000e+00 -1.24588065e+01  1.55221860e+02]\n",
      " [ 1.00000000e+00  4.06188766e+00  1.64989314e+01]\n",
      " [ 1.00000000e+00 -6.48541351e+00  4.20605884e+01]\n",
      " [ 1.00000000e+00  6.30524153e-01  3.97560708e-01]\n",
      " [ 1.00000000e+00 -1.31124753e+01  1.71937007e+02]\n",
      " [ 1.00000000e+00 -6.57447307e+00  4.32236961e+01]\n",
      " [ 1.00000000e+00  1.39819398e+01  1.95494640e+02]\n",
      " [ 1.00000000e+00 -7.22371185e+00  5.21820129e+01]\n",
      " [ 1.00000000e+00  4.89006342e+00  2.39127203e+01]\n",
      " [ 1.00000000e+00  1.43205287e+01  2.05077542e+02]\n",
      " [ 1.00000000e+00  7.17106842e+00  5.14242223e+01]\n",
      " [ 1.00000000e+00  3.88267930e+00  1.50751986e+01]\n",
      " [ 1.00000000e+00 -4.19845596e+00  1.76270325e+01]\n",
      " [ 1.00000000e+00  1.48130005e+01  2.19424982e+02]\n",
      " [ 1.00000000e+00  3.03743268e+00  9.22599729e+00]\n",
      " [ 1.00000000e+00 -7.35632230e+00  5.41154778e+01]\n",
      " [ 1.00000000e+00 -7.31319031e+00  5.34827524e+01]\n",
      " [ 1.00000000e+00  9.13275328e+00  8.34071824e+01]\n",
      " [ 1.00000000e+00 -1.25937146e+01  1.58601649e+02]\n",
      " [ 1.00000000e+00 -1.69252287e+01  2.86463365e+02]\n",
      " [ 1.00000000e+00 -1.30623075e+01  1.70623876e+02]\n",
      " [ 1.00000000e+00  1.88402991e+01  3.54956868e+02]\n",
      " [ 1.00000000e+00 -2.30111731e+01  5.29514087e+02]\n",
      " [ 1.00000000e+00  4.61917706e+00  2.13367967e+01]\n",
      " [ 1.00000000e+00  5.91107494e+00  3.49408070e+01]\n",
      " [ 1.00000000e+00  1.22788362e+01  1.50769818e+02]\n",
      " [ 1.00000000e+00 -7.26496238e+00  5.27796784e+01]\n",
      " [ 1.00000000e+00  5.51618407e+00  3.04282867e+01]\n",
      " [ 1.00000000e+00  3.38415102e+00  1.14524781e+01]\n",
      " [ 1.00000000e+00  8.50361403e-01  7.23114516e-01]\n",
      " [ 1.00000000e+00  1.73492482e+00  3.00996413e+00]\n",
      " [ 1.00000000e+00 -1.18545897e+00  1.40531298e+00]\n",
      " [ 1.00000000e+00  5.04879513e+00  2.54903323e+01]\n",
      " [ 1.00000000e+00  5.32339688e-01  2.83385543e-01]\n",
      " [ 1.00000000e+00 -5.82552131e+00  3.39366985e+01]\n",
      " [ 1.00000000e+00 -2.90172327e+00  8.41999792e+00]\n",
      " [ 1.00000000e+00 -1.47453350e+01  2.17424903e+02]\n",
      " [ 1.00000000e+00  3.16236531e+00  1.00005544e+01]\n",
      " [ 1.00000000e+00 -5.30180354e+00  2.81091208e+01]\n",
      " [ 1.00000000e+00  2.50277917e+01  6.26390357e+02]\n",
      " [ 1.00000000e+00 -1.74641848e+01  3.04997750e+02]\n",
      " [ 1.00000000e+00  1.31407647e+01  1.72679697e+02]\n",
      " [ 1.00000000e+00 -2.02279239e+00  4.09168906e+00]\n",
      " [ 1.00000000e+00  1.77143131e+00  3.13796890e+00]\n",
      " [ 1.00000000e+00  2.14332919e+01  4.59386004e+02]\n",
      " [ 1.00000000e+00  2.67710530e+01  7.16689279e+02]\n",
      " [ 1.00000000e+00 -8.14887501e+00  6.64041639e+01]\n",
      " [ 1.00000000e+00 -7.44209265e+00  5.53847430e+01]\n",
      " [ 1.00000000e+00  1.13417760e+01  1.28635882e+02]\n",
      " [ 1.00000000e+00 -7.06327237e+00  4.98898165e+01]\n",
      " [ 1.00000000e+00  1.56192052e+01  2.43959571e+02]\n",
      " [ 1.00000000e+00  6.20846942e+00  3.85450925e+01]\n",
      " [ 1.00000000e+00  8.76877245e+00  7.68913703e+01]\n",
      " [ 1.00000000e+00  1.56337256e+00  2.44413376e+00]\n",
      " [ 1.00000000e+00 -1.37040879e+01  1.87802024e+02]\n",
      " [ 1.00000000e+00 -1.29776035e+01  1.68418194e+02]\n",
      " [ 1.00000000e+00  9.86294300e+00  9.72776446e+01]\n",
      " [ 1.00000000e+00 -8.13654762e-01  6.62034072e-01]]\n"
     ]
    }
   ],
   "source": [
    "def designMatrix(s, rows, cols):\n",
    "    design = np.ones((rows, cols))\n",
    "    for i in range(cols):\n",
    "        design[:,i] = s**i\n",
    "    return design\n",
    "\n",
    "design = designMatrix(sample, 150, 3)\n",
    "\n",
    "print(design)\n"
   ]
  },
  {
   "attachments": {},
   "cell_type": "markdown",
   "metadata": {},
   "source": [
    "iii. Sample true values for theta, (3 values - corresponds to features)"
   ]
  },
  {
   "cell_type": "code",
   "execution_count": 21,
   "metadata": {},
   "outputs": [
    {
     "name": "stdout",
     "output_type": "stream",
     "text": [
      "[0.60361573 0.13465083 0.52487969]\n"
     ]
    }
   ],
   "source": [
    "theta = np.random.uniform(0, 1, 3)\n",
    "\n",
    "theta0 = theta[0]\n",
    "theta1 = theta[1]\n",
    "theta2 = theta[2]\n",
    "\n",
    "print(theta)"
   ]
  },
  {
   "attachments": {},
   "cell_type": "markdown",
   "metadata": {},
   "source": [
    "iv. Generate y values using design matrix and true parameter. Also add noise to make data more realistic"
   ]
  },
  {
   "cell_type": "code",
   "execution_count": 22,
   "metadata": {},
   "outputs": [
    {
     "name": "stdout",
     "output_type": "stream",
     "text": [
      "[ 1.61625310e+01  7.08915543e+01  1.13971564e+02  1.05108070e+01\n",
      "  1.64738247e+02  1.66929024e+02  2.28101021e+02  1.06734782e+02\n",
      "  4.04678947e+01  5.60469796e+01  3.34192016e+02  6.12770541e+00\n",
      " -1.39243777e+00  8.70243471e+00  3.12144945e+02  2.32564332e+01\n",
      " -1.79644895e+00  1.47215754e+02  1.38065196e+01  1.80835223e+00\n",
      "  6.02570855e+01  2.55458030e+02  2.81975795e+01  4.18860883e+01\n",
      "  4.36616327e+01  5.50077325e+01  2.47496652e+01 -6.08976663e+00\n",
      "  9.94820571e-01  2.67399888e+02  5.15317021e+00  2.48728150e+02\n",
      "  1.71289720e+00  1.53919129e+01  2.29967059e+01 -2.06899693e+00\n",
      "  2.40982595e+01  4.95245324e+01  9.15427433e+00 -2.19262247e+00\n",
      "  2.31131510e+01  9.76855410e+01 -3.59885848e+00  1.57487078e+00\n",
      "  5.94296588e-01  2.76541308e+02  5.33202160e+00  1.95134569e+01\n",
      "  1.99753625e+02  2.93430506e+01  9.35177463e+00  1.96603696e+02\n",
      "  2.91636369e+01  2.37723885e+02  3.16255793e+01  1.63286541e+02\n",
      "  8.46664738e-02  1.64641444e+01 -6.78009074e+00 -1.73909508e+00\n",
      "  6.13325726e+00  1.58289899e+02  6.85281344e+01  1.76293903e+01\n",
      "  3.23765268e+00  2.20099432e+01  2.09456775e+01  1.21812986e+02\n",
      " -3.54936202e+00  4.12116391e+00  6.84026720e+00  1.09186478e+01\n",
      "  1.33149618e+02  8.06868982e+00 -1.42472970e+01  1.35924106e+01\n",
      " -1.30854224e+01  1.18407137e+02  3.80757457e+01  2.09819288e+01\n",
      "  1.40775703e+02  1.80432502e+02  9.50698856e+01  6.00243623e+00\n",
      "  3.37571054e+01  1.28935196e+01  4.65859832e+01  2.11122112e+02\n",
      "  2.35711086e+02  1.36210813e+01  8.45604948e+00  2.05783223e+02\n",
      "  7.57968531e+01  1.15749813e+00  2.45057107e+01  1.01947670e+01\n",
      "  9.64879184e+01  1.93834715e+01  1.08420175e+02  4.32793378e+01\n",
      "  5.25966566e+00  1.08853676e+02  1.85780059e+01  1.88556820e+01\n",
      "  1.95278987e+01  1.14787786e+02  6.38899964e+00  3.94618044e+01\n",
      "  2.02881953e+01  4.29898768e+01  7.87552079e+01  1.57392104e+02\n",
      "  7.79695811e+01  1.86419237e+02  2.72228773e+02  9.13175753e+00\n",
      "  2.61790264e+01  9.57628570e+01  1.97682493e+01  1.61394308e+01\n",
      "  9.54514441e+00  1.12454269e+01  1.41082090e+01 -2.48820498e-01\n",
      "  1.03850079e+01 -1.26384818e+00  2.37457221e+01  5.39306151e+00\n",
      "  1.07313063e+02  1.18048961e+01  1.41545115e+01  3.19755597e+02\n",
      "  1.70774048e+02  1.12272944e+02 -1.90216643e+00  9.75601496e-01\n",
      "  2.48668499e+02  3.93856978e+02  3.84096167e+01  3.03366662e+01\n",
      "  7.79364106e+01  2.77902817e+01  1.29065422e+02  3.54331717e+01\n",
      "  4.45896756e+01  1.27903925e+00  9.08240786e+01  7.78520061e+01\n",
      "  6.02319104e+01  1.77035413e+01]\n"
     ]
    }
   ],
   "source": [
    "mean = 0\n",
    "std = 8\n",
    "size = 150\n",
    "\n",
    "noise = np.random.normal(mean, std, size)\n",
    "\n",
    "y = np.dot(design, theta) + noise\n",
    "\n",
    "print(y)"
   ]
  },
  {
   "attachments": {},
   "cell_type": "markdown",
   "metadata": {},
   "source": [
    "v. Plot sample data with generated y values"
   ]
  },
  {
   "cell_type": "code",
   "execution_count": 23,
   "metadata": {},
   "outputs": [
    {
     "data": {
      "image/png": "[encoded data removed]",
      "text/plain": [
       "<Figure size 640x480 with 1 Axes>"
      ]
     },
     "metadata": {},
     "output_type": "display_data"
    }
   ],
   "source": [
    "import matplotlib.pyplot as plt\n",
    "\n",
    "plt.scatter(sample, y)\n",
    "plt.show()"
   ]
  },
  {
   "attachments": {},
   "cell_type": "markdown",
   "metadata": {},
   "source": [
    "vi. Split sample data into training, testing and validation data"
   ]
  },
  {
   "cell_type": "code",
   "execution_count": 24,
   "metadata": {},
   "outputs": [],
   "source": [
    "#90 of 150 for training (60%)\n",
    "#30 of 150 for testing (20%)\n",
    "#30 of 150 for validation (20%)\n",
    "\n",
    "#Training\n",
    "training_x_values = sample[:90]\n",
    "training_y_values = y[:90]\n",
    "trainX = design[:90]\n",
    "\n",
    "#Testing\n",
    "testing_x_values = sample[120:150]\n",
    "testing_y_values = y[120:150]\n",
    "\n",
    "#Validation\n",
    "validation_x_values = sample[90:120]\n",
    "validation_y_values = y[90:120]\n",
    "\n",
    "# print(training_x_values)\n"
   ]
  },
  {
   "attachments": {},
   "cell_type": "markdown",
   "metadata": {},
   "source": [
    "# b)"
   ]
  },
  {
   "attachments": {},
   "cell_type": "markdown",
   "metadata": {},
   "source": [
    "i. Use Moore-Penrose pseudo-inverse to calculate the closed form solution"
   ]
  },
  {
   "cell_type": "code",
   "execution_count": 25,
   "metadata": {},
   "outputs": [
    {
     "name": "stdout",
     "output_type": "stream",
     "text": [
      "[-0.76665295  0.13060224  0.53058574]\n",
      "[0.60361573 0.13465083 0.52487969]\n"
     ]
    }
   ],
   "source": [
    "def moore_penrose(DMatrix, y_values):\n",
    "    dmTranspose = np.transpose(DMatrix)\n",
    "    firstPart = np.linalg.inv(np.dot(dmTranspose, DMatrix))\n",
    "    secondPart = np.dot(dmTranspose, y_values)\n",
    "    finalMoore = np.dot(firstPart, secondPart)\n",
    "    return finalMoore\n",
    "\n",
    "moore_penrose1 = moore_penrose(trainX, training_y_values)\n",
    "\n",
    "print(moore_penrose1)\n",
    "print(theta)\n"
   ]
  },
  {
   "attachments": {},
   "cell_type": "markdown",
   "metadata": {},
   "source": [
    "ii. How close are the learned parameter values to the true parameters?"
   ]
  },
  {
   "cell_type": "code",
   "execution_count": 26,
   "metadata": {},
   "outputs": [],
   "source": [
    "# The learned parameter values, with the exception of theta0, which is off from the true value by a significant value.\n",
    "# While theta1 is off by approx. 0.004 and theta2 is off by approx 0.005, which is relatively close to the true parameters  "
   ]
  },
  {
   "attachments": {},
   "cell_type": "markdown",
   "metadata": {},
   "source": [
    "iii. Compute the training and validation error of the model"
   ]
  },
  {
   "cell_type": "code",
   "execution_count": 27,
   "metadata": {},
   "outputs": [
    {
     "name": "stdout",
     "output_type": "stream",
     "text": [
      "2811.6546850446425\n",
      "901.5915021856971\n"
     ]
    }
   ],
   "source": [
    "import math\n",
    "\n",
    "def Error(x_values, y_values):\n",
    "    sum = 0\n",
    "    index = 0\n",
    "\n",
    "    for x in x_values:\n",
    "        y_predicted = moore_penrose1[0] + moore_penrose1[1] * x + moore_penrose1[2] * x**2\n",
    "        error = y_values[index] - y_predicted\n",
    "        sum += math.pow(error,2)\n",
    "        index += 1\n",
    "\n",
    "    totalError = 0.5 * sum\n",
    "    return totalError\n",
    "\n",
    "trainingError = Error(training_x_values, training_y_values)\n",
    "validationError = Error(validation_x_values, validation_y_values)\n",
    "\n",
    "print(trainingError)\n",
    "print(validationError)"
   ]
  },
  {
   "attachments": {},
   "cell_type": "markdown",
   "metadata": {},
   "source": [
    "iv. Plot of the data and the regression model"
   ]
  },
  {
   "cell_type": "code",
   "execution_count": 28,
   "metadata": {},
   "outputs": [
    {
     "data": {
      "image/png": "[encoded data removed]",
      "text/plain": [
       "<Figure size 640x480 with 1 Axes>"
      ]
     },
     "metadata": {},
     "output_type": "display_data"
    }
   ],
   "source": [
    "import matplotlib.pyplot as plt\n",
    "\n",
    "sorted_trainX = trainX[trainX[:,1].argsort()]\n",
    "yValues = np.dot(sorted_trainX, moore_penrose1)\n",
    "\n",
    "\n",
    "plt.scatter(sample, y)\n",
    "plt.plot(sorted_trainX[:,1], yValues, \"r\")\n",
    "plt.show()"
   ]
  },
  {
   "attachments": {},
   "cell_type": "markdown",
   "metadata": {},
   "source": [
    "v. Repeat the above process using Gradient Descent to train your model. In addition, plot the\n",
    "training error of your regression model over time (observe or capture the training error every 20\n",
    "parameter updates/time steps). Your plot should look like Figure 2c."
   ]
  },
  {
   "cell_type": "code",
   "execution_count": null,
   "metadata": {},
   "outputs": [],
   "source": []
  }
 ],
 "metadata": {
  "kernelspec": {
   "display_name": "Python 3",
   "language": "python",
   "name": "python3"
  },
  "language_info": {
   "codemirror_mode": {
    "name": "ipython",
    "version": 3
   },
   "file_extension": ".py",
   "mimetype": "text/x-python",
   "name": "python",
   "nbconvert_exporter": "python",
   "pygments_lexer": "ipython3",
   "version": "3.11.0"
  },
  "orig_nbformat": 4
 },
 "nbformat": 4,
 "nbformat_minor": 2
}
