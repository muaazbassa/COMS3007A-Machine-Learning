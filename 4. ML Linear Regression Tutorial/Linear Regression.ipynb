{
 "cells": [
  {
   "attachments": {},
   "cell_type": "markdown",
   "metadata": {},
   "source": [
    "##  QUESTION1"
   ]
  },
  {
   "attachments": {},
   "cell_type": "markdown",
   "metadata": {},
   "source": [
    "Q1a)\n"
   ]
  },
  {
   "cell_type": "code",
   "execution_count": 326,
   "metadata": {},
   "outputs": [
    {
     "name": "stdout",
     "output_type": "stream",
     "text": [
      "y_hat =  1.2\n",
      "error =  0.02\n"
     ]
    }
   ],
   "source": [
    "#The Predicted Value of y_hat(x) for x = 1.\n",
    "y_hat= round(0.4 + 0.8*(1),2)\n",
    "y_true = 1\n",
    "y_hat\n",
    "# The error for when x=1\n",
    "error = round(0.5 * (y_hat - y_true)**2,2)\n",
    "\n",
    "#print the y_hat and error\n",
    "print(\"y_hat = \", y_hat)\n",
    "print(\"error = \", error)"
   ]
  },
  {
   "attachments": {},
   "cell_type": "markdown",
   "metadata": {},
   "source": [
    "Q1b)"
   ]
  },
  {
   "cell_type": "code",
   "execution_count": 327,
   "metadata": {},
   "outputs": [
    {
     "name": "stdout",
     "output_type": "stream",
     "text": [
      "y_hat =  2.0\n",
      "error =  0.5\n"
     ]
    }
   ],
   "source": [
    "#The Predicted Value of y_hat(x) for x = 2.\n",
    "y_hat= 0.4 + 0.8*(2)\n",
    "y_true = 3\n",
    "y_hat\n",
    "\n",
    "# The error for when x=2\n",
    "error = round(0.5 * (y_hat - y_true)**2,2)\n",
    "\n",
    "#print the y_hat and error\n",
    "print(\"y_hat = \", y_hat)\n",
    "print(\"error = \", error)"
   ]
  },
  {
   "attachments": {},
   "cell_type": "markdown",
   "metadata": {},
   "source": [
    "Q1c)"
   ]
  },
  {
   "cell_type": "code",
   "execution_count": 328,
   "metadata": {},
   "outputs": [
    {
     "data": {
      "text/plain": [
       "1.2"
      ]
     },
     "execution_count": 328,
     "metadata": {},
     "output_type": "execute_result"
    }
   ],
   "source": [
    "#sum of squares error for this model\n",
    "\n",
    "def y_hat(x):\n",
    "    y = 0.4 + 0.8*(x)\n",
    "    return y\n",
    "\n",
    "# x values\n",
    "x_values = [1,2,3,4,5]\n",
    "# y avlues\n",
    "y_values = [1,3,2,3,5]\n",
    "y_predicted = []\n",
    "error = 0.0\n",
    "for x in x_values:\n",
    "    y_predicted.append(round(y_hat(x),2))\n",
    "\n",
    "for i in range(len(y_values)):\n",
    "    error += 0.5 * (y_values[i] - y_predicted[i])**2\n",
    "\n",
    "error = round(error, 2)\n",
    "error"
   ]
  },
  {
   "attachments": {},
   "cell_type": "markdown",
   "metadata": {},
   "source": [
    "## QUESTION 4"
   ]
  },
  {
   "attachments": {},
   "cell_type": "markdown",
   "metadata": {},
   "source": [
    "# a)"
   ]
  },
  {
   "attachments": {},
   "cell_type": "markdown",
   "metadata": {},
   "source": [
    "i. Generating random sample data"
   ]
  },
  {
   "cell_type": "code",
   "execution_count": 329,
   "metadata": {},
   "outputs": [],
   "source": [
    "import numpy as np\n",
    "\n",
    "mean = 0\n",
    "std = 10\n",
    "size = 150\n",
    "\n",
    "sample = np.random.normal(mean, std, size)\n"
   ]
  },
  {
   "attachments": {},
   "cell_type": "markdown",
   "metadata": {},
   "source": [
    "ii. Constructing design matrix from sample data"
   ]
  },
  {
   "cell_type": "code",
   "execution_count": 330,
   "metadata": {},
   "outputs": [
    {
     "name": "stdout",
     "output_type": "stream",
     "text": [
      "[[ 1.00000000e+00 -1.27773279e+01  1.63260107e+02]\n",
      " [ 1.00000000e+00 -9.19803318e+00  8.46038144e+01]\n",
      " [ 1.00000000e+00 -8.87517275e+00  7.87686914e+01]\n",
      " [ 1.00000000e+00  2.26905943e+00  5.14863070e+00]\n",
      " [ 1.00000000e+00 -1.93365788e+01  3.73903280e+02]\n",
      " [ 1.00000000e+00 -1.68952727e+01  2.85450239e+02]\n",
      " [ 1.00000000e+00 -6.20851013e+00  3.85455981e+01]\n",
      " [ 1.00000000e+00 -1.33140729e+01  1.77264536e+02]\n",
      " [ 1.00000000e+00 -1.19118800e+01  1.41892886e+02]\n",
      " [ 1.00000000e+00 -1.54248413e+01  2.37925728e+02]\n",
      " [ 1.00000000e+00 -6.80533194e+00  4.63125428e+01]\n",
      " [ 1.00000000e+00  4.69261453e+00  2.20206311e+01]\n",
      " [ 1.00000000e+00 -6.24861795e+00  3.90452263e+01]\n",
      " [ 1.00000000e+00 -3.60300448e+00  1.29816413e+01]\n",
      " [ 1.00000000e+00  4.62811167e+00  2.14194176e+01]\n",
      " [ 1.00000000e+00 -1.68123681e+01  2.82655720e+02]\n",
      " [ 1.00000000e+00 -9.32698640e+00  8.69926754e+01]\n",
      " [ 1.00000000e+00 -5.53433076e+00  3.06288170e+01]\n",
      " [ 1.00000000e+00  1.29614198e+01  1.67998404e+02]\n",
      " [ 1.00000000e+00  4.81644095e+00  2.31981034e+01]\n",
      " [ 1.00000000e+00  9.55537245e+00  9.13051427e+01]\n",
      " [ 1.00000000e+00  1.19851284e+01  1.43643302e+02]\n",
      " [ 1.00000000e+00 -2.15483903e+00  4.64333126e+00]\n",
      " [ 1.00000000e+00  3.69052388e+00  1.36199665e+01]\n",
      " [ 1.00000000e+00 -1.12308903e+01  1.26132896e+02]\n",
      " [ 1.00000000e+00  8.73770192e+00  7.63474348e+01]\n",
      " [ 1.00000000e+00 -1.12930597e+01  1.27533198e+02]\n",
      " [ 1.00000000e+00 -6.85904510e-01  4.70464996e-01]\n",
      " [ 1.00000000e+00  1.44065052e+01  2.07547391e+02]\n",
      " [ 1.00000000e+00 -7.44724189e+00  5.54614118e+01]\n",
      " [ 1.00000000e+00  1.54623184e+01  2.39083291e+02]\n",
      " [ 1.00000000e+00  1.39199411e+01  1.93764760e+02]\n",
      " [ 1.00000000e+00  1.46147268e+01  2.13590240e+02]\n",
      " [ 1.00000000e+00 -5.36542476e+00  2.87877829e+01]\n",
      " [ 1.00000000e+00 -1.91532448e+00  3.66846788e+00]\n",
      " [ 1.00000000e+00  2.82216073e+00  7.96459120e+00]\n",
      " [ 1.00000000e+00 -2.70224649e+00  7.30213607e+00]\n",
      " [ 1.00000000e+00 -7.96341483e+00  6.34159757e+01]\n",
      " [ 1.00000000e+00  1.82808757e+01  3.34190417e+02]\n",
      " [ 1.00000000e+00 -2.10300781e+00  4.42264184e+00]\n",
      " [ 1.00000000e+00 -7.81214872e+00  6.10296676e+01]\n",
      " [ 1.00000000e+00 -5.56818112e+00  3.10046410e+01]\n",
      " [ 1.00000000e+00 -1.19015492e+01  1.41646875e+02]\n",
      " [ 1.00000000e+00 -9.99970035e-01  9.99940070e-01]\n",
      " [ 1.00000000e+00 -5.14044998e+00  2.64242260e+01]\n",
      " [ 1.00000000e+00 -3.14232845e+00  9.87422808e+00]\n",
      " [ 1.00000000e+00  1.76370671e+01  3.11066136e+02]\n",
      " [ 1.00000000e+00  1.40083716e+00  1.96234475e+00]\n",
      " [ 1.00000000e+00  1.60595312e+01  2.57908542e+02]\n",
      " [ 1.00000000e+00 -1.90949560e+01  3.64617345e+02]\n",
      " [ 1.00000000e+00  1.23927056e+01  1.53579153e+02]\n",
      " [ 1.00000000e+00  1.23421323e+01  1.52328230e+02]\n",
      " [ 1.00000000e+00  4.80287532e+00  2.30676113e+01]\n",
      " [ 1.00000000e+00 -3.30630781e+00  1.09316714e+01]\n",
      " [ 1.00000000e+00 -3.18618104e+00  1.01517496e+01]\n",
      " [ 1.00000000e+00  1.22476225e+01  1.50004258e+02]\n",
      " [ 1.00000000e+00  6.61884260e+00  4.38090774e+01]\n",
      " [ 1.00000000e+00 -4.18618416e+00  1.75241378e+01]\n",
      " [ 1.00000000e+00  9.92258436e+00  9.84576803e+01]\n",
      " [ 1.00000000e+00 -3.12800267e-01  9.78440071e-02]\n",
      " [ 1.00000000e+00  8.91749796e+00  7.95217698e+01]\n",
      " [ 1.00000000e+00 -1.84012355e+00  3.38605467e+00]\n",
      " [ 1.00000000e+00  9.52067800e+00  9.06433096e+01]\n",
      " [ 1.00000000e+00 -9.24453586e+00  8.54614433e+01]\n",
      " [ 1.00000000e+00  3.58052651e+00  1.28201701e+01]\n",
      " [ 1.00000000e+00  3.79459045e+00  1.43989167e+01]\n",
      " [ 1.00000000e+00  1.56771436e+01  2.45772833e+02]\n",
      " [ 1.00000000e+00 -7.14578759e-01  5.10622803e-01]\n",
      " [ 1.00000000e+00 -1.25045686e+00  1.56364235e+00]\n",
      " [ 1.00000000e+00 -7.73025568e+00  5.97568528e+01]\n",
      " [ 1.00000000e+00 -1.48593311e+01  2.20799719e+02]\n",
      " [ 1.00000000e+00  3.69582671e-02  1.36591351e-03]\n",
      " [ 1.00000000e+00  3.17526781e+00  1.00823257e+01]\n",
      " [ 1.00000000e+00 -1.58443036e+01  2.51041957e+02]\n",
      " [ 1.00000000e+00  9.79545938e+00  9.59510244e+01]\n",
      " [ 1.00000000e+00  9.34269790e+00  8.72860040e+01]\n",
      " [ 1.00000000e+00 -1.64917804e+01  2.71978821e+02]\n",
      " [ 1.00000000e+00 -1.12136755e+01  1.25746518e+02]\n",
      " [ 1.00000000e+00 -4.78051196e+00  2.28532946e+01]\n",
      " [ 1.00000000e+00 -1.13372215e+01  1.28532591e+02]\n",
      " [ 1.00000000e+00 -1.39450622e+01  1.94464761e+02]\n",
      " [ 1.00000000e+00 -1.28146507e+00  1.64215272e+00]\n",
      " [ 1.00000000e+00 -1.96650935e+01  3.86715902e+02]\n",
      " [ 1.00000000e+00 -1.26582229e+01  1.60230608e+02]\n",
      " [ 1.00000000e+00  1.87740148e+01  3.52463631e+02]\n",
      " [ 1.00000000e+00  3.46484751e+00  1.20051682e+01]\n",
      " [ 1.00000000e+00 -1.43795644e+01  2.06771873e+02]\n",
      " [ 1.00000000e+00 -2.13802095e+00  4.57113360e+00]\n",
      " [ 1.00000000e+00  2.08476886e-01  4.34626122e-02]\n",
      " [ 1.00000000e+00  3.51299360e+00  1.23411240e+01]\n",
      " [ 1.00000000e+00  3.07038967e+00  9.42729275e+00]\n",
      " [ 1.00000000e+00  7.19951482e+00  5.18330136e+01]\n",
      " [ 1.00000000e+00 -9.76581608e-02  9.53711636e-03]\n",
      " [ 1.00000000e+00  1.12062203e+01  1.25579372e+02]\n",
      " [ 1.00000000e+00 -1.62129031e+01  2.62858228e+02]\n",
      " [ 1.00000000e+00 -1.71013097e+01  2.92454793e+02]\n",
      " [ 1.00000000e+00  1.26884499e+01  1.60996760e+02]\n",
      " [ 1.00000000e+00  2.26037065e-01  5.10927549e-02]\n",
      " [ 1.00000000e+00  9.75567059e+00  9.51731087e+01]\n",
      " [ 1.00000000e+00  5.94261302e+00  3.53146495e+01]\n",
      " [ 1.00000000e+00 -8.85567679e+00  7.84230114e+01]\n",
      " [ 1.00000000e+00  3.07035352e+00  9.42707076e+00]\n",
      " [ 1.00000000e+00  1.66235241e+01  2.76341554e+02]\n",
      " [ 1.00000000e+00 -5.36645609e+00  2.87988510e+01]\n",
      " [ 1.00000000e+00 -8.64143368e+00  7.46743760e+01]\n",
      " [ 1.00000000e+00  6.28862897e+00  3.95468543e+01]\n",
      " [ 1.00000000e+00  2.02754185e+00  4.11092597e+00]\n",
      " [ 1.00000000e+00 -5.23395169e+00  2.73942503e+01]\n",
      " [ 1.00000000e+00  2.74322047e-01  7.52525853e-02]\n",
      " [ 1.00000000e+00 -8.25757154e+00  6.81874877e+01]\n",
      " [ 1.00000000e+00 -4.80479193e-02  2.30860255e-03]\n",
      " [ 1.00000000e+00  1.56447612e+01  2.44758554e+02]\n",
      " [ 1.00000000e+00 -1.54695631e+01  2.39307382e+02]\n",
      " [ 1.00000000e+00 -1.12854919e+01  1.27362328e+02]\n",
      " [ 1.00000000e+00  7.47500652e+00  5.58757225e+01]\n",
      " [ 1.00000000e+00  6.65111212e+00  4.42372925e+01]\n",
      " [ 1.00000000e+00  6.87284656e+00  4.72360198e+01]\n",
      " [ 1.00000000e+00 -1.74808722e+00  3.05580892e+00]\n",
      " [ 1.00000000e+00 -6.94785032e+00  4.82726241e+01]\n",
      " [ 1.00000000e+00 -6.35396420e+00  4.03728610e+01]\n",
      " [ 1.00000000e+00 -4.69073181e+00  2.20029649e+01]\n",
      " [ 1.00000000e+00  1.36222199e+01  1.85564874e+02]\n",
      " [ 1.00000000e+00 -6.23771490e+00  3.89090872e+01]\n",
      " [ 1.00000000e+00  3.47949832e+00  1.21069085e+01]\n",
      " [ 1.00000000e+00  4.71020977e+00  2.21860761e+01]\n",
      " [ 1.00000000e+00 -1.69443115e+01  2.87109693e+02]\n",
      " [ 1.00000000e+00 -1.52078933e+01  2.31280019e+02]\n",
      " [ 1.00000000e+00 -6.42162811e+00  4.12373075e+01]\n",
      " [ 1.00000000e+00  4.90084131e+00  2.40182456e+01]\n",
      " [ 1.00000000e+00 -1.30395775e+01  1.70030582e+02]\n",
      " [ 1.00000000e+00  4.18914483e+00  1.75489344e+01]\n",
      " [ 1.00000000e+00  2.29709261e+00  5.27663447e+00]\n",
      " [ 1.00000000e+00 -2.89743373e+00  8.39512224e+00]\n",
      " [ 1.00000000e+00  6.89813484e+00  4.75842643e+01]\n",
      " [ 1.00000000e+00 -1.20097258e+01  1.44233513e+02]\n",
      " [ 1.00000000e+00 -6.54285981e+00  4.28090145e+01]\n",
      " [ 1.00000000e+00  3.05480418e+00  9.33182856e+00]\n",
      " [ 1.00000000e+00  8.94822613e+00  8.00707509e+01]\n",
      " [ 1.00000000e+00 -5.51817673e+00  3.04502744e+01]\n",
      " [ 1.00000000e+00 -1.20534166e+00  1.45284851e+00]\n",
      " [ 1.00000000e+00 -2.52277620e+00  6.36439976e+00]\n",
      " [ 1.00000000e+00  1.21843429e-01  1.48458212e-02]\n",
      " [ 1.00000000e+00 -2.12710062e+01  4.52455704e+02]\n",
      " [ 1.00000000e+00 -2.28705354e+00  5.23061390e+00]\n",
      " [ 1.00000000e+00  4.77862328e+00  2.28352404e+01]\n",
      " [ 1.00000000e+00 -5.75636348e+00  3.31357205e+01]\n",
      " [ 1.00000000e+00  7.98804701e+00  6.38088950e+01]\n",
      " [ 1.00000000e+00 -6.53246140e+00  4.26730520e+01]\n",
      " [ 1.00000000e+00 -1.06356917e+01  1.13117938e+02]\n",
      " [ 1.00000000e+00  1.15724214e+01  1.33920937e+02]]\n"
     ]
    }
   ],
   "source": [
    "def designMatrix(s, rows, cols):\n",
    "    design = np.ones((rows, cols))\n",
    "    for i in range(cols):\n",
    "        design[:,i] = s**i\n",
    "    return design\n",
    "\n",
    "design = designMatrix(sample, 150, 3)\n",
    "\n",
    "print(design)\n"
   ]
  },
  {
   "attachments": {},
   "cell_type": "markdown",
   "metadata": {},
   "source": [
    "iii. Sample true values for theta, (3 values - corresponds to features)"
   ]
  },
  {
   "cell_type": "code",
   "execution_count": 331,
   "metadata": {},
   "outputs": [
    {
     "name": "stdout",
     "output_type": "stream",
     "text": [
      "[0.37819904 0.02468597 0.84509113]\n"
     ]
    }
   ],
   "source": [
    "theta = np.random.uniform(0, 1, 3)\n",
    "\n",
    "theta0 = theta[0]\n",
    "theta1 = theta[1]\n",
    "theta2 = theta[2]\n",
    "\n",
    "print(theta)"
   ]
  },
  {
   "attachments": {},
   "cell_type": "markdown",
   "metadata": {},
   "source": [
    "iv. Generate y values using design matrix and true parameter. Also add noise to make data more realistic"
   ]
  },
  {
   "cell_type": "code",
   "execution_count": 332,
   "metadata": {},
   "outputs": [
    {
     "name": "stdout",
     "output_type": "stream",
     "text": [
      "[ 1.40346428e+02  7.11230933e+01  6.14571810e+01  1.27521181e+01\n",
      "  3.18776366e+02  2.52039939e+02  2.23212327e+01  1.51138067e+02\n",
      "  1.17803740e+02  1.99007762e+02  2.70304010e+01  1.27552119e+01\n",
      "  3.60426182e+01  9.98356772e+00  1.06265383e+01  2.39606171e+02\n",
      "  7.96612984e+01  3.10488985e+01  1.56635270e+02  1.27923662e+01\n",
      "  7.66974679e+01  1.07109105e+02  5.82241299e+00  7.90930841e+00\n",
      "  1.01713272e+02  6.50402328e+01  1.01765802e+02  4.08913546e+00\n",
      "  1.84390710e+02  4.58139128e+01  1.94284279e+02  1.58620383e+02\n",
      "  1.90798594e+02  2.99068370e+01  7.70127390e+00  1.63475428e+01\n",
      " -6.29370566e+00  6.18490615e+01  2.85361329e+02 -5.00737967e+00\n",
      "  5.20071890e+01  2.57208140e+01  1.00708097e+02 -7.45051678e+00\n",
      "  1.35009367e+01  1.07191721e+00  2.67789311e+02  7.41990967e+00\n",
      "  2.15874016e+02  3.05615389e+02  1.39481343e+02  1.24356200e+02\n",
      "  1.73801447e+01 -8.10740731e+00  3.21903094e-01  1.28950112e+02\n",
      "  3.16379174e+01  2.14468392e+01  9.83872388e+01  7.41277933e+00\n",
      "  7.23406489e+01  2.50659807e-02  8.09375521e+01  5.09518321e+01\n",
      "  1.28686446e+01  2.40481517e+00  1.97721277e+02  6.51335875e+00\n",
      " -1.12720075e+01  5.60986658e+01  1.81209101e+02 -1.27793595e+01\n",
      "  3.39548533e+00  2.09181325e+02  8.02160040e+01  6.24160384e+01\n",
      "  2.31047563e+02  1.03046256e+02  1.94510640e+01  1.04689360e+02\n",
      "  1.60866767e+02 -1.10598667e+00  3.15343515e+02  1.38964713e+02\n",
      "  3.00160118e+02  2.96399383e+00  1.77696777e+02 -1.47644932e+00\n",
      "  3.94310049e+00 -2.56985092e+00 -1.74758806e+00  4.33869774e+01\n",
      " -1.95935610e+00  9.58276174e+01  2.14856866e+02  2.66009085e+02\n",
      "  1.36886683e+02  7.58736474e+00  7.91563466e+01  2.66128926e+01\n",
      "  6.94920698e+01 -4.05194830e+00  2.36320262e+02  2.08105674e+01\n",
      "  6.35763057e+01  3.67318347e+01  2.30371102e+00  2.64919508e+01\n",
      " -4.63394005e-01  4.70393304e+01  1.65790392e+00  2.02676871e+02\n",
      "  2.01286920e+02  1.16321850e+02  3.71980008e+01  5.38073022e+01\n",
      "  3.22412235e+01 -1.10926158e+01  3.21354997e+01  3.30764202e+01\n",
      "  2.21729842e+01  1.58326639e+02  3.04382859e+01  9.37854709e+00\n",
      "  1.55348933e+01  2.39945363e+02  2.05198265e+02  5.19678827e+01\n",
      "  1.69269825e+01  1.36593283e+02  1.52272999e+01  1.13691941e+01\n",
      "  1.32985506e+01  5.07099710e+01  1.26351275e+02  3.54172968e+01\n",
      "  1.65195146e+01  5.69992994e+01  4.16406545e+01  7.98412533e+00\n",
      " -2.01851329e+00  3.89706731e+00  3.90880081e+02  5.60333147e+00\n",
      "  2.46934377e+01  2.66845727e+01  4.63153317e+01  2.99730891e+01\n",
      "  8.61630116e+01  1.10584059e+02]\n"
     ]
    }
   ],
   "source": [
    "mean = 0\n",
    "std = 8\n",
    "size = 150\n",
    "\n",
    "noise = np.random.normal(mean, std, size)\n",
    "\n",
    "y = np.dot(design, theta) + noise\n",
    "\n",
    "print(y)"
   ]
  },
  {
   "attachments": {},
   "cell_type": "markdown",
   "metadata": {},
   "source": [
    "v. Plot sample data with generated y values"
   ]
  },
  {
   "cell_type": "code",
   "execution_count": 333,
   "metadata": {},
   "outputs": [
    {
     "data": {
      "image/png": "[encoded data removed]",
      "text/plain": [
       "<Figure size 640x480 with 1 Axes>"
      ]
     },
     "metadata": {},
     "output_type": "display_data"
    }
   ],
   "source": [
    "import matplotlib.pyplot as plt\n",
    "\n",
    "plt.scatter(sample, y)\n",
    "plt.show()"
   ]
  },
  {
   "attachments": {},
   "cell_type": "markdown",
   "metadata": {},
   "source": [
    "vi. Split sample data into training, testing and validation data"
   ]
  },
  {
   "cell_type": "code",
   "execution_count": 334,
   "metadata": {},
   "outputs": [],
   "source": [
    "#90 of 150 for training (60%)\n",
    "#30 of 150 for testing (20%)\n",
    "#30 of 150 for validation (20%)\n",
    "\n",
    "#Training\n",
    "training_x_values = sample[:90]\n",
    "training_y_values = y[:90]\n",
    "trainDM = design[:90]\n",
    "\n",
    "#Testing\n",
    "testing_x_values = sample[120:150]\n",
    "testing_y_values = y[120:150]\n",
    "testDM = design[120:150]\n",
    "\n",
    "#Validation\n",
    "validation_x_values = sample[90:120]\n",
    "validation_y_values = y[90:120]\n",
    "validDM = design[90:120]\n",
    "\n",
    "# print(training_x_values)\n"
   ]
  },
  {
   "attachments": {},
   "cell_type": "markdown",
   "metadata": {},
   "source": [
    "# b)"
   ]
  },
  {
   "attachments": {},
   "cell_type": "markdown",
   "metadata": {},
   "source": [
    "i. Use Moore-Penrose pseudo-inverse to calculate the closed form solution"
   ]
  },
  {
   "cell_type": "code",
   "execution_count": 335,
   "metadata": {},
   "outputs": [
    {
     "name": "stdout",
     "output_type": "stream",
     "text": [
      "[-2.51871401  0.09658858  0.85483413]\n",
      "[0.37819904 0.02468597 0.84509113]\n"
     ]
    }
   ],
   "source": [
    "def moorePenrose(DMatrix, y_values):\n",
    "    dmTranspose = np.transpose(DMatrix)\n",
    "    firstPart = np.linalg.inv(np.dot(dmTranspose, DMatrix))\n",
    "    secondPart = np.dot(dmTranspose, y_values)\n",
    "    finalMoore = np.dot(firstPart, secondPart)\n",
    "    return finalMoore\n",
    "\n",
    "moore_penrose = moorePenrose(trainDM, training_y_values)\n",
    "\n",
    "print(moore_penrose)\n",
    "print(theta)\n"
   ]
  },
  {
   "attachments": {},
   "cell_type": "markdown",
   "metadata": {},
   "source": [
    "ii. How close are the learned parameter values to the true parameters?"
   ]
  },
  {
   "cell_type": "code",
   "execution_count": 336,
   "metadata": {},
   "outputs": [],
   "source": [
    "# The learned parameter values, with the exception of theta0, which is off from the true value by a significant value.\n",
    "# While theta1 is off by approx. 0.004 and theta2 is off by approx 0.005, which is relatively close to the true parameters  "
   ]
  },
  {
   "attachments": {},
   "cell_type": "markdown",
   "metadata": {},
   "source": [
    "iii. Compute the training and validation error of the model"
   ]
  },
  {
   "cell_type": "code",
   "execution_count": 337,
   "metadata": {},
   "outputs": [
    {
     "name": "stdout",
     "output_type": "stream",
     "text": [
      "15.885374421937236\n",
      "5.808781575566832\n"
     ]
    }
   ],
   "source": [
    "import math\n",
    "\n",
    "def Error(x_values, y_values):\n",
    "    sum = 0\n",
    "    index = 0\n",
    "\n",
    "    for x in x_values:\n",
    "        y_predicted = moore_penrose[0] + moore_penrose[1] * x + moore_penrose[2] * math.pow(x, 2)\n",
    "        error = y_values[index] - y_predicted\n",
    "        sum += math.pow(error,2)\n",
    "        index += 1\n",
    "\n",
    "    totalError = (1 / (2 * 150)) * sum # Since the fraction is valid as long as its a constant (slides)\n",
    "    return totalError, y_predicted\n",
    "\n",
    "trainingError, training_y = Error(training_x_values, training_y_values)\n",
    "validationError, validated_y = Error(validation_x_values, validation_y_values)\n",
    "\n",
    "print(trainingError)\n",
    "print(validationError)"
   ]
  },
  {
   "attachments": {},
   "cell_type": "markdown",
   "metadata": {},
   "source": [
    "iv. Plot of the data and the regression model"
   ]
  },
  {
   "cell_type": "code",
   "execution_count": 338,
   "metadata": {},
   "outputs": [
    {
     "data": {
      "image/png": "[encoded data removed]",
      "text/plain": [
       "<Figure size 640x480 with 1 Axes>"
      ]
     },
     "metadata": {},
     "output_type": "display_data"
    }
   ],
   "source": [
    "import matplotlib.pyplot as plt\n",
    "\n",
    "sorted_trainX = trainDM[trainDM[:,1].argsort()]\n",
    "yValues = np.dot(sorted_trainX, moore_penrose)\n",
    "\n",
    "\n",
    "plt.scatter(sample, y)\n",
    "plt.plot(sorted_trainX[:,1], yValues, \"r\")\n",
    "plt.show()"
   ]
  },
  {
   "attachments": {},
   "cell_type": "markdown",
   "metadata": {},
   "source": [
    "v. Repeat the above process using Gradient Descent to train your model. In addition, plot the\n",
    "training error of your regression model over time (observe or capture the training error every 20\n",
    "parameter updates/time steps). Your plot should look like Figure 2c."
   ]
  },
  {
   "cell_type": "code",
   "execution_count": 339,
   "metadata": {},
   "outputs": [
    {
     "data": {
      "image/png": "[encoded data removed]",
      "text/plain": [
       "<Figure size 640x480 with 1 Axes>"
      ]
     },
     "metadata": {},
     "output_type": "display_data"
    }
   ],
   "source": [
    "import numpy as np\n",
    "\n",
    "def gradient_descent(X, y, learning_rate=0.0000001, num_iterations=1000):\n",
    "    # Initialize parameters\n",
    "    m, n = X.shape\n",
    "    theta = np.zeros((n, 1))\n",
    "    errors = []\n",
    "\n",
    "    # Perform gradient descent\n",
    "    for i in range(num_iterations):\n",
    "        # Compute predictions\n",
    "        y_pred = X.dot(theta)\n",
    "\n",
    "        # Compute errors\n",
    "        error = y_pred - y\n",
    "        errors.append(np.mean(error**2))\n",
    "\n",
    "        # Compute gradients\n",
    "        grad = (2/m) * X.T.dot(error)\n",
    "\n",
    "        # Update parameters\n",
    "        theta = theta - learning_rate * grad\n",
    "\n",
    "    return theta, errors\n",
    "\n",
    "\n",
    "theta,error = gradient_descent(trainDM,training_y)\n",
    "\n",
    "plt.plot(error,color=\"orange\")\n",
    "plt.show()\n"
   ]
  },
  {
   "attachments": {},
   "cell_type": "markdown",
   "metadata": {},
   "source": [
    "# C)"
   ]
  },
  {
   "attachments": {},
   "cell_type": "markdown",
   "metadata": {},
   "source": [
    "i. Begin by appending a third feature to your design matrix for x3"
   ]
  },
  {
   "cell_type": "code",
   "execution_count": 340,
   "metadata": {},
   "outputs": [
    {
     "name": "stdout",
     "output_type": "stream",
     "text": [
      "[[ 1.00000000e+00 -1.27773279e+01  1.63260107e+02 -2.08602791e+03]\n",
      " [ 1.00000000e+00 -9.19803318e+00  8.46038144e+01 -7.78188693e+02]\n",
      " [ 1.00000000e+00 -8.87517275e+00  7.87686914e+01 -6.99085744e+02]\n",
      " [ 1.00000000e+00  2.26905943e+00  5.14863070e+00  1.16825490e+01]\n",
      " [ 1.00000000e+00 -1.93365788e+01  3.73903280e+02 -7.23001025e+03]\n",
      " [ 1.00000000e+00 -1.68952727e+01  2.85450239e+02 -4.82275964e+03]\n",
      " [ 1.00000000e+00 -6.20851013e+00  3.85455981e+01 -2.39310736e+02]\n",
      " [ 1.00000000e+00 -1.33140729e+01  1.77264536e+02 -2.36011294e+03]\n",
      " [ 1.00000000e+00 -1.19118800e+01  1.41892886e+02 -1.69021103e+03]\n",
      " [ 1.00000000e+00 -1.54248413e+01  2.37925728e+02 -3.66996658e+03]\n",
      " [ 1.00000000e+00 -6.80533194e+00  4.63125428e+01 -3.15172227e+02]\n",
      " [ 1.00000000e+00  4.69261453e+00  2.20206311e+01  1.03334334e+02]\n",
      " [ 1.00000000e+00 -6.24861795e+00  3.90452263e+01 -2.43978702e+02]\n",
      " [ 1.00000000e+00 -3.60300448e+00  1.29816413e+01 -4.67729118e+01]\n",
      " [ 1.00000000e+00  4.62811167e+00  2.14194176e+01  9.91314566e+01]\n",
      " [ 1.00000000e+00 -1.68123681e+01  2.82655720e+02 -4.75211200e+03]\n",
      " [ 1.00000000e+00 -9.32698640e+00  8.69926754e+01 -8.11379500e+02]\n",
      " [ 1.00000000e+00 -5.53433076e+00  3.06288170e+01 -1.69510004e+02]\n",
      " [ 1.00000000e+00  1.29614198e+01  1.67998404e+02  2.17749785e+03]\n",
      " [ 1.00000000e+00  4.81644095e+00  2.31981034e+01  1.11732295e+02]\n",
      " [ 1.00000000e+00  9.55537245e+00  9.13051427e+01  8.72454645e+02]\n",
      " [ 1.00000000e+00  1.19851284e+01  1.43643302e+02  1.72158341e+03]\n",
      " [ 1.00000000e+00 -2.15483903e+00  4.64333126e+00 -1.00056315e+01]\n",
      " [ 1.00000000e+00  3.69052388e+00  1.36199665e+01  5.02648118e+01]\n",
      " [ 1.00000000e+00 -1.12308903e+01  1.26132896e+02 -1.41658471e+03]\n",
      " [ 1.00000000e+00  8.73770192e+00  7.63474348e+01  6.67101128e+02]\n",
      " [ 1.00000000e+00 -1.12930597e+01  1.27533198e+02 -1.44024002e+03]\n",
      " [ 1.00000000e+00 -6.85904510e-01  4.70464996e-01 -3.22694063e-01]\n",
      " [ 1.00000000e+00  1.44065052e+01  2.07547391e+02  2.99003256e+03]\n",
      " [ 1.00000000e+00 -7.44724189e+00  5.54614118e+01 -4.13034549e+02]\n",
      " [ 1.00000000e+00  1.54623184e+01  2.39083291e+02  3.69678197e+03]\n",
      " [ 1.00000000e+00  1.39199411e+01  1.93764760e+02  2.69719405e+03]\n",
      " [ 1.00000000e+00  1.46147268e+01  2.13590240e+02  3.12156301e+03]\n",
      " [ 1.00000000e+00 -5.36542476e+00  2.87877829e+01 -1.54458683e+02]\n",
      " [ 1.00000000e+00 -1.91532448e+00  3.66846788e+00 -7.02630635e+00]\n",
      " [ 1.00000000e+00  2.82216073e+00  7.96459120e+00  2.24773565e+01]\n",
      " [ 1.00000000e+00 -2.70224649e+00  7.30213607e+00 -1.97321715e+01]\n",
      " [ 1.00000000e+00 -7.96341483e+00  6.34159757e+01 -5.05007721e+02]\n",
      " [ 1.00000000e+00  1.82808757e+01  3.34190417e+02  6.10929347e+03]\n",
      " [ 1.00000000e+00 -2.10300781e+00  4.42264184e+00 -9.30085031e+00]\n",
      " [ 1.00000000e+00 -7.81214872e+00  6.10296676e+01 -4.76772840e+02]\n",
      " [ 1.00000000e+00 -5.56818112e+00  3.10046410e+01 -1.72639457e+02]\n",
      " [ 1.00000000e+00 -1.19015492e+01  1.41646875e+02 -1.68581725e+03]\n",
      " [ 1.00000000e+00 -9.99970035e-01  9.99940070e-01 -9.99910107e-01]\n",
      " [ 1.00000000e+00 -5.14044998e+00  2.64242260e+01 -1.35832412e+02]\n",
      " [ 1.00000000e+00 -3.14232845e+00  9.87422808e+00 -3.10280678e+01]\n",
      " [ 1.00000000e+00  1.76370671e+01  3.11066136e+02  5.48629432e+03]\n",
      " [ 1.00000000e+00  1.40083716e+00  1.96234475e+00  2.74892544e+00]\n",
      " [ 1.00000000e+00  1.60595312e+01  2.57908542e+02  4.14189028e+03]\n",
      " [ 1.00000000e+00 -1.90949560e+01  3.64617345e+02 -6.96235217e+03]\n",
      " [ 1.00000000e+00  1.23927056e+01  1.53579153e+02  1.90326123e+03]\n",
      " [ 1.00000000e+00  1.23421323e+01  1.52328230e+02  1.88005518e+03]\n",
      " [ 1.00000000e+00  4.80287532e+00  2.30676113e+01  1.10790861e+02]\n",
      " [ 1.00000000e+00 -3.30630781e+00  1.09316714e+01 -3.61434705e+01]\n",
      " [ 1.00000000e+00 -3.18618104e+00  1.01517496e+01 -3.23453121e+01]\n",
      " [ 1.00000000e+00  1.22476225e+01  1.50004258e+02  1.83719553e+03]\n",
      " [ 1.00000000e+00  6.61884260e+00  4.38090774e+01  2.89965387e+02]\n",
      " [ 1.00000000e+00 -4.18618416e+00  1.75241378e+01 -7.33592679e+01]\n",
      " [ 1.00000000e+00  9.92258436e+00  9.84576803e+01  9.76954639e+02]\n",
      " [ 1.00000000e+00 -3.12800267e-01  9.78440071e-02 -3.06056315e-02]\n",
      " [ 1.00000000e+00  8.91749796e+00  7.95217698e+01  7.09135220e+02]\n",
      " [ 1.00000000e+00 -1.84012355e+00  3.38605467e+00 -6.23075893e+00]\n",
      " [ 1.00000000e+00  9.52067800e+00  9.06433096e+01  8.62985764e+02]\n",
      " [ 1.00000000e+00 -9.24453586e+00  8.54614433e+01 -7.90051378e+02]\n",
      " [ 1.00000000e+00  3.58052651e+00  1.28201701e+01  4.59029590e+01]\n",
      " [ 1.00000000e+00  3.79459045e+00  1.43989167e+01  5.46379917e+01]\n",
      " [ 1.00000000e+00  1.56771436e+01  2.45772833e+02  3.85301601e+03]\n",
      " [ 1.00000000e+00 -7.14578759e-01  5.10622803e-01 -3.64880209e-01]\n",
      " [ 1.00000000e+00 -1.25045686e+00  1.56364235e+00 -1.95526731e+00]\n",
      " [ 1.00000000e+00 -7.73025568e+00  5.97568528e+01 -4.61935751e+02]\n",
      " [ 1.00000000e+00 -1.48593311e+01  2.20799719e+02 -3.28093613e+03]\n",
      " [ 1.00000000e+00  3.69582671e-02  1.36591351e-03  5.04817961e-05]\n",
      " [ 1.00000000e+00  3.17526781e+00  1.00823257e+01  3.20140842e+01]\n",
      " [ 1.00000000e+00 -1.58443036e+01  2.51041957e+02 -3.97758499e+03]\n",
      " [ 1.00000000e+00  9.79545938e+00  9.59510244e+01  9.39884361e+02]\n",
      " [ 1.00000000e+00  9.34269790e+00  8.72860040e+01  8.15486766e+02]\n",
      " [ 1.00000000e+00 -1.64917804e+01  2.71978821e+02 -4.48541498e+03]\n",
      " [ 1.00000000e+00 -1.12136755e+01  1.25746518e+02 -1.41008065e+03]\n",
      " [ 1.00000000e+00 -4.78051196e+00  2.28532946e+01 -1.09250448e+02]\n",
      " [ 1.00000000e+00 -1.13372215e+01  1.28532591e+02 -1.45720245e+03]\n",
      " [ 1.00000000e+00 -1.39450622e+01  1.94464761e+02 -2.71182319e+03]\n",
      " [ 1.00000000e+00 -1.28146507e+00  1.64215272e+00 -2.10436134e+00]\n",
      " [ 1.00000000e+00 -1.96650935e+01  3.86715902e+02 -7.60480436e+03]\n",
      " [ 1.00000000e+00 -1.26582229e+01  1.60230608e+02 -2.02823476e+03]\n",
      " [ 1.00000000e+00  1.87740148e+01  3.52463631e+02  6.61715741e+03]\n",
      " [ 1.00000000e+00  3.46484751e+00  1.20051682e+01  4.15960773e+01]\n",
      " [ 1.00000000e+00 -1.43795644e+01  2.06771873e+02 -2.97328947e+03]\n",
      " [ 1.00000000e+00 -2.13802095e+00  4.57113360e+00 -9.77317942e+00]\n",
      " [ 1.00000000e+00  2.08476886e-01  4.34626122e-02  9.06095006e-03]\n",
      " [ 1.00000000e+00  3.51299360e+00  1.23411240e+01  4.33542898e+01]\n",
      " [ 1.00000000e+00  3.07038967e+00  9.42729275e+00  2.89454623e+01]\n",
      " [ 1.00000000e+00  7.19951482e+00  5.18330136e+01  3.73172550e+02]\n",
      " [ 1.00000000e+00 -9.76581608e-02  9.53711636e-03 -9.31377243e-04]\n",
      " [ 1.00000000e+00  1.12062203e+01  1.25579372e+02  1.40727011e+03]\n",
      " [ 1.00000000e+00 -1.62129031e+01  2.62858228e+02 -4.26169500e+03]\n",
      " [ 1.00000000e+00 -1.71013097e+01  2.92454793e+02 -5.00136000e+03]\n",
      " [ 1.00000000e+00  1.26884499e+01  1.60996760e+02  2.04279932e+03]\n",
      " [ 1.00000000e+00  2.26037065e-01  5.10927549e-02  1.15488564e-02]\n",
      " [ 1.00000000e+00  9.75567059e+00  9.51731087e+01  9.28477498e+02]\n",
      " [ 1.00000000e+00  5.94261302e+00  3.53146495e+01  2.09861296e+02]\n",
      " [ 1.00000000e+00 -8.85567679e+00  7.84230114e+01 -6.94488841e+02]\n",
      " [ 1.00000000e+00  3.07035352e+00  9.42707076e+00  2.89444399e+01]\n",
      " [ 1.00000000e+00  1.66235241e+01  2.76341554e+02  4.59377049e+03]\n",
      " [ 1.00000000e+00 -5.36645609e+00  2.87988510e+01 -1.54547769e+02]\n",
      " [ 1.00000000e+00 -8.64143368e+00  7.46743760e+01 -6.45293668e+02]\n",
      " [ 1.00000000e+00  6.28862897e+00  3.95468543e+01  2.48695494e+02]\n",
      " [ 1.00000000e+00  2.02754185e+00  4.11092597e+00  8.33507445e+00]\n",
      " [ 1.00000000e+00 -5.23395169e+00  2.73942503e+01 -1.43380183e+02]\n",
      " [ 1.00000000e+00  2.74322047e-01  7.52525853e-02  2.06434432e-02]\n",
      " [ 1.00000000e+00 -8.25757154e+00  6.81874877e+01 -5.63063058e+02]\n",
      " [ 1.00000000e+00 -4.80479193e-02  2.30860255e-03 -1.10923549e-04]\n",
      " [ 1.00000000e+00  1.56447612e+01  2.44758554e+02  3.82918914e+03]\n",
      " [ 1.00000000e+00 -1.54695631e+01  2.39307382e+02 -3.70198065e+03]\n",
      " [ 1.00000000e+00 -1.12854919e+01  1.27362328e+02 -1.43734652e+03]\n",
      " [ 1.00000000e+00  7.47500652e+00  5.58757225e+01  4.17671391e+02]\n",
      " [ 1.00000000e+00  6.65111212e+00  4.42372925e+01  2.94227192e+02]\n",
      " [ 1.00000000e+00  6.87284656e+00  4.72360198e+01  3.24645916e+02]\n",
      " [ 1.00000000e+00 -1.74808722e+00  3.05580892e+00 -5.34182051e+00]\n",
      " [ 1.00000000e+00 -6.94785032e+00  4.82726241e+01 -3.35390967e+02]\n",
      " [ 1.00000000e+00 -6.35396420e+00  4.03728610e+01 -2.56527714e+02]\n",
      " [ 1.00000000e+00 -4.69073181e+00  2.20029649e+01 -1.03210007e+02]\n",
      " [ 1.00000000e+00  1.36222199e+01  1.85564874e+02  2.52780552e+03]\n",
      " [ 1.00000000e+00 -6.23771490e+00  3.89090872e+01 -2.42703793e+02]\n",
      " [ 1.00000000e+00  3.47949832e+00  1.21069085e+01  4.21259679e+01]\n",
      " [ 1.00000000e+00  4.71020977e+00  2.21860761e+01  1.04501072e+02]\n",
      " [ 1.00000000e+00 -1.69443115e+01  2.87109693e+02 -4.86487608e+03]\n",
      " [ 1.00000000e+00 -1.52078933e+01  2.31280019e+02 -3.51728186e+03]\n",
      " [ 1.00000000e+00 -6.42162811e+00  4.12373075e+01 -2.64810653e+02]\n",
      " [ 1.00000000e+00  4.90084131e+00  2.40182456e+01  1.17709610e+02]\n",
      " [ 1.00000000e+00 -1.30395775e+01  1.70030582e+02 -2.21712695e+03]\n",
      " [ 1.00000000e+00  4.18914483e+00  1.75489344e+01  7.35150277e+01]\n",
      " [ 1.00000000e+00  2.29709261e+00  5.27663447e+00  1.21209181e+01]\n",
      " [ 1.00000000e+00 -2.89743373e+00  8.39512224e+00 -2.43243104e+01]\n",
      " [ 1.00000000e+00  6.89813484e+00  4.75842643e+01  3.28242671e+02]\n",
      " [ 1.00000000e+00 -1.20097258e+01  1.44233513e+02 -1.73220493e+03]\n",
      " [ 1.00000000e+00 -6.54285981e+00  4.28090145e+01 -2.80093381e+02]\n",
      " [ 1.00000000e+00  3.05480418e+00  9.33182856e+00  2.85069089e+01]\n",
      " [ 1.00000000e+00  8.94822613e+00  8.00707509e+01  7.16491186e+02]\n",
      " [ 1.00000000e+00 -5.51817673e+00  3.04502744e+01 -1.68029995e+02]\n",
      " [ 1.00000000e+00 -1.20534166e+00  1.45284851e+00 -1.75117883e+00]\n",
      " [ 1.00000000e+00 -2.52277620e+00  6.36439976e+00 -1.60559562e+01]\n",
      " [ 1.00000000e+00  1.21843429e-01  1.48458212e-02  1.80886576e-03]\n",
      " [ 1.00000000e+00 -2.12710062e+01  4.52455704e+02 -9.62418809e+03]\n",
      " [ 1.00000000e+00 -2.28705354e+00  5.23061390e+00 -1.19626941e+01]\n",
      " [ 1.00000000e+00  4.77862328e+00  2.28352404e+01  1.09121012e+02]\n",
      " [ 1.00000000e+00 -5.75636348e+00  3.31357205e+01 -1.90741251e+02]\n",
      " [ 1.00000000e+00  7.98804701e+00  6.38088950e+01  5.09708453e+02]\n",
      " [ 1.00000000e+00 -6.53246140e+00  4.26730520e+01 -2.78760065e+02]\n",
      " [ 1.00000000e+00 -1.06356917e+01  1.13117938e+02 -1.20308751e+03]\n",
      " [ 1.00000000e+00  1.15724214e+01  1.33920937e+02  1.54978952e+03]]\n"
     ]
    }
   ],
   "source": [
    "def designMatrix(s, rows, cols):\n",
    "    design = np.ones((rows, cols))\n",
    "    for i in range(cols):\n",
    "        design[:,i] = s**i\n",
    "    return design\n",
    "\n",
    "designX3 = designMatrix(sample, 150, 4)\n",
    "\n",
    "print(designX3)"
   ]
  },
  {
   "attachments": {},
   "cell_type": "markdown",
   "metadata": {},
   "source": [
    "ii. Train a model using Gradient Descent with the new design matrix. Repeat the process used above\n",
    "    in Question 4b. Note, we are now using a third-order polynomial to fit data which was generated\n",
    "    using a second-order polynomial. Our function is, thus, more complicated than is necessary to\n",
    "    fit the data and as a result will overfit."
   ]
  },
  {
   "cell_type": "code",
   "execution_count": 364,
   "metadata": {},
   "outputs": [
    {
     "ename": "NameError",
     "evalue": "name 'thetaX3yX3' is not defined",
     "output_type": "error",
     "traceback": [
      "\u001b[1;31m---------------------------------------------------------------------------\u001b[0m",
      "\u001b[1;31mNameError\u001b[0m                                 Traceback (most recent call last)",
      "Cell \u001b[1;32mIn[364], line 9\u001b[0m\n\u001b[0;32m      7\u001b[0m theta3 \u001b[39m=\u001b[39m thetaX3[\u001b[39m3\u001b[39m]\n\u001b[0;32m      8\u001b[0m yX3 \u001b[39m=\u001b[39m np\u001b[39m.\u001b[39mdot(designX3, thetaX3)\n\u001b[1;32m----> 9\u001b[0m \u001b[39mprint\u001b[39m(thetaX3yX3)\n",
      "\u001b[1;31mNameError\u001b[0m: name 'thetaX3yX3' is not defined"
     ]
    }
   ],
   "source": [
    "# This is from 4 a) \n",
    "thetaX3 = np.random.uniform(0, 1, 4)\n",
    "\n",
    "theta0 = thetaX3[0]\n",
    "theta1 = thetaX3[1]\n",
    "theta2 = thetaX3[2]\n",
    "theta3 = thetaX3[3]\n",
    "yX3 = np.dot(designX3, thetaX3)\n",
    "printX3)"
   ]
  },
  {
   "cell_type": "code",
   "execution_count": 363,
   "metadata": {},
   "outputs": [],
   "source": [
    "# #Training\n",
    "training_x_valuesX3 = sample[:90]\n",
    "training_y_valuesX3 = y[:90]\n",
    "trainDMX3 = designX3[:90]\n",
    "\n",
    "#Testing\n",
    "testing_x_valuesX3 = sample[120:150]\n",
    "testing_y_valuesX3 = yX3[120:150]\n",
    "testDMX3 = designX3[120:150]\n",
    "\n",
    "#Validation\n",
    "validation_x_valuesX3 = sample[90:120]\n",
    "validation_y_valuesX3 = yX3[90:120]\n",
    "validDMX3 = designX3[90:120]"
   ]
  },
  {
   "cell_type": "code",
   "execution_count": 361,
   "metadata": {},
   "outputs": [
    {
     "data": {
      "text/plain": [
       "array([-2.51071777e+00,  1.03254167e-01,  8.54770710e-01, -3.15514687e-05])"
      ]
     },
     "execution_count": 361,
     "metadata": {},
     "output_type": "execute_result"
    }
   ],
   "source": [
    "moore_penroseX3 = moorePenrose(trainDMX3, training_y_values)\n",
    "moore_penroseX3"
   ]
  },
  {
   "cell_type": "code",
   "execution_count": 344,
   "metadata": {},
   "outputs": [
    {
     "data": {
      "image/png": "[encoded data removed]",
      "text/plain": [
       "<Figure size 640x480 with 1 Axes>"
      ]
     },
     "metadata": {},
     "output_type": "display_data"
    }
   ],
   "source": [
    "def gradient_descent(X, y, learning_rate=0.0000001, num_iterations=1000):\n",
    "    # Initialize parameters\n",
    "    m, n = X.shape\n",
    "    theta = np.zeros((n, 1))\n",
    "    errors = []\n",
    "\n",
    "    # Perform gradient descent\n",
    "    for i in range(num_iterations):\n",
    "        # Compute predictions\n",
    "        y_pred = X.dot(theta)\n",
    "\n",
    "        # Compute errors\n",
    "        error = y_pred - y\n",
    "        errors.append(np.mean(error**2))\n",
    "\n",
    "        # Compute gradients\n",
    "        grad = (2/m) * X.T.dot(error)\n",
    "\n",
    "        # Update parameters\n",
    "        theta = theta - learning_rate * grad\n",
    "\n",
    "    return theta, errors\n",
    "\n",
    "training_yX3 = Error(training_x_valuesX3, training_y_valuesX3)\n",
    "thetaX3,errorX3 = gradient_descent(trainDMX3,training_yX3)\n",
    "\n",
    "plt.plot(errorX3,color=\"orange\")\n",
    "plt.show()"
   ]
  },
  {
   "cell_type": "code",
   "execution_count": 358,
   "metadata": {},
   "outputs": [
    {
     "data": {
      "image/png": "[encoded data removed]",
      "text/plain": [
       "<Figure size 640x480 with 1 Axes>"
      ]
     },
     "metadata": {},
     "output_type": "display_data"
    }
   ],
   "source": [
    "sorted_trainX3 = trainDMX3[trainDMX3[:,1].argsort()]\n",
    "yValuesX3 = np.dot(sorted_trainX3, moore_penroseX3)\n",
    "\n",
    "\n",
    "plt.scatter(sample, y)\n",
    "plt.plot(sorted_trainX3[:,1], yValuesX3, \"r\")\n",
    "plt.show()"
   ]
  },
  {
   "attachments": {},
   "cell_type": "markdown",
   "metadata": {},
   "source": [
    "iii. Repeat the training process one final time, this time use regularization when training the third-\n",
    "order polynomial model."
   ]
  },
  {
   "cell_type": "code",
   "execution_count": 352,
   "metadata": {},
   "outputs": [
    {
     "data": {
      "image/png": "[encoded data removed]",
      "text/plain": [
       "<Figure size 640x480 with 1 Axes>"
      ]
     },
     "metadata": {},
     "output_type": "display_data"
    },
    {
     "data": {
      "text/plain": [
       "Text(0.5, 1.0, 'regularization')"
      ]
     },
     "execution_count": 352,
     "metadata": {},
     "output_type": "execute_result"
    },
    {
     "data": {
      "image/png": "[encoded data removed]",
      "text/plain": [
       "<Figure size 640x480 with 1 Axes>"
      ]
     },
     "metadata": {},
     "output_type": "display_data"
    }
   ],
   "source": [
    "learn = 0.0000001\n",
    "d = 0\n",
    "b = 0\n",
    "c = 0\n",
    "a = 0\n",
    "z = lambda x: d +a*x+ (b*x*x)+(c*x*x*x)\n",
    "\n",
    "def summation(z, x_points,y_points):\n",
    "  total1 = 0\n",
    "  total2 = 0\n",
    "  total3 = 0\n",
    "  total4 = 0\n",
    "\n",
    "  for i in range(1,len(x_points)):\n",
    "    total1 += z(x_points[i])-y_points[i]\n",
    "    total2 += (z(x_points[i])-y_points[i]) * x_points[i]\n",
    "    total3 += (z(x_points[i])-y_points[i]) *(x_points[i]*x_points[i])\n",
    "    total4 += (z(x_points[i])-y_points[i]) *(x_points[i]*x_points[i]*x_points[i])\n",
    "    \n",
    "  return total1/ len(x_points), total2/len(x_points), total3/len(x_points), total4/len(x_points)  \n",
    "\n",
    "thetas = np.zeros((1,4))\n",
    "lam = 0.8\n",
    "for i in range(45):\n",
    "    s1,s2,s3,s4 = summation(z,training_x_valuesX3,training_y_valuesX3)\n",
    "    d=d-learn*s1\n",
    "    a=a-learn*(s2+a*lam)\n",
    "    b=b-learn*(s3+b*lam)\n",
    "    c=c-learn*(s4+c*lam)\n",
    "    \n",
    "   \n",
    "thetas = np.append(thetas,a)  \n",
    "thetas = np.append(thetas,b)\n",
    "thetas = np.append(thetas,c)\n",
    "thetas = np.append(thetas,d)\n",
    "for x in range(4):\n",
    " thetas = np.delete(thetas,x)\n",
    "\n",
    "\n",
    "# sorted_trainX = trainDM[trainDM[:,1].argsort()]\n",
    "# yValues = np.dot(sorted_trainX, moore_penrose)\n",
    "\n",
    "temp = trainDMX3[trainDMX3[:,1].argsort()]\n",
    "plt.scatter(training_x_valuesX3,training_y_valuesX3)\n",
    "plt.axvline(x=0)\n",
    "\n",
    "\n",
    "plt.plot(temp[:,1],theta[0]+theta[1]*temp[:,1]+theta[2]*temp[:,1]*temp[:,1],'r') \n",
    "plt.show()\n",
    "plt.title('regularization')"
   ]
  },
  {
   "cell_type": "code",
   "execution_count": 347,
   "metadata": {},
   "outputs": [],
   "source": [
    "# temp = X[X[:,1].argsort()]\n",
    "# plt.scatter(training_x_valuesX3,training_y_valuesX3)\n",
    "# plt.axvline(x=0)\n",
    "\n",
    "\n",
    "# plt.plot(sorted_trainX3[:,1] ,theta[0]+theta[1] * sorted_trainX3[:,1]+theta[2] * Math.pow(sorted_trainX3[:,1], 2),'-r')\n",
    "# plt.title('regularization')\n"
   ]
  }
 ],
 "metadata": {
  "kernelspec": {
   "display_name": "Python 3",
   "language": "python",
   "name": "python3"
  },
  "language_info": {
   "codemirror_mode": {
    "name": "ipython",
    "version": 3
   },
   "file_extension": ".py",
   "mimetype": "text/x-python",
   "name": "python",
   "nbconvert_exporter": "python",
   "pygments_lexer": "ipython3",
   "version": "3.11.2"
  },
  "orig_nbformat": 4
 },
 "nbformat": 4,
 "nbformat_minor": 2
}
