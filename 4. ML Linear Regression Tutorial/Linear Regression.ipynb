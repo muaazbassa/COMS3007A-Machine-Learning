{
 "cells": [
  {
   "attachments": {},
   "cell_type": "markdown",
   "metadata": {},
   "source": [
    "##  QUESTION1"
   ]
  },
  {
   "attachments": {},
   "cell_type": "markdown",
   "metadata": {},
   "source": [
    "Q1a)\n"
   ]
  },
  {
   "cell_type": "code",
   "execution_count": 85,
   "metadata": {},
   "outputs": [
    {
     "name": "stdout",
     "output_type": "stream",
     "text": [
      "y_hat =  1.2\n",
      "error =  0.02\n"
     ]
    }
   ],
   "source": [
    "#The Predicted Value of y_hat(x) for x = 1.\n",
    "y_hat= round(0.4 + 0.8*(1),2)\n",
    "y_true = 1\n",
    "y_hat\n",
    "# The error for when x=1\n",
    "error = round(0.5 * (y_hat - y_true)**2,2)\n",
    "\n",
    "#print the y_hat and error\n",
    "print(\"y_hat = \", y_hat)\n",
    "print(\"error = \", error)"
   ]
  },
  {
   "attachments": {},
   "cell_type": "markdown",
   "metadata": {},
   "source": [
    "Q1b)"
   ]
  },
  {
   "cell_type": "code",
   "execution_count": 86,
   "metadata": {},
   "outputs": [
    {
     "name": "stdout",
     "output_type": "stream",
     "text": [
      "y_hat =  2.0\n",
      "error =  0.5\n"
     ]
    }
   ],
   "source": [
    "#The Predicted Value of y_hat(x) for x = 2.\n",
    "y_hat= 0.4 + 0.8*(2)\n",
    "y_true = 3\n",
    "y_hat\n",
    "\n",
    "# The error for when x=2\n",
    "error = round(0.5 * (y_hat - y_true)**2,2)\n",
    "\n",
    "#print the y_hat and error\n",
    "print(\"y_hat = \", y_hat)\n",
    "print(\"error = \", error)"
   ]
  },
  {
   "attachments": {},
   "cell_type": "markdown",
   "metadata": {},
   "source": [
    "Q1c)"
   ]
  },
  {
   "cell_type": "code",
   "execution_count": 87,
   "metadata": {},
   "outputs": [
    {
     "data": {
      "text/plain": [
       "1.2"
      ]
     },
     "execution_count": 87,
     "metadata": {},
     "output_type": "execute_result"
    }
   ],
   "source": [
    "#sum of squares error for this model\n",
    "\n",
    "def y_hat(x):\n",
    "    y = 0.4 + 0.8*(x)\n",
    "    return y\n",
    "\n",
    "# x values\n",
    "x_values = [1,2,3,4,5]\n",
    "# y avlues\n",
    "y_values = [1,3,2,3,5]\n",
    "y_predicted = []\n",
    "error = 0.0\n",
    "for x in x_values:\n",
    "    y_predicted.append(round(y_hat(x),2))\n",
    "\n",
    "for i in range(len(y_values)):\n",
    "    error += 0.5 * (y_values[i] - y_predicted[i])**2\n",
    "\n",
    "error = round(error, 2)\n",
    "error"
   ]
  },
  {
   "attachments": {},
   "cell_type": "markdown",
   "metadata": {},
   "source": [
    "## QUESTION 4"
   ]
  },
  {
   "attachments": {},
   "cell_type": "markdown",
   "metadata": {},
   "source": [
    "Q4a)"
   ]
  },
  {
   "cell_type": "code",
   "execution_count": 88,
   "metadata": {},
   "outputs": [
    {
     "name": "stdout",
     "output_type": "stream",
     "text": [
      "[[ 1.00000000e+00 -9.25817367e+00  8.57137797e+01]\n",
      " [ 1.00000000e+00  8.91520889e+00  7.94809496e+01]\n",
      " [ 1.00000000e+00  6.52583896e+00  4.25865742e+01]\n",
      " [ 1.00000000e+00 -1.71890460e+01  2.95463303e+02]\n",
      " [ 1.00000000e+00 -1.10604097e+00  1.22332662e+00]\n",
      " [ 1.00000000e+00 -1.45236338e+01  2.10935938e+02]\n",
      " [ 1.00000000e+00  1.73474572e+01  3.00934271e+02]\n",
      " [ 1.00000000e+00 -3.03921392e+00  9.23682124e+00]\n",
      " [ 1.00000000e+00 -7.77288733e+00  6.04177775e+01]\n",
      " [ 1.00000000e+00  9.69811862e+00  9.40535048e+01]\n",
      " [ 1.00000000e+00  3.35416816e+00  1.12504440e+01]\n",
      " [ 1.00000000e+00  2.05845933e+01  4.23725480e+02]\n",
      " [ 1.00000000e+00 -7.72158198e+00  5.96228283e+01]\n",
      " [ 1.00000000e+00  7.99648982e+00  6.39438495e+01]\n",
      " [ 1.00000000e+00  1.42987274e+01  2.04453605e+02]\n",
      " [ 1.00000000e+00 -9.13145279e+00  8.33834301e+01]\n",
      " [ 1.00000000e+00  1.81476091e+00  3.29335717e+00]\n",
      " [ 1.00000000e+00 -2.35666150e+01  5.55385342e+02]\n",
      " [ 1.00000000e+00 -6.20575971e+00  3.85114536e+01]\n",
      " [ 1.00000000e+00 -1.65620891e+01  2.74302794e+02]\n",
      " [ 1.00000000e+00  1.18499662e+01  1.40421700e+02]\n",
      " [ 1.00000000e+00  2.24414425e+00  5.03618342e+00]\n",
      " [ 1.00000000e+00 -6.76186480e-02  4.57228156e-03]\n",
      " [ 1.00000000e+00  5.94563955e+00  3.53506296e+01]\n",
      " [ 1.00000000e+00  1.16003921e+01  1.34569097e+02]\n",
      " [ 1.00000000e+00 -9.25386479e-01  8.56340135e-01]\n",
      " [ 1.00000000e+00  1.03385387e+00  1.06885381e+00]\n",
      " [ 1.00000000e+00 -5.65931144e+00  3.20278060e+01]\n",
      " [ 1.00000000e+00 -1.12765563e+01  1.27160721e+02]\n",
      " [ 1.00000000e+00  6.10030148e+00  3.72136781e+01]\n",
      " [ 1.00000000e+00  2.87606457e+00  8.27174739e+00]\n",
      " [ 1.00000000e+00  2.57914480e+01  6.65198792e+02]\n",
      " [ 1.00000000e+00 -1.00109382e+01  1.00218885e+02]\n",
      " [ 1.00000000e+00  3.53199593e+00  1.24749953e+01]\n",
      " [ 1.00000000e+00  8.78286762e+00  7.71387636e+01]\n",
      " [ 1.00000000e+00  5.20769001e+00  2.71200352e+01]\n",
      " [ 1.00000000e+00 -8.24070748e+00  6.79092598e+01]\n",
      " [ 1.00000000e+00  1.21299338e+01  1.47135294e+02]\n",
      " [ 1.00000000e+00 -1.20930566e+00  1.46242017e+00]\n",
      " [ 1.00000000e+00 -1.40505111e+00  1.97416863e+00]\n",
      " [ 1.00000000e+00 -1.93175252e+01  3.73166778e+02]\n",
      " [ 1.00000000e+00 -6.75925025e+00  4.56874639e+01]\n",
      " [ 1.00000000e+00  1.13512214e+01  1.28850226e+02]\n",
      " [ 1.00000000e+00  1.27205543e+01  1.61812503e+02]\n",
      " [ 1.00000000e+00  4.08992976e-01  1.67275254e-01]\n",
      " [ 1.00000000e+00 -7.21151757e-01  5.20059857e-01]\n",
      " [ 1.00000000e+00 -2.32450081e+00  5.40330403e+00]\n",
      " [ 1.00000000e+00  9.65276906e+00  9.31759506e+01]\n",
      " [ 1.00000000e+00 -7.70657036e+00  5.93912267e+01]\n",
      " [ 1.00000000e+00 -2.16737742e+00  4.69752487e+00]\n",
      " [ 1.00000000e+00 -4.31651520e+00  1.86323034e+01]\n",
      " [ 1.00000000e+00 -1.40155399e+01  1.96435360e+02]\n",
      " [ 1.00000000e+00  1.07037336e+00  1.14569913e+00]\n",
      " [ 1.00000000e+00 -8.73683361e+00  7.63322615e+01]\n",
      " [ 1.00000000e+00 -3.88328103e+00  1.50798716e+01]\n",
      " [ 1.00000000e+00  6.52752860e+00  4.26086296e+01]\n",
      " [ 1.00000000e+00  1.09163410e+01  1.19166502e+02]\n",
      " [ 1.00000000e+00 -8.26240323e+00  6.82673071e+01]\n",
      " [ 1.00000000e+00  1.65511045e+00  2.73939060e+00]\n",
      " [ 1.00000000e+00 -1.08822948e+01  1.18424340e+02]\n",
      " [ 1.00000000e+00  1.38237746e+01  1.91096744e+02]\n",
      " [ 1.00000000e+00  2.75250710e+00  7.57629535e+00]\n",
      " [ 1.00000000e+00  7.94819354e+00  6.31737805e+01]\n",
      " [ 1.00000000e+00  1.38785734e+00  1.92614800e+00]\n",
      " [ 1.00000000e+00  5.86680647e+00  3.44194181e+01]\n",
      " [ 1.00000000e+00 -7.34499666e+00  5.39489759e+01]\n",
      " [ 1.00000000e+00  7.44775854e+00  5.54691072e+01]\n",
      " [ 1.00000000e+00  5.56770891e+00  3.09993825e+01]\n",
      " [ 1.00000000e+00  3.35861111e-01  1.12802686e-01]\n",
      " [ 1.00000000e+00 -5.57792935e-02  3.11132958e-03]\n",
      " [ 1.00000000e+00 -1.13556528e+01  1.28950850e+02]\n",
      " [ 1.00000000e+00 -1.69333462e-02  2.86738213e-04]\n",
      " [ 1.00000000e+00  6.79195047e+00  4.61305912e+01]\n",
      " [ 1.00000000e+00 -9.88419083e+00  9.76972284e+01]\n",
      " [ 1.00000000e+00 -9.23461591e+00  8.52781311e+01]\n",
      " [ 1.00000000e+00  2.66380760e+00  7.09587093e+00]\n",
      " [ 1.00000000e+00  3.61049253e+00  1.30356563e+01]\n",
      " [ 1.00000000e+00  7.78093664e-01  6.05429749e-01]\n",
      " [ 1.00000000e+00 -5.81404235e+00  3.38030884e+01]\n",
      " [ 1.00000000e+00  3.28402319e+00  1.07848083e+01]\n",
      " [ 1.00000000e+00 -1.02919185e+01  1.05923587e+02]\n",
      " [ 1.00000000e+00 -6.45189866e+00  4.16269963e+01]\n",
      " [ 1.00000000e+00  1.85724698e+01  3.44936633e+02]\n",
      " [ 1.00000000e+00  9.07744912e-01  8.24000825e-01]\n",
      " [ 1.00000000e+00  3.52670453e-01  1.24376448e-01]\n",
      " [ 1.00000000e+00 -8.20597941e+00  6.73380981e+01]\n",
      " [ 1.00000000e+00 -4.79325088e+00  2.29752540e+01]\n",
      " [ 1.00000000e+00  6.01365834e+00  3.61640866e+01]\n",
      " [ 1.00000000e+00  1.18168861e+01  1.39638797e+02]\n",
      " [ 1.00000000e+00  5.19788554e+00  2.70180141e+01]\n",
      " [ 1.00000000e+00 -5.57511761e+00  3.10819364e+01]\n",
      " [ 1.00000000e+00  1.51903704e+01  2.30747354e+02]\n",
      " [ 1.00000000e+00  9.35282361e+00  8.74753095e+01]\n",
      " [ 1.00000000e+00 -2.10739549e+00  4.44111574e+00]\n",
      " [ 1.00000000e+00 -1.27907366e+00  1.63602942e+00]\n",
      " [ 1.00000000e+00 -1.17999275e+01  1.39238290e+02]\n",
      " [ 1.00000000e+00 -1.43774669e+01  2.06711553e+02]\n",
      " [ 1.00000000e+00 -8.18223751e+00  6.69490107e+01]\n",
      " [ 1.00000000e+00 -9.31021832e+00  8.66801652e+01]\n",
      " [ 1.00000000e+00  9.93619141e+00  9.87278997e+01]\n",
      " [ 1.00000000e+00 -1.35363366e+01  1.83232409e+02]\n",
      " [ 1.00000000e+00  2.90748146e+00  8.45344843e+00]\n",
      " [ 1.00000000e+00  1.84126742e+01  3.39026571e+02]\n",
      " [ 1.00000000e+00 -2.02623295e+01  4.10561999e+02]\n",
      " [ 1.00000000e+00 -6.43426227e+00  4.13997310e+01]\n",
      " [ 1.00000000e+00  7.83999296e+00  6.14654897e+01]\n",
      " [ 1.00000000e+00  6.74210325e+00  4.54559563e+01]\n",
      " [ 1.00000000e+00  2.33273369e+00  5.44164646e+00]\n",
      " [ 1.00000000e+00 -1.93711894e+00  3.75242978e+00]\n",
      " [ 1.00000000e+00  9.40381986e+00  8.84318279e+01]\n",
      " [ 1.00000000e+00 -2.96661343e+00  8.80079522e+00]\n",
      " [ 1.00000000e+00  1.32622379e+01  1.75886954e+02]\n",
      " [ 1.00000000e+00  5.89453003e+00  3.47454843e+01]\n",
      " [ 1.00000000e+00 -1.14213596e+01  1.30447455e+02]\n",
      " [ 1.00000000e+00  8.82901035e+00  7.79514238e+01]\n",
      " [ 1.00000000e+00 -3.39989559e+00  1.15592901e+01]\n",
      " [ 1.00000000e+00 -1.40822283e+01  1.98309154e+02]\n",
      " [ 1.00000000e+00  1.35534649e+01  1.83696412e+02]\n",
      " [ 1.00000000e+00  1.20788372e+01  1.45898309e+02]\n",
      " [ 1.00000000e+00  3.58368446e+00  1.28427943e+01]\n",
      " [ 1.00000000e+00  1.22478197e+01  1.50009088e+02]\n",
      " [ 1.00000000e+00  2.75966230e+00  7.61573600e+00]\n",
      " [ 1.00000000e+00  5.57790568e+00  3.11130318e+01]\n",
      " [ 1.00000000e+00 -1.08175332e+00  1.17019024e+00]\n",
      " [ 1.00000000e+00 -7.35982289e+00  5.41669930e+01]\n",
      " [ 1.00000000e+00  4.29737913e+00  1.84674674e+01]\n",
      " [ 1.00000000e+00 -1.81733228e+00  3.30269661e+00]\n",
      " [ 1.00000000e+00  7.58432896e+00  5.75220457e+01]\n",
      " [ 1.00000000e+00 -1.59201293e+01  2.53450516e+02]\n",
      " [ 1.00000000e+00 -1.41082690e+01  1.99043255e+02]\n",
      " [ 1.00000000e+00  1.07767069e+01  1.16137411e+02]\n",
      " [ 1.00000000e+00 -5.73503242e-01  3.28905969e-01]\n",
      " [ 1.00000000e+00 -2.26409518e+00  5.12612698e+00]\n",
      " [ 1.00000000e+00  5.05447330e+00  2.55477003e+01]\n",
      " [ 1.00000000e+00 -1.39017940e+01  1.93259875e+02]\n",
      " [ 1.00000000e+00 -2.82469391e+00  7.97889570e+00]\n",
      " [ 1.00000000e+00 -6.30383448e+00  3.97383292e+01]\n",
      " [ 1.00000000e+00  1.53600849e-01  2.35932209e-02]\n",
      " [ 1.00000000e+00  4.82820272e+00  2.33115415e+01]\n",
      " [ 1.00000000e+00  2.83018820e+00  8.00996527e+00]\n",
      " [ 1.00000000e+00  1.65058564e+01  2.72443297e+02]\n",
      " [ 1.00000000e+00  3.82724466e+00  1.46478017e+01]\n",
      " [ 1.00000000e+00  1.70640963e+01  2.91183382e+02]\n",
      " [ 1.00000000e+00 -4.31223184e+00  1.85953434e+01]\n",
      " [ 1.00000000e+00 -2.35009865e+01  5.52296366e+02]\n",
      " [ 1.00000000e+00  2.25751903e+00  5.09639218e+00]\n",
      " [ 1.00000000e+00 -5.24331708e+00  2.74923740e+01]\n",
      " [ 1.00000000e+00 -7.26107171e+00  5.27231623e+01]\n",
      " [ 1.00000000e+00  1.52192316e+00  2.31625011e+00]\n",
      " [ 1.00000000e+00  2.63872902e+00  6.96289087e+00]]\n"
     ]
    }
   ],
   "source": [
    "import numpy as np\n",
    "\n",
    "mean=0\n",
    "std=10\n",
    "\n",
    "#i\n",
    "sample = np.random.normal(0,10,150)\n",
    "\n",
    "#ii\n",
    "def designMatrix(s, rows, cols):\n",
    "    design = np.ones((rows, cols))\n",
    "    for i in range(cols):\n",
    "        design[:,i] = s**i\n",
    "    return design\n",
    "\n",
    "design = designMatrix(sample, 150, 3)\n",
    "print(design)\n",
    "#design\n",
    "      "
   ]
  },
  {
   "cell_type": "code",
   "execution_count": 89,
   "metadata": {},
   "outputs": [
    {
     "name": "stdout",
     "output_type": "stream",
     "text": [
      "[0.52734093 0.83676459 0.27269215]\n"
     ]
    }
   ],
   "source": [
    "#iii\n",
    "theta = np.random.uniform(0,1,size=3)\n",
    "theta0 = theta[0]\n",
    "theta1 = theta[1]\n",
    "theta2 = theta[2]\n",
    "\n",
    "print(theta)"
   ]
  },
  {
   "cell_type": "code",
   "execution_count": 90,
   "metadata": {},
   "outputs": [
    {
     "name": "stdout",
     "output_type": "stream",
     "text": [
      "[  9.91506177  36.61297741  17.79463232  80.98617913 -11.50748004\n",
      "  41.07385163  87.35245222  -2.13077897  12.62810386  43.47708582\n",
      "   2.55384976 141.90968935   7.7910382    5.96715057  61.31273593\n",
      "  10.68522559  -9.69639585 144.08076039  -1.68757925  56.47078359\n",
      "  50.10677876   2.92896808  -4.11090881  10.65075545  41.53117701\n",
      "  -0.34291926   0.31819286  13.18815062  24.37684704  24.87490655\n",
      "   3.87173578 213.15200972  18.57931652   5.61339689  21.28668301\n",
      "  13.18140981   8.6329659   52.85220257  -0.90948645   1.99425071\n",
      "  83.30011617  12.3915913   51.02606985  55.86038504  -6.54773658\n",
      "  -2.55611478   1.10451609  34.25609426  15.11036367   1.35549321\n",
      "  -4.66764695  47.64217954 -11.72114794  17.58669421   1.34329799\n",
      "  24.851758    48.05074689  12.0170256   11.85519664  15.88068815\n",
      "  63.53688871   8.63774475  31.49423611  -7.49082692  16.91866809\n",
      "   5.49966807  14.9834235    5.1462824    2.16072314   2.31415122\n",
      "  39.22079708  -9.4895927   15.67751221   9.73500386  12.20974063\n",
      "  -6.32975447  11.52656851   4.7488289    1.75988316  -3.59620351\n",
      "  21.79565577  15.86031207 102.43984158  -2.90039658  13.29460933\n",
      "  24.59900936  13.23639762  21.48593943  28.77414943   7.95709341\n",
      "   2.76311205  67.95845058  39.95523744   1.31936758  14.6908293\n",
      "  34.6463552   30.8959206   20.86901057   0.60877475  44.13922915\n",
      "  41.6276469    4.16994145 122.33348424  95.01545553  -2.95728814\n",
      "  30.37155926   7.74154052  -3.79336571   6.40741944  39.78220553\n",
      " -14.41575733  53.99964992  24.13357237  37.43496333  18.03502352\n",
      "   1.59275274  42.0834312   55.58128649  52.38761864  16.05956574\n",
      "  52.86493831  19.04732196  24.61513522 -10.63293231   7.70671946\n",
      "   0.76256761  12.63366207  17.47889464  50.4886128   33.30241229\n",
      "  44.08203423   9.91330934  -3.55350612  12.65849942  44.44940314\n",
      "  10.09204513  13.01166034   6.42453966  13.95317165  -6.23893494\n",
      "  89.2141148    1.8419073   94.0040667   -7.80925657 123.33190318\n",
      "  -1.83711636   0.8984351    2.57086186  16.84269255   2.087134  ]\n"
     ]
    }
   ],
   "source": [
    "y = np.empty(150)\n",
    "for i in range(150):\n",
    "    x = design[i][1]\n",
    "    model = theta0 + theta1 * x + theta2 * x**2\n",
    "    y[i] = model\n",
    "\n",
    "\n",
    "std=8\n",
    "mean=0\n",
    "\n",
    "noise = np.random.normal(mean,std,150)\n",
    "y = y + noise\n",
    "\n",
    "print(y)"
   ]
  },
  {
   "cell_type": "code",
   "execution_count": 91,
   "metadata": {},
   "outputs": [
    {
     "data": {
      "image/png": "[encoded data removed]",
      "text/plain": [
       "<Figure size 640x480 with 1 Axes>"
      ]
     },
     "metadata": {},
     "output_type": "display_data"
    }
   ],
   "source": [
    "#v\n",
    "import matplotlib.pyplot as plt\n",
    "plt.scatter(sample, y)\n",
    "plt.show()"
   ]
  },
  {
   "cell_type": "code",
   "execution_count": 92,
   "metadata": {},
   "outputs": [
    {
     "name": "stdout",
     "output_type": "stream",
     "text": [
      "[-9.25817367e+00  8.91520889e+00  6.52583896e+00 -1.71890460e+01\n",
      " -1.10604097e+00 -1.45236338e+01  1.73474572e+01 -3.03921392e+00\n",
      " -7.77288733e+00  9.69811862e+00  3.35416816e+00  2.05845933e+01\n",
      " -7.72158198e+00  7.99648982e+00  1.42987274e+01 -9.13145279e+00\n",
      "  1.81476091e+00 -2.35666150e+01 -6.20575971e+00 -1.65620891e+01\n",
      "  1.18499662e+01  2.24414425e+00 -6.76186480e-02  5.94563955e+00\n",
      "  1.16003921e+01 -9.25386479e-01  1.03385387e+00 -5.65931144e+00\n",
      " -1.12765563e+01  6.10030148e+00  2.87606457e+00  2.57914480e+01\n",
      " -1.00109382e+01  3.53199593e+00  8.78286762e+00  5.20769001e+00\n",
      " -8.24070748e+00  1.21299338e+01 -1.20930566e+00 -1.40505111e+00\n",
      " -1.93175252e+01 -6.75925025e+00  1.13512214e+01  1.27205543e+01\n",
      "  4.08992976e-01 -7.21151757e-01 -2.32450081e+00  9.65276906e+00\n",
      " -7.70657036e+00 -2.16737742e+00 -4.31651520e+00 -1.40155399e+01\n",
      "  1.07037336e+00 -8.73683361e+00 -3.88328103e+00  6.52752860e+00\n",
      "  1.09163410e+01 -8.26240323e+00  1.65511045e+00 -1.08822948e+01\n",
      "  1.38237746e+01  2.75250710e+00  7.94819354e+00  1.38785734e+00\n",
      "  5.86680647e+00 -7.34499666e+00  7.44775854e+00  5.56770891e+00\n",
      "  3.35861111e-01 -5.57792935e-02 -1.13556528e+01 -1.69333462e-02\n",
      "  6.79195047e+00 -9.88419083e+00 -9.23461591e+00  2.66380760e+00\n",
      "  3.61049253e+00  7.78093664e-01 -5.81404235e+00  3.28402319e+00\n",
      " -1.02919185e+01 -6.45189866e+00  1.85724698e+01  9.07744912e-01\n",
      "  3.52670453e-01 -8.20597941e+00 -4.79325088e+00  6.01365834e+00\n",
      "  1.18168861e+01  5.19788554e+00]\n"
     ]
    }
   ],
   "source": [
    "#vi\n",
    "#90 of 150 for training (60%)\n",
    "#30 of 150 for testing (20%)\n",
    "#30 of 150 for validation (20%)\n",
    "\n",
    "#Training\n",
    "training_x_values = sample[:90]\n",
    "training_y_values = y[:90]\n",
    "trainX = design[:90]\n",
    "\n",
    "#Testing\n",
    "testing_x_values = sample[120:150]\n",
    "testing_y_values = y[120:150]\n",
    "\n",
    "#Validation\n",
    "validation_x_values = sample[90:120]\n",
    "validation_y_values = y[90:120]\n",
    "\n",
    "print(training_x_values)\n"
   ]
  },
  {
   "cell_type": "code",
   "execution_count": 96,
   "metadata": {},
   "outputs": [
    {
     "name": "stdout",
     "output_type": "stream",
     "text": [
      "[-1.17345836  0.74466593  0.28493395]\n",
      "[0.52734093 0.83676459 0.27269215]\n"
     ]
    }
   ],
   "source": [
    "# def moore_penrose(xValues, yValues):\n",
    "#     xTranspose = np.transpose(xValues)\n",
    "#     xProduct = np.dot(xValues, xTranspose)\n",
    "#     xInverse = np.linalg.inv(xProduct)\n",
    "\n",
    "#i\n",
    "def moore_penrose(xValues, yValues):\n",
    "    transpose1= np.transpose(xValues)\n",
    "    firstPart=np.matmul(transpose1,xValues)\n",
    "    firstParttemp=np.linalg.inv(firstPart)\n",
    "    secondPart=np.matmul(firstParttemp,transpose1)\n",
    "    finalMoore=np.matmul(secondPart,yValues)\n",
    "    return finalMoore\n",
    "moore_penrose1 = moore_penrose(trainX,training_y_values)\n",
    "print(moore_penrose1)\n",
    "print(theta)\n"
   ]
  },
  {
   "cell_type": "code",
   "execution_count": 94,
   "metadata": {},
   "outputs": [],
   "source": [
    "# ii\n",
    "\n",
    "# The learned parameter values, with the exception of theta0, which is off from the true value by a significant value.\n",
    "# While theta1 is off by approx. 0.1 and theta2 is off by approx 0.01, which is relatively close to the true parameter # "
   ]
  },
  {
   "cell_type": "code",
   "execution_count": 99,
   "metadata": {},
   "outputs": [
    {
     "data": {
      "text/plain": [
       "1220.4058177252894"
      ]
     },
     "execution_count": 99,
     "metadata": {},
     "output_type": "execute_result"
    }
   ],
   "source": [
    "#computes the training error and validation error\n",
    "import math\n",
    "sum = 0\n",
    "index = 0\n",
    "for inp in validation_x_values:\n",
    "    pred = moore_penrose1[0] +moore_penrose1[1]*inp + moore_penrose1[2]*inp*inp\n",
    "    error = pred - validation_y_values[index]\n",
    "    sum = sum + math.pow(error,2)\n",
    "    index = index +1\n",
    "\n",
    "errorSum = 1/2 * sum\n",
    "errorSum"
   ]
  }
 ],
 "metadata": {
  "kernelspec": {
   "display_name": "Python 3",
   "language": "python",
   "name": "python3"
  },
  "language_info": {
   "codemirror_mode": {
    "name": "ipython",
    "version": 3
   },
   "file_extension": ".py",
   "mimetype": "text/x-python",
   "name": "python",
   "nbconvert_exporter": "python",
   "pygments_lexer": "ipython3",
   "version": "3.11.0"
  },
  "orig_nbformat": 4
 },
 "nbformat": 4,
 "nbformat_minor": 2
}
