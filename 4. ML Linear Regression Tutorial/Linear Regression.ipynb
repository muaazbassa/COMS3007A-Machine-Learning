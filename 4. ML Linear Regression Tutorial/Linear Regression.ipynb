{
 "cells": [
  {
   "attachments": {},
   "cell_type": "markdown",
   "metadata": {},
   "source": [
    "##  QUESTION1"
   ]
  },
  {
   "attachments": {},
   "cell_type": "markdown",
   "metadata": {},
   "source": [
    "Q1a)\n"
   ]
  },
  {
   "cell_type": "code",
   "execution_count": 110,
   "metadata": {},
   "outputs": [
    {
     "name": "stdout",
     "output_type": "stream",
     "text": [
      "y_hat =  1.2\n",
      "error =  0.02\n"
     ]
    }
   ],
   "source": [
    "#The Predicted Value of y_hat(x) for x = 1.\n",
    "y_hat= round(0.4 + 0.8*(1),2)\n",
    "y_true = 1\n",
    "y_hat\n",
    "# The error for when x=1\n",
    "error = round(0.5 * (y_hat - y_true)**2,2)\n",
    "\n",
    "#print the y_hat and error\n",
    "print(\"y_hat = \", y_hat)\n",
    "print(\"error = \", error)"
   ]
  },
  {
   "attachments": {},
   "cell_type": "markdown",
   "metadata": {},
   "source": [
    "Q1b)"
   ]
  },
  {
   "cell_type": "code",
   "execution_count": 111,
   "metadata": {},
   "outputs": [
    {
     "name": "stdout",
     "output_type": "stream",
     "text": [
      "y_hat =  2.0\n",
      "error =  0.5\n"
     ]
    }
   ],
   "source": [
    "#The Predicted Value of y_hat(x) for x = 2.\n",
    "y_hat= 0.4 + 0.8*(2)\n",
    "y_true = 3\n",
    "y_hat\n",
    "\n",
    "# The error for when x=2\n",
    "error = round(0.5 * (y_hat - y_true)**2,2)\n",
    "\n",
    "#print the y_hat and error\n",
    "print(\"y_hat = \", y_hat)\n",
    "print(\"error = \", error)"
   ]
  },
  {
   "attachments": {},
   "cell_type": "markdown",
   "metadata": {},
   "source": [
    "Q1c)"
   ]
  },
  {
   "cell_type": "code",
   "execution_count": 112,
   "metadata": {},
   "outputs": [
    {
     "data": {
      "text/plain": [
       "1.2"
      ]
     },
     "execution_count": 112,
     "metadata": {},
     "output_type": "execute_result"
    }
   ],
   "source": [
    "#sum of squares error for this model\n",
    "\n",
    "def y_hat(x):\n",
    "    y = 0.4 + 0.8*(x)\n",
    "    return y\n",
    "\n",
    "# x values\n",
    "x_values = [1,2,3,4,5]\n",
    "# y avlues\n",
    "y_values = [1,3,2,3,5]\n",
    "y_predicted = []\n",
    "error = 0.0\n",
    "for x in x_values:\n",
    "    y_predicted.append(round(y_hat(x),2))\n",
    "\n",
    "for i in range(len(y_values)):\n",
    "    error += 0.5 * (y_values[i] - y_predicted[i])**2\n",
    "\n",
    "error = round(error, 2)\n",
    "error"
   ]
  },
  {
   "attachments": {},
   "cell_type": "markdown",
   "metadata": {},
   "source": [
    "## QUESTION 4"
   ]
  },
  {
   "attachments": {},
   "cell_type": "markdown",
   "metadata": {},
   "source": [
    "# a)"
   ]
  },
  {
   "attachments": {},
   "cell_type": "markdown",
   "metadata": {},
   "source": [
    "i. Generating random sample data"
   ]
  },
  {
   "cell_type": "code",
   "execution_count": 113,
   "metadata": {},
   "outputs": [],
   "source": [
    "import numpy as np\n",
    "\n",
    "mean = 0\n",
    "std = 10\n",
    "size = 150\n",
    "\n",
    "sample = np.random.normal(mean, std, size)\n"
   ]
  },
  {
   "attachments": {},
   "cell_type": "markdown",
   "metadata": {},
   "source": [
    "ii. Constructing design matrix from sample data"
   ]
  },
  {
   "cell_type": "code",
   "execution_count": 114,
   "metadata": {},
   "outputs": [
    {
     "name": "stdout",
     "output_type": "stream",
     "text": [
      "[[ 1.00000000e+00  8.55034250e+00  7.31083569e+01]\n",
      " [ 1.00000000e+00  9.92534979e+00  9.85125685e+01]\n",
      " [ 1.00000000e+00 -2.58218904e+00  6.66770026e+00]\n",
      " [ 1.00000000e+00 -1.94700397e+00  3.79082445e+00]\n",
      " [ 1.00000000e+00 -1.47005825e+00  2.16107125e+00]\n",
      " [ 1.00000000e+00 -3.95353304e-01  1.56304235e-01]\n",
      " [ 1.00000000e+00 -2.46260732e+00  6.06443483e+00]\n",
      " [ 1.00000000e+00 -7.54483310e+00  5.69245064e+01]\n",
      " [ 1.00000000e+00 -1.72011641e+01  2.95880046e+02]\n",
      " [ 1.00000000e+00  1.51049001e+01  2.28158008e+02]\n",
      " [ 1.00000000e+00  6.29705399e+00  3.96528890e+01]\n",
      " [ 1.00000000e+00  2.00688727e+01  4.02759650e+02]\n",
      " [ 1.00000000e+00 -1.28742045e+00  1.65745140e+00]\n",
      " [ 1.00000000e+00  1.07556008e+01  1.15682950e+02]\n",
      " [ 1.00000000e+00 -3.98389097e+00  1.58713872e+01]\n",
      " [ 1.00000000e+00 -8.34053421e+00  6.95645109e+01]\n",
      " [ 1.00000000e+00  4.07728834e+00  1.66242802e+01]\n",
      " [ 1.00000000e+00 -3.72817537e+00  1.38992916e+01]\n",
      " [ 1.00000000e+00  2.15944536e+00  4.66320427e+00]\n",
      " [ 1.00000000e+00  2.76885652e+00  7.66656642e+00]\n",
      " [ 1.00000000e+00  1.04914564e+01  1.10070658e+02]\n",
      " [ 1.00000000e+00  2.12584099e+01  4.51919990e+02]\n",
      " [ 1.00000000e+00 -7.14283563e+00  5.10201009e+01]\n",
      " [ 1.00000000e+00 -1.33823874e+01  1.79088292e+02]\n",
      " [ 1.00000000e+00 -2.56442995e+01  6.57630095e+02]\n",
      " [ 1.00000000e+00 -1.03907081e+01  1.07966814e+02]\n",
      " [ 1.00000000e+00  1.50461494e+01  2.26386612e+02]\n",
      " [ 1.00000000e+00  1.16876191e+01  1.36600440e+02]\n",
      " [ 1.00000000e+00  1.59366607e+01  2.53977154e+02]\n",
      " [ 1.00000000e+00  1.10704320e+01  1.22554465e+02]\n",
      " [ 1.00000000e+00  6.35655505e+00  4.04057922e+01]\n",
      " [ 1.00000000e+00  1.54926161e+01  2.40021154e+02]\n",
      " [ 1.00000000e+00 -1.22981127e+00  1.51243577e+00]\n",
      " [ 1.00000000e+00 -5.99796498e+00  3.59755839e+01]\n",
      " [ 1.00000000e+00 -1.09532019e+01  1.19972631e+02]\n",
      " [ 1.00000000e+00  1.06925143e+01  1.14329862e+02]\n",
      " [ 1.00000000e+00 -3.97904544e+00  1.58328026e+01]\n",
      " [ 1.00000000e+00 -1.92190923e+01  3.69373508e+02]\n",
      " [ 1.00000000e+00  4.78686788e+00  2.29141041e+01]\n",
      " [ 1.00000000e+00 -3.02884502e+01  9.17390215e+02]\n",
      " [ 1.00000000e+00  4.12430594e+00  1.70098995e+01]\n",
      " [ 1.00000000e+00  1.52518654e+00  2.32619400e+00]\n",
      " [ 1.00000000e+00  1.21894082e+01  1.48581673e+02]\n",
      " [ 1.00000000e+00 -1.10707221e+01  1.22560889e+02]\n",
      " [ 1.00000000e+00 -1.67291663e+01  2.79865004e+02]\n",
      " [ 1.00000000e+00  9.75373442e+00  9.51353351e+01]\n",
      " [ 1.00000000e+00 -3.16679940e+00  1.00286185e+01]\n",
      " [ 1.00000000e+00  1.19109691e+01  1.41871184e+02]\n",
      " [ 1.00000000e+00  8.31020817e+00  6.90595599e+01]\n",
      " [ 1.00000000e+00 -4.64557614e+00  2.15813776e+01]\n",
      " [ 1.00000000e+00 -9.61902721e+00  9.25256845e+01]\n",
      " [ 1.00000000e+00  9.46430133e+00  8.95729996e+01]\n",
      " [ 1.00000000e+00 -1.36636855e+01  1.86696302e+02]\n",
      " [ 1.00000000e+00 -4.94071035e+00  2.44106187e+01]\n",
      " [ 1.00000000e+00 -1.13142005e+01  1.28011132e+02]\n",
      " [ 1.00000000e+00  1.36185685e+01  1.85465407e+02]\n",
      " [ 1.00000000e+00 -1.44166598e+00  2.07840079e+00]\n",
      " [ 1.00000000e+00  1.82315064e+01  3.32387827e+02]\n",
      " [ 1.00000000e+00  5.93926668e+00  3.52748887e+01]\n",
      " [ 1.00000000e+00  2.87008182e+00  8.23736965e+00]\n",
      " [ 1.00000000e+00 -5.71026950e+00  3.26071777e+01]\n",
      " [ 1.00000000e+00  2.74344037e+00  7.52646509e+00]\n",
      " [ 1.00000000e+00  1.19337118e+01  1.42413477e+02]\n",
      " [ 1.00000000e+00 -5.85181450e+00  3.42437329e+01]\n",
      " [ 1.00000000e+00  1.05457314e+01  1.11212451e+02]\n",
      " [ 1.00000000e+00 -2.57026395e+00  6.60625675e+00]\n",
      " [ 1.00000000e+00  2.10732526e+01  4.44081976e+02]\n",
      " [ 1.00000000e+00 -7.25949375e-01  5.27002495e-01]\n",
      " [ 1.00000000e+00 -7.87854183e+00  6.20714213e+01]\n",
      " [ 1.00000000e+00  1.74625920e+01  3.04942121e+02]\n",
      " [ 1.00000000e+00  1.11808701e+00  1.25011855e+00]\n",
      " [ 1.00000000e+00 -2.53948608e+00  6.44898957e+00]\n",
      " [ 1.00000000e+00 -2.48415871e+00  6.17104449e+00]\n",
      " [ 1.00000000e+00 -1.53122347e+00  2.34464532e+00]\n",
      " [ 1.00000000e+00 -4.79409156e+00  2.29833139e+01]\n",
      " [ 1.00000000e+00  1.78990376e+01  3.20375547e+02]\n",
      " [ 1.00000000e+00  1.68457231e+00  2.83778386e+00]\n",
      " [ 1.00000000e+00  1.66825579e+00  2.78307739e+00]\n",
      " [ 1.00000000e+00  8.47233416e+00  7.17804461e+01]\n",
      " [ 1.00000000e+00 -1.16865800e+00  1.36576152e+00]\n",
      " [ 1.00000000e+00  2.00691576e+01  4.02771087e+02]\n",
      " [ 1.00000000e+00  6.59219212e+00  4.34569970e+01]\n",
      " [ 1.00000000e+00 -3.08671022e+00  9.52777996e+00]\n",
      " [ 1.00000000e+00  8.62828999e-01  7.44473881e-01]\n",
      " [ 1.00000000e+00 -8.84287021e-02  7.81963535e-03]\n",
      " [ 1.00000000e+00 -8.32074830e-01  6.92348522e-01]\n",
      " [ 1.00000000e+00 -4.14923214e+00  1.72161273e+01]\n",
      " [ 1.00000000e+00  9.01321967e+00  8.12381289e+01]\n",
      " [ 1.00000000e+00  9.79526040e+00  9.59471262e+01]\n",
      " [ 1.00000000e+00 -3.38552901e+00  1.14618067e+01]\n",
      " [ 1.00000000e+00 -8.20222067e+00  6.72764239e+01]\n",
      " [ 1.00000000e+00 -9.87565430e-01  9.75285478e-01]\n",
      " [ 1.00000000e+00 -1.33062112e+01  1.77055257e+02]\n",
      " [ 1.00000000e+00 -1.30410197e+01  1.70068195e+02]\n",
      " [ 1.00000000e+00  8.29367610e+00  6.87850633e+01]\n",
      " [ 1.00000000e+00 -1.08768778e-01  1.18306470e-02]\n",
      " [ 1.00000000e+00 -1.49414128e+01  2.23245817e+02]\n",
      " [ 1.00000000e+00 -5.69383140e+00  3.24197160e+01]\n",
      " [ 1.00000000e+00  9.25133243e+00  8.55871518e+01]\n",
      " [ 1.00000000e+00 -3.35279536e+00  1.12412367e+01]\n",
      " [ 1.00000000e+00  1.36859383e+01  1.87304907e+02]\n",
      " [ 1.00000000e+00  1.84068602e+01  3.38812502e+02]\n",
      " [ 1.00000000e+00  2.38173229e+00  5.67264870e+00]\n",
      " [ 1.00000000e+00 -2.33635960e+00  5.45857618e+00]\n",
      " [ 1.00000000e+00  6.43155191e+00  4.13648599e+01]\n",
      " [ 1.00000000e+00  6.50948403e+00  4.23733824e+01]\n",
      " [ 1.00000000e+00 -1.12572900e+00  1.26726579e+00]\n",
      " [ 1.00000000e+00  3.21558696e-01  1.03399995e-01]\n",
      " [ 1.00000000e+00 -6.57418667e+00  4.32199304e+01]\n",
      " [ 1.00000000e+00 -8.24174844e+00  6.79264173e+01]\n",
      " [ 1.00000000e+00 -5.57966751e+00  3.11326895e+01]\n",
      " [ 1.00000000e+00 -9.46725761e+00  8.96289667e+01]\n",
      " [ 1.00000000e+00 -1.35607216e+01  1.83893170e+02]\n",
      " [ 1.00000000e+00 -2.14405165e+00  4.59695749e+00]\n",
      " [ 1.00000000e+00 -9.58305656e+00  9.18349731e+01]\n",
      " [ 1.00000000e+00  4.45807421e+00  1.98744257e+01]\n",
      " [ 1.00000000e+00 -7.69542671e+00  5.92195922e+01]\n",
      " [ 1.00000000e+00  1.24806360e+01  1.55766274e+02]\n",
      " [ 1.00000000e+00  1.55952063e+01  2.43210460e+02]\n",
      " [ 1.00000000e+00 -6.30078671e+00  3.96999131e+01]\n",
      " [ 1.00000000e+00 -8.92318600e+00  7.96232483e+01]\n",
      " [ 1.00000000e+00  4.35608200e+00  1.89754504e+01]\n",
      " [ 1.00000000e+00  4.64661289e+00  2.15910114e+01]\n",
      " [ 1.00000000e+00  3.40751212e+00  1.16111388e+01]\n",
      " [ 1.00000000e+00 -5.21513766e-01  2.71976608e-01]\n",
      " [ 1.00000000e+00  1.58532826e+01  2.51326568e+02]\n",
      " [ 1.00000000e+00  1.14558297e+01  1.31236033e+02]\n",
      " [ 1.00000000e+00 -3.55853236e+00  1.26631526e+01]\n",
      " [ 1.00000000e+00  6.02340486e+00  3.62814062e+01]\n",
      " [ 1.00000000e+00  7.33213469e+00  5.37601991e+01]\n",
      " [ 1.00000000e+00  2.72914397e+00  7.44822678e+00]\n",
      " [ 1.00000000e+00 -8.48172377e+00  7.19396381e+01]\n",
      " [ 1.00000000e+00  3.56882779e+01  1.27365318e+03]\n",
      " [ 1.00000000e+00  8.65366318e-01  7.48858864e-01]\n",
      " [ 1.00000000e+00  1.89030460e+01  3.57325148e+02]\n",
      " [ 1.00000000e+00  5.74995443e+00  3.30619759e+01]\n",
      " [ 1.00000000e+00 -8.05783644e+00  6.49287281e+01]\n",
      " [ 1.00000000e+00  7.46000864e+00  5.56517289e+01]\n",
      " [ 1.00000000e+00  6.20271132e+00  3.84736277e+01]\n",
      " [ 1.00000000e+00  1.08552398e+01  1.17836231e+02]\n",
      " [ 1.00000000e+00 -3.36491404e+00  1.13226465e+01]\n",
      " [ 1.00000000e+00 -1.58792031e+01  2.52149091e+02]\n",
      " [ 1.00000000e+00  9.00320930e+00  8.10577777e+01]\n",
      " [ 1.00000000e+00  7.00007978e+00  4.90011169e+01]\n",
      " [ 1.00000000e+00 -9.40779350e-01  8.85065785e-01]\n",
      " [ 1.00000000e+00 -1.15919592e+01  1.34373518e+02]\n",
      " [ 1.00000000e+00 -1.35678821e+01  1.84087425e+02]\n",
      " [ 1.00000000e+00 -1.73535908e+01  3.01147113e+02]\n",
      " [ 1.00000000e+00  3.81606933e+00  1.45623851e+01]\n",
      " [ 1.00000000e+00  2.03980973e+00  4.16082373e+00]]\n"
     ]
    }
   ],
   "source": [
    "def designMatrix(s, rows, cols):\n",
    "    design = np.ones((rows, cols))\n",
    "    for i in range(cols):\n",
    "        design[:,i] = s**i\n",
    "    return design\n",
    "\n",
    "design = designMatrix(sample, 150, 3)\n",
    "\n",
    "print(design)\n"
   ]
  },
  {
   "attachments": {},
   "cell_type": "markdown",
   "metadata": {},
   "source": [
    "iii. Sample true values for theta, (3 values - corresponds to features)"
   ]
  },
  {
   "cell_type": "code",
   "execution_count": 115,
   "metadata": {},
   "outputs": [
    {
     "name": "stdout",
     "output_type": "stream",
     "text": [
      "[0.85703556 0.54600297 0.68107535]\n"
     ]
    }
   ],
   "source": [
    "theta = np.random.uniform(0, 1, 3)\n",
    "\n",
    "theta0 = theta[0]\n",
    "theta1 = theta[1]\n",
    "theta2 = theta[2]\n",
    "\n",
    "print(theta)"
   ]
  },
  {
   "attachments": {},
   "cell_type": "markdown",
   "metadata": {},
   "source": [
    "iv. Generate y values using design matrix and true parameter. Also add noise to make data more realistic"
   ]
  },
  {
   "cell_type": "code",
   "execution_count": 116,
   "metadata": {},
   "outputs": [
    {
     "name": "stdout",
     "output_type": "stream",
     "text": [
      "[ 5.51449098e+01  7.52092421e+01  2.32891821e+01  3.46795178e-01\n",
      "  8.11385486e+00 -4.81007436e-02 -1.39066363e+00  2.07140707e+01\n",
      "  1.97198243e+02  1.64452981e+02  3.29403431e+01  3.00148107e+02\n",
      " -7.73149302e+00  9.46019943e+01  1.48600730e+01  4.35996645e+01\n",
      "  1.80014991e+01  9.45929166e+00  1.04577789e+00  1.21848435e+01\n",
      "  8.26674134e+01  3.32806084e+02  2.49210505e+01  1.21115390e+02\n",
      "  4.41274842e+02  7.26918880e+01  1.58181769e+02  1.05020382e+02\n",
      "  1.78515543e+02  9.62797791e+01  2.44083090e+01  1.53006855e+02\n",
      "  2.40929876e+00  1.90451909e+01  8.36328265e+01  8.26920189e+01\n",
      "  1.19195594e+01  2.51712388e+02  3.04942509e+01  6.12509059e+02\n",
      "  1.50275150e+01  1.20542821e+00  9.34640502e+01  8.73187461e+01\n",
      "  1.59969191e+02  6.90533420e+01 -2.08754744e-01  1.03880232e+02\n",
      "  5.98178209e+01  1.20846988e+01  4.83313812e+01  6.01321313e+01\n",
      "  1.24045841e+02  1.93584522e+01  8.23708440e+01  1.38636611e+02\n",
      "  2.66317108e+00  2.59007091e+02  3.02739305e+01  1.07685019e+01\n",
      "  1.04681835e+01 -8.22105561e-01  1.03973241e+02  2.19224332e+01\n",
      "  8.88744872e+01 -2.30456727e+00  3.12410240e+02  1.98423124e+00\n",
      "  4.12837975e+01  2.07794608e+02 -8.26547629e+00  1.02313511e+01\n",
      "  5.15772104e+00 -1.61109557e+01  1.15342846e+01  2.25179380e+02\n",
      "  1.05513557e+00  1.19904216e+01  5.49339857e+01 -1.44470071e+00\n",
      "  2.91851173e+02  2.10629501e+01 -2.45726441e+00  1.11818460e+01\n",
      "  3.24415671e-01 -2.98866334e+00  2.18445922e+01  7.42661398e+01\n",
      "  6.51139133e+01  5.62681820e+00  4.32003631e+01 -6.94560481e-01\n",
      "  1.18578480e+02  1.21769965e+02  4.77387569e+01 -2.75437195e-01\n",
      "  1.61568241e+02  4.08375527e+00  6.28032779e+01  2.96014538e+00\n",
      "  1.39600216e+02  2.31684480e+02  1.02568822e+01 -5.15985335e-01\n",
      "  2.86155086e+01  4.88877221e+01 -8.43909866e+00 -5.08231892e+00\n",
      "  2.01414939e+01  5.96298386e+01  4.17758476e+00  5.27730724e+01\n",
      "  1.16204980e+02 -1.13730835e+01  5.01201711e+01  1.25362757e+01\n",
      "  3.86169887e+01  1.17174758e+02  1.62243622e+02  2.54453876e+01\n",
      "  6.41557808e+01  2.43238344e+01  3.19770014e+01  2.25761737e+01\n",
      " -1.07898021e+01  1.79830589e+02  1.18633250e+02  1.32428478e+01\n",
      "  2.66800202e+01  3.08322184e+01  1.12904301e+01  4.22212446e+01\n",
      "  8.86867542e+02 -2.03664890e+00  2.59459991e+02  3.61915633e+01\n",
      "  3.85802529e+01  3.93652722e+01  1.04613541e+01  8.74705236e+01\n",
      "  8.55785795e+00  1.62202201e+02  6.25807697e+01  4.02913565e+01\n",
      "  1.04468296e+01  7.96175294e+01  1.12300550e+02  1.88715528e+02\n",
      "  1.16596646e+01 -8.84124836e+00]\n"
     ]
    }
   ],
   "source": [
    "mean = 0\n",
    "std = 8\n",
    "size = 150\n",
    "\n",
    "noise = np.random.normal(mean, std, size)\n",
    "\n",
    "y = np.dot(design, theta) + noise\n",
    "\n",
    "print(y)"
   ]
  },
  {
   "attachments": {},
   "cell_type": "markdown",
   "metadata": {},
   "source": [
    "v. Plot sample data with generated y values"
   ]
  },
  {
   "cell_type": "code",
   "execution_count": 117,
   "metadata": {},
   "outputs": [
    {
     "data": {
      "image/png": "[encoded data removed]",
      "text/plain": [
       "<Figure size 432x288 with 1 Axes>"
      ]
     },
     "metadata": {
      "needs_background": "light"
     },
     "output_type": "display_data"
    }
   ],
   "source": [
    "import matplotlib.pyplot as plt\n",
    "\n",
    "plt.scatter(sample, y)\n",
    "plt.show()"
   ]
  },
  {
   "attachments": {},
   "cell_type": "markdown",
   "metadata": {},
   "source": [
    "vi. Split sample data into training, testing and validation data"
   ]
  },
  {
   "cell_type": "code",
   "execution_count": 118,
   "metadata": {},
   "outputs": [],
   "source": [
    "#90 of 150 for training (60%)\n",
    "#30 of 150 for testing (20%)\n",
    "#30 of 150 for validation (20%)\n",
    "\n",
    "#Training\n",
    "training_x_values = sample[:90]\n",
    "training_y_values = y[:90]\n",
    "trainDMB = design[:90]\n",
    "\n",
    "#Testing\n",
    "testing_x_values = sample[120:150]\n",
    "testing_y_values = y[120:150]\n",
    "testDMB = design[120:150]\n",
    "\n",
    "#Validation\n",
    "validation_x_values = sample[90:120]\n",
    "validation_y_values = y[90:120]\n",
    "validDMB = design[90:120]\n",
    "\n",
    "# print(training_x_values)\n"
   ]
  },
  {
   "attachments": {},
   "cell_type": "markdown",
   "metadata": {},
   "source": [
    "# b)"
   ]
  },
  {
   "attachments": {},
   "cell_type": "markdown",
   "metadata": {},
   "source": [
    "i. Use Moore-Penrose pseudo-inverse to calculate the closed form solution"
   ]
  },
  {
   "cell_type": "code",
   "execution_count": 119,
   "metadata": {},
   "outputs": [
    {
     "name": "stdout",
     "output_type": "stream",
     "text": [
      "[0.10414915 0.56816255 0.68883531]\n"
     ]
    }
   ],
   "source": [
    "def moorePenrose(DMatrix, y_values):\n",
    "    dmTranspose = np.transpose(DMatrix)\n",
    "    firstPart = np.linalg.inv(np.dot(dmTranspose, DMatrix))\n",
    "    secondPart = np.dot(dmTranspose, y_values)\n",
    "    finalMoore = np.dot(firstPart, secondPart)\n",
    "    return finalMoore\n",
    "\n",
    "moore_penrose = moorePenrose(trainDMB, training_y_values)\n",
    "\n",
    "print(moore_penrose)\n",
    "# print(theta)\n"
   ]
  },
  {
   "attachments": {},
   "cell_type": "markdown",
   "metadata": {},
   "source": [
    "ii. How close are the learned parameter values to the true parameters?"
   ]
  },
  {
   "cell_type": "code",
   "execution_count": 120,
   "metadata": {},
   "outputs": [],
   "source": [
    "# The learned parameter values, with the exception of theta0, which is off from the true value by a significant value.\n",
    "# While theta1 is off by approx. 0.004 and theta2 is off by approx 0.005, which is relatively close to the true parameters.  "
   ]
  },
  {
   "attachments": {},
   "cell_type": "markdown",
   "metadata": {},
   "source": [
    "iii. Compute the training and validation error of the model"
   ]
  },
  {
   "cell_type": "code",
   "execution_count": 121,
   "metadata": {},
   "outputs": [
    {
     "name": "stdout",
     "output_type": "stream",
     "text": [
      "18.00519002814895\n",
      "7.606597157896336\n"
     ]
    }
   ],
   "source": [
    "import math\n",
    "\n",
    "def mooreError(x_values, y_values):\n",
    "    sum = 0\n",
    "    index = 0\n",
    "\n",
    "    for x in x_values:\n",
    "        y_predicted = moore_penrose[0] + moore_penrose[1] * x + moore_penrose[2] * math.pow(x, 2)\n",
    "        error = y_values[index] - y_predicted\n",
    "        sum += math.pow(error,2)\n",
    "        index += 1\n",
    "\n",
    "    totalError = (1 / (2 * 150)) * sum # Since the fraction is valid as long as its a constant (slides)\n",
    "    return totalError\n",
    "\n",
    "trainingError = mooreError(training_x_values, training_y_values)\n",
    "validationError = mooreError(validation_x_values, validation_y_values)\n",
    "\n",
    "print(trainingError)\n",
    "print(validationError)"
   ]
  },
  {
   "attachments": {},
   "cell_type": "markdown",
   "metadata": {},
   "source": [
    "iv. Plot of the data and the regression model"
   ]
  },
  {
   "cell_type": "code",
   "execution_count": 122,
   "metadata": {},
   "outputs": [
    {
     "data": {
      "image/png": "[encoded data removed]",
      "text/plain": [
       "<Figure size 432x288 with 1 Axes>"
      ]
     },
     "metadata": {
      "needs_background": "light"
     },
     "output_type": "display_data"
    }
   ],
   "source": [
    "import matplotlib.pyplot as plt\n",
    "\n",
    "sorted_trainX = trainDMB[trainDMB[:,1].argsort()]\n",
    "sorted_trainY = np.dot(sorted_trainX, moore_penrose)\n",
    "\n",
    "plt.scatter(training_x_values, training_y_values)\n",
    "plt.plot(sorted_trainX[:,1], sorted_trainY, \"r\")\n",
    "plt.show()"
   ]
  },
  {
   "attachments": {},
   "cell_type": "markdown",
   "metadata": {},
   "source": [
    "v. Repeat the above process using Gradient Descent to train your model. In addition, plot the\n",
    "training error of your regression model over time (observe or capture the training error every 20\n",
    "parameter updates/time steps). Your plot should look like Figure 2c."
   ]
  },
  {
   "cell_type": "code",
   "execution_count": 158,
   "metadata": {},
   "outputs": [
    {
     "data": {
      "image/png": "[encoded data removed]",
      "text/plain": [
       "<Figure size 432x288 with 1 Axes>"
      ]
     },
     "metadata": {
      "needs_background": "light"
     },
     "output_type": "display_data"
    },
    {
     "name": "stdout",
     "output_type": "stream",
     "text": [
      "[0.00212023 0.00907373 0.67270596]\n",
      "Testing error:  2480.010343085759\n",
      "Validation error:  2308.6140194376853\n"
     ]
    }
   ],
   "source": [
    "import numpy as np\n",
    "\n",
    "def gradient_descent(X, y, learning_rate=0.0000001, num_iterations=1000):\n",
    "    # Initialize parameters\n",
    "    m, n = X.shape\n",
    "    theta = np.zeros(n)\n",
    "    errors = []\n",
    "\n",
    "    # Perform gradient descent\n",
    "    for i in range(num_iterations):\n",
    "        # Compute predictions\n",
    "        y_pred = X.dot(theta)\n",
    "\n",
    "        # Compute errors\n",
    "        error = y_pred - y\n",
    "        \n",
    "        if (i % 20):\n",
    "            errors.append(np.mean(error**2))\n",
    "\n",
    "        # Compute gradients\n",
    "        grad = np.dot(X.T, error) / m\n",
    "\n",
    "        # Update parameters\n",
    "        theta = theta - learning_rate * grad\n",
    "\n",
    "    return theta, errors\n",
    "\n",
    "\n",
    "thetaB, errorB = gradient_descent(trainDMB, training_y_values)\n",
    "\n",
    "plt.plot(errorB, color=\"orange\")\n",
    "plt.show()\n",
    "\n",
    "print(thetaB)\n",
    "\n",
    "validation_thetaB, validation_errorB = gradient_descent(validDMB, validation_y_values)\n",
    "testingErrorB = np.mean(errorB)\n",
    "validationErrorB = np.mean(validation_errorB)\n",
    "print(\"Testing error: \", testingErrorB)\n",
    "print(\"Validation error: \", validationErrorB)\n"
   ]
  },
  {
   "attachments": {},
   "cell_type": "markdown",
   "metadata": {},
   "source": [
    "# C)"
   ]
  },
  {
   "attachments": {},
   "cell_type": "markdown",
   "metadata": {},
   "source": [
    "i. Begin by appending a third feature to your design matrix for x3"
   ]
  },
  {
   "cell_type": "code",
   "execution_count": 124,
   "metadata": {},
   "outputs": [
    {
     "name": "stdout",
     "output_type": "stream",
     "text": [
      "[[ 1.00000000e+00  8.55034250e+00  7.31083569e+01  6.25101491e+02]\n",
      " [ 1.00000000e+00  9.92534979e+00  9.85125685e+01  9.77771702e+02]\n",
      " [ 1.00000000e+00 -2.58218904e+00  6.66770026e+00 -1.72172626e+01]\n",
      " [ 1.00000000e+00 -1.94700397e+00  3.79082445e+00 -7.38075023e+00]\n",
      " [ 1.00000000e+00 -1.47005825e+00  2.16107125e+00 -3.17690061e+00]\n",
      " [ 1.00000000e+00 -3.95353304e-01  1.56304235e-01 -6.17953955e-02]\n",
      " [ 1.00000000e+00 -2.46260732e+00  6.06443483e+00 -1.49343216e+01]\n",
      " [ 1.00000000e+00 -7.54483310e+00  5.69245064e+01 -4.29485900e+02]\n",
      " [ 1.00000000e+00 -1.72011641e+01  2.95880046e+02 -5.08948123e+03]\n",
      " [ 1.00000000e+00  1.51049001e+01  2.28158008e+02  3.44630392e+03]\n",
      " [ 1.00000000e+00  6.29705399e+00  3.96528890e+01  2.49696383e+02]\n",
      " [ 1.00000000e+00  2.00688727e+01  4.02759650e+02  8.08293214e+03]\n",
      " [ 1.00000000e+00 -1.28742045e+00  1.65745140e+00 -2.13383683e+00]\n",
      " [ 1.00000000e+00  1.07556008e+01  1.15682950e+02  1.24423963e+03]\n",
      " [ 1.00000000e+00 -3.98389097e+00  1.58713872e+01 -6.32298762e+01]\n",
      " [ 1.00000000e+00 -8.34053421e+00  6.95645109e+01 -5.80205183e+02]\n",
      " [ 1.00000000e+00  4.07728834e+00  1.66242802e+01  6.77819837e+01]\n",
      " [ 1.00000000e+00 -3.72817537e+00  1.38992916e+01 -5.18189967e+01]\n",
      " [ 1.00000000e+00  2.15944536e+00  4.66320427e+00  1.00699348e+01]\n",
      " [ 1.00000000e+00  2.76885652e+00  7.66656642e+00  2.12276224e+01]\n",
      " [ 1.00000000e+00  1.04914564e+01  1.10070658e+02  1.15480151e+03]\n",
      " [ 1.00000000e+00  2.12584099e+01  4.51919990e+02  9.60710038e+03]\n",
      " [ 1.00000000e+00 -7.14283563e+00  5.10201009e+01 -3.64428195e+02]\n",
      " [ 1.00000000e+00 -1.33823874e+01  1.79088292e+02 -2.39662890e+03]\n",
      " [ 1.00000000e+00 -2.56442995e+01  6.57630095e+02 -1.68644631e+04]\n",
      " [ 1.00000000e+00 -1.03907081e+01  1.07966814e+02 -1.12185165e+03]\n",
      " [ 1.00000000e+00  1.50461494e+01  2.26386612e+02  3.40624678e+03]\n",
      " [ 1.00000000e+00  1.16876191e+01  1.36600440e+02  1.59653392e+03]\n",
      " [ 1.00000000e+00  1.59366607e+01  2.53977154e+02  4.04754772e+03]\n",
      " [ 1.00000000e+00  1.10704320e+01  1.22554465e+02  1.35673088e+03]\n",
      " [ 1.00000000e+00  6.35655505e+00  4.04057922e+01  2.56841642e+02]\n",
      " [ 1.00000000e+00  1.54926161e+01  2.40021154e+02  3.71855560e+03]\n",
      " [ 1.00000000e+00 -1.22981127e+00  1.51243577e+00 -1.86001056e+00]\n",
      " [ 1.00000000e+00 -5.99796498e+00  3.59755839e+01 -2.15780292e+02]\n",
      " [ 1.00000000e+00 -1.09532019e+01  1.19972631e+02 -1.31408445e+03]\n",
      " [ 1.00000000e+00  1.06925143e+01  1.14329862e+02  1.22247369e+03]\n",
      " [ 1.00000000e+00 -3.97904544e+00  1.58328026e+01 -6.29994411e+01]\n",
      " [ 1.00000000e+00 -1.92190923e+01  3.69373508e+02 -7.09902352e+03]\n",
      " [ 1.00000000e+00  4.78686788e+00  2.29141041e+01  1.09686789e+02]\n",
      " [ 1.00000000e+00 -3.02884502e+01  9.17390215e+02 -2.77863278e+04]\n",
      " [ 1.00000000e+00  4.12430594e+00  1.70098995e+01  7.01540294e+01]\n",
      " [ 1.00000000e+00  1.52518654e+00  2.32619400e+00  3.54787978e+00]\n",
      " [ 1.00000000e+00  1.21894082e+01  1.48581673e+02  1.81112267e+03]\n",
      " [ 1.00000000e+00 -1.10707221e+01  1.22560889e+02 -1.35683754e+03]\n",
      " [ 1.00000000e+00 -1.67291663e+01  2.79865004e+02 -4.68190818e+03]\n",
      " [ 1.00000000e+00  9.75373442e+00  9.51353351e+01  9.27924792e+02]\n",
      " [ 1.00000000e+00 -3.16679940e+00  1.00286185e+01 -3.17586229e+01]\n",
      " [ 1.00000000e+00  1.19109691e+01  1.41871184e+02  1.68982328e+03]\n",
      " [ 1.00000000e+00  8.31020817e+00  6.90595599e+01  5.73899319e+02]\n",
      " [ 1.00000000e+00 -4.64557614e+00  2.15813776e+01 -1.00257933e+02]\n",
      " [ 1.00000000e+00 -9.61902721e+00  9.25256845e+01 -8.90007077e+02]\n",
      " [ 1.00000000e+00  9.46430133e+00  8.95729996e+01  8.47745860e+02]\n",
      " [ 1.00000000e+00 -1.36636855e+01  1.86696302e+02 -2.55095956e+03]\n",
      " [ 1.00000000e+00 -4.94071035e+00  2.44106187e+01 -1.20605797e+02]\n",
      " [ 1.00000000e+00 -1.13142005e+01  1.28011132e+02 -1.44834361e+03]\n",
      " [ 1.00000000e+00  1.36185685e+01  1.85465407e+02  2.52577335e+03]\n",
      " [ 1.00000000e+00 -1.44166598e+00  2.07840079e+00 -2.99635972e+00]\n",
      " [ 1.00000000e+00  1.82315064e+01  3.32387827e+02  6.05993080e+03]\n",
      " [ 1.00000000e+00  5.93926668e+00  3.52748887e+01  2.09506971e+02]\n",
      " [ 1.00000000e+00  2.87008182e+00  8.23736965e+00  2.36419249e+01]\n",
      " [ 1.00000000e+00 -5.71026950e+00  3.26071777e+01 -1.86195772e+02]\n",
      " [ 1.00000000e+00  2.74344037e+00  7.52646509e+00  2.06484082e+01]\n",
      " [ 1.00000000e+00  1.19337118e+01  1.42413477e+02  1.69952139e+03]\n",
      " [ 1.00000000e+00 -5.85181450e+00  3.42437329e+01 -2.00387972e+02]\n",
      " [ 1.00000000e+00  1.05457314e+01  1.11212451e+02  1.17281664e+03]\n",
      " [ 1.00000000e+00 -2.57026395e+00  6.60625675e+00 -1.69798235e+01]\n",
      " [ 1.00000000e+00  2.10732526e+01  4.44081976e+02  9.35825166e+03]\n",
      " [ 1.00000000e+00 -7.25949375e-01  5.27002495e-01 -3.82577132e-01]\n",
      " [ 1.00000000e+00 -7.87854183e+00  6.20714213e+01 -4.89032289e+02]\n",
      " [ 1.00000000e+00  1.74625920e+01  3.04942121e+02  5.32507985e+03]\n",
      " [ 1.00000000e+00  1.11808701e+00  1.25011855e+00  1.39774131e+00]\n",
      " [ 1.00000000e+00 -2.53948608e+00  6.44898957e+00 -1.63771193e+01]\n",
      " [ 1.00000000e+00 -2.48415871e+00  6.17104449e+00 -1.53298539e+01]\n",
      " [ 1.00000000e+00 -1.53122347e+00  2.34464532e+00 -3.59017595e+00]\n",
      " [ 1.00000000e+00 -4.79409156e+00  2.29833139e+01 -1.10184111e+02]\n",
      " [ 1.00000000e+00  1.78990376e+01  3.20375547e+02  5.73441395e+03]\n",
      " [ 1.00000000e+00  1.68457231e+00  2.83778386e+00  4.78045211e+00]\n",
      " [ 1.00000000e+00  1.66825579e+00  2.78307739e+00  4.64288499e+00]\n",
      " [ 1.00000000e+00  8.47233416e+00  7.17804461e+01  6.08147925e+02]\n",
      " [ 1.00000000e+00 -1.16865800e+00  1.36576152e+00 -1.59610813e+00]\n",
      " [ 1.00000000e+00  2.00691576e+01  4.02771087e+02  8.08327644e+03]\n",
      " [ 1.00000000e+00  6.59219212e+00  4.34569970e+01  2.86476873e+02]\n",
      " [ 1.00000000e+00 -3.08671022e+00  9.52777996e+00 -2.94094957e+01]\n",
      " [ 1.00000000e+00  8.62828999e-01  7.44473881e-01  6.42353654e-01]\n",
      " [ 1.00000000e+00 -8.84287021e-02  7.81963535e-03 -6.91480204e-04]\n",
      " [ 1.00000000e+00 -8.32074830e-01  6.92348522e-01 -5.76085779e-01]\n",
      " [ 1.00000000e+00 -4.14923214e+00  1.72161273e+01 -7.14337087e+01]\n",
      " [ 1.00000000e+00  9.01321967e+00  8.12381289e+01  7.32217102e+02]\n",
      " [ 1.00000000e+00  9.79526040e+00  9.59471262e+01  9.39827086e+02]\n",
      " [ 1.00000000e+00 -3.38552901e+00  1.14618067e+01 -3.88042792e+01]\n",
      " [ 1.00000000e+00 -8.20222067e+00  6.72764239e+01 -5.51816075e+02]\n",
      " [ 1.00000000e+00 -9.87565430e-01  9.75285478e-01 -9.63158222e-01]\n",
      " [ 1.00000000e+00 -1.33062112e+01  1.77055257e+02 -2.35593464e+03]\n",
      " [ 1.00000000e+00 -1.30410197e+01  1.70068195e+02 -2.21786267e+03]\n",
      " [ 1.00000000e+00  8.29367610e+00  6.87850633e+01  5.70481035e+02]\n",
      " [ 1.00000000e+00 -1.08768778e-01  1.18306470e-02 -1.28680501e-03]\n",
      " [ 1.00000000e+00 -1.49414128e+01  2.23245817e+02 -3.33560791e+03]\n",
      " [ 1.00000000e+00 -5.69383140e+00  3.24197160e+01 -1.84592397e+02]\n",
      " [ 1.00000000e+00  9.25133243e+00  8.55871518e+01  7.91795193e+02]\n",
      " [ 1.00000000e+00 -3.35279536e+00  1.12412367e+01 -3.76895662e+01]\n",
      " [ 1.00000000e+00  1.36859383e+01  1.87304907e+02  2.56344340e+03]\n",
      " [ 1.00000000e+00  1.84068602e+01  3.38812502e+02  6.23647435e+03]\n",
      " [ 1.00000000e+00  2.38173229e+00  5.67264870e+00  1.35107306e+01]\n",
      " [ 1.00000000e+00 -2.33635960e+00  5.45857618e+00 -1.27531969e+01]\n",
      " [ 1.00000000e+00  6.43155191e+00  4.13648599e+01  2.66040244e+02]\n",
      " [ 1.00000000e+00  6.50948403e+00  4.23733824e+01  2.75828856e+02]\n",
      " [ 1.00000000e+00 -1.12572900e+00  1.26726579e+00 -1.42659786e+00]\n",
      " [ 1.00000000e+00  3.21558696e-01  1.03399995e-01  3.32491676e-02]\n",
      " [ 1.00000000e+00 -6.57418667e+00  4.32199304e+01 -2.84135890e+02]\n",
      " [ 1.00000000e+00 -8.24174844e+00  6.79264173e+01 -5.59832443e+02]\n",
      " [ 1.00000000e+00 -5.57966751e+00  3.11326895e+01 -1.73710056e+02]\n",
      " [ 1.00000000e+00 -9.46725761e+00  8.96289667e+01 -8.48540518e+02]\n",
      " [ 1.00000000e+00 -1.35607216e+01  1.83893170e+02 -2.49372409e+03]\n",
      " [ 1.00000000e+00 -2.14405165e+00  4.59695749e+00 -9.85611430e+00]\n",
      " [ 1.00000000e+00 -9.58305656e+00  9.18349731e+01 -8.80059741e+02]\n",
      " [ 1.00000000e+00  4.45807421e+00  1.98744257e+01  8.86016646e+01]\n",
      " [ 1.00000000e+00 -7.69542671e+00  5.92195922e+01 -4.55720032e+02]\n",
      " [ 1.00000000e+00  1.24806360e+01  1.55766274e+02  1.94406217e+03]\n",
      " [ 1.00000000e+00  1.55952063e+01  2.43210460e+02  3.79291731e+03]\n",
      " [ 1.00000000e+00 -6.30078671e+00  3.96999131e+01 -2.50140685e+02]\n",
      " [ 1.00000000e+00 -8.92318600e+00  7.96232483e+01 -7.10493055e+02]\n",
      " [ 1.00000000e+00  4.35608200e+00  1.89754504e+01  8.26586179e+01]\n",
      " [ 1.00000000e+00  4.64661289e+00  2.15910114e+01  1.00325072e+02]\n",
      " [ 1.00000000e+00  3.40751212e+00  1.16111388e+01  3.95650962e+01]\n",
      " [ 1.00000000e+00 -5.21513766e-01  2.71976608e-01 -1.41839545e-01]\n",
      " [ 1.00000000e+00  1.58532826e+01  2.51326568e+02  3.98435109e+03]\n",
      " [ 1.00000000e+00  1.14558297e+01  1.31236033e+02  1.50341764e+03]\n",
      " [ 1.00000000e+00 -3.55853236e+00  1.26631526e+01 -4.50622382e+01]\n",
      " [ 1.00000000e+00  6.02340486e+00  3.62814062e+01  2.18537598e+02]\n",
      " [ 1.00000000e+00  7.33213469e+00  5.37601991e+01  3.94177020e+02]\n",
      " [ 1.00000000e+00  2.72914397e+00  7.44822678e+00  2.03272832e+01]\n",
      " [ 1.00000000e+00 -8.48172377e+00  7.19396381e+01 -6.10172138e+02]\n",
      " [ 1.00000000e+00  3.56882779e+01  1.27365318e+03  4.54544885e+04]\n",
      " [ 1.00000000e+00  8.65366318e-01  7.48858864e-01  6.48037238e-01]\n",
      " [ 1.00000000e+00  1.89030460e+01  3.57325148e+02  6.75453372e+03]\n",
      " [ 1.00000000e+00  5.74995443e+00  3.30619759e+01  1.90104855e+02]\n",
      " [ 1.00000000e+00 -8.05783644e+00  6.49287281e+01 -5.23185071e+02]\n",
      " [ 1.00000000e+00  7.46000864e+00  5.56517289e+01  4.15162378e+02]\n",
      " [ 1.00000000e+00  6.20271132e+00  3.84736277e+01  2.38640806e+02]\n",
      " [ 1.00000000e+00  1.08552398e+01  1.17836231e+02  1.27914054e+03]\n",
      " [ 1.00000000e+00 -3.36491404e+00  1.13226465e+01 -3.80997322e+01]\n",
      " [ 1.00000000e+00 -1.58792031e+01  2.52149091e+02 -4.00392663e+03]\n",
      " [ 1.00000000e+00  9.00320930e+00  8.10577777e+01  7.29780138e+02]\n",
      " [ 1.00000000e+00  7.00007978e+00  4.90011169e+01  3.43011728e+02]\n",
      " [ 1.00000000e+00 -9.40779350e-01  8.85065785e-01 -8.32651614e-01]\n",
      " [ 1.00000000e+00 -1.15919592e+01  1.34373518e+02 -1.55765234e+03]\n",
      " [ 1.00000000e+00 -1.35678821e+01  1.84087425e+02 -2.49767649e+03]\n",
      " [ 1.00000000e+00 -1.73535908e+01  3.01147113e+02 -5.22598375e+03]\n",
      " [ 1.00000000e+00  3.81606933e+00  1.45623851e+01  5.55710711e+01]\n",
      " [ 1.00000000e+00  2.03980973e+00  4.16082373e+00  8.48728873e+00]]\n"
     ]
    }
   ],
   "source": [
    "# Adding x^3 column\n",
    "def designMatrix(s, rows, cols):\n",
    "    design = np.ones((rows, cols))\n",
    "    for i in range(cols):\n",
    "        design[:,i] = s**i\n",
    "    return design\n",
    "\n",
    "designX3 = designMatrix(sample, 150, 4)\n",
    "\n",
    "print(designX3)"
   ]
  },
  {
   "attachments": {},
   "cell_type": "markdown",
   "metadata": {},
   "source": [
    "ii. Train a model using Gradient Descent with the new design matrix. Repeat the process used above\n",
    "    in Question 4b. Note, we are now using a third-order polynomial to fit data which was generated\n",
    "    using a second-order polynomial. Our function is, thus, more complicated than is necessary to\n",
    "    fit the data and as a result will overfit."
   ]
  },
  {
   "attachments": {},
   "cell_type": "markdown",
   "metadata": {},
   "source": [
    "True values of parameters"
   ]
  },
  {
   "cell_type": "code",
   "execution_count": 125,
   "metadata": {},
   "outputs": [
    {
     "name": "stdout",
     "output_type": "stream",
     "text": [
      "[0.83815739 0.69779017 0.2758925  0.29513018]\n"
     ]
    }
   ],
   "source": [
    "# This is from 4 a) \n",
    "thetaX3 = np.random.uniform(0, 1, 4)\n",
    "\n",
    "theta0 = thetaX3[0]\n",
    "theta1 = thetaX3[1]\n",
    "theta2 = thetaX3[2]\n",
    "theta3 = thetaX3[3]\n",
    "\n",
    "print(thetaX3)\n"
   ]
  },
  {
   "attachments": {},
   "cell_type": "markdown",
   "metadata": {},
   "source": [
    "Spliting data into training, test and validation"
   ]
  },
  {
   "cell_type": "code",
   "execution_count": 126,
   "metadata": {},
   "outputs": [],
   "source": [
    "# #Training\n",
    "training_x_values = sample[:90]\n",
    "training_y_values = y[:90]\n",
    "trainDMC = designX3[:90]\n",
    "\n",
    "#Testing\n",
    "testing_x_values = sample[120:150]\n",
    "testing_y_values = y[120:150]\n",
    "testDMC = designX3[120:150]\n",
    "\n",
    "#Validation\n",
    "validation_x_valuesX3 = sample[90:120]\n",
    "validation_y_valuesX3 = y[90:120]\n",
    "validDMC = designX3[90:120]"
   ]
  },
  {
   "attachments": {},
   "cell_type": "markdown",
   "metadata": {},
   "source": [
    "Use Moore Penrose to generate closed form solution to the model parameter values (NOT NEEDED)"
   ]
  },
  {
   "cell_type": "code",
   "execution_count": 127,
   "metadata": {},
   "outputs": [
    {
     "name": "stdout",
     "output_type": "stream",
     "text": [
      "[1.15571645e-02 5.14809932e-01 6.90200160e-01 1.60897852e-04]\n"
     ]
    },
    {
     "data": {
      "image/png": "[encoded data removed]",
      "text/plain": [
       "<Figure size 432x288 with 1 Axes>"
      ]
     },
     "metadata": {
      "needs_background": "light"
     },
     "output_type": "display_data"
    }
   ],
   "source": [
    "import matplotlib.pyplot as plt\n",
    "\n",
    "moore_penrose = moorePenrose(trainDMC, training_y_values)\n",
    "print(moore_penrose)\n",
    "\n",
    "sorted_trainX = trainDMC[trainDMC[:,1].argsort()]\n",
    "sorted_trainY = np.dot(sorted_trainX, moore_penrose)\n",
    "\n",
    "plt.scatter(training_x_values, training_y_values)\n",
    "plt.plot(sorted_trainX[:,1], sorted_trainY, \"r\")\n",
    "plt.show()"
   ]
  },
  {
   "attachments": {},
   "cell_type": "markdown",
   "metadata": {},
   "source": [
    "Regularised Moore-Penrose"
   ]
  },
  {
   "cell_type": "code",
   "execution_count": 135,
   "metadata": {},
   "outputs": [
    {
     "name": "stdout",
     "output_type": "stream",
     "text": [
      "[1.14637180e-02 5.14633273e-01 6.90202966e-01 1.61269829e-04]\n"
     ]
    },
    {
     "data": {
      "image/png": "[encoded data removed]",
      "text/plain": [
       "<Figure size 432x288 with 1 Axes>"
      ]
     },
     "metadata": {
      "needs_background": "light"
     },
     "output_type": "display_data"
    }
   ],
   "source": [
    "\n",
    "matrix = np.identity(len(trainDMC[0]))\n",
    "matrix[0][0] = 0\n",
    "matrix\n",
    "\n",
    "def Reg_moorePenrose(DMatrix, y_values, l):\n",
    "    dmTranspose = np.transpose(DMatrix)\n",
    "    firstPart = np.linalg.inv(np.dot(dmTranspose, DMatrix) + (l * matrix))\n",
    "    secondPart = np.dot(dmTranspose, y_values)\n",
    "    finalMoore = np.dot(firstPart, secondPart)\n",
    "    return finalMoore\n",
    "\n",
    "reg_moore_penrose = Reg_moorePenrose(trainDMC, training_y_values, 1)\n",
    "\n",
    "print(reg_moore_penrose)\n",
    "\n",
    "reg_sorted_trainX = trainDMC[trainDMC[:,1].argsort()]\n",
    "reg_sorted_trainY = np.dot(reg_sorted_trainX, reg_moore_penrose)\n",
    "\n",
    "plt.scatter(training_x_values, training_y_values)\n",
    "plt.plot(reg_sorted_trainX[:,1], reg_sorted_trainY, \"r\")\n",
    "plt.show()\n"
   ]
  },
  {
   "attachments": {},
   "cell_type": "markdown",
   "metadata": {},
   "source": [
    "Gradient Descent Method"
   ]
  },
  {
   "cell_type": "code",
   "execution_count": 154,
   "metadata": {},
   "outputs": [
    {
     "data": {
      "image/png": "[encoded data removed]",
      "text/plain": [
       "<Figure size 432x288 with 1 Axes>"
      ]
     },
     "metadata": {
      "needs_background": "light"
     },
     "output_type": "display_data"
    },
    {
     "name": "stdout",
     "output_type": "stream",
     "text": [
      "Testing error:  311.1557823746086\n",
      "Validation error:  314.5269513745276\n"
     ]
    }
   ],
   "source": [
    "def gradient_descent(X, y, learning_rate=0.0000001, num_iterations=10000):\n",
    "    # Initialize parameters\n",
    "    m, n = X.shape\n",
    "    theta = np.zeros(n)\n",
    "    errors = []\n",
    "    \n",
    "    # Perform gradient descent\n",
    "    for i in range(num_iterations):\n",
    "        # Compute the hypothesis (predicted values)\n",
    "        y_pred = np.dot(X, theta)\n",
    "        \n",
    "        error = y_pred - y\n",
    "        \n",
    "        if (i % 20):\n",
    "            errors.append(np.mean(error**2))\n",
    "\n",
    "        # Compute the gradient of the cost function\n",
    "        gradient = np.dot(X.T, error) / m\n",
    "\n",
    "        # Update the parameters\n",
    "        theta -= learning_rate * gradient\n",
    "\n",
    "    return theta, errors\n",
    "\n",
    "thetaC1, errorC1 = gradient_descent(trainDMC, training_y_values)\n",
    "\n",
    "\n",
    "plt.plot(errorC1, color=\"orange\")\n",
    "plt.show()\n",
    "\n",
    "validation_thetaC1, validation_errorC1 = gradient_descent(validDMC, validation_y_values)\n",
    "testingErrorC1 = np.mean(errorC1)\n",
    "validationErrorC1 = np.mean(validation_errorC1)\n",
    "print(\"Testing error: \", testingErrorC1)\n",
    "print(\"Validation error: \", validationErrorC1)\n"
   ]
  },
  {
   "cell_type": "code",
   "execution_count": 130,
   "metadata": {},
   "outputs": [
    {
     "data": {
      "image/png": "[encoded data removed]",
      "text/plain": [
       "<Figure size 432x288 with 1 Axes>"
      ]
     },
     "metadata": {
      "needs_background": "light"
     },
     "output_type": "display_data"
    }
   ],
   "source": [
    "sorted_trainX = trainDMC[trainDMC[:,1].argsort()]\n",
    "sorted_trainY = np.dot(sorted_trainX, thetaC1)\n",
    "\n",
    "\n",
    "plt.scatter(training_x_values, training_y_values)\n",
    "plt.plot(sorted_trainX[:,1], sorted_trainY, \"r\")\n",
    "plt.show()"
   ]
  },
  {
   "attachments": {},
   "cell_type": "markdown",
   "metadata": {},
   "source": [
    "iii. Repeat the training process one final time, this time use regularization when training the third-order polynomial model."
   ]
  },
  {
   "attachments": {},
   "cell_type": "markdown",
   "metadata": {},
   "source": [
    "Regularised Gradient Descent"
   ]
  },
  {
   "cell_type": "code",
   "execution_count": 170,
   "metadata": {},
   "outputs": [
    {
     "data": {
      "image/png": "[encoded data removed]",
      "text/plain": [
       "<Figure size 432x288 with 1 Axes>"
      ]
     },
     "metadata": {
      "needs_background": "light"
     },
     "output_type": "display_data"
    },
    {
     "name": "stdout",
     "output_type": "stream",
     "text": [
      "[ 7.65590706e-29  1.70158802e-28  2.48597885e-26 -1.09604660e-25]\n"
     ]
    },
    {
     "data": {
      "image/png": "[encoded data removed]",
      "text/plain": [
       "<Figure size 432x288 with 1 Axes>"
      ]
     },
     "metadata": {
      "needs_background": "light"
     },
     "output_type": "display_data"
    },
    {
     "name": "stdout",
     "output_type": "stream",
     "text": [
      "Testing error:  -76.5590706101661\n",
      "Validation error:  -55.14771610635704\n"
     ]
    }
   ],
   "source": [
    "def Reg_gradient_descent(X, y, learning_rate=1*10**-30, num_iterations=1000, l=1):\n",
    "    # Initialize parameters\n",
    "    m, n = X.shape\n",
    "    theta = np.zeros(n, dtype=float)\n",
    "    errors = np.empty(m ,dtype=float)\n",
    "    \n",
    "    # Perform gradient descent\n",
    "    for i in range(num_iterations):\n",
    "        # Compute the hypothesis (predicted values)\n",
    "        y_pred = np.dot(X, theta)\n",
    "        \n",
    "        error = y_pred - y\n",
    "        \n",
    "        if (i % 20):\n",
    "            np.append(errors, np.mean(error**2))\n",
    "\n",
    "        # Compute the gradient of the cost function\n",
    "        gradient = np.dot(X.T, error) / m\n",
    "\n",
    "        # Update the parameters\n",
    "        theta -= (learning_rate * gradient + (l * theta))\n",
    "\n",
    "    return theta, error\n",
    "\n",
    "thetaC2, errorC2 = Reg_gradient_descent(trainDMC, training_y_values)\n",
    "\n",
    "plt.plot(errorC2, color=\"orange\")\n",
    "plt.show()\n",
    "\n",
    "print(thetaC2)\n",
    "\n",
    "sorted_trainX = trainDMC[trainDMC[:,1].argsort()]\n",
    "sorted_trainY = np.dot(sorted_trainX, thetaC2)\n",
    "\n",
    "plt.title('Regularization')\n",
    "plt.scatter(sample, y)\n",
    "plt.plot(sorted_trainX[:,1], sorted_trainY,'r') \n",
    "plt.show()\n",
    "\n",
    "validation_thetaC2, validation_errorC2 = Reg_gradient_descent(validDMC, validation_y_values)\n",
    "testingErrorC2 = np.mean(errorC2)\n",
    "validationErrorC2 = np.mean(validation_errorC2)\n",
    "print(\"Testing error: \", testingErrorC2)\n",
    "print(\"Validation error: \", validationErrorC2)"
   ]
  },
  {
   "attachments": {},
   "cell_type": "markdown",
   "metadata": {},
   "source": [
    "iv. Results"
   ]
  },
  {
   "cell_type": "code",
   "execution_count": 133,
   "metadata": {},
   "outputs": [
    {
     "data": {
      "image/png": "[encoded data removed]",
      "text/plain": [
       "<Figure size 432x288 with 1 Axes>"
      ]
     },
     "metadata": {
      "needs_background": "light"
     },
     "output_type": "display_data"
    },
    {
     "data": {
      "image/png": "[encoded data removed]",
      "text/plain": [
       "<Figure size 432x288 with 1 Axes>"
      ]
     },
     "metadata": {
      "needs_background": "light"
     },
     "output_type": "display_data"
    }
   ],
   "source": [
    "# ERRORS\n",
    "plt.plot(errorB, color=\"orange\")\n",
    "plt.plot(errorC1, color=\"blue\")\n",
    "plt.show()\n",
    "\n",
    "plt.plot(errorC2, color=\"green\")\n",
    "plt.show()\n"
   ]
  },
  {
   "cell_type": "code",
   "execution_count": 134,
   "metadata": {},
   "outputs": [
    {
     "data": {
      "image/png": "[encoded data removed]",
      "text/plain": [
       "<Figure size 432x288 with 1 Axes>"
      ]
     },
     "metadata": {
      "needs_background": "light"
     },
     "output_type": "display_data"
    },
    {
     "data": {
      "image/png": "[encoded data removed]",
      "text/plain": [
       "<Figure size 432x288 with 1 Axes>"
      ]
     },
     "metadata": {
      "needs_background": "light"
     },
     "output_type": "display_data"
    }
   ],
   "source": [
    "#PLOTS\n",
    "sorted_trainX = trainDMB[trainDMB[:,1].argsort()]\n",
    "sorted_trainYB = np.dot(sorted_trainX, thetaB)\n",
    "\n",
    "sorted_trainX = trainDMC[trainDMC[:,1].argsort()]\n",
    "sorted_trainYC1 = np.dot(sorted_trainX, thetaC1)\n",
    "sorted_trainYC2 = np.dot(sorted_trainX, thetaC2)\n",
    "\n",
    "plt.title('Normal')\n",
    "plt.scatter(sample, y)\n",
    "plt.plot(sorted_trainX[:,1], sorted_trainYB,'r')\n",
    "plt.plot(sorted_trainX[:,1], sorted_trainYC1,'b')\n",
    "\n",
    "plt.show()\n",
    "\n",
    "plt.title('Regularised')\n",
    "plt.scatter(sample, y)\n",
    "plt.plot(sorted_trainX[:,1], sorted_trainYC2,'g')\n",
    "plt.show()\n"
   ]
  }
 ],
 "metadata": {
  "kernelspec": {
   "display_name": "Python 3",
   "language": "python",
   "name": "python3"
  },
  "language_info": {
   "codemirror_mode": {
    "name": "ipython",
    "version": 3
   },
   "file_extension": ".py",
   "mimetype": "text/x-python",
   "name": "python",
   "nbconvert_exporter": "python",
   "pygments_lexer": "ipython3",
   "version": "3.10.5"
  },
  "orig_nbformat": 4
 },
 "nbformat": 4,
 "nbformat_minor": 2
}
